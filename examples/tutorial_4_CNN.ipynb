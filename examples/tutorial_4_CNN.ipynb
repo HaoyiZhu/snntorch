{
  "nbformat": 4,
  "nbformat_minor": 0,
  "metadata": {
    "kernelspec": {
      "name": "python3",
      "language": "python",
      "display_name": "Python 3"
    },
    "language_info": {
      "codemirror_mode": {
        "name": "ipython",
        "version": 2
      },
      "file_extension": ".py",
      "mimetype": "text/x-python",
      "name": "python",
      "nbconvert_exporter": "python",
      "pygments_lexer": "ipython2",
      "version": "2.7.6"
    },
    "colab": {
      "name": "tutorial_2_FCN_truncatedfromscratch.ipynb",
      "provenance": []
    },
    "accelerator": "GPU"
  },
  "cells": [
    {
      "cell_type": "markdown",
      "metadata": {
        "collapsed": false,
        "pycharm": {
          "name": "#%% md\n"
        },
        "id": "uSGZ6cdmpknm"
      },
      "source": [
        "<img src='https://github.com/jeshraghian/snntorch/blob/master/docs/_static/img/snntorch_alpha_w.png?raw=true' width=\"400\">\n",
        "\n",
        "# UNDER CONSTRUCTION\n",
        "\n",
        "# snnTorch - Convolutional SNNs\n",
        "## Tutorial 4\n",
        "### By Jason K. Eshraghian (www.jasoneshraghian.com)\n",
        "\n",
        "<a href=\"https://colab.research.google.com/github/jeshraghian/snntorch/blob/tutorials/examples/tutorial_4_CNN.ipynb\">\n",
        "  <img src=\"https://colab.research.google.com/assets/colab-badge.svg\" alt=\"Open In Colab\"/>\n",
        "</a>"
      ]
    },
    {
      "cell_type": "markdown",
      "metadata": {
        "id": "Ymi3sqJg28OQ"
      },
      "source": [
        "# Introduction\n",
        "In this tutorial, you will:\n",
        "* Train a convolutional SNN on the spiking MNIST dataset\n",
        "* Develop strategies to promote sparse spiking\n",
        "  * Use a spike-penalty regularization function\n",
        "  * Compare latency coding and rate coding approaches\n",
        "  * Test various rate coding target schemes ??\n",
        "\n",
        "In [Tutorial 3](https://colab.research.google.com/github/jeshraghian/snntorch/blob/tutorials/examples/tutorial_3_FCN.ipynb), we trained a fully-connected network on the static MNIST dataset. The theory surrounding SNNs was covered in detail, so we won't repeat what's already been said. This tutorial will take a hands-on approach.  \n",
        "\n",
        "If running in Google Colab:\n",
        "* You may connect to GPU by checking `Runtime` > `Change runtime type` > `Hardware accelerator: GPU`\n",
        "* Next, install the latest PyPi distribution of snnTorch by clicking into the following cell and pressing `Shift+Enter`."
      ]
    },
    {
      "cell_type": "code",
      "metadata": {
        "pycharm": {
          "name": "#%%\n"
        },
        "id": "5tn_wUlopkon",
        "colab": {
          "base_uri": "https://localhost:8080/"
        },
        "outputId": "a4646102-7d01-47a3-97e2-0dd7c7ac6a64"
      },
      "source": [
        "!pip install snntorch"
      ],
      "execution_count": 1,
      "outputs": [
        {
          "output_type": "stream",
          "text": [
            "Collecting snntorch\n",
            "  Downloading https://files.pythonhosted.org/packages/ac/a2/036bbb269f2228d6244cf37d60997f6203ac7c113ec93c5da5b5bb9313df/snntorch-0.2.8-py2.py3-none-any.whl\n",
            "Requirement already satisfied: torch>=1.2.0 in /usr/local/lib/python3.7/dist-packages (from snntorch) (1.8.0+cu101)\n",
            "Requirement already satisfied: numpy>=1.17 in /usr/local/lib/python3.7/dist-packages (from snntorch) (1.19.5)\n",
            "Requirement already satisfied: matplotlib in /usr/local/lib/python3.7/dist-packages (from snntorch) (3.2.2)\n",
            "Collecting celluloid\n",
            "  Downloading https://files.pythonhosted.org/packages/60/a7/7fbe80721c6f1b7370c4e50c77abe31b4d5cfeb58873d4d32f48ae5a0bae/celluloid-0.2.0-py3-none-any.whl\n",
            "Requirement already satisfied: pandas in /usr/local/lib/python3.7/dist-packages (from snntorch) (1.1.5)\n",
            "Requirement already satisfied: typing-extensions in /usr/local/lib/python3.7/dist-packages (from torch>=1.2.0->snntorch) (3.7.4.3)\n",
            "Requirement already satisfied: cycler>=0.10 in /usr/local/lib/python3.7/dist-packages (from matplotlib->snntorch) (0.10.0)\n",
            "Requirement already satisfied: python-dateutil>=2.1 in /usr/local/lib/python3.7/dist-packages (from matplotlib->snntorch) (2.8.1)\n",
            "Requirement already satisfied: pyparsing!=2.0.4,!=2.1.2,!=2.1.6,>=2.0.1 in /usr/local/lib/python3.7/dist-packages (from matplotlib->snntorch) (2.4.7)\n",
            "Requirement already satisfied: kiwisolver>=1.0.1 in /usr/local/lib/python3.7/dist-packages (from matplotlib->snntorch) (1.3.1)\n",
            "Requirement already satisfied: pytz>=2017.2 in /usr/local/lib/python3.7/dist-packages (from pandas->snntorch) (2018.9)\n",
            "Requirement already satisfied: six in /usr/local/lib/python3.7/dist-packages (from cycler>=0.10->matplotlib->snntorch) (1.15.0)\n",
            "Installing collected packages: celluloid, snntorch\n",
            "Successfully installed celluloid-0.2.0 snntorch-0.2.8\n"
          ],
          "name": "stdout"
        }
      ]
    },
    {
      "cell_type": "markdown",
      "metadata": {
        "id": "zqJdfllYbc16"
      },
      "source": [
        "# 1. Setting up the Spiking MNIST Dataset"
      ]
    },
    {
      "cell_type": "markdown",
      "metadata": {
        "id": "nbunSP5TbikZ"
      },
      "source": [
        "## 1.1 Import packages and setup the environment"
      ]
    },
    {
      "cell_type": "code",
      "metadata": {
        "pycharm": {
          "name": "#%%\n"
        },
        "id": "bEFWu3nNpkoq"
      },
      "source": [
        "import snntorch as snn\n",
        "import torch\n",
        "import torch.nn as nn\n",
        "from torch.utils.data import DataLoader\n",
        "from torchvision import datasets, transforms\n",
        "import torch.nn.functional as F\n",
        "import numpy as np\n",
        "import itertools\n",
        "import matplotlib.pyplot as plt"
      ],
      "execution_count": 38,
      "outputs": []
    },
    {
      "cell_type": "code",
      "metadata": {
        "pycharm": {
          "name": "#%%\n"
        },
        "id": "lI0GbgLgpkos"
      },
      "source": [
        "# Network Architecture\n",
        "num_inputs = 28*28\n",
        "num_hidden = 1000\n",
        "num_outputs = 10\n",
        "\n",
        "# Training Parameters\n",
        "batch_size=128\n",
        "data_path='/data/mnist'\n",
        "\n",
        "# Temporal Dynamics\n",
        "num_steps = 25\n",
        "alpha = 0.95\n",
        "beta = 0.9\n",
        "\n",
        "dtype = torch.float\n",
        "device = torch.device(\"cuda\") if torch.cuda.is_available() else torch.device(\"cpu\")"
      ],
      "execution_count": 55,
      "outputs": []
    },
    {
      "cell_type": "markdown",
      "metadata": {
        "collapsed": false,
        "pycharm": {
          "name": "#%% md\n"
        },
        "id": "nUS6YFXbpkos"
      },
      "source": [
        "## 1.2 Download MNIST Dataset"
      ]
    },
    {
      "cell_type": "code",
      "metadata": {
        "pycharm": {
          "name": "#%%\n"
        },
        "id": "2fhRixcspkot",
        "colab": {
          "base_uri": "https://localhost:8080/",
          "height": 387
        },
        "outputId": "5bb28471-c362-4452-b3c7-58c1985e1df7"
      },
      "source": [
        "# Define a transform\n",
        "transform = transforms.Compose([\n",
        "            transforms.Resize((28, 28)),\n",
        "            transforms.Grayscale(),\n",
        "            transforms.ToTensor(),\n",
        "            transforms.Normalize((0,), (1,))])\n",
        "\n",
        "mnist_train = datasets.MNIST(data_path, train=True, download=True, transform=transform)\n",
        "mnist_test = datasets.MNIST(data_path, train=False, download=True, transform=transform)"
      ],
      "execution_count": 6,
      "outputs": [
        {
          "output_type": "stream",
          "text": [
            "Downloading http://yann.lecun.com/exdb/mnist/train-images-idx3-ubyte.gz to /data/mnist/MNIST/raw/train-images-idx3-ubyte.gz\n"
          ],
          "name": "stdout"
        },
        {
          "output_type": "error",
          "ename": "HTTPError",
          "evalue": "ignored",
          "traceback": [
            "\u001b[0;31m---------------------------------------------------------------------------\u001b[0m",
            "\u001b[0;31mHTTPError\u001b[0m                                 Traceback (most recent call last)",
            "\u001b[0;32m<ipython-input-6-9d12301a29bb>\u001b[0m in \u001b[0;36m<module>\u001b[0;34m()\u001b[0m\n\u001b[1;32m      6\u001b[0m             transforms.Normalize((0,), (1,))])\n\u001b[1;32m      7\u001b[0m \u001b[0;34m\u001b[0m\u001b[0m\n\u001b[0;32m----> 8\u001b[0;31m \u001b[0mmnist_train\u001b[0m \u001b[0;34m=\u001b[0m \u001b[0mdatasets\u001b[0m\u001b[0;34m.\u001b[0m\u001b[0mMNIST\u001b[0m\u001b[0;34m(\u001b[0m\u001b[0mdata_path\u001b[0m\u001b[0;34m,\u001b[0m \u001b[0mtrain\u001b[0m\u001b[0;34m=\u001b[0m\u001b[0;32mTrue\u001b[0m\u001b[0;34m,\u001b[0m \u001b[0mdownload\u001b[0m\u001b[0;34m=\u001b[0m\u001b[0;32mTrue\u001b[0m\u001b[0;34m,\u001b[0m \u001b[0mtransform\u001b[0m\u001b[0;34m=\u001b[0m\u001b[0mtransform\u001b[0m\u001b[0;34m)\u001b[0m\u001b[0;34m\u001b[0m\u001b[0;34m\u001b[0m\u001b[0m\n\u001b[0m\u001b[1;32m      9\u001b[0m \u001b[0mmnist_test\u001b[0m \u001b[0;34m=\u001b[0m \u001b[0mdatasets\u001b[0m\u001b[0;34m.\u001b[0m\u001b[0mMNIST\u001b[0m\u001b[0;34m(\u001b[0m\u001b[0mdata_path\u001b[0m\u001b[0;34m,\u001b[0m \u001b[0mtrain\u001b[0m\u001b[0;34m=\u001b[0m\u001b[0;32mFalse\u001b[0m\u001b[0;34m,\u001b[0m \u001b[0mdownload\u001b[0m\u001b[0;34m=\u001b[0m\u001b[0;32mTrue\u001b[0m\u001b[0;34m,\u001b[0m \u001b[0mtransform\u001b[0m\u001b[0;34m=\u001b[0m\u001b[0mtransform\u001b[0m\u001b[0;34m)\u001b[0m\u001b[0;34m\u001b[0m\u001b[0;34m\u001b[0m\u001b[0m\n",
            "\u001b[0;32m/usr/local/lib/python3.7/dist-packages/torchvision/datasets/mnist.py\u001b[0m in \u001b[0;36m__init__\u001b[0;34m(self, root, train, transform, target_transform, download)\u001b[0m\n\u001b[1;32m     77\u001b[0m \u001b[0;34m\u001b[0m\u001b[0m\n\u001b[1;32m     78\u001b[0m         \u001b[0;32mif\u001b[0m \u001b[0mdownload\u001b[0m\u001b[0;34m:\u001b[0m\u001b[0;34m\u001b[0m\u001b[0;34m\u001b[0m\u001b[0m\n\u001b[0;32m---> 79\u001b[0;31m             \u001b[0mself\u001b[0m\u001b[0;34m.\u001b[0m\u001b[0mdownload\u001b[0m\u001b[0;34m(\u001b[0m\u001b[0;34m)\u001b[0m\u001b[0;34m\u001b[0m\u001b[0;34m\u001b[0m\u001b[0m\n\u001b[0m\u001b[1;32m     80\u001b[0m \u001b[0;34m\u001b[0m\u001b[0m\n\u001b[1;32m     81\u001b[0m         \u001b[0;32mif\u001b[0m \u001b[0;32mnot\u001b[0m \u001b[0mself\u001b[0m\u001b[0;34m.\u001b[0m\u001b[0m_check_exists\u001b[0m\u001b[0;34m(\u001b[0m\u001b[0;34m)\u001b[0m\u001b[0;34m:\u001b[0m\u001b[0;34m\u001b[0m\u001b[0;34m\u001b[0m\u001b[0m\n",
            "\u001b[0;32m/usr/local/lib/python3.7/dist-packages/torchvision/datasets/mnist.py\u001b[0m in \u001b[0;36mdownload\u001b[0;34m(self)\u001b[0m\n\u001b[1;32m    144\u001b[0m         \u001b[0;32mfor\u001b[0m \u001b[0murl\u001b[0m\u001b[0;34m,\u001b[0m \u001b[0mmd5\u001b[0m \u001b[0;32min\u001b[0m \u001b[0mself\u001b[0m\u001b[0;34m.\u001b[0m\u001b[0mresources\u001b[0m\u001b[0;34m:\u001b[0m\u001b[0;34m\u001b[0m\u001b[0;34m\u001b[0m\u001b[0m\n\u001b[1;32m    145\u001b[0m             \u001b[0mfilename\u001b[0m \u001b[0;34m=\u001b[0m \u001b[0murl\u001b[0m\u001b[0;34m.\u001b[0m\u001b[0mrpartition\u001b[0m\u001b[0;34m(\u001b[0m\u001b[0;34m'/'\u001b[0m\u001b[0;34m)\u001b[0m\u001b[0;34m[\u001b[0m\u001b[0;36m2\u001b[0m\u001b[0;34m]\u001b[0m\u001b[0;34m\u001b[0m\u001b[0;34m\u001b[0m\u001b[0m\n\u001b[0;32m--> 146\u001b[0;31m             \u001b[0mdownload_and_extract_archive\u001b[0m\u001b[0;34m(\u001b[0m\u001b[0murl\u001b[0m\u001b[0;34m,\u001b[0m \u001b[0mdownload_root\u001b[0m\u001b[0;34m=\u001b[0m\u001b[0mself\u001b[0m\u001b[0;34m.\u001b[0m\u001b[0mraw_folder\u001b[0m\u001b[0;34m,\u001b[0m \u001b[0mfilename\u001b[0m\u001b[0;34m=\u001b[0m\u001b[0mfilename\u001b[0m\u001b[0;34m,\u001b[0m \u001b[0mmd5\u001b[0m\u001b[0;34m=\u001b[0m\u001b[0mmd5\u001b[0m\u001b[0;34m)\u001b[0m\u001b[0;34m\u001b[0m\u001b[0;34m\u001b[0m\u001b[0m\n\u001b[0m\u001b[1;32m    147\u001b[0m \u001b[0;34m\u001b[0m\u001b[0m\n\u001b[1;32m    148\u001b[0m         \u001b[0;31m# process and save as torch files\u001b[0m\u001b[0;34m\u001b[0m\u001b[0;34m\u001b[0m\u001b[0;34m\u001b[0m\u001b[0m\n",
            "\u001b[0;32m/usr/local/lib/python3.7/dist-packages/torchvision/datasets/utils.py\u001b[0m in \u001b[0;36mdownload_and_extract_archive\u001b[0;34m(url, download_root, extract_root, filename, md5, remove_finished)\u001b[0m\n\u001b[1;32m    312\u001b[0m         \u001b[0mfilename\u001b[0m \u001b[0;34m=\u001b[0m \u001b[0mos\u001b[0m\u001b[0;34m.\u001b[0m\u001b[0mpath\u001b[0m\u001b[0;34m.\u001b[0m\u001b[0mbasename\u001b[0m\u001b[0;34m(\u001b[0m\u001b[0murl\u001b[0m\u001b[0;34m)\u001b[0m\u001b[0;34m\u001b[0m\u001b[0;34m\u001b[0m\u001b[0m\n\u001b[1;32m    313\u001b[0m \u001b[0;34m\u001b[0m\u001b[0m\n\u001b[0;32m--> 314\u001b[0;31m     \u001b[0mdownload_url\u001b[0m\u001b[0;34m(\u001b[0m\u001b[0murl\u001b[0m\u001b[0;34m,\u001b[0m \u001b[0mdownload_root\u001b[0m\u001b[0;34m,\u001b[0m \u001b[0mfilename\u001b[0m\u001b[0;34m,\u001b[0m \u001b[0mmd5\u001b[0m\u001b[0;34m)\u001b[0m\u001b[0;34m\u001b[0m\u001b[0;34m\u001b[0m\u001b[0m\n\u001b[0m\u001b[1;32m    315\u001b[0m \u001b[0;34m\u001b[0m\u001b[0m\n\u001b[1;32m    316\u001b[0m     \u001b[0marchive\u001b[0m \u001b[0;34m=\u001b[0m \u001b[0mos\u001b[0m\u001b[0;34m.\u001b[0m\u001b[0mpath\u001b[0m\u001b[0;34m.\u001b[0m\u001b[0mjoin\u001b[0m\u001b[0;34m(\u001b[0m\u001b[0mdownload_root\u001b[0m\u001b[0;34m,\u001b[0m \u001b[0mfilename\u001b[0m\u001b[0;34m)\u001b[0m\u001b[0;34m\u001b[0m\u001b[0;34m\u001b[0m\u001b[0m\n",
            "\u001b[0;32m/usr/local/lib/python3.7/dist-packages/torchvision/datasets/utils.py\u001b[0m in \u001b[0;36mdownload_url\u001b[0;34m(url, root, filename, md5, max_redirect_hops)\u001b[0m\n\u001b[1;32m    138\u001b[0m             \u001b[0m_urlretrieve\u001b[0m\u001b[0;34m(\u001b[0m\u001b[0murl\u001b[0m\u001b[0;34m,\u001b[0m \u001b[0mfpath\u001b[0m\u001b[0;34m)\u001b[0m\u001b[0;34m\u001b[0m\u001b[0;34m\u001b[0m\u001b[0m\n\u001b[1;32m    139\u001b[0m         \u001b[0;32melse\u001b[0m\u001b[0;34m:\u001b[0m\u001b[0;34m\u001b[0m\u001b[0;34m\u001b[0m\u001b[0m\n\u001b[0;32m--> 140\u001b[0;31m             \u001b[0;32mraise\u001b[0m \u001b[0me\u001b[0m\u001b[0;34m\u001b[0m\u001b[0;34m\u001b[0m\u001b[0m\n\u001b[0m\u001b[1;32m    141\u001b[0m     \u001b[0;31m# check integrity of downloaded file\u001b[0m\u001b[0;34m\u001b[0m\u001b[0;34m\u001b[0m\u001b[0;34m\u001b[0m\u001b[0m\n\u001b[1;32m    142\u001b[0m     \u001b[0;32mif\u001b[0m \u001b[0;32mnot\u001b[0m \u001b[0mcheck_integrity\u001b[0m\u001b[0;34m(\u001b[0m\u001b[0mfpath\u001b[0m\u001b[0;34m,\u001b[0m \u001b[0mmd5\u001b[0m\u001b[0;34m)\u001b[0m\u001b[0;34m:\u001b[0m\u001b[0;34m\u001b[0m\u001b[0;34m\u001b[0m\u001b[0m\n",
            "\u001b[0;32m/usr/local/lib/python3.7/dist-packages/torchvision/datasets/utils.py\u001b[0m in \u001b[0;36mdownload_url\u001b[0;34m(url, root, filename, md5, max_redirect_hops)\u001b[0m\n\u001b[1;32m    130\u001b[0m     \u001b[0;32mtry\u001b[0m\u001b[0;34m:\u001b[0m\u001b[0;34m\u001b[0m\u001b[0;34m\u001b[0m\u001b[0m\n\u001b[1;32m    131\u001b[0m         \u001b[0mprint\u001b[0m\u001b[0;34m(\u001b[0m\u001b[0;34m'Downloading '\u001b[0m \u001b[0;34m+\u001b[0m \u001b[0murl\u001b[0m \u001b[0;34m+\u001b[0m \u001b[0;34m' to '\u001b[0m \u001b[0;34m+\u001b[0m \u001b[0mfpath\u001b[0m\u001b[0;34m)\u001b[0m\u001b[0;34m\u001b[0m\u001b[0;34m\u001b[0m\u001b[0m\n\u001b[0;32m--> 132\u001b[0;31m         \u001b[0m_urlretrieve\u001b[0m\u001b[0;34m(\u001b[0m\u001b[0murl\u001b[0m\u001b[0;34m,\u001b[0m \u001b[0mfpath\u001b[0m\u001b[0;34m)\u001b[0m\u001b[0;34m\u001b[0m\u001b[0;34m\u001b[0m\u001b[0m\n\u001b[0m\u001b[1;32m    133\u001b[0m     \u001b[0;32mexcept\u001b[0m \u001b[0;34m(\u001b[0m\u001b[0murllib\u001b[0m\u001b[0;34m.\u001b[0m\u001b[0merror\u001b[0m\u001b[0;34m.\u001b[0m\u001b[0mURLError\u001b[0m\u001b[0;34m,\u001b[0m \u001b[0mIOError\u001b[0m\u001b[0;34m)\u001b[0m \u001b[0;32mas\u001b[0m \u001b[0me\u001b[0m\u001b[0;34m:\u001b[0m  \u001b[0;31m# type: ignore[attr-defined]\u001b[0m\u001b[0;34m\u001b[0m\u001b[0;34m\u001b[0m\u001b[0m\n\u001b[1;32m    134\u001b[0m         \u001b[0;32mif\u001b[0m \u001b[0murl\u001b[0m\u001b[0;34m[\u001b[0m\u001b[0;34m:\u001b[0m\u001b[0;36m5\u001b[0m\u001b[0;34m]\u001b[0m \u001b[0;34m==\u001b[0m \u001b[0;34m'https'\u001b[0m\u001b[0;34m:\u001b[0m\u001b[0;34m\u001b[0m\u001b[0;34m\u001b[0m\u001b[0m\n",
            "\u001b[0;32m/usr/local/lib/python3.7/dist-packages/torchvision/datasets/utils.py\u001b[0m in \u001b[0;36m_urlretrieve\u001b[0;34m(url, filename, chunk_size)\u001b[0m\n\u001b[1;32m     27\u001b[0m \u001b[0;32mdef\u001b[0m \u001b[0m_urlretrieve\u001b[0m\u001b[0;34m(\u001b[0m\u001b[0murl\u001b[0m\u001b[0;34m:\u001b[0m \u001b[0mstr\u001b[0m\u001b[0;34m,\u001b[0m \u001b[0mfilename\u001b[0m\u001b[0;34m:\u001b[0m \u001b[0mstr\u001b[0m\u001b[0;34m,\u001b[0m \u001b[0mchunk_size\u001b[0m\u001b[0;34m:\u001b[0m \u001b[0mint\u001b[0m \u001b[0;34m=\u001b[0m \u001b[0;36m1024\u001b[0m\u001b[0;34m)\u001b[0m \u001b[0;34m->\u001b[0m \u001b[0;32mNone\u001b[0m\u001b[0;34m:\u001b[0m\u001b[0;34m\u001b[0m\u001b[0;34m\u001b[0m\u001b[0m\n\u001b[1;32m     28\u001b[0m     \u001b[0;32mwith\u001b[0m \u001b[0mopen\u001b[0m\u001b[0;34m(\u001b[0m\u001b[0mfilename\u001b[0m\u001b[0;34m,\u001b[0m \u001b[0;34m\"wb\"\u001b[0m\u001b[0;34m)\u001b[0m \u001b[0;32mas\u001b[0m \u001b[0mfh\u001b[0m\u001b[0;34m:\u001b[0m\u001b[0;34m\u001b[0m\u001b[0;34m\u001b[0m\u001b[0m\n\u001b[0;32m---> 29\u001b[0;31m         \u001b[0;32mwith\u001b[0m \u001b[0murllib\u001b[0m\u001b[0;34m.\u001b[0m\u001b[0mrequest\u001b[0m\u001b[0;34m.\u001b[0m\u001b[0murlopen\u001b[0m\u001b[0;34m(\u001b[0m\u001b[0murllib\u001b[0m\u001b[0;34m.\u001b[0m\u001b[0mrequest\u001b[0m\u001b[0;34m.\u001b[0m\u001b[0mRequest\u001b[0m\u001b[0;34m(\u001b[0m\u001b[0murl\u001b[0m\u001b[0;34m,\u001b[0m \u001b[0mheaders\u001b[0m\u001b[0;34m=\u001b[0m\u001b[0;34m{\u001b[0m\u001b[0;34m\"User-Agent\"\u001b[0m\u001b[0;34m:\u001b[0m \u001b[0mUSER_AGENT\u001b[0m\u001b[0;34m}\u001b[0m\u001b[0;34m)\u001b[0m\u001b[0;34m)\u001b[0m \u001b[0;32mas\u001b[0m \u001b[0mresponse\u001b[0m\u001b[0;34m:\u001b[0m\u001b[0;34m\u001b[0m\u001b[0;34m\u001b[0m\u001b[0m\n\u001b[0m\u001b[1;32m     30\u001b[0m             \u001b[0;32mwith\u001b[0m \u001b[0mtqdm\u001b[0m\u001b[0;34m(\u001b[0m\u001b[0mtotal\u001b[0m\u001b[0;34m=\u001b[0m\u001b[0mresponse\u001b[0m\u001b[0;34m.\u001b[0m\u001b[0mlength\u001b[0m\u001b[0;34m)\u001b[0m \u001b[0;32mas\u001b[0m \u001b[0mpbar\u001b[0m\u001b[0;34m:\u001b[0m\u001b[0;34m\u001b[0m\u001b[0;34m\u001b[0m\u001b[0m\n\u001b[1;32m     31\u001b[0m                 \u001b[0;32mfor\u001b[0m \u001b[0mchunk\u001b[0m \u001b[0;32min\u001b[0m \u001b[0miter\u001b[0m\u001b[0;34m(\u001b[0m\u001b[0;32mlambda\u001b[0m\u001b[0;34m:\u001b[0m \u001b[0mresponse\u001b[0m\u001b[0;34m.\u001b[0m\u001b[0mread\u001b[0m\u001b[0;34m(\u001b[0m\u001b[0mchunk_size\u001b[0m\u001b[0;34m)\u001b[0m\u001b[0;34m,\u001b[0m \u001b[0;34m\"\"\u001b[0m\u001b[0;34m)\u001b[0m\u001b[0;34m:\u001b[0m\u001b[0;34m\u001b[0m\u001b[0;34m\u001b[0m\u001b[0m\n",
            "\u001b[0;32m/usr/lib/python3.7/urllib/request.py\u001b[0m in \u001b[0;36murlopen\u001b[0;34m(url, data, timeout, cafile, capath, cadefault, context)\u001b[0m\n\u001b[1;32m    220\u001b[0m     \u001b[0;32melse\u001b[0m\u001b[0;34m:\u001b[0m\u001b[0;34m\u001b[0m\u001b[0;34m\u001b[0m\u001b[0m\n\u001b[1;32m    221\u001b[0m         \u001b[0mopener\u001b[0m \u001b[0;34m=\u001b[0m \u001b[0m_opener\u001b[0m\u001b[0;34m\u001b[0m\u001b[0;34m\u001b[0m\u001b[0m\n\u001b[0;32m--> 222\u001b[0;31m     \u001b[0;32mreturn\u001b[0m \u001b[0mopener\u001b[0m\u001b[0;34m.\u001b[0m\u001b[0mopen\u001b[0m\u001b[0;34m(\u001b[0m\u001b[0murl\u001b[0m\u001b[0;34m,\u001b[0m \u001b[0mdata\u001b[0m\u001b[0;34m,\u001b[0m \u001b[0mtimeout\u001b[0m\u001b[0;34m)\u001b[0m\u001b[0;34m\u001b[0m\u001b[0;34m\u001b[0m\u001b[0m\n\u001b[0m\u001b[1;32m    223\u001b[0m \u001b[0;34m\u001b[0m\u001b[0m\n\u001b[1;32m    224\u001b[0m \u001b[0;32mdef\u001b[0m \u001b[0minstall_opener\u001b[0m\u001b[0;34m(\u001b[0m\u001b[0mopener\u001b[0m\u001b[0;34m)\u001b[0m\u001b[0;34m:\u001b[0m\u001b[0;34m\u001b[0m\u001b[0;34m\u001b[0m\u001b[0m\n",
            "\u001b[0;32m/usr/lib/python3.7/urllib/request.py\u001b[0m in \u001b[0;36mopen\u001b[0;34m(self, fullurl, data, timeout)\u001b[0m\n\u001b[1;32m    529\u001b[0m         \u001b[0;32mfor\u001b[0m \u001b[0mprocessor\u001b[0m \u001b[0;32min\u001b[0m \u001b[0mself\u001b[0m\u001b[0;34m.\u001b[0m\u001b[0mprocess_response\u001b[0m\u001b[0;34m.\u001b[0m\u001b[0mget\u001b[0m\u001b[0;34m(\u001b[0m\u001b[0mprotocol\u001b[0m\u001b[0;34m,\u001b[0m \u001b[0;34m[\u001b[0m\u001b[0;34m]\u001b[0m\u001b[0;34m)\u001b[0m\u001b[0;34m:\u001b[0m\u001b[0;34m\u001b[0m\u001b[0;34m\u001b[0m\u001b[0m\n\u001b[1;32m    530\u001b[0m             \u001b[0mmeth\u001b[0m \u001b[0;34m=\u001b[0m \u001b[0mgetattr\u001b[0m\u001b[0;34m(\u001b[0m\u001b[0mprocessor\u001b[0m\u001b[0;34m,\u001b[0m \u001b[0mmeth_name\u001b[0m\u001b[0;34m)\u001b[0m\u001b[0;34m\u001b[0m\u001b[0;34m\u001b[0m\u001b[0m\n\u001b[0;32m--> 531\u001b[0;31m             \u001b[0mresponse\u001b[0m \u001b[0;34m=\u001b[0m \u001b[0mmeth\u001b[0m\u001b[0;34m(\u001b[0m\u001b[0mreq\u001b[0m\u001b[0;34m,\u001b[0m \u001b[0mresponse\u001b[0m\u001b[0;34m)\u001b[0m\u001b[0;34m\u001b[0m\u001b[0;34m\u001b[0m\u001b[0m\n\u001b[0m\u001b[1;32m    532\u001b[0m \u001b[0;34m\u001b[0m\u001b[0m\n\u001b[1;32m    533\u001b[0m         \u001b[0;32mreturn\u001b[0m \u001b[0mresponse\u001b[0m\u001b[0;34m\u001b[0m\u001b[0;34m\u001b[0m\u001b[0m\n",
            "\u001b[0;32m/usr/lib/python3.7/urllib/request.py\u001b[0m in \u001b[0;36mhttp_response\u001b[0;34m(self, request, response)\u001b[0m\n\u001b[1;32m    639\u001b[0m         \u001b[0;32mif\u001b[0m \u001b[0;32mnot\u001b[0m \u001b[0;34m(\u001b[0m\u001b[0;36m200\u001b[0m \u001b[0;34m<=\u001b[0m \u001b[0mcode\u001b[0m \u001b[0;34m<\u001b[0m \u001b[0;36m300\u001b[0m\u001b[0;34m)\u001b[0m\u001b[0;34m:\u001b[0m\u001b[0;34m\u001b[0m\u001b[0;34m\u001b[0m\u001b[0m\n\u001b[1;32m    640\u001b[0m             response = self.parent.error(\n\u001b[0;32m--> 641\u001b[0;31m                 'http', request, response, code, msg, hdrs)\n\u001b[0m\u001b[1;32m    642\u001b[0m \u001b[0;34m\u001b[0m\u001b[0m\n\u001b[1;32m    643\u001b[0m         \u001b[0;32mreturn\u001b[0m \u001b[0mresponse\u001b[0m\u001b[0;34m\u001b[0m\u001b[0;34m\u001b[0m\u001b[0m\n",
            "\u001b[0;32m/usr/lib/python3.7/urllib/request.py\u001b[0m in \u001b[0;36merror\u001b[0;34m(self, proto, *args)\u001b[0m\n\u001b[1;32m    567\u001b[0m         \u001b[0;32mif\u001b[0m \u001b[0mhttp_err\u001b[0m\u001b[0;34m:\u001b[0m\u001b[0;34m\u001b[0m\u001b[0;34m\u001b[0m\u001b[0m\n\u001b[1;32m    568\u001b[0m             \u001b[0margs\u001b[0m \u001b[0;34m=\u001b[0m \u001b[0;34m(\u001b[0m\u001b[0mdict\u001b[0m\u001b[0;34m,\u001b[0m \u001b[0;34m'default'\u001b[0m\u001b[0;34m,\u001b[0m \u001b[0;34m'http_error_default'\u001b[0m\u001b[0;34m)\u001b[0m \u001b[0;34m+\u001b[0m \u001b[0morig_args\u001b[0m\u001b[0;34m\u001b[0m\u001b[0;34m\u001b[0m\u001b[0m\n\u001b[0;32m--> 569\u001b[0;31m             \u001b[0;32mreturn\u001b[0m \u001b[0mself\u001b[0m\u001b[0;34m.\u001b[0m\u001b[0m_call_chain\u001b[0m\u001b[0;34m(\u001b[0m\u001b[0;34m*\u001b[0m\u001b[0margs\u001b[0m\u001b[0;34m)\u001b[0m\u001b[0;34m\u001b[0m\u001b[0;34m\u001b[0m\u001b[0m\n\u001b[0m\u001b[1;32m    570\u001b[0m \u001b[0;34m\u001b[0m\u001b[0m\n\u001b[1;32m    571\u001b[0m \u001b[0;31m# XXX probably also want an abstract factory that knows when it makes\u001b[0m\u001b[0;34m\u001b[0m\u001b[0;34m\u001b[0m\u001b[0;34m\u001b[0m\u001b[0m\n",
            "\u001b[0;32m/usr/lib/python3.7/urllib/request.py\u001b[0m in \u001b[0;36m_call_chain\u001b[0;34m(self, chain, kind, meth_name, *args)\u001b[0m\n\u001b[1;32m    501\u001b[0m         \u001b[0;32mfor\u001b[0m \u001b[0mhandler\u001b[0m \u001b[0;32min\u001b[0m \u001b[0mhandlers\u001b[0m\u001b[0;34m:\u001b[0m\u001b[0;34m\u001b[0m\u001b[0;34m\u001b[0m\u001b[0m\n\u001b[1;32m    502\u001b[0m             \u001b[0mfunc\u001b[0m \u001b[0;34m=\u001b[0m \u001b[0mgetattr\u001b[0m\u001b[0;34m(\u001b[0m\u001b[0mhandler\u001b[0m\u001b[0;34m,\u001b[0m \u001b[0mmeth_name\u001b[0m\u001b[0;34m)\u001b[0m\u001b[0;34m\u001b[0m\u001b[0;34m\u001b[0m\u001b[0m\n\u001b[0;32m--> 503\u001b[0;31m             \u001b[0mresult\u001b[0m \u001b[0;34m=\u001b[0m \u001b[0mfunc\u001b[0m\u001b[0;34m(\u001b[0m\u001b[0;34m*\u001b[0m\u001b[0margs\u001b[0m\u001b[0;34m)\u001b[0m\u001b[0;34m\u001b[0m\u001b[0;34m\u001b[0m\u001b[0m\n\u001b[0m\u001b[1;32m    504\u001b[0m             \u001b[0;32mif\u001b[0m \u001b[0mresult\u001b[0m \u001b[0;32mis\u001b[0m \u001b[0;32mnot\u001b[0m \u001b[0;32mNone\u001b[0m\u001b[0;34m:\u001b[0m\u001b[0;34m\u001b[0m\u001b[0;34m\u001b[0m\u001b[0m\n\u001b[1;32m    505\u001b[0m                 \u001b[0;32mreturn\u001b[0m \u001b[0mresult\u001b[0m\u001b[0;34m\u001b[0m\u001b[0;34m\u001b[0m\u001b[0m\n",
            "\u001b[0;32m/usr/lib/python3.7/urllib/request.py\u001b[0m in \u001b[0;36mhttp_error_default\u001b[0;34m(self, req, fp, code, msg, hdrs)\u001b[0m\n\u001b[1;32m    647\u001b[0m \u001b[0;32mclass\u001b[0m \u001b[0mHTTPDefaultErrorHandler\u001b[0m\u001b[0;34m(\u001b[0m\u001b[0mBaseHandler\u001b[0m\u001b[0;34m)\u001b[0m\u001b[0;34m:\u001b[0m\u001b[0;34m\u001b[0m\u001b[0;34m\u001b[0m\u001b[0m\n\u001b[1;32m    648\u001b[0m     \u001b[0;32mdef\u001b[0m \u001b[0mhttp_error_default\u001b[0m\u001b[0;34m(\u001b[0m\u001b[0mself\u001b[0m\u001b[0;34m,\u001b[0m \u001b[0mreq\u001b[0m\u001b[0;34m,\u001b[0m \u001b[0mfp\u001b[0m\u001b[0;34m,\u001b[0m \u001b[0mcode\u001b[0m\u001b[0;34m,\u001b[0m \u001b[0mmsg\u001b[0m\u001b[0;34m,\u001b[0m \u001b[0mhdrs\u001b[0m\u001b[0;34m)\u001b[0m\u001b[0;34m:\u001b[0m\u001b[0;34m\u001b[0m\u001b[0;34m\u001b[0m\u001b[0m\n\u001b[0;32m--> 649\u001b[0;31m         \u001b[0;32mraise\u001b[0m \u001b[0mHTTPError\u001b[0m\u001b[0;34m(\u001b[0m\u001b[0mreq\u001b[0m\u001b[0;34m.\u001b[0m\u001b[0mfull_url\u001b[0m\u001b[0;34m,\u001b[0m \u001b[0mcode\u001b[0m\u001b[0;34m,\u001b[0m \u001b[0mmsg\u001b[0m\u001b[0;34m,\u001b[0m \u001b[0mhdrs\u001b[0m\u001b[0;34m,\u001b[0m \u001b[0mfp\u001b[0m\u001b[0;34m)\u001b[0m\u001b[0;34m\u001b[0m\u001b[0;34m\u001b[0m\u001b[0m\n\u001b[0m\u001b[1;32m    650\u001b[0m \u001b[0;34m\u001b[0m\u001b[0m\n\u001b[1;32m    651\u001b[0m \u001b[0;32mclass\u001b[0m \u001b[0mHTTPRedirectHandler\u001b[0m\u001b[0;34m(\u001b[0m\u001b[0mBaseHandler\u001b[0m\u001b[0;34m)\u001b[0m\u001b[0;34m:\u001b[0m\u001b[0;34m\u001b[0m\u001b[0;34m\u001b[0m\u001b[0m\n",
            "\u001b[0;31mHTTPError\u001b[0m: HTTP Error 503: Service Unavailable"
          ]
        }
      ]
    },
    {
      "cell_type": "markdown",
      "metadata": {
        "id": "RAM_dP887uTq"
      },
      "source": [
        "If the above code blocks throws an error, e.g. the MNIST servers are down, then uncomment the following code instead."
      ]
    },
    {
      "cell_type": "code",
      "metadata": {
        "id": "4jyJVqUNdXDo",
        "outputId": "3e324c7c-8f28-462d-b7bc-651add6f9a3a",
        "colab": {
          "base_uri": "https://localhost:8080/"
        }
      },
      "source": [
        "# # temporary dataloader if MNIST service is unavailable\n",
        "!wget www.di.ens.fr/~lelarge/MNIST.tar.gz\n",
        "!tar -zxvf MNIST.tar.gz\n",
        "\n",
        "mnist_train = datasets.MNIST(root = './', train=True, download=True, transform=transform)\n",
        "mnist_test = datasets.MNIST(root = './', train=False, download=True, transform=transform)"
      ],
      "execution_count": 7,
      "outputs": [
        {
          "output_type": "stream",
          "text": [
            "--2021-03-24 04:30:26--  http://www.di.ens.fr/~lelarge/MNIST.tar.gz\n",
            "Resolving www.di.ens.fr (www.di.ens.fr)... 129.199.99.14\n",
            "Connecting to www.di.ens.fr (www.di.ens.fr)|129.199.99.14|:80... connected.\n",
            "HTTP request sent, awaiting response... 302 Found\n",
            "Location: https://www.di.ens.fr/~lelarge/MNIST.tar.gz [following]\n",
            "--2021-03-24 04:30:26--  https://www.di.ens.fr/~lelarge/MNIST.tar.gz\n",
            "Connecting to www.di.ens.fr (www.di.ens.fr)|129.199.99.14|:443... connected.\n",
            "HTTP request sent, awaiting response... 200 OK\n",
            "Length: unspecified [application/x-gzip]\n",
            "Saving to: ‘MNIST.tar.gz’\n",
            "\n",
            "MNIST.tar.gz            [    <=>             ]  33.20M  5.96MB/s    in 15s     \n",
            "\n",
            "2021-03-24 04:30:41 (2.24 MB/s) - ‘MNIST.tar.gz’ saved [34813078]\n",
            "\n",
            "MNIST/\n",
            "MNIST/raw/\n",
            "MNIST/raw/train-labels-idx1-ubyte\n",
            "MNIST/raw/t10k-labels-idx1-ubyte.gz\n",
            "MNIST/raw/t10k-labels-idx1-ubyte\n",
            "MNIST/raw/t10k-images-idx3-ubyte.gz\n",
            "MNIST/raw/train-images-idx3-ubyte\n",
            "MNIST/raw/train-labels-idx1-ubyte.gz\n",
            "MNIST/raw/t10k-images-idx3-ubyte\n",
            "MNIST/raw/train-images-idx3-ubyte.gz\n",
            "MNIST/processed/\n",
            "MNIST/processed/training.pt\n",
            "MNIST/processed/test.pt\n"
          ],
          "name": "stdout"
        }
      ]
    },
    {
      "cell_type": "code",
      "metadata": {
        "pycharm": {
          "name": "#%%\n"
        },
        "id": "aEtCbO6upkou"
      },
      "source": [
        "# Create DataLoaders\n",
        "train_loader = DataLoader(mnist_train, batch_size=batch_size, shuffle=True, drop_last=True)\n",
        "test_loader = DataLoader(mnist_test, batch_size=batch_size, shuffle=True, drop_last=True)"
      ],
      "execution_count": 8,
      "outputs": []
    },
    {
      "cell_type": "markdown",
      "metadata": {
        "id": "RLKBxxwsg6_E"
      },
      "source": [
        "## 1.3 Spike Rate Coding"
      ]
    },
    {
      "cell_type": "markdown",
      "metadata": {
        "id": "bTvXgpcXgE8e"
      },
      "source": [
        "Part of the appeal of SNNs is their ability to handle time-varying spiking data. So let's use rate-coding to convert MNIST into spiking MNIST using the `spikegen` module, covered in Tutorial 1."
      ]
    },
    {
      "cell_type": "code",
      "metadata": {
        "id": "vCvOvfBPgX-J"
      },
      "source": [
        "train_batch = iter(train_loader)\n",
        "\n",
        "    # Minibatch training loop\n",
        "    for data_it, targets_it in train_batch:\n",
        "        data_it = data_it.to(device)\n",
        "        targets_it = targets_it.to(device)"
      ],
      "execution_count": null,
      "outputs": []
    },
    {
      "cell_type": "code",
      "metadata": {
        "id": "OK4jkBH6gKQN"
      },
      "source": [
        "from snntorch import spikegen\n",
        "\n",
        "# MNIST to spiking-MNIST\n",
        "spike_data, spike_targets = spikegen.rate(train_loader.dataset[0][0], train_loader.dataset[0][1], num_outputs=num_outputs, num_steps=num_steps)"
      ],
      "execution_count": 19,
      "outputs": []
    },
    {
      "cell_type": "markdown",
      "metadata": {
        "id": "wuc1NiYnhaiA"
      },
      "source": [
        "We will include the `rate` function within the training loop, to convert input samples into spikes before feeding them to the network."
      ]
    },
    {
      "cell_type": "markdown",
      "metadata": {
        "id": "ML6Lc4t5g-fP"
      },
      "source": [
        "## 1.4 Visualization"
      ]
    },
    {
      "cell_type": "code",
      "metadata": {
        "id": "wwSSWii7hBml"
      },
      "source": [
        "from snntorch import spikeplot as splt\n",
        "from IPython.display import HTML"
      ],
      "execution_count": 20,
      "outputs": []
    },
    {
      "cell_type": "code",
      "metadata": {
        "id": "UreKRksWhAus",
        "outputId": "c8b1812f-87a6-4b42-cfdb-012b5cee13cf",
        "colab": {
          "base_uri": "https://localhost:8080/",
          "height": 540
        }
      },
      "source": [
        "fig, ax = plt.subplots()\n",
        "anim = splt.animator(spike_data.squeeze(1), fig, ax)\n",
        "\n",
        "HTML(anim.to_html5_video())"
      ],
      "execution_count": 26,
      "outputs": [
        {
          "output_type": "execute_result",
          "data": {
            "text/html": [
              "<video width=\"432\" height=\"288\" controls autoplay loop>\n",
              "  <source type=\"video/mp4\" src=\"data:video/mp4;base64,AAAAHGZ0eXBNNFYgAAACAGlzb21pc28yYXZjMQAAAAhmcmVlAAAqaW1kYXQAAAKuBgX//6rcRem9\n",
              "5tlIt5Ys2CDZI+7veDI2NCAtIGNvcmUgMTUyIHIyODU0IGU5YTU5MDMgLSBILjI2NC9NUEVHLTQg\n",
              "QVZDIGNvZGVjIC0gQ29weWxlZnQgMjAwMy0yMDE3IC0gaHR0cDovL3d3dy52aWRlb2xhbi5vcmcv\n",
              "eDI2NC5odG1sIC0gb3B0aW9uczogY2FiYWM9MSByZWY9MyBkZWJsb2NrPTE6MDowIGFuYWx5c2U9\n",
              "MHgzOjB4MTEzIG1lPWhleCBzdWJtZT03IHBzeT0xIHBzeV9yZD0xLjAwOjAuMDAgbWl4ZWRfcmVm\n",
              "PTEgbWVfcmFuZ2U9MTYgY2hyb21hX21lPTEgdHJlbGxpcz0xIDh4OGRjdD0xIGNxbT0wIGRlYWR6\n",
              "b25lPTIxLDExIGZhc3RfcHNraXA9MSBjaHJvbWFfcXBfb2Zmc2V0PS0yIHRocmVhZHM9MyBsb29r\n",
              "YWhlYWRfdGhyZWFkcz0xIHNsaWNlZF90aHJlYWRzPTAgbnI9MCBkZWNpbWF0ZT0xIGludGVybGFj\n",
              "ZWQ9MCBibHVyYXlfY29tcGF0PTAgY29uc3RyYWluZWRfaW50cmE9MCBiZnJhbWVzPTMgYl9weXJh\n",
              "bWlkPTIgYl9hZGFwdD0xIGJfYmlhcz0wIGRpcmVjdD0xIHdlaWdodGI9MSBvcGVuX2dvcD0wIHdl\n",
              "aWdodHA9MiBrZXlpbnQ9MjUwIGtleWludF9taW49MjUgc2NlbmVjdXQ9NDAgaW50cmFfcmVmcmVz\n",
              "aD0wIHJjX2xvb2thaGVhZD00MCByYz1jcmYgbWJ0cmVlPTEgY3JmPTIzLjAgcWNvbXA9MC42MCBx\n",
              "cG1pbj0wIHFwbWF4PTY5IHFwc3RlcD00IGlwX3JhdGlvPTEuNDAgYXE9MToxLjAwAIAAAAcnZYiE\n",
              "ADv//vdOvwKbRZdqA5JXCvbKpCZZuVJrAfKmAAADAAARsG58lw15q9IkAACtobhz+EtXgAGbPfnA\n",
              "6vBq2y4KD1VFSYr8QiGU1RZ6il6SV2xj+fxPL8Qg2QVIKd1FSNrbUk/xxGhrNkdYJefn3ynUL9a4\n",
              "OYVcKYGaf0ChmcI28O1Gj0TuAWTj0qHWbh5a3hyHjwt7LyUC53L75E4xUQF9ls0CODqUUUt4MEs9\n",
              "QUEwgYEUAPFqbVJF1kEjajqyQT8VyGoA9quTTU4fPtQYwSHYe+bahrLSKD6AhRF181TQ76JX39l6\n",
              "asIgat7HVx4Bzw4AzNV8LH3CXiiFjTwLyh608SJQ/Z81L7H201vHofDvTEJ0eDWWV6FV/o6i/VJi\n",
              "Ex72BXu+f3zmRf5euqYXO3tRR93DJBJwwaqG2s2B4qAMgqX0VL7hgefKQd8VEUq7ozUigzhYhIN4\n",
              "oKqAALk03DoWMY9/EGOL3ykJK3Zg8t/DVnP+N2AwCBwsisun9PFX7raoaoiAoMgfLCn5z/0I1Avj\n",
              "Lm+PBlsIwC1k5Yg9I7jGB8rm/PT/OAsrFg9oBJn6Y9gnvocLWA6/wWqW40Ae12CB1fF8LiStWTPS\n",
              "36i/diwXVGe7idXavh/Cn1994msRAS9G94933g88WvQ3I6+kpWhkOyHQC8cOkh+qe2Ex7yR6RN99\n",
              "aVq0sMnMuCvMAAPUkL5TtILFdzWRLiucAxVslqhyKvBzK/E/Xqwvkwx9kcy74EZTyU+UVPd98yoG\n",
              "KUWjXwpKBrxx/8ThpPFE6/uXE4U9C0F9Cgweyc4vwRSWXXHpzzMVl1gnDK/Gi7aH+EISSv/CLEU7\n",
              "zz5aK488Rv5INu1othHS2YgFYQOe47LnJKJVFAXUYY6azlXGRAzvtMwbCtUtWE5ylwvJ22Dcuxuz\n",
              "5hHKv5+hoqUEuuDQ7HjOKbehET4gEdBkMtweSu1pJFtga9nqxbTIpxOB57M5U8ky87t8Rf56FjZU\n",
              "rw4m8ZL3OEd/3K1u6ibgNzNyv9MfFCcQvSHhdJhp29h9wYgntgxSPPpFDm9BAvfRHJNuJ8l6I90I\n",
              "73YlwhEs7uXdiG98PDBWM284xtHnQExF6sdBlAP/0GEvv1fCeKsh7mqWoxxcgRLO1qroevd4EwCZ\n",
              "PZklWdr0l45fpNPcs7pjVnEj9ydBuHKHwsvU7d7eI2UL3tCiJnr8xxCXM+alwUXUXSmTNWiHjhae\n",
              "s07BKgIfhjvP2/n3vg6jWuxvuVa5D2mtjRijlZNH4hADniRj2dXxNYXnU4tkt9OAKf/G9FNXJGqK\n",
              "8azNg+6yemU55Cp4VVvc1pdJLV2tKZDHc4+AWYA8VbZoeGg3R3AkwdsckmmmyHxfcoEnLVkwDq9e\n",
              "CN8vg0erxx0+aCP+Aw8tVq61UjuIC1Dk/gAXUZ4VU9dP7qd3SE5mlsF8fiLcgtzsOchuH1kWT61O\n",
              "+zcogoWaMu1pt5g//Za8Wltqe9YmVjg7tm11QN+2Wnl3zwMrzg6ESYIfthcdunCeTCFY3mH80Dyt\n",
              "6rBhHdAwhANNpOM/ssR4SvRRFJHiSTm9I2FT8Sg7zDtelGrDhdVnZsUUFD+Y9M702CvZyAXm2hP4\n",
              "kH3AsGEuBhw/aegDlnAz3mQFxEo0diKT8SHfit/8g783wtojkOwkF3q3x2FxRxXAboKNZzBs/Ufn\n",
              "jGnpZq/5odUkGHjNkHMGGtsiCyTDim8XbvmlrxEU03tAUn9aLT1YBh5M46mlp/KTxWawDsWEZzXV\n",
              "XLuA0A1CHf51jCoajXd6yzDi60xTlPfjuKbkXA0VfotV295vS/IlzjRbIqH4yxnXtnnqeM6cbtul\n",
              "n+S6UleABhcOgqclEKlRkJS8ivEipZ/j3ZmWKsxKjMB8Xq7ujcyjurJWoqt+GtOSqCXnCB33SYOW\n",
              "dH+DtR1GPOZ/3mH1sgLN7dKs4XhEvWBqLdbxCCw+0ZZtFx9nuDgCmag5Ph3ArFmoXFPgNx8nQt+P\n",
              "vjne0KB0dZbjv4T6JQrTjDLHsfjO9+v/xvbjQGjYDgzMWF3jsHdXQHn3MylHoyssKn7M83NRun4b\n",
              "l6iW2QBu6oFwIRf6/AWQ5y77RxqOAh7AtKLIhCi9EOg7XM/VAOsgT7OtB7q7x1AaULbQGQDep5Jw\n",
              "LBq6/NoXn3A4X5T3QfcFYJKX9iytHHLmkCKCTmClYb3eKUps9iybVXep0u6l0OcczpDqUB8hivD1\n",
              "Z4QYElUg+ttT1zjawz41HpdL/V0IUK53mTi+v/lDf6ALSIJQo29ML01AdjEh8DzQYNaqGBLAfriL\n",
              "DXDXaoKlYxZsswNdN9oxXm0qOmcaxcwFOuxb7I3icVbvMplVhvTdxuMAt7X+B32Q9ZNcOMD/lS17\n",
              "T+/C9YsFMBI1N9edOJeijbO3QFd1n/4Qwij878DisxHe+7efFsQvwnp/eiJj/5CahVU1SwAAAwC+\n",
              "VJ9mPQAAAzFBmiRsQ7/+qZYALcD7NX4FaJtWKPTwxjXfzaqcZ0SjcoInrtSxcD0XjP763pAArMP+\n",
              "Mv7vWUQ1p2ZcDpr5fNkVQKxS8r6ELkAYBTK8KxK95Y+B9rH+t7PVSRoPC9U2PcdP3v0ro05LnJSL\n",
              "nZYMsQEEDVALIwK7laREDZcT9hn37yiugFcYOlanVyLPRiA9XUedukXtZwwYy04hjAvfAQNEW12D\n",
              "Crn/BLSp/vEufMyaPdXVLLRnRVYe7+k6Evj6vUCnaTQ6pWGiGRqpIphfB1s4YoJP/y+8ZfNoxwmy\n",
              "GjV3jUspaB/Ws2Z3VEIiXRa6nXQIJaeUuaR1FaaBjCYH7HAoCIunH6NZTNToUNPyLr+ds0muNcBS\n",
              "Uq/qmvj5eWZsE5e/aUpqSCIUtHI5Ab+s7CXLZKo+CzLmD6G0VM+DdPEVwR7l4aH8GtXuch7uwCVQ\n",
              "agDN+EtgoaEIZp48v5Klwo6x4F0tr36DSJp2LRFZ2iTyT8hoknURkKoRI3A5ZZrWgowR8L01f3Lt\n",
              "ipYDQ0N+Aiv8fmmQyaFKNt7hZOFCL0h+9FKekRZij3rd7Q1SbC6N+c8oTFPSVuEus7dZcfTG/pJ2\n",
              "yPPJDZMDyF3QfmkmrzMjeHgKvKywoU3B0A32JG/Ielr3oO8luQuQis6n9VvRiOsUI588dQfyv8vV\n",
              "+ShzBfr0EnLQ7ZR5eUI8/kfERzVitM5Aaon8mJnjK15tk054vdMZ1oftEX/9IDA42HZjfPQT2BZ7\n",
              "CXLy0oyto1FwkhFh/LMtHXpOYy39AugctvVvUvan1qr+GbQ5xwufRZe6nvYQl4lGLJwFRpFYbXeD\n",
              "FgeLX6Mf+P0OWnaRFsNvVgU9rX7k380NtUeIG6vhyJumEfUxrmsWcp0UqqyCf+zYAZEB/SczRwTD\n",
              "d8X+hi+QqvmuHuKWpPXj8mwqdCnW2/mGuBTyyj5s1e76NuXeL6dYohNlFOwKf4bqk2ZPesY5i83t\n",
              "YYj/5yjMLx5DxBh9jcNd5fhrbCNyXzFWv3dXPy0HYpL092WxOWGsxR1z//mS/hD6aVYowdPpSs4Q\n",
              "cIJ6cmr6ltmegV+g/om1qDr7MrEoxCbCcjBgAAABFUGeQniF/wAyM05Y07oAFCV5yoCL6bGyZFry\n",
              "xo1sdQxk1R93iT1UZkp3riK3TZEVPv3U9pmmsNnGCWqvduuVKFDoXKUhHF8PQKBZQslLc9zcA8Nc\n",
              "1znjFQUnTt5qGvxbKiD97SFMe7uHk+i3y9ZFOGAaA8mcnsK1n8RscXCPLLzGqma1qSLABhUqLJTB\n",
              "nKfI7zqFwCzdF9XTiO9JRiDbSHkeow9P0Ni4kfImYcvBJqmYNnmM65MgQftlJ3lnItFLd6V4z9Bb\n",
              "p6DJycHSc7BnE7dHnhw8dJFEIZ8zucy6uAbp1weB1lj9eGMMxg2yjLe2jud0uats18X6AnVkB6Oy\n",
              "8dtT4sd124uSMsvxozgSwF7PXM9QfmEAAADdAZ5hdEK/AEN71QrKkvmTHvDDpFAwab38ABeuqOxD\n",
              "A3uM8Lw/2h/hCuldmlfOXXHBuUVjmzpD8iTpAnywKu+/mGfj0T6PG1K7/gmSQu7WgrapOwy5rRyD\n",
              "P9fgLROfX78FWjmKHOglHHqUgOTsbzrysSShfIzH+uNUno+A8vwiuuD7prQIzPI7TjhUSvPSa9rN\n",
              "N2B9ZSrRIrVXMt8bvmQnaPAyCfXL5rE2x8bbc4HP7rkEAY1vWu2BtmvT/rih6C845gvNSpmZBlaM\n",
              "CAAu8D0DEQDBuOPaCJWgJKAYsCAAAAFeAZ5jakK/AESlXwNfo8AH4qr6wfiqyQzETSe2QLivBjdo\n",
              "PR89eA5y6+IM39jdpWG/RGVqhSzghfh6Czj+bf/B5cLtIwVNGMJsqaHHNonLbQhtTFmG2SfniddZ\n",
              "58L6Pkai4Pmie6WzvvmdiRQl57MKA7ht30Q3wGccGFmmopfb4Msl9pSQpwaaE9N1aoB3TK6emUfY\n",
              "gOa0ju150J6O9YT+2UKYQpOttBxymdydAfcAlJcwPzGovRM4BjeMCMgjzC/JTT6Hxr/BBCVMP5xw\n",
              "bRVEIwci1H2p6zAkssyaHToLKMPSsrWfhRZ+hyxL29ZXwFjDMoIqRRfCyhTKcwxlS+ju1Me4C0AQ\n",
              "XGBQUx9pxeOUU+Dq1vb6ZVTNHu5M+/FS2TYlMM4FHhJT/l1C59NTV22SqwX4rHJ2lU3fNARXDoN3\n",
              "zNpju8awMN8JY04yGHVe3df+IoSNJebs/4fX9/1xDMEAAAIgQZpoSahBaJlMCHf//qmWAC3C1cEk\n",
              "A+5fgyJwPRjWUrNxlFM+0BwLuoh4Fy7kmXobBwzFMlUi21IVgXoVRHt7BvKWvK3LG9K2ICYbLCfr\n",
              "WM6kCHyjWCV/fQtTCud/GVyoHrLEoxKcZuTd3sdLUSpFUMOfX+0QtSXbhBjxxjI5gm1Oe6BYZ8he\n",
              "Jbnf5pK0ypEkEQTPN++NmD6pWjqqz+j0H/mRsdv19KS6+dmj7qKxAEM2qZM9dtJVwu2oMdpO8BS+\n",
              "oxS+raw6R2pPQQQ5pPD/o6VW9TxdAM2+X+9CEBAyCqwbDMjBXDWNk9dBmFv7cj/J10nJZFxDlzdo\n",
              "gOY2V1CuXAu6TJ5vMtlohrIuDr7TfH3FBr/zQ5D1wCqA3FH4L2dNIOQnHirR3Y2MgxX39Q87KuWi\n",
              "skwidiLDq5uhunIwEpJErFIK+mek0G17t3ylAh6bbXoeJ9LoUqdjpPG2yEKt8hNZvTn5Ls0+UZTN\n",
              "fmXG2tLE1yYBmYn+En5M4fDBMCLxXDi/guByxcJRGfm178Zkpvwio1EIfWcglGKVfDnn2gOijsyF\n",
              "3XzdMJKZl5nQV8jFW9B2oOefNVZznZ6cPmII55h2jUr5MP+BDkcN9daYxX1lvOyiOxO2iCZLoCOU\n",
              "X3/z5Y0S4k72Eg8Qba3Q/LL9S+eWUSlXhKMrGetFNwV6c+QLXkS8MoK5TNkbVxEsOHhQ8wclkEui\n",
              "OhppliKJ1PaUgQAAAPZBnoZFESwv/wAyQXQfSnBTN3ShsgpHQACFHdTneWOCFq1wlqfckBihteAW\n",
              "BNce+LMsFqWCct/XA2ycH54v5FKG3DBSFeW/8gyitL33aUks42y6w7hpdV42RcMW1m2GDP6ndtL9\n",
              "ZFnDuHPFS6bKnX30xrEdr7EEdi+ZxzdXH3m9yCLb1OmLx3OmbLJAbJj8a9bsne/uC7oNU0VMRf11\n",
              "CNMg1xksejIvShuftTzqv27E12b1pV2Ubuw/1shCjJr5Ut/WDacrJ0bfn/6Ybf2nsd8URjlJQ04G\n",
              "UJKMfIuMwsPolAI8rpIAj2irwJ/TN1MPOR6DneirI80AAADSAZ6ldEK/AEN714A9mJn6EJPsYOC8\n",
              "AB1oAy2OKfEO4tG1fvXo74R+k7122HV0oV5GIQf5glxkqPOYTUoxq2/7Tm3OP/QvnzwSVWMRI6fY\n",
              "E+4gDjpmwBu7DvduyCRKJUTjcIwke0JkpClkhnHkWU2l+UWEpcIfa1MnPaV4a+3ib5180EnEQqUW\n",
              "+UV9Iy72RiSDLnA0y+1tZxSCjQUtI9EfARHw4rkFiWBe5pk1Iz2HE1qkXRdwO31ATUZhv4rktNae\n",
              "KWCuJWvPnlcfpuKP4JyVJ4XhAAABIQGep2pCvwBDgym2ByvcypLeG9kh4HbEAHKgErNYG9xnheH+\n",
              "0P8IV0rs0sBQoPI2gtuZzaybxAVStWMt2oeX9uNZH7BEO0wcCuNuhJhiMU6eEUUoeN+F4022rtWF\n",
              "69uiKZwzPMJi47oau1sEy/B7nzJzpauGJaApsdlewBPSw7bEGT4k1G3RJCfPjJivJilf6pM0XEAL\n",
              "B9PDsMEzYKdCv8rCAzKPDhYdAmE61Um4Hyzd9QY0aLjgyXeLliOTu4hebdxjUNE1M1rLTvItSXT2\n",
              "64/RRjppPAbN0TOP50R24bbYRriombJitV8RZasO0qFi1WI0dfzZXAEdieLRmGab8LN8Up9pqJK/\n",
              "BcFHbBPFGBSKAkxEHTt7ovqdsDFV9BWyVIAAAAGvQZqsSahBbJlMCHf//qmWAC3/AO2D3bkD2KA0\n",
              "/8Qo902qJreNWQm+OXMALbaeJ72A8IWle6I8VGkZjKFO6lH0mIqkmm5GyG3Vq8gsC70X/3qP2Lpu\n",
              "RD3tWBdh9S+djOHK4Ln2d0roTmnVTXLFMBxOH+C/9ZzU3M+GGxFsXUJCHJqwnwte5Z0SQy2qt69l\n",
              "AjfDFrjvjoq3872HhqcHZfO6aaIrJMl3PMe3ZAZl+oxPnl37cCGXSZAWh9q95N8fVlx+cyWF8k0d\n",
              "I7fwLyAbXfP9U6YiLccsECeJtgffoUVhv02skDGEF9lSvg4gOnUgETFNyOyMl1tdnBNrJLDWsW+u\n",
              "TVFjudaPLgVQW0GZlPmiR8PVeLxG0XrSHKLEw9mo1I0BlCm9MbpFwcsCGDo45fnrhYoZuCFalzBf\n",
              "SDeEMUntmgFGqld481KblpefUBBuJHDBW/3vnLoieB0VVQQC/dh39JZAhlg0V0+/lOQybb2tfKgS\n",
              "aBJDxi5ogHQcKIXobVw+rZnY1v34c8Ei3CeYLZLRvr3veTsfCfmd1CyVPBSS3qjZYi2Q2jXUoNrH\n",
              "umPEwIAAAAFKQZ7KRRUsL/8ANh582EX6nqEDvKCBFBAjyLOE7DZ8a1w5BzhRCwFCITFA+hPe28k1\n",
              "fMm3Wu1yAeQY3INFK7wMXfBQCbEUN5+23GooUzyywZ1cgf9TtgQNc3J3XSkLG0EdQfwZ4i2z+dKx\n",
              "iL5eXhJeNFN9fzMjlvvQSSya4wijnCqd8VEJzk98XlISoozT9IGU1xX5xrHrvnpRGLpRY+Pyv3W5\n",
              "/tAhLG2LoJvcM6MB8oe4ne53uBzYuQgUsphYFHkTtPDJVj00tukf4slQS2LqJ2e7UffQ23zn8z40\n",
              "VV27JkPp9SG4iFAp7+3meS/C92HFtQGvna3fBPsOY7CS1GeAD0F0TKZjmzKWv//mT0WmwlBKhnAt\n",
              "nsByfwkib+jAKCq9ruiM8KLemJ3i7mGXYbWJenT1S57elyQVp2MeRk3Ku+9iwuZd3jSSCrZhAAAB\n",
              "3wGe6XRCvwBJloJ8YECjWCr5oMRMVAB1oBK0GxXXj/QJmWrPSbkka8MuwwpKz5CZFy5P5tzh7nrO\n",
              "qD5tva5h1Db8QRA1vXHox1TPdtXjjJmeOqof7iPN/yq2qZM9x5TmsAXkE8sg84QStktUM/xYGJY9\n",
              "XaBZKukHb26kvh6xHmtQTaib/3Msd6uxFIcH/FeoVDPlIfwMZD72SVEXaCs7hHj0MCL5fxYIR8Pk\n",
              "/f2homvPWC2SB2MQzmM82SNMJLI6TKLqOuWvdIgoWuWTzDTUW2vryfFIn1qu24v4JEabGdYidq/D\n",
              "q69BLXPkJ1bppWVtZyNdOM8OJFhwfwrJijShqS3UcxAjRp08a5/uaPydarMPUSoHk+NkYIwLa0tg\n",
              "dG/oVfEz8VJIZTIIvWpgiV2U4a45woMquozK34GiJpA/tkWB3z3gBkJ+SOdwcnUmcM1ymq72YRCK\n",
              "bS6wIoYsIbcaONRypBqB/YHvsHuGG8D6p4p8yQQvbh1uu6GTlZVii+9QMaeBxlMk30hk9bReUOJ6\n",
              "fVNWFKhpt8id03LtTp5d0h9ZCCKcr3ggNjKAPvYsNgXLeQgWl4033L+mFHqPQzo14jyMXl/JO6uo\n",
              "5yXP+Nzkn8fpREaqnKEI+89e0dH1DJEcAAABDQGe62pCvwBDddJwFYP4DuWBAA60AlZ0VVFZD2w/\n",
              "7nWZY4YNAbTIq3nkbQW3M5tZN4gKpWrGXseHl/bjWY2pSyNHyZxX6bdi7PT5aMm78SLfNUYWweXP\n",
              "jkyi4DsGaTEHWqWZrpoZfcrR9ON6dbjU4LXaXd64rOkygHLqKvvlma8HAzPF7GKPK7WlF629uy1d\n",
              "lJwPNtLLN9qm8a/RmXaCPNadfzon3Jnzb1mQ4e6vTW5Ol/LX90gUV4IbC7jph+3jMxjaOHj9WYRt\n",
              "V7FYlyMW0KtWgogU2JgzH8Y3w27eiMpTtz3PfrTWGTUyOGnUFNGraOrckfVSvl+wWJ1pcifQezfA\n",
              "l9302rikihQAjjuAAAABoEGa8EmoQWyZTAhv//6nhABc9LsnytRxyjfJ79RhSC6yM+m/okYf/GHO\n",
              "ETGkQ+pqaDuhZCJnJ00RJKT4rugsD5bcwY1+s3RO/gFPpLYwt6MXJRFIMTiw6eOIA70a5+V4CC0R\n",
              "gJ7WUkqj02zoWCm7PxsGMCjSjzTyr7boyIEroPJgpskFa5uV38Tnn2VsQ39jFe2QhiU6yK4dGqu+\n",
              "kEOacwWtFbfuO9ItlZAzng5NG+Qy1mu+oeQVRl9M/DU4AqIvc2v8OGT5pQCFpWItaRcWuOHYE4kI\n",
              "JmUiztS6WjPiP9xnxPGCTsbBRqScVyM3dpUTqDnEl6sToKmfBm1XooHLk7L8hvZ9othucGvyDqEf\n",
              "w7DTRHDMxt/B/aboH7ZIgE8oqKNEHiO+uC3OTjObXBjQRK2E4bRBHHbnvidagQrFMTQZ0h1k6rwz\n",
              "AVg78e78d39XPcpzcumC7oofIbCLqwPXpDXyfGPW5hRTnbmx2bWtqjAxct6yrR8EhjkfD7dZtyEN\n",
              "w8CYlD/Ci6XqPOXzwbFTTDtTRJYaIVWNKqMMMsZxY0rpAAAA5EGfDkUVLC//ADYeufbQoYkU8RnN\n",
              "p03w/7j8FapSn6fZWE1gGJGeP3s814S1+oAWdZOfpvVxFb7k27HoYjSerEcaB6N2DXolgKmQf2bS\n",
              "DvSEk9CYTdk+nlZWR1d14ejN9rHXds/f59at23BmNCFDAmUlpdb0vSQPiKP1mxche0krvpaKKawR\n",
              "qyMmckYae8XPouA7brX1kD+W2mLiXiyrLlKRzl5VtnMBpwbjAg4/gX/F8/y+IaqhWF0Zr8gLPBI6\n",
              "sLJgc6r+l0xairaWQLqYFBe5RnEyE0HlZp62yDS7NtkIxss08wAAAOABny10Qr8AQ1ztOWPrsevO\n",
              "j9AA60AlZrA3uM8Lw/2h/hcKioXVwcEC8NoLbmc2sm8QFUoreaex4eX9uNZg87JsYmKBGJWy+jWt\n",
              "N14Zfwsqcl8caAyWGMT9tiIbdi+xO5OX4sTm5dJ9dJ2PGCxs3uPKFnrk4iaYHf+0fyV2EZWdERBF\n",
              "JCT11HHPXbtGwim+xdS42H8/774acvfjosVSJ2cyVU01ET72w7RxPefAbV+Kax+5U0mB0Q5EXhXk\n",
              "fKlpUJSN4RkVSOgYyal9Gr5uiFCVvv2mrigmaQfB2sipyr6lSQAAAZ8Bny9qQr8AQ3Xj0xYAOVAJ\n",
              "WXKfYXH8v9C1cgqDg2fiXk/8513lAjvej+Kxqh99P1WriUu4gomTLOreUJYHZyuxmsu16ObxcRTO\n",
              "WYFKcTAW0rs8W8PMBmcikgDUUI10q1+VhM5BuD+qk6e0ThxhMn2ZT6ZvBxufvgHRmGU71BzV/LR0\n",
              "xafHTk/4uB8mPWGHBkOPnpmUiFHwq6p7jYu0xh94Q1pMuaMu6CbQRKH8j2qqYHJBq994lVT9m06R\n",
              "hbuD4VZp85CgjU/eMsndQRsHfwY1DVcY+lJUZSR9N7b2x7pmqMoau0heEKlupS13q3f8NX6V4zyr\n",
              "NYH+gmYRW6UYGHzyWZCJOY+naVt8L8MSmBIgRWlAkivyTRgILxsz3LuAHtpzlY1Nlhbe0IPeiAFH\n",
              "WUrMPPBWhV0TIndxcm+ceQARTAKhk9owmo2BCKXlww3YsFjPfn7E5dZcXUFDVziYSGz5K4iHeD0T\n",
              "uSTzYddd5abHc7x3AgPn0u39h+0fCE3LN2BoqulkwpjB9uLz6Hm0OMN5Cx3TMCtAFl/mnA3EfG4Q\n",
              "AAABPUGbNEmoQWyZTAhn//6eEAFiCZRZqhEoTg9b9icshNbWc0TsD3s4HGqVaaeiN2jZVY/P4lj6\n",
              "xc/PalS/wcgICAGVtW5YBmGS8CdmBGc4rNYLcnfuaW7iA1FEl1q/LDflF1vmDJ5ZQVk/isso9BT8\n",
              "3yHJcly4GAL3W9nmG3WPSIf5rfhkfvTeETdrgBYdpf/s1qSWgQoMPzXnohVLNWlydBlPFmG7Ipfk\n",
              "0SVZqIdB2kAeqN4qQJPRuOya14NVoy5whPVI4E2s+k0sVbgxX9aHeahgPXGdszuLSehkmjMUuvTJ\n",
              "VWKNs7/v600hnykfb5D5B9s60/Q+m1aT6vMvgRPYt2H5LbG3G5mAE3O2jUpsCgwAB+/8bOmeZbdO\n",
              "3QAh3qG3GWk3FPzMBwXtUvzyA/q0BPzdBuHWYgJlD0c2h2T0AAAA/kGfUkUVLC//ADYeufbQoYkK\n",
              "IT9yB78995gA+8fhr7yrELDkNK6ttfC1hUKV4UN6au4LcwQxVdWv58/5M1y6xPU/MytF2NVzPfAf\n",
              "7SQRwtDBrMo+B2z99p4KZSLsvh45xuU/Vjnjn5wo5laBZDcDdgGI6UTNgDiDQpOhNt3J48327/+7\n",
              "pxLwvW47NbREAKlrSO3er0DVS+M/ibVj0RGiYCm4Yo3HcUfof5xPOHzRsIc2Os62WWKCdcnZ1SVX\n",
              "vGkdkCSBdQ4PTPcJpf0X/VWO2pzkcgBRmKRHvViuczfD2Gm1zDawJEQez1YRc4m5rJmfCgspZEFy\n",
              "5e9DLJ6xNu65AAABJQGfcXRCvwBJln5cRvHu/gd0ZYLTrG7b3IG8R8tKR6kcoaspnUK7CATCYsd4\n",
              "POL9myqSeiVBrN9WBcycLTIARB22AXlRRoJQyMv+M/expuk51HPCoROZfz8wNxpPfqrickEGPGJ5\n",
              "p4dojxmMjoEL+9JL2jJ/ABSzkSrH8zdOeaEdnx5VFJ746nDi6oiyxNLor4Im6DWssFygzjncuISH\n",
              "KfS88ErlR4uvUz80BlL+lOAFznxtJxZty6mmSwQSM+i2RN4DcNxk17wD7MViWNuM3hXdsWqpxZDr\n",
              "zB9IO5cVYyEgOMbOc7K+rl9hYsdOZEh8MOC5YHkJuLPbJP5zdBebgTOyhN/TqQIkf8NyzMldBpVr\n",
              "f3/ZQZKRxQvY1z+7rZWa7eGcUQkQAAABVAGfc2pCvwBEpV8DX6PAB+Kq+sH4qskMxE0ntkC4rwY3\n",
              "aD0fPXgN8W8laQbscztrYAHDRUJYFRktSAAL6l1IV9Ei236WNx5kFnXqR9kHsy6+2m8rgOfgdqxE\n",
              "nhIVwUeurFIHhbB1p0FNgCKqKN6VghyFjYRTUpP3oksdAoCM2bSwJFO0SxgvD6HWnK6BAY12axFO\n",
              "dsyzf2SlUM3RX1z5VZMlfjP22T41Qai/X/ku+eak4l1m/1WvKU6Y17zGy4WS/dZpcZblCZCyDfl+\n",
              "HB6EUsNV/xW0tW5lMXkb3/7Ko7oolC5kDiFNGFQp/Pq8u6+kvMFcP9i3AksRbpwpTQLwUp44vTrm\n",
              "tlFjSlePipxgpHSaQFoNUgNNreEHVaZxPfiyNIWCjWPAgOObbpCnUKQ6FeEpjlA2y0d6DBdvwUNp\n",
              "JeEjRZLiHLbksB+TeEy531en/u6DuZ4AAAEeQZt4SahBbJlMCFf//jhABWQNcs2g5t5WX3RqA3UK\n",
              "EKFMCAEk54nMuaIHhPpCW1rQbFZxYTX8D2lPIt4pGezCrkP6s6eIlLRWP/wdq6+NYVN7ded9gu9B\n",
              "pcWWtEODbNEFCwrTS6QhW0WhRrLv/B85NVeb40m8iu3wdVmt7i1FN6KzI2xad3c72XfrMRAHJ5qM\n",
              "oYHCi/fjH7gaajIRQG1rL7KaGLvIhMLgNjcERCwBi6FGAp4gHNGX6IX/eHncfeNKYvyAeNpjw4Rp\n",
              "KXoUZj4ubfg7u3R6q6+O1MaTUXrSYrUIGUyBz2vrK7A55RRvfXXsi1h9cZ0SPX//KBV9S9o9wGL9\n",
              "YO92/MNFLUYZwrTyQ+qacwduXFeDEAKUPUvuLwAAAQ1Bn5ZFFSwv/wA2Hrn20KF1oWPk4ObU7xIv\n",
              "wUgDwAQ3u0UBfFVynV4WtIjD9FdSJnhD3xRSoOXhdiJpyCtA6Xcfc133wgJboAvUPDM4/mHiECkJ\n",
              "Tn85flcqE+/UfZ0VMyrKkXoQgd2jztuuywpLp3YbiubszcPmj2nLrojWTcbA3xz43PvtZfOL+44z\n",
              "s5oYg2m5C/75gThheBMSF89wMNH28XZKc+kzjEVENpPV0MaPOK7hQ2JNtaSpiq3jYfFcgrxVrwFX\n",
              "pnOnTjr9l6UI45xmWJlCYfw7gaepspIf+FRQShxlUgSQtihXJ6fr0kgUUtJFGT7SzvftGjAZ0H55\n",
              "5VfKqPx01yA/tgjZgRAyQAAAAYQBn7V0Qr8ARXwTWvKpiAB1oBKy5T7C4/l/oWrkFQcGz2UJKK2T\n",
              "/i0kiEkS2soo2NamNpIiHXLxSfcmjb95iHfWtfemEUqosKTjPwqS+i6uuc2HAKwQTw7PjlX/ydPw\n",
              "xa1+M4b2BjifHaOgXefSzA9Uq9HabiZRYEhyEDks2G2AAAfJckcP27oHnX8iCzZNjdiq2b7QYwQ+\n",
              "OGLDUHG/VYX2XLeoGkR78xZgUjkoIlC+UZCZLQ5WRb/+wsrxGOdLmYLw8f7HH0O7piGTerDJmVuZ\n",
              "nvV8vXSNqGyFiV9/N17Rtr33tgTwTHhI+S5ApQ0CsqTrYYM5edxDC9UVfLwJll7/mWeCJVkymXhg\n",
              "nx2F0VGL8bxWuysSsC/hX+9Rc4vwmBfywz15yiepzA27mQHHfwI1Me4zl41GPAzSZLXudyDTY27L\n",
              "sjfxJQsaZgkVaBnY5dKd94FlAxM0u8Yz2RUhJeRpzcjqhEQAHcBpM9VM/0rYW+Wj4KTaAAY1EAnn\n",
              "AC0qoG/i7HFhAAABTwGft2pCvwBFZB+f9Km+W/FetK5IANwl7uyxZmZ+K9kKofOIhWNsXQ5nY653\n",
              "AIGm8UZy1D6MQaQcJFiJ2zcXSCjCKDAxWi1cd3DTihPGevpz49sxOJJ6g4xam8pZo7XM4k65aPkg\n",
              "UMyvnEQslk2WSuHw4RVQQpEfLOucK3ep/e8gNsbH0xQCUkBIXVE0KzojAHlztA7HMOqnluVgJJ0N\n",
              "lo12xU6B4DrvZjJqH48fryeEZJ+SFpYedMa31izfY4EJQXNMlUV0VazwcupC58HoKts8SDZRfnYr\n",
              "Uu8wt+JjtSFvwRVRiDDV0TmL8lob7a+cclYs5mPSTvsC5gZ/sxEOyFOSceBUKQGdEQOKfnHn3wha\n",
              "IAOwmthfiOL2Y8N/007tPQlynJGUFFbAsxE14AiZoFFpbW/zOoM5+t2zh3gShDNUiD3Wf+OAj23e\n",
              "WlQfpraZAAAEWm1vb3YAAABsbXZoZAAAAAAAAAAAAAAAAAAAA+gAAAPoAAEAAAEAAAAAAAAAAAAA\n",
              "AAABAAAAAAAAAAAAAAAAAAAAAQAAAAAAAAAAAAAAAAAAQAAAAAAAAAAAAAAAAAAAAAAAAAAAAAAA\n",
              "AAAAAAAAAAIAAAOEdHJhawAAAFx0a2hkAAAAAwAAAAAAAAAAAAAAAQAAAAAAAAPoAAAAAAAAAAAA\n",
              "AAAAAAAAAAABAAAAAAAAAAAAAAAAAAAAAQAAAAAAAAAAAAAAAAAAQAAAAAGwAAABIAAAAAAAJGVk\n",
              "dHMAAAAcZWxzdAAAAAAAAAABAAAD6AAABAAAAQAAAAAC/G1kaWEAAAAgbWRoZAAAAAAAAAAAAAAA\n",
              "AAAAMgAAADIAVcQAAAAAAC1oZGxyAAAAAAAAAAB2aWRlAAAAAAAAAAAAAAAAVmlkZW9IYW5kbGVy\n",
              "AAAAAqdtaW5mAAAAFHZtaGQAAAABAAAAAAAAAAAAAAAkZGluZgAAABxkcmVmAAAAAAAAAAEAAAAM\n",
              "dXJsIAAAAAEAAAJnc3RibAAAALNzdHNkAAAAAAAAAAEAAACjYXZjMQAAAAAAAAABAAAAAAAAAAAA\n",
              "AAAAAAAAAAGwASAASAAAAEgAAAAAAAAAAQAAAAAAAAAAAAAAAAAAAAAAAAAAAAAAAAAAAAAAAAAA\n",
              "ABj//wAAADFhdmNDAWQAFf/hABhnZAAVrNlBsJaEAAADAAQAAAMAyDxYtlgBAAZo6+PLIsAAAAAc\n",
              "dXVpZGtoQPJfJE/FujmlG88DI/MAAAAAAAAAGHN0dHMAAAAAAAAAAQAAABkAAAIAAAAAFHN0c3MA\n",
              "AAAAAAAAAQAAAAEAAADYY3R0cwAAAAAAAAAZAAAAAQAABAAAAAABAAAKAAAAAAEAAAQAAAAAAQAA\n",
              "AAAAAAABAAACAAAAAAEAAAoAAAAAAQAABAAAAAABAAAAAAAAAAEAAAIAAAAAAQAACgAAAAABAAAE\n",
              "AAAAAAEAAAAAAAAAAQAAAgAAAAABAAAKAAAAAAEAAAQAAAAAAQAAAAAAAAABAAACAAAAAAEAAAoA\n",
              "AAAAAQAABAAAAAABAAAAAAAAAAEAAAIAAAAAAQAACgAAAAABAAAEAAAAAAEAAAAAAAAAAQAAAgAA\n",
              "AAAcc3RzYwAAAAAAAAABAAAAAQAAABkAAAABAAAAeHN0c3oAAAAAAAAAAAAAABkAAAndAAADNQAA\n",
              "ARkAAADhAAABYgAAAiQAAAD6AAAA1gAAASUAAAGzAAABTgAAAeMAAAERAAABpAAAAOgAAADkAAAB\n",
              "owAAAUEAAAECAAABKQAAAVgAAAEiAAABEQAAAYgAAAFTAAAAFHN0Y28AAAAAAAAAAQAAACwAAABi\n",
              "dWR0YQAAAFptZXRhAAAAAAAAACFoZGxyAAAAAAAAAABtZGlyYXBwbAAAAAAAAAAAAAAAAC1pbHN0\n",
              "AAAAJal0b28AAAAdZGF0YQAAAAEAAAAATGF2ZjU3LjgzLjEwMA==\n",
              "\">\n",
              "  Your browser does not support the video tag.\n",
              "</video>"
            ],
            "text/plain": [
              "<IPython.core.display.HTML object>"
            ]
          },
          "metadata": {
            "tags": []
          },
          "execution_count": 26
        },
        {
          "output_type": "display_data",
          "data": {
            "image/png": "[encoded data removed]",
            "text/plain": [
              "<Figure size 432x288 with 1 Axes>"
            ]
          },
          "metadata": {
            "tags": [],
            "needs_background": "light"
          }
        }
      ]
    },
    {
      "cell_type": "markdown",
      "metadata": {
        "id": "GhFyzySNeT_e"
      },
      "source": [
        "# 2. Define the Network"
      ]
    },
    {
      "cell_type": "markdown",
      "metadata": {
        "collapsed": false,
        "pycharm": {
          "name": "#%% md\n"
        },
        "id": "_9rQYh28pkpo"
      },
      "source": [
        "The network is almost the same as for static MNIST in Tutorial 3. There are two differences now:\n",
        "\n",
        "1. It is a convolutional network\n",
        "2. The input is time-varying, so we mustt iterate through time time-dimension\n",
        "\n",
        "We can iterate through the time-dimension using the following line of code within the for-loop:\n",
        "\n",
        "`cur1 = self.fc1(x[step])`"
      ]
    },
    {
      "cell_type": "code",
      "metadata": {
        "id": "UR_v2qBJiWeD"
      },
      "source": [
        "class Net(nn.Module):\n",
        "    def __init__(self):\n",
        "        super().__init__()\n",
        "\n",
        "    # initialize layers\n",
        "        self.conv1 = nn.Conv2d(in_channels=1, out_channels=12, kernel_size=5, stride=1, padding=1)\n",
        "        self.lif1 = snn.Stein(alpha=alpha, beta=beta)\n",
        "        self.conv2 = nn.Conv2d(in_channels=12, out_channels=64, kernel_size=5, stride=1, padding=1)\n",
        "        self.lif2 = snn.Stein(alpha=alpha, beta=beta)\n",
        "        self.fc2 = nn.Linear(64*5*5, 10)\n",
        "        self.lif3 = snn.Stein(alpha=alpha, beta=beta)\n",
        "\n",
        "    def forward(self, x):\n",
        "        # Initialize LIF state variables and spike output tensors\n",
        "        spk1, syn1, mem1 = self.lif1.init_stein(batch_size, 12, 13, 13)\n",
        "        spk2, syn2, mem2 = self.lif1.init_stein(batch_size, 64, 5, 5)\n",
        "        spk3, syn3, mem3 = self.lif2.init_stein(batch_size, 10)\n",
        "\n",
        "        spk3_rec = []\n",
        "        mem3_rec = []\n",
        "\n",
        "        for step in range(num_steps):\n",
        "            cur1 = F.max_pool2d(self.conv1(x[step]), 2)\n",
        "            spk1, syn1, mem1 = self.lif1(cur1, syn1, mem1)\n",
        "            cur2 = F.max_pool2d(self.conv2(spk1), 2)\n",
        "            spk2, syn2, mem2 = self.lif2(cur2, syn2, mem2)\n",
        "            cur3 = self.fc2(spk2.view(batch_size, -1))\n",
        "            spk3, syn3, mem3 = self.lif3(cur3, syn3, mem3)\n",
        "\n",
        "            spk3_rec.append(spk3)\n",
        "            mem3_rec.append(mem3)\n",
        "\n",
        "        return torch.stack(spk3_rec, dim=0), torch.stack(mem3_rec, dim=0)\n",
        "\n",
        "net = Net().to(device)"
      ],
      "execution_count": 56,
      "outputs": []
    },
    {
      "cell_type": "markdown",
      "metadata": {
        "collapsed": false,
        "pycharm": {
          "name": "#%% md\n"
        },
        "id": "Amecv96lpkpq"
      },
      "source": [
        "# 3. Training\n",
        "We make a slight modification to our print-out functions to handle the new first dimension of the input:"
      ]
    },
    {
      "cell_type": "code",
      "metadata": {
        "pycharm": {
          "name": "#%%\n"
        },
        "id": "99FoyoB6pkpq"
      },
      "source": [
        "def print_batch_accuracy(data, targets, train=False):\n",
        "    output, _ = net(data)\n",
        "    _, idx = output.sum(dim=0).max(1)\n",
        "    acc = np.mean((targets == idx).detach().cpu().numpy())\n",
        "\n",
        "    if train:\n",
        "        print(f\"Train Set Accuracy: {acc}\")\n",
        "    else:\n",
        "        print(f\"Test Set Accuracy: {acc}\")\n",
        "\n",
        "def train_printer():\n",
        "    print(f\"Epoch {epoch}, Minibatch {minibatch_counter}\")\n",
        "    print(f\"Train Set Loss: {loss_hist[counter]}\")\n",
        "    print(f\"Test Set Loss: {test_loss_hist[counter]}\")\n",
        "    print_batch_accuracy(spike_data, spike_targets, train=True)\n",
        "    print_batch_accuracy(test_spike_data, test_spike_targets, train=False)\n",
        "    print(\"\\n\")\n"
      ],
      "execution_count": 57,
      "outputs": []
    },
    {
      "cell_type": "markdown",
      "metadata": {
        "collapsed": false,
        "pycharm": {
          "name": "#%% md\n"
        },
        "id": "dZBToyUvpkpq"
      },
      "source": [
        "## 7.1 Optimizer & Loss"
      ]
    },
    {
      "cell_type": "code",
      "metadata": {
        "pycharm": {
          "name": "#%%\n"
        },
        "id": "9FfeZSKCpkpr"
      },
      "source": [
        "optimizer = torch.optim.Adam(net.parameters(), lr=2e-4, betas=(0.9, 0.999))\n",
        "log_softmax_fn = nn.LogSoftmax(dim=-1)\n",
        "loss_fn = nn.NLLLoss()"
      ],
      "execution_count": 58,
      "outputs": []
    },
    {
      "cell_type": "markdown",
      "metadata": {
        "collapsed": false,
        "pycharm": {
          "name": "#%% md\n"
        },
        "id": "Py3T_wZBpkpr"
      },
      "source": [
        "## 7.2 Training Loop\n",
        "The training loop is almost identical to the static MNIST case, but we pass each minibatch through `spikegen.rate` before feeding it to the feedforward network."
      ]
    },
    {
      "cell_type": "code",
      "metadata": {
        "pycharm": {
          "name": "#%%\n"
        },
        "id": "S8TSoPK5pkpr",
        "outputId": "80effc64-c2ba-4cfe-fef2-440fbecaf7b9",
        "colab": {
          "base_uri": "https://localhost:8080/"
        }
      },
      "source": [
        "loss_hist = []\n",
        "test_loss_hist = []\n",
        "counter = 0\n",
        "\n",
        "# Outer training loop\n",
        "for epoch in range(3):\n",
        "    minibatch_counter = 0\n",
        "    data = iter(train_loader)\n",
        "\n",
        "    # Minibatch training loop\n",
        "    for data_it, targets_it in data:\n",
        "        data_it = data_it.to(device)\n",
        "        targets_it = targets_it.to(device)\n",
        "\n",
        "        # Spike generator\n",
        "        spike_data, spike_targets = spikegen.rate(data_it, targets_it, num_outputs=num_outputs, num_steps=num_steps)\n",
        "\n",
        "        # Forward pass\n",
        "        output, mem_rec = net(spike_data)\n",
        "        log_p_y = log_softmax_fn(mem_rec)\n",
        "        loss_val = torch.zeros((1), dtype=dtype, device=device)\n",
        "\n",
        "        # Sum loss over time steps to perform BPTT\n",
        "        for step in range(num_steps):\n",
        "          loss_val += loss_fn(log_p_y[step], targets_it)\n",
        "\n",
        "        # Gradient Calculation\n",
        "        optimizer.zero_grad()\n",
        "        loss_val.backward()\n",
        "        # nn.utils.clip_grad_norm_(net.parameters(), 1) \n",
        "\n",
        "        # Weight Update\n",
        "        optimizer.step()\n",
        "\n",
        "        # Store Loss history\n",
        "        loss_hist.append(loss_val.item())\n",
        "\n",
        "        # Test set\n",
        "        test_data = itertools.cycle(test_loader)\n",
        "        testdata_it, testtargets_it = next(test_data)\n",
        "        testdata_it = testdata_it.to(device)\n",
        "        testtargets_it = testtargets_it.to(device)\n",
        "\n",
        "        # Test set spike conversion\n",
        "        test_spike_data, test_spike_targets = spikegen.rate(testdata_it, testtargets_it, num_outputs=num_outputs,\n",
        "                                                            num_steps=num_steps)\n",
        "\n",
        "        # Test set forward pass\n",
        "        test_output, test_mem_rec = net(test_spike_data)\n",
        "\n",
        "        # Test set loss\n",
        "        log_p_ytest = log_softmax_fn(test_mem_rec)\n",
        "        log_p_ytest = log_p_ytest.sum(dim=0)\n",
        "        loss_val_test = loss_fn(log_p_ytest, test_spike_targets)\n",
        "        test_loss_hist.append(loss_val_test.item())\n",
        "\n",
        "        # Print test/train loss/accuracy\n",
        "        if counter % 50 == 0:\n",
        "            train_printer()\n",
        "        minibatch_counter += 1\n",
        "        counter += 1\n",
        "\n",
        "loss_hist_true_grad = loss_hist\n",
        "test_loss_hist_true_grad = test_loss_hist"
      ],
      "execution_count": 60,
      "outputs": [
        {
          "output_type": "stream",
          "text": [
            "Epoch 0, Minibatch 0\n",
            "Train Set Loss: 11.301261901855469\n",
            "Test Set Loss: 14.627947807312012\n",
            "Train Set Accuracy: 0.9765625\n",
            "Test Set Accuracy: 0.96875\n",
            "\n",
            "\n",
            "Epoch 0, Minibatch 50\n",
            "Train Set Loss: 13.425237655639648\n",
            "Test Set Loss: 14.421419143676758\n",
            "Train Set Accuracy: 0.9609375\n",
            "Test Set Accuracy: 0.9453125\n",
            "\n",
            "\n",
            "Epoch 0, Minibatch 100\n",
            "Train Set Loss: 14.891846656799316\n",
            "Test Set Loss: 14.88802433013916\n",
            "Train Set Accuracy: 0.953125\n",
            "Test Set Accuracy: 0.953125\n",
            "\n",
            "\n",
            "Epoch 0, Minibatch 150\n",
            "Train Set Loss: 13.654006004333496\n",
            "Test Set Loss: 12.920709609985352\n",
            "Train Set Accuracy: 0.9453125\n",
            "Test Set Accuracy: 0.96875\n",
            "\n",
            "\n",
            "Epoch 0, Minibatch 200\n",
            "Train Set Loss: 13.156482696533203\n",
            "Test Set Loss: 12.761216163635254\n",
            "Train Set Accuracy: 0.9609375\n",
            "Test Set Accuracy: 0.984375\n",
            "\n",
            "\n",
            "Epoch 0, Minibatch 250\n",
            "Train Set Loss: 14.670013427734375\n",
            "Test Set Loss: 15.403223991394043\n",
            "Train Set Accuracy: 0.96875\n",
            "Test Set Accuracy: 0.953125\n",
            "\n",
            "\n",
            "Epoch 0, Minibatch 300\n",
            "Train Set Loss: 13.002306938171387\n",
            "Test Set Loss: 11.96311092376709\n",
            "Train Set Accuracy: 0.9609375\n",
            "Test Set Accuracy: 0.953125\n",
            "\n",
            "\n",
            "Epoch 0, Minibatch 350\n",
            "Train Set Loss: 11.236406326293945\n",
            "Test Set Loss: 11.268077850341797\n",
            "Train Set Accuracy: 0.9765625\n",
            "Test Set Accuracy: 0.9765625\n",
            "\n",
            "\n",
            "Epoch 0, Minibatch 400\n",
            "Train Set Loss: 12.167532920837402\n",
            "Test Set Loss: 11.344855308532715\n",
            "Train Set Accuracy: 0.9765625\n",
            "Test Set Accuracy: 0.9921875\n",
            "\n",
            "\n",
            "Epoch 0, Minibatch 450\n",
            "Train Set Loss: 13.16458797454834\n",
            "Test Set Loss: 11.594895362854004\n",
            "Train Set Accuracy: 0.984375\n",
            "Test Set Accuracy: 0.9921875\n",
            "\n",
            "\n",
            "Epoch 1, Minibatch 32\n",
            "Train Set Loss: 11.561832427978516\n",
            "Test Set Loss: 11.083658218383789\n",
            "Train Set Accuracy: 0.96875\n",
            "Test Set Accuracy: 0.9375\n",
            "\n",
            "\n",
            "Epoch 1, Minibatch 82\n",
            "Train Set Loss: 11.891759872436523\n",
            "Test Set Loss: 11.608701705932617\n",
            "Train Set Accuracy: 0.9765625\n",
            "Test Set Accuracy: 0.9765625\n",
            "\n",
            "\n",
            "Epoch 1, Minibatch 132\n",
            "Train Set Loss: 11.906496047973633\n",
            "Test Set Loss: 12.05522346496582\n",
            "Train Set Accuracy: 0.9453125\n",
            "Test Set Accuracy: 0.9609375\n",
            "\n",
            "\n",
            "Epoch 1, Minibatch 182\n",
            "Train Set Loss: 10.702908515930176\n",
            "Test Set Loss: 12.525538444519043\n",
            "Train Set Accuracy: 1.0\n",
            "Test Set Accuracy: 0.9453125\n",
            "\n",
            "\n",
            "Epoch 1, Minibatch 232\n",
            "Train Set Loss: 11.832823753356934\n",
            "Test Set Loss: 11.552985191345215\n",
            "Train Set Accuracy: 0.96875\n",
            "Test Set Accuracy: 0.96875\n",
            "\n",
            "\n",
            "Epoch 1, Minibatch 282\n",
            "Train Set Loss: 15.066149711608887\n",
            "Test Set Loss: 12.333585739135742\n",
            "Train Set Accuracy: 0.9375\n",
            "Test Set Accuracy: 0.9609375\n",
            "\n",
            "\n",
            "Epoch 1, Minibatch 332\n",
            "Train Set Loss: 12.651686668395996\n",
            "Test Set Loss: 12.277665138244629\n",
            "Train Set Accuracy: 0.984375\n",
            "Test Set Accuracy: 0.9765625\n",
            "\n",
            "\n",
            "Epoch 1, Minibatch 382\n",
            "Train Set Loss: 10.515519142150879\n",
            "Test Set Loss: 13.786375999450684\n",
            "Train Set Accuracy: 0.9765625\n",
            "Test Set Accuracy: 0.9296875\n",
            "\n",
            "\n",
            "Epoch 1, Minibatch 432\n",
            "Train Set Loss: 12.21321964263916\n",
            "Test Set Loss: 11.456700325012207\n",
            "Train Set Accuracy: 0.9609375\n",
            "Test Set Accuracy: 0.9609375\n",
            "\n",
            "\n",
            "Epoch 2, Minibatch 14\n",
            "Train Set Loss: 11.860312461853027\n",
            "Test Set Loss: 10.238676071166992\n",
            "Train Set Accuracy: 0.9765625\n",
            "Test Set Accuracy: 0.984375\n",
            "\n",
            "\n",
            "Epoch 2, Minibatch 64\n",
            "Train Set Loss: 10.049654006958008\n",
            "Test Set Loss: 10.231924057006836\n",
            "Train Set Accuracy: 0.9921875\n",
            "Test Set Accuracy: 0.9765625\n",
            "\n",
            "\n",
            "Epoch 2, Minibatch 114\n",
            "Train Set Loss: 10.698883056640625\n",
            "Test Set Loss: 12.675691604614258\n",
            "Train Set Accuracy: 0.9921875\n",
            "Test Set Accuracy: 0.9453125\n",
            "\n",
            "\n",
            "Epoch 2, Minibatch 164\n",
            "Train Set Loss: 10.761274337768555\n",
            "Test Set Loss: 11.772906303405762\n",
            "Train Set Accuracy: 0.9765625\n",
            "Test Set Accuracy: 0.9609375\n",
            "\n",
            "\n",
            "Epoch 2, Minibatch 214\n",
            "Train Set Loss: 11.956202507019043\n",
            "Test Set Loss: 10.098207473754883\n",
            "Train Set Accuracy: 0.9609375\n",
            "Test Set Accuracy: 0.9921875\n",
            "\n",
            "\n",
            "Epoch 2, Minibatch 264\n",
            "Train Set Loss: 10.85997200012207\n",
            "Test Set Loss: 10.60654067993164\n",
            "Train Set Accuracy: 0.96875\n",
            "Test Set Accuracy: 0.9765625\n",
            "\n",
            "\n",
            "Epoch 2, Minibatch 314\n",
            "Train Set Loss: 12.452055931091309\n",
            "Test Set Loss: 11.245378494262695\n",
            "Train Set Accuracy: 0.9453125\n",
            "Test Set Accuracy: 0.984375\n",
            "\n",
            "\n",
            "Epoch 2, Minibatch 364\n",
            "Train Set Loss: 10.131871223449707\n",
            "Test Set Loss: 10.524502754211426\n",
            "Train Set Accuracy: 0.9765625\n",
            "Test Set Accuracy: 0.9765625\n",
            "\n",
            "\n",
            "Epoch 2, Minibatch 414\n",
            "Train Set Loss: 10.003369331359863\n",
            "Test Set Loss: 10.008986473083496\n",
            "Train Set Accuracy: 0.984375\n",
            "Test Set Accuracy: 0.984375\n",
            "\n",
            "\n",
            "Epoch 2, Minibatch 464\n",
            "Train Set Loss: 9.758200645446777\n",
            "Test Set Loss: 11.91890811920166\n",
            "Train Set Accuracy: 0.9921875\n",
            "Test Set Accuracy: 0.953125\n",
            "\n",
            "\n"
          ],
          "name": "stdout"
        }
      ]
    },
    {
      "cell_type": "markdown",
      "metadata": {
        "collapsed": false,
        "pycharm": {
          "name": "#%% md\n"
        },
        "id": "TBIXau4Zpkpl"
      },
      "source": [
        "Spiking MNIST complete."
      ]
    },
    {
      "cell_type": "code",
      "metadata": {
        "colab": {
          "base_uri": "https://localhost:8080/"
        },
        "id": "F5Rb4xHGndQh",
        "outputId": "aebf484f-dfc4-4e98-c8d5-682b9675c47d"
      },
      "source": [
        "total = 0\n",
        "correct = 0\n",
        "\n",
        "# drop_last switched to False to keep all samples\n",
        "test_loader = DataLoader(mnist_test, batch_size=batch_size, shuffle=True, drop_last=False)\n",
        "\n",
        "with torch.no_grad():\n",
        "  net.eval()\n",
        "  for data in test_loader:\n",
        "    data_it, targets_it = data\n",
        "    data_it = data_it.to(device)\n",
        "    targets_it = targets_it.to(device)\n",
        "\n",
        "    spike_data, spike_targets = spikegen.rate(data_it, targets_it, num_outputs=num_outputs, num_steps=num_steps)\n",
        "\n",
        "    # If current batch matches batch_size, just do the usual thing\n",
        "    if spike_data.size()[1] == batch_size:\n",
        "      spk_rec, _ = net(spike_data)\n",
        "\n",
        "    # If current batch does not match batch_size (i.e., is the final batch),\n",
        "    # modify batch_size in a temp variable and restore it at the end\n",
        "    else:\n",
        "      temp_bs = batch_size\n",
        "      batch_size = spike_data.size()[1]\n",
        "      spk_rec, _ = net(spike_data)\n",
        "      batch_size = temp_bs\n",
        "\n",
        "    _, predicted = spk_rec.sum(dim=0).max(1)\n",
        "    total += targets_it.size(0)\n",
        "    correct += (predicted == targets_it).sum().item()\n",
        "\n",
        "print(f\"Total correctly classified test set images: {correct}/{total}\")\n",
        "print(f\"Test Set Accuracy: {100 * correct / total}%\")"
      ],
      "execution_count": 71,
      "outputs": [
        {
          "output_type": "stream",
          "text": [
            "Total correctly classified test set images: 9748/10000\n",
            "Test Set Accuracy: 97.48%\n"
          ],
          "name": "stdout"
        }
      ]
    },
    {
      "cell_type": "code",
      "metadata": {
        "id": "S3ZjyTuupzqi",
        "outputId": "f91e78af-d55b-4cc1-e7a1-fef23a4ee7c0",
        "colab": {
          "base_uri": "https://localhost:8080/"
        }
      },
      "source": [
        "spk_rec.size()"
      ],
      "execution_count": 74,
      "outputs": [
        {
          "output_type": "execute_result",
          "data": {
            "text/plain": [
              "torch.Size([25, 16, 10])"
            ]
          },
          "metadata": {
            "tags": []
          },
          "execution_count": 74
        }
      ]
    },
    {
      "cell_type": "code",
      "metadata": {
        "id": "eVqAaH1Do2Y1",
        "outputId": "33851307-a54c-4309-9c28-b94d91eaa96f",
        "colab": {
          "base_uri": "https://localhost:8080/",
          "height": 974
        }
      },
      "source": [
        "from IPython.display import HTML\n",
        "\n",
        "fig, ax = plt.subplots(facecolor='w', figsize=(12, 7))\n",
        "labels=['0', '1', '2', '3', '4', '5', '6', '7', '8','9']\n",
        "spk_rec = spk_rec.squeeze(1).detach().cpu()\n",
        "\n",
        "#  Plot spike count histogram\n",
        "anim = splt.spike_count(spk_rec[:, 5], fig, ax, labels=labels, animate=True, interval=25, interpolate=10)\n",
        "HTML(anim.to_html5_video())\n",
        "# anim.save(\"spike_bar.gif\")"
      ],
      "execution_count": 85,
      "outputs": [
        {
          "output_type": "execute_result",
          "data": {
            "text/html": [
              "<video width=\"864\" height=\"504\" controls autoplay loop>\n",
              "  <source type=\"video/mp4\" src=\"data:video/mp4;base64,AAAAHGZ0eXBNNFYgAAACAGlzb21pc28yYXZjMQAAAAhmcmVlAABpD21kYXQAAAKuBgX//6rcRem9\n",
              "5tlIt5Ys2CDZI+7veDI2NCAtIGNvcmUgMTUyIHIyODU0IGU5YTU5MDMgLSBILjI2NC9NUEVHLTQg\n",
              "QVZDIGNvZGVjIC0gQ29weWxlZnQgMjAwMy0yMDE3IC0gaHR0cDovL3d3dy52aWRlb2xhbi5vcmcv\n",
              "eDI2NC5odG1sIC0gb3B0aW9uczogY2FiYWM9MSByZWY9MyBkZWJsb2NrPTE6MDowIGFuYWx5c2U9\n",
              "MHgzOjB4MTEzIG1lPWhleCBzdWJtZT03IHBzeT0xIHBzeV9yZD0xLjAwOjAuMDAgbWl4ZWRfcmVm\n",
              "PTEgbWVfcmFuZ2U9MTYgY2hyb21hX21lPTEgdHJlbGxpcz0xIDh4OGRjdD0xIGNxbT0wIGRlYWR6\n",
              "b25lPTIxLDExIGZhc3RfcHNraXA9MSBjaHJvbWFfcXBfb2Zmc2V0PS0yIHRocmVhZHM9MyBsb29r\n",
              "YWhlYWRfdGhyZWFkcz0xIHNsaWNlZF90aHJlYWRzPTAgbnI9MCBkZWNpbWF0ZT0xIGludGVybGFj\n",
              "ZWQ9MCBibHVyYXlfY29tcGF0PTAgY29uc3RyYWluZWRfaW50cmE9MCBiZnJhbWVzPTMgYl9weXJh\n",
              "bWlkPTIgYl9hZGFwdD0xIGJfYmlhcz0wIGRpcmVjdD0xIHdlaWdodGI9MSBvcGVuX2dvcD0wIHdl\n",
              "aWdodHA9MiBrZXlpbnQ9MjUwIGtleWludF9taW49MjUgc2NlbmVjdXQ9NDAgaW50cmFfcmVmcmVz\n",
              "aD0wIHJjX2xvb2thaGVhZD00MCByYz1jcmYgbWJ0cmVlPTEgY3JmPTIzLjAgcWNvbXA9MC42MCBx\n",
              "cG1pbj0wIHFwbWF4PTY5IHFwc3RlcD00IGlwX3JhdGlvPTEuNDAgYXE9MToxLjAwAIAAAAwcZYiE\n",
              "ADP//vbsvgU1/Z/QlxEsxdpKcD4qpICAdzTAAAADAAADAAADAAChIqB7aCCkyPQAAAMAAT8OegYQ\n",
              "OvgdYwAH1fyPL3Zqi9qJCJZ+ku7xvq2GkYn6LlLr+8rK6nH/Vyl1zBid0m7jwdOa0KZ+dC3rfwtU\n",
              "fkQSnACThlSxHNUF8ej2PV0JuTNybSBS64rwYfiTQhNjayA0o7F+CUaestfnWGXL5MBlTFzb7MLQ\n",
              "45RdZHGSlUvDSyrS3QGBEgT58kjuh98NM1cZ9XvJbsyUuY5fjjjt/tYsVVEQz7PqU902nsZ4W/uL\n",
              "MCx6yLwajVAS0nDX1mSQ63J6Ium5Byi1QzVcrkN2Z6uUEBvc/c0aTul5j3PK5nmo7sWaNOacFv1l\n",
              "VqCyxeHZJ1K7HLGVignQFCtAUILUhDavvBR3Y65hmsV2bjuZN+5f0TNAYeupiLIq4B5jg7E/pB93\n",
              "E8fQI4sUGfbRbYZnC/Zl4EZ/Y+UmtLqY5mu8mEqxcwUvyP6fUjJcfher/P0+aHWtSdqnunZedfqS\n",
              "KGN0/EDqfY0LAJhTq0f+yi1XH/+1QZm/H6aSxz/gKG+mYjz4AM1A2asPnDR2xXEP0P3hlLHG1RiW\n",
              "pe0rl0bwlXnGmueJ7AQHl4ZeCWrMttIrZBaroXHUCXI1kjhUOIR6Ra/2iuSqpNB5nol2XA2/pro7\n",
              "qLdhUoSD5ZuAyZo9bOLqZgm9gFDoB4Fu2o/LPdoYacQ+6pKoMDC2s1DXiiqFpCDdXs7gPGPu6Hxo\n",
              "pApvmTmJ095BffMI6C8h6QfnrmGSkf0KwVjTYjSHBZNqCZejZLq0cmVbVdgjMBWab1u+ARq4VYQF\n",
              "sa2TTvJ946sMSbVrTQxOp7tjVb7KyqapESLACaBx2TDdGvqvFBH66ag1UbcWyH5qR7VU1ZbLe/L3\n",
              "8cL4dS7MIFKZ6C0CidufcoePpLgA4r5+ijn/L8ttHFJCs6yL+o6k01FeSVj3N3UpQWADrAs+H3Rw\n",
              "VqgdGJTJXa4Y9LJIvI88hUK3w/Z+E/XavpWZscHlKNvm1IyAWVSlzvZldE1a982cI4I5uMHvMeMb\n",
              "gdG5c2K43etdYvpbjp8YQCDhT848rAhwzb3Rw0P4ryBY5VqYJwTteIFnvxgfT+sDdnEfGInTX++8\n",
              "t6f4iAKO8mNNAOLbPR2wCnfpR5qE+YWCMhSQoD1aiFRhHSlFoEYoAwajsblzPigVG6C+vs6NYxf1\n",
              "0+C0fJsGyGhVSYC9dsllUcXy0AJamRY6yUQvSW+jfPJ8RQd4MgmBonl3NfeEzd/Ibi82DFHOB2Hx\n",
              "V4kjTFMHfzi5bx0WUzESFt8FeHJxbMcRab8Db6wvIf0Qx72PJHb1QgIzN19uVkNb7xSyC/CbJOrB\n",
              "cH1tbntLZyjplaUHLSsxbMRuYZ7AIjY7lbXf2zGgHCMsj9Rbhyk05pW2Kh+JoQ4yPp19HcNMyBV8\n",
              "GRZ/GYuAqh7vEfGpKAkNyqBszDs8asEcsRh3DKpO/HG7SdBpDGU6KQuGwaV9nVJbpIgMbcFByLvA\n",
              "3+yALyphwSlvf3VUD9sgN+Ft6XQ0LlgYi71Sh7qrSuH8rJtn3HOoI5SdT1cbBl4NaPDcMW7Avi8e\n",
              "COSxxaMGwozrxjqGRK2VumJJwP6+y0y7HkKtrsxyu2qJ+Y/d8DGX7Lip6IS9RLKFF5n5+EABhmtv\n",
              "18vrYzL9bvnYZWUpg7wNa3U7m6OM2j9QeTK5/FqkZFAvE4rPaP/GN8mAr4sPbs7+9BxuJtd2WyrZ\n",
              "TfyCOBvuxlkUZcYFKU4Ce1SkmWnbzmIeBnL4lpzu+WrkVmY9UoXlD7IK1Th4msJnlFtbU6F+SOPO\n",
              "cHaFCjMg0L7pheFwTX89bxDN6vqaMwr+gGY60kymXVEhtL8I3+ViUH3jxsziZR/tNkAUPzQTeGGX\n",
              "SHj0GlDyDij9rsnxRQWNBVPSe6mlJ2CpCF1+yJXU6prI5+LWVBTCdpIhyFAD1Dx9V//O/PDI2+FW\n",
              "5pDyFz0QAV7SYufBnB6TXk86TVaB2Izppmm6dNbz55xfiXSChoepNbsdKkebTig92f10jObB+nqV\n",
              "WL47ReyU6PA3eAkIZWDivuF0y4KxLvUnCacydrP7gZEtzaB/m7IQLBe8B8+0oDmKNH4Veqo1vfqe\n",
              "WTcRESmM3A3GZSZ6Jrmr6uNkhpvhvz/Yh5pN6h9Z4PpuLEqrQXyUhANGAhbHUm59i1DUtl4oV0mg\n",
              "0h7KjLogX8379LeuZyg+/OH9N6uoAAAeECnLO1jaDOADDD1oWkSCvnGI80AuQWNRo456TOgfx4t0\n",
              "zaLwwBd3yp+LRCGSID1kslAATUzgHJPJzf/l4FgDruzvRX9dHTiqTLBSRosamH9F8gnprm6vDwRe\n",
              "Dcwfc3hAJ05mRwKYSuDdBT8xPRGwdBLrEuTYniU57Al6bVT6FFf1FVRgKj6331zHySiHRjfrfgfq\n",
              "DFrEcxGA9UuRYLNNly29RdMOL/L4zucOAjBhvTVElnz3/OtQ1P+8MXJ+Y6r8T/8WxnPn2ex3JLAs\n",
              "v5YNEl1ddoHtFPG/wJHEx33BDVxPH9hceQFto/mEEjmnsHeg5/O1OMCfSIwgnDdr6a0eXiDnehnt\n",
              "L2IGitMCJqykI00LgqVFNnVnc/DZthSLLpxAKys6M5hk1W15KF8ci8Qoi9g3J6zVq6RN8UAMogQo\n",
              "BXTD2/h3Z4WHnLKEo1dIhP/aBpZl8hFbCeFcHcnPUcVfNfUmCfBELC1sfKRATef9PJOZNFFOxFGX\n",
              "yXIyje+gDUGGQwUEI+ysjYhXm8GXVZpXdZTxKlOLIW8NashNMrjADDGHgc7rdG2qcH1f3RzIHQB7\n",
              "zn/incJo38W/CjyyEMBsTkDdnT8oBhUAA86F2rSZ4zgs1+gkB1yAQw1Ysoyamb8UFqNGuTT+e7Sh\n",
              "zTiXYzRleliBli2VhMkicAiMX1m925bvvIi1pQro7w0zUedl63Dr9rdL5zeAi4cKBUerjxMAg0tb\n",
              "Ty20Df18WgVorHElywkrw0moZsZ1UA75mBbiSgD2ICOmQFE61/WHOrENDWTM1ILjwl+c5vHOZ/AW\n",
              "D8p6/iuHvJjahNASoIZF+vde11+EMXbOtKI62QC0TR4rrof+PK/dcTRusQ0/DBXVyTjXPmy3UQyi\n",
              "pZDMphJ/n9KKNXSgX1gphQHlO8/tdmTY1lPhIQCVnPBcFJAcyhTUkzTMkdLk4XyC9zw/v/ECZ87X\n",
              "5TDRZ7KucB26DfJSY68yVbDWxZf0hy/hCvEM/TLPN3pmULQYpu4giFekTOruw63blgz4wQ3RWviC\n",
              "HcupgsYZt9/aRgyi39qdit3XUlsn8y1EVWHt9lfK+B+Q+KCbEbR8LKacJ403ZLrcryhCT/5R0QYc\n",
              "Pip5qyhmDa6cP+OpfCEBM1Rlfbk52Bpa+ftbH+jDkJf1Q+sPaYZ1fIPOGkhDctKa6uOoK3mJ6akT\n",
              "8lJxnH2S5Y2cbz9CeATyGRvrhjnmbG08mbsS3U0Rcf/P9vrKHX37Wm2BwIn4/EVND3XqoLAXmC8Y\n",
              "E6Fv+xhXgKBFEGTzbx4GexTMS8zgACQAgQAv4ACvniMvPnNxBQFq2/eIPJbr7r5tBRpiDaJlGxjq\n",
              "utx5+pq+D1sVCkdYFoEakjqAQo8g/MWhuF4TfoGG29rtyUAktChmnPiXVwyNzOnC0eyv1XfnWl0H\n",
              "f88glC9Dv/IlYnicBeO9xmlXNWmY5NuMA8ULALKyDE5iWeG6C89K6NUE5SC6r9q5a73atRtO/lEB\n",
              "s+uDP84GtFEZDMq2xownOSYDfEaj0QUeNwbvis9TFU9QH2zcp8UIP+PD+f5BK2zdu+pQRT2BhtCn\n",
              "nURGRL8ay0IzpJkMnm5ZFehE0N+GfXIxFQocR97R/pdlUcJIT2YOpENcKI8O29+UaQ61v8U70akr\n",
              "Wls2TJsXlOaxh8jOMHw+bJjyW11Tmw6ybMNsld+jCXScbQ/9Gxx/TH5H/XDXcTOLFA6PWQCuXkJ+\n",
              "5g6pn2k1+agK76GCYHXIEygpiJfCWgEGMvoCBuavyfg3D9Cr7eksiVdF/XX79CWe5cirgpGXteMJ\n",
              "NNs/tjM/MiGBDtCa8e12UVOFnGOiuVXoHC39RhSxW96VNqiTNCghaU0lcdZ25nTL1NPC9Ulzkazj\n",
              "ZnTvIAAABOD6cAAVsvrXrrCMgQAAAtpBmiJsQz/+nhAAZPXPwNBEBjcal//v+BCwg/H3ohfwXzLg\n",
              "MssVRXTFIF54X/vKqMKiIF6q5/nrvC+o0YkKUzps0q3qD7aLIxgblw/+F8Mkl6/x8XUxbQxg7NRl\n",
              "JQPAt7N33/EgtAtvir1UfH7LefnQUdYYjDQqR2n7Z2/C1wjWV40poQ/d+CJGTV+pOv4ZywUbpBGW\n",
              "uLMI4obxbM64ZZPgavczld3tpJWdNuB5zpEMKSQUUtZ6oAqsURPU7v70UTr7A8mARH4l63R9tHaz\n",
              "UZbXJziZ+ezn51lYqGhxBkiwDHx9HH2WoKynK1arzZMhuaGWwyETScyPiKlx0abTLzMdh0s9dA0l\n",
              "lS/vbPuL5IO0O2d4ceJxREftvM//A/qCo3iAexAcPuVBZMjcirUS+BDkEsAjaM6qExMwcKqc7pQZ\n",
              "+e1e8Bc4vQsXjLJz3Fj1iju+B11jcG4een/dDdbXgmbKRWnFrFnSPR7mwnxp4ERV/yyvRuNdLwWT\n",
              "vu1jRiElwfYgsyQulSDHECG74baWIOdRgAMkaYaXV89STbSoIRq44713rqBpZv3fmCY1zs2NOKUF\n",
              "hhBr0IVMeE8H8YmiepezbTCUjc4Gh8l+mMQysqhxHjiLbI9jCAhoxM6etnd9YvOeX7YNBdiL7CMJ\n",
              "Lndk8kkGR1OmY52rQMZAjajIUbIBwpTHs6zwlhSB4CdicbJzjKR9P4H3RIQp9zEDSehJ0ywZSO1P\n",
              "TmXbRtLqE65Z0J69lv1oONEhJXuYnR/f8yXY571S4gPfxPcnP5ONXR5KWljL6eOxDJ7PeXtApXvm\n",
              "dQjb4wOSkQ11amJS86N8jvy31Iwk7WNVz004xqmqCER4cmT0jW+qOSAkYn7w/yWnOw75HMLMNDpC\n",
              "QnIM98FH2f24jAF0AlU+OGhXylrigTIoiVSRvGHzsH1IqtMRQSlLQ7pvVMunSL3NCCcUs0MTN/zI\n",
              "PJPpEqtAqkRgm8KSAAABvAGeQXkI/wAfty6iuQAONpr9uC4IFBTyK+/0VFC4zRi346c+lCnHPjHh\n",
              "onroHEloVjPYemWapCbuuECcgjQrtun+Vxpmue2NcrXqzSn7BSJovSF0b3N0KIOAtiojucJfLUZU\n",
              "YhV7efd2PZdhfsfpZFU7MOFpB8SMQ0UFDDD+XhSeA4nJSjjVa5i4QwSTg8vKwPgxatXSuCqjVLjX\n",
              "8UPN2CBR01mR4jIQWGAsTCyWwDQ6CHc8/548IP16h5KgWdqDSe7AvqMb07wJUSCFdqz7IPnr1Ywt\n",
              "C4BHWIyR3AppAKp+d0LKZ8YJBk/20LkVSSpzWz2JXCcWIXd8SnprK0vs5sGhvW7gH+T2d+9zhMX7\n",
              "9ySlYWjD+9iyfzawe7haRuTbZikt1t+uR7443X+kr0GHD0U1cIcMDlaRdeXLnBRomNL7O5GmO544\n",
              "4PmqS0lq9Nw2So27NXSapIjKKOW/xDLYNZ6xcH5/5ojxBF09wykfMvOzytnrNWIniefUQ9YwwJJr\n",
              "+KRoK12p+KSHuxbtsQNIbBsYHPz4Sr4Fc5SlunmabI1eb79LTUqVFQlI9UVWM17y+UETPiQBWCi8\n",
              "ZnwJuQAAANVBmkY8IZMphC///oywAGM1p8DWJABa27Dd1fhDNReSzWnDaDxy8/DG5E2sGanXMb6M\n",
              "6kG+GEG5o4j/tRhAnGIt92sOxBOw6CbithXHKHnrNjybaVWV1tN5duJVZKzbLgf3atgYAvn/Xc9L\n",
              "KedW9yUMzryxAaCpO49wJB1Am/o22J7Od39ggnUWv2d3u9qdFfngnJkEmK6Sti+sr/e8JBhPz2Xq\n",
              "TKivJrsq6B6Evtxq995aym2ECCueNvJ8vEPUGMS5ckyeuyBp43mN07otE6Szey8IJmAAAADVQZ5k\n",
              "alPCfwAaXy+xAANCGdDA5T31fZDn/K1LGLF+0ETmwRSqKmwotviec9Clz6pKBg9OPymy0b6hCZY9\n",
              "FGxWtHauaaO6O01QELx17vyOZiHojQIcPzZ0zyD//d1D99oPJviBq7ER+cyZD+Rb02M5Gd6fuvIF\n",
              "EYLVWRSIjit/2ph+oOLciq6lWMmhoTRcRlJd5MQDsPWFS1EXFwnMLw/R65QF3eovk7h8JNYu5Cg/\n",
              "jESiZeQQFOBm0PmPNrjIU55K3gWvQeHmG7TcppiGFXfVlAN4KcH/AAAA1AGeg3RCPwAfGE8IwA0I\n",
              "FWAwaFK0JgXO56bZ8lJjL94XzRIc5NqMSFD9fDtKnZ9cX9DveKfDc3q+87Femr0pxkzr8zUgYQV1\n",
              "/o6znh3wgbUAqT9IzXLZXXYBtUd2eDgmuszvOpeJ5EWKd+j0IYAorH+Ov7ljqdQPHY+ginmgrsg9\n",
              "d3GibKDZSU5WCaD4N5yn60VzfvlsjVhWHWQ+0DGUZhbpTztBSKAadQGGS/gDDMyoMhroeAN1etbe\n",
              "7BMASuj2gtvmL4tggBEcvyqtSGW6fxUK7DKPAAAAegGehWpCPwAfFzZJXJS70y1CFG2n50XtjmRs\n",
              "EzV+5lMjbLei8HMiAAXVu/3afVF+DDxykgdmVbGo8IRj6VWe2qJmd0j/CaxhAv8U8WW0KiHxRS6v\n",
              "CCKS3kggDi5fDtGtlYt7HCf2ZveesINKYmRAITq18718fOChD6KBAAABgkGaiEmoQWiZTBTwv/6M\n",
              "sABlL0uZckSuPQAhd4sYg1r8KfULN3Gg3YNKOM8H4wngjEsNO3oUmfrWNDpLOM1Vuf0qaUk0Y1qh\n",
              "CWLIIJz///XbzeXry6/rkvq3xjSZQ0EZkOTrgm7WuMppw8ZEfAfyOuP5k0B9hn9rwuVxzmX8QW95\n",
              "4lwKbR+x4zi26GhTmfPFBkt8aiBlzvpy0lIPHRdBu2KyMO7u80kRFJPpY/ihpeL6fjojfqtKMx+y\n",
              "dkPK7yKDgeuxCJ6m/2eJQkUQZ/Q5zGr2thMb4awVU+GQwFT7/+fp9uClj64slruQ6omE/gsjbm7J\n",
              "rqBY8vxrkl9lHNdiXRil0FvqSPAXTqlLGFWmxS8fU0hZA683GV0RBL7UqYZD+2mam4DC7RaFrt7y\n",
              "XvuBlg6nmdjGs+CDGucmpMEz839IOJT1RZSS46heyrWuvtmfs7jYZA1mgPOG0Y/QBNf1Ay8V4H+T\n",
              "4+wfo5eFqICKTZyZmVELiZHDBnbdc8pjQJUJu1JBAAAAgwGep2pCPwAfDPW5jCgLSgRXDAU/fuMB\n",
              "bsJp+o0/7Jd4wATZNbswCKqimAKMeW215jvlL7kVCkSzKX39orLkpq9oXz/lHb48s5t6rlHy+5BJ\n",
              "FwbrdWrhKmAhvANPQAFvSdtst1Bm1amdEV1U2gxZTthS2/s6MEOPDQaRJXL6tiZ2tnLwAAAAZUGa\n",
              "qUnhClJlMCGf/p4QAF9nzTuXm27KKPfxT2Z6dR53IfiDY45+AaM/v6gThTc2w+J7GE+sxlIRmrFR\n",
              "CuXd8Q6NliqJtNVXrQGjn17FWK8Re2i2Av5gLND/YP6trh3j4muypBhmAAAAPUGay0nhDomUwU0T\n",
              "DP/+nhAAX2fNO5ebbsl+MUWdHpVP+/+UfFdWwlIUkCT2QF+b91yl23b7TZtF+bNgm4EAAABEAZ7q\n",
              "akI/AB5c9gfFJEJFt1u0xagkIYWvgmpbmi1Kg17Q5iTWxMLn9g1d3L4bpysW0abMic7tTfkEJGXM\n",
              "LDbbPNf7wk4AAABUQZrvSeEPJlMCGf/+nhAAX/hLW5/n55occJxGgAvAPnqGO53uxZulEdk/N8NS\n",
              "MHh4ZyBiaOzG/tgU3DV4pJwgfw7sus5OqHDbWqfCKid3/GDXmKy4AAAAXEGfDUURPCf/ABnGgKII\n",
              "vrA0RRuhsyyElei7oi6k8Cndb1hJqIVlvUW97hyJMzDaefwYzLj3gkmd+f1jiIx0kELnwIIzUTfO\n",
              "Y5l8nyhO3mVwrYWqf95WZQe1bDVNAAAAWgGfLHRCPwAeaE8IwAz57am7EOMj0mC8DpnXLTdz9ODh\n",
              "iOy4DbHbSEjYwi2UZow5ql/sSPy95KI/9SGvc+U8mO9PE4KDamS8ja1x/emvIkuVqe0uMaKm4gsH\n",
              "4QAAAEEBny5qQj8AHl/1P1jR2dNRwu87v2/9F30iBexCGBNoBApTVFbLpjxyQtoQXzm3uNyEMYM0\n",
              "/sZvruFyVTwRGHRkswAAAEtBmzFJqEFomUwU8M/+nhAAXOuOVK79jv2GgAGVgYHPs5RX7TqtoJHd\n",
              "T3oYnbTfgRt9PnR9BgvKDIU5M45I2wBfcfL24WZGTQx/9oAAAABIAZ9QakI/AB2sP5AAECfUn/BX\n",
              "lWHz/cXkj71grrRUJXSdcuWAO+aTvxT6MSFLvEeQq8taSmxrqzuk5+H77nxx0h/IOA5wrpOBAAAA\n",
              "bEGbVUnhClJlMCGf/p4QAF15l0bnAwpWADirDuxf0Hp9sv6UiPk0CJxihL88OXbaLwFXdp0UIsxX\n",
              "yPV3LAOz6jt6ay3dXOSCFzDgr7w4t+3jR+9Yze61VhJwXXA0Scwy54iRUC8d6cAMNEIx8QAAAHZB\n",
              "n3NFNEwn/wAZJnxigAGfPGfvoJ05SBwB6R+zFVf+7kLZkAnaguW4Rz6EaTiskByvSwfgGbFvwLBw\n",
              "MgiSGwHkPYq+580p2QNw7RYJvMa1AD6LZkHqgoWbq0FmCpXRUdZ4oP29AqVf5uErqzYtjGIvn8ph\n",
              "46pgAAAAUQGfknRCPwAduOFucvxFEz0q70lHf3OfC5IfGhwhoJOY1CdNATKCvlsKCeyLx3yFolXx\n",
              "JHsS9M82V/uMQjF6pFtRIoSQmH9oARuJscdP5nUrYAAAAFUBn5RqQj8AHa/0y3JADRN8r7aJbnr6\n",
              "rZXP15ohOXoZ0XKZ70jBlB23LRG69Sm6+vWk1DXYscR5NQ10XzlxTNmNEMDtl0tnce9m/4wpAsNg\n",
              "pPoiCKtDAAAAOEGbl0moQWiZTBTwz/6eEABaq45UiOeztZyakdIkeRjBsnz2WMw2qVEC3RTBl8Uc\n",
              "TfYKntWuaQc3AAAAMwGftmpCPwAdDVZPAaL0AI/tBcwqAzGZ8fTf8CiX+ZPOXMgQ6W2iaZQJG0Ez\n",
              "z1ya5YC6MQAAAGpBm7tJ4QpSZTAhn/6eEABbOZdG5wMKVgA4qw7sX9B6fbL+lIj5NAicYoS/PDl2\n",
              "2i8BV3adFCLMV8j1dywDs+o7emst3Vzkghcw4K+8OLft40fvWM3utVYScF1wNEnMMueIkVAvHelX\n",
              "R35hAAAAf0Gf2UU0TCf/ABh/LYkAAz57VGInUprlJWYiJMVWAtPhn/resCMsKzzcdbcGLeEUgP8B\n",
              "R520GfuzEm9S5g9JJb0rBX+gsaoFrB3TfH5ODDfhzZxW/yHkBshsSZitJrazYPCL9+tXkn+WMyHm\n",
              "yZVXMFYmcEIuLZylv4Zoh/UZy8AAAABDAZ/4dEI/AB0I4W5y/E9qmKMAUWOHvviwBsftFdFjgiTr\n",
              "wkkWoMN+hlpK/q1VIk0BrvYcEweUBUSKXIJnNddxTQmkfQAAAFcBn/pqQj8AHP/j/TwngSWAEd+8\n",
              "UrY6cLtUuCOia8VyTLfBSWRzNrtX+XPNLzuOI+17XEfDUSgDiqrMOAX1S9949bbTj/tqCM7fxmyn\n",
              "gG+2yNCNC/U6tkAAAAA4QZv9SahBaJlMFPDP/p4QAFhrjlSI57O1nJqR0iR5GMGyfPZYzDapUQLd\n",
              "FMGXxRxN9gqe1YAF0EEAAAAzAZ4cakI/ABxdVk8BovQAj+0FzCoDMZnx9N/wKJf5k85cyBDpbaJp\n",
              "lAnLQTVDbFCVM3vRAAAAaUGaAUnhClJlMCGf/p4QAFj5l0bnAwpWADirDuxf0Hp9sv6UiPk0CJxi\n",
              "hL88OXbaLwFXdp0UIsxXyPV3LAOz6jt6ay3dXOSCFzDgr7w4t+3jR+9Yze61VhJwXXA0Scwy54iR\n",
              "UC8XUyfS2gAAAH9Bnj9FNEwn/wAX3y2JAAM+e1RiJ1Ka5SVmIiTFVgLT4Z/63rAjLCs83HW3Bi3h\n",
              "FID/AUedtBn7sxJvUuYPSSW9KwV/oLGqBawd03x+Tgw34c2cVv8h5AbIbEmYrSa2s2Dwi/frV5J/\n",
              "ljMh5smVVzhWIc7VjxbOU224jibyu5OAAAAAQgGeXnRCPwAcWOFucvxPapijAFFjh774sAbH7RXR\n",
              "Y4Ik68JJFqDDfoZaSv6tVSJNAa72HBMHlAVEilyCZz/XcWMImQAAAFYBnkBqQj8AHE/j/TwngSWA\n",
              "Ed+8UrY6cLtUuCOia8VyTLfBSWRzNrtX+XPNLzuOI+17XEfDUSgDiqrMOAX1S9949bbTj/tqCM7f\n",
              "xmyngG+2yWCNDNBlQAAAADhBmkNJqEFomUwU8M/+nhAAViuOVIjns7WcmpHSJHkYwbJ89ljMNqlR\n",
              "At0UwZfFHE32Cp7VgAXSQQAAADIBnmJqQj8AG61+WVmi9ACP7QXMKgMxmfH03/Aol/mTzlzIEOlt\n",
              "ommUCntBM89cmmsU7gAAAGlBmmdJ4QpSZTAhf/6MsABXeZcuIYZlAADi7AOhzOnpeCv6UiPk0CJw\n",
              "/XL0Cd3bCb5jbd/qXBcyUSOPifw3e1g/pnz93D5JSbPhJU+HvDCtO3kd4wg1rjPJ0ewxokjaW6mV\n",
              "LOyROPWSXcEAAAB7QZ6FRTRMJ/8AF0RViQADNivVuaa5SVm3GgGuBztL1Zx5SwIywrPNx1twYt4R\n",
              "SA/wFHnbQZ+7MSb1LmD0klvSsFf6CxqgWsHdN8fk4MN+HNnFb/IeQGyGxJmK0mtrNg8Iv361eSf5\n",
              "YSqlaDCv6L7xP1S6+JabuJBXTc5fAAAAQgGepHRCPwAbqcbo0eYntUxRgCixw998WANj9oroscES\n",
              "deEki1Bhv0MtJX9WqpEmgNd7DgmDygKiRS5BM6TruLGETQAAAFYBnqZqQj8AG6Jl/TwngSWAEd+8\n",
              "UrY6cLtUuCOia8VyTLfBSWRzNrtX+XPNLzuOI+17XEfDUSgDiqrMOAX1S9949bbTj/tqCM7fxmyn\n",
              "gG+2yfCNDNBlQQAAADhBmqlJqEFomUwU8M/+nhAAU+uOVIjns7WcmpHSJHkYwbJ89ljMNqlRAt0U\n",
              "wZfFHE32Cp7VgAXUwAAAADMBnshqQj8AGw1+WVmi9ACP7QXMKgMxmfH03/Aol/mTzlzIEOltommN\n",
              "A/zYGNze9wlUN70AAABUQZrMSeEKUmUwIX/+jLAAVTmXIFXs5HQBEe3pBe1EjUa5lR2WTNxUuYi/\n",
              "DA/vR/1w4VfFSS7HTEQ49D9ZkHJMPRkFlFu02tLzK8RtHeoTz+jtFhoJAAAAVUGe6kU0TCf/ABa0\n",
              "YDNK6f4HnP3VllVDJJgK3QQFIZJd7uv9yR/Mu9HceuvfoeCSe4uKU6Q1qA/3WY7M7TRQjUWP6wEy\n",
              "6uqpKcElMwH7Zx5IO+nye6AAAABbAZ8LakI/ABr/PnpAD7PHMIHJIt9qhaqfPwAfmotDBDNyNo1j\n",
              "/EykdXwjr4Ld2xSXi0MWxY6yuUVn9x3sj3XkkuJGpTgNJ1clgYEchH9IKbja92lz31YFePojgAAA\n",
              "AElBmw5JqEFomUwU8L/+jLAAUmodhuAGdnX466WL8pDDvPf2FgE9Ttrxh6k0DnSk5JiA97lTrCd0\n",
              "+aWo4XtxkLLyJa1VhJwISVNDAAAAPwGfLWpCPwAaX99GmLBCRbdbtMWoJCGFr4JqVk0nwNw59NYm\n",
              "4IBfzVj+9Clr/VauoztFE1U5B9x4LLW+I0lJwQAAADtBmzBJ4QpSZTBSwv/+jLAAUmo1WKAkeO9H\n",
              "LomAUxO8LZLD5XF9mPYylTJnbyxYeozYzPGCB5eyYt/TQwAAAE0Bn09qQj8AGmhllWAGbdeIa1gz\n",
              "HfycWsxTnjgCwzhs+wowFbHxQzhVaYPqAv9TQLETSEDNaEj1hnSHpQkK723bfz4xTGf1HSBtLCCW\n",
              "cAAAAIpBm1JJ4Q6JlMFEwr/+OEABP+TufsszYAOfkxkr94VJu1OumTqB9rBttZ1mlH2uoUK7r3S5\n",
              "pIe4USymkLL3Ju3/s2O3RRFLm/UbYz5LKd3eg6+GjGbe/8hau5/99aw4YmT8t5NzSctT/pFLEuDG\n",
              "hDVlF1/Gh0XCWGcSYoDwpPypsSMG53dV1dh0q6oAAABgAZ9xakI/ABpon0378kAIwK43+EM2zkTn\n",
              "2KyrCZuDHVCSPfwPxRb10KSmL8aYtfULjUa1m++1e4d0oyo5McDrOV8sTgcmJHxBhB8kXhJeqh8C\n",
              "Rfa6RLsfxRo/YIYFqHOBAAAAVkGbc0nhDyZTAhf//oywAFBTXgrbAFaTXYp7u2gpjdr8pDDvPf2F\n",
              "gE9Ttrxh6k0DnSk5JiA97lTrCd0+aWo4Xtxk1oPDaUb62eOPYPJqMxfyd+DmO76wAAAAR0GblEnh\n",
              "DyZTAhf//oywAFAq5zogCtJrsVSlj2CO89/YWAT1O2vGHqTQOdKTkmID3uVOsJ3T5pajhe3GQs3x\n",
              "NyZ+JGPNCBfMAAAAV0GbtUnhDyZTAhf//oywAFBUPOkTbAHJ0lUkrHOVCMtTEO3ykMO89/YWAT1O\n",
              "2vGHqTQOdKTkmID3uVOsJ3T5pajhe3GRD04FI68lM2Jh4bgcz8jORNoOywAAAFdBm9ZJ4Q8mUwIZ\n",
              "//6eEABRvU0d3NubxuZt3YtgOadif0t0hjj9AJb2veMNx31sKB7YcnMnylqVbTxi6oyL3NH3kQbp\n",
              "ysTQgz1iRXcIAaf1xk192YtldUAAAAA4QZv3SeEPJlMCGf/+nhAAT5keQKeX51TuNGpoeUwe1QKO\n",
              "fyXwqplKEz76ObkCsIuX773h63WnfWEAAACSQZobSeEPJlMCGf/+nhAAT5jPCjgrsP2tkcasU+Fv\n",
              "hm305ARCFhj7cRjvVyeV64YMavS+BBNYz0ec7+FFyioat8Yhk1U9dHRVUnsNw8fhikYCVGHtx3jL\n",
              "/ilPYeaXGkBIbFt2KqveEk0AO0NpWTVWZROyaABRuuTAeOExcRWA557P6cYA6Rbuuan6Dp7M9/oI\n",
              "amEAAABgQZ45RRE8J/8AFZZJDD/B37b/wArp1mDgKS6BhH6Vpg5wmxnGA8w8Sc1HUTLghrHSWhED\n",
              "32OQmdQx6yVPo+Vi0QXnyixZi02hr1xupoSuXtPsbvINvVxtazCXx4SHPdkCAAAAVQGeWHRCPwAZ\n",
              "v4vy8l/cuEADVi8UrY6cLtUtTSibLa5Fk9dxP8cWa63zaw9lZ4ReDBMGtz+muk8jl1InYugKpUpJ\n",
              "PFQWBNmWAhy1ajLDPAN9tllmLHcAAAA+AZ5aakI/ABkfPnpADOn+r/gs/67+rvp9fa26qAgjwExZ\n",
              "sJDJJAhM0uEFP92d08ZJ2MED4V8xhkE7al9oc8AAAACKQZpfSahBaJlMCGf//p4QAE2/amg6mWUu\n",
              "U38AYO3ACdN5y/NoTTjEjoyDs7kfiYwMZPj+WTX0iuRhOYMLXH1y6xj78NNdO3jaQLkxpgrHMJJO\n",
              "gd1SGbujb7F/JSBYawpoMWj7xDreX7J4xUjIqxJFGv5ovf1bN7jco2qf2jR67+skifbT41ZWKyvX\n",
              "AAAAWkGefUURLCf/ABUEYB2Xl3gRSuF7RLrJ/6KRvQYzQhAgvHc7VoxFxyrKWG8oPxkKNYCbow0w\n",
              "6vTY1X0Sw6fuuA2ru6odAK/VI4jaYlcWj0AdwstupZWrWLBYjQAAAEABnpx0Qj8AGR4K5iguZsjG\n",
              "/gFJQN/mp2jp8O7ZrHvH7B72sLqGcmlqKyTGIJcA0/dvLwmak48/pPfLaXkCAzA8AAAAMAGenmpC\n",
              "PwAZImTip0z9ZNBTcnVCuNF7+8rgrq9WEB4I3Cb+fBYww2QScK2+n4s/5wAAAE1BmoFJqEFsmUwU\n",
              "TDP//p4QAEtD6k3XnScgAcZ2IgR6VYPpD9LmHLrKju+D6h2rwh5G0DlCketpohSbOUFXsbSKavfO\n",
              "z4ZOXiWUxtTfgQAAAD4BnqBqQj8AGIifglEgptWcH20OpY6cjbGZYics/8L3s8HeZr6xzcTeuzU+\n",
              "bRU4GyfoNxQ68pfJqpdLFjr6YAAAAEtBmqVJ4QpSZTAhn/6eEABLvk8K2mrs0ADSlgLqUMvEr0eE\n",
              "u4Z6LMS524GCnsyAn2Phmma3rC3z8pshrzuXh/LOetIIyueE8fwE1IEAAAA4QZ7DRTRMJ/8AFHRg\n",
              "LblB2SqS3rZf2nHNkpxdPAnIcwrRsHEnFa/BI4M+lIn0e+kSehPF6/wof0wAAAA/AZ7idEI/ABh+\n",
              "CuYoLmbIxv4BSUDf5qdo6fDu2ax7x+we9rC6hnJpaiskxiCXANP3by8JmpOPP6T2UQ4Al/5xAAAA\n",
              "VAGe5GpCPwAYgmTip0PKUQANWLxStjpwu1S4I6JrxXJMt8FJZHM2u1f5c80vO44j7XtcR8NRKAOK\n",
              "qsw4BfVL33j1ttOP+2oIzt/G8wjAb7bNJkYEcQAAAK1BmudJqEFomUwU8M/+nhAASUPqTdw31yn2\n",
              "UO4RGTyMYNlCjEU4Bq+tTVxgCWYrkvaT6qfmU3iLUPlX1g1m8GsbP6x+tbJMrfzwXN4TG+/91ntU\n",
              "wcxs19F715f0iwJad1j8Ax0MzYK/FgS9MVIxsmrRaeglDPXiq9gM4irWEfLd0rXvhJVCguLFcURW\n",
              "XYr6JgWjw+FY4aJc1sw5msXiimnUepTHhDPAfeoHD0HsFwAAADEBnwZqQj8AF+ifgqD/SGIJc4wU\n",
              "axMOxQzg2G08GaWz/fLWl1U/M2DzDJUAWWJyJo3HAAAAd0GbC0nhClJlMCGf/p4QAEm+eyG2epge\n",
              "N9pYB8ihtgF6No533qJaO9znSq6hgFrPnNXGAJZiuQn9YRaERKCnZTef6SvdXuXbdjy5QuSs6eQE\n",
              "9HwLHMhLwx0mWUHg+dCBe159cxk5bs/a/zthjTPIqDI47mnEKNtAAAAAdUGfKUU0TCf/ABPkV41N\n",
              "+gAQKCHeFdXSQJG63sfEfHd9vSEcTVK9tD+Ef5DOymOyvHA1FqfvVPJHiy9xXVH/3/t7Kj8CzYtE\n",
              "1tyEcogeQ9i04fkdA7E61m9OUJki1QdmhIKd6CbT8akXYkT+VbIxaSDJumX0wAAAAFoBn0h0Qj8A\n",
              "F92vYxO4QygBVjPNMlBdm5Ija35mp+eMOkh/I7uAkgsEY4zNhbQLX77U2M3A0/Z2RYIP8c0piyU1\n",
              "Tga1ujS02R0+kTuLo66V5OGUQmWuYQJBqSEAAABCAZ9KakI/ABfidz9ZSKasVV5dPzDl5K1t8vG2\n",
              "FwJDYh5kU2o3gRqooTrMZquYWVWEfOP1S8b2/T7Xa6jEiG6VALaOAAAAUEGbTUmoQWiZTBTwz/6e\n",
              "EABHUPgFSC2h2S/GKLOj0qpTFpR/rBr+agJi3+q789KHq03nDXWgBJEr2RDOl94HqLWaAOZ7nauh\n",
              "ffFfR1KVveqgAAAAQAGfbGpCPwAXQp9GmLBCRbdbtMWoJCGFwlaWK7y9tStyf6YF0mzt614Z4hWm\n",
              "3SWATrCu8mFszBLUCqXiRfa4fJ0AAABUQZtxSeEKUmUwIZ/+nhAAR757IbZ6mB432lgHyKG2AXo2\n",
              "jnfeolo73OdC1AYxjY5iik3La29/ObFeuGIDi8Zu5NSIn3bLec/DsZIV9mpzdCHv3F2VAAAAdkGf\n",
              "j0U0TCf/ABNWl41N+gAQKCHeFdXSQJG63sfEfHd9vSEcTVK9tD+Ef5DOymOyvG1pPq1/otWu9YoK\n",
              "xAqIuhxiWmmSO7r1r7XcykXdUEs5pbjq4j0rq82EO82+gXjFNpCi6NNWbihjIORKZcdCjSsyKWCs\n",
              "qYEAAABaAZ+udEI/ABdMErA5bWTQAqxnmmSguzckUBSJueuG1PLjfMeBVSQWCMaFmutJG99ob+a0\n",
              "pUN/tX2A1yV4yKAZ2H8CpuYbdCg+LLDyeblbZhlEJhwkQCSpOtj4AAAARgGfsGpCPwAXRTc/WUim\n",
              "rFVeXT8w5eStbfLxthchACM8BD5Ql+7NlpRz+Lgcpvv5l+oFZsB5goQMcFOW+ra+TA1js6emedgA\n",
              "AAAxQZuzSahBaJlMFPDP/p4QAEVQ+AVILaHZL8Yos6PSqf9/4baB4/+5DThZ4b8UEZ5eVQAAADwB\n",
              "n9JqQj8AFrKfRpiwQkW3W7TFqCQhha+CalZNJ8DcOfTWJuCAX81Y/vQpa/1WrC2fz3HOrol2NFqa\n",
              "lO4AAABGQZvXSeEKUmUwIZ/+nhAARb57IbZ6mB432lgHyKG2AXo2jnfeolo73OYz2Z9EP9wT3kSx\n",
              "G1felWN2N/dyg0B21fX+M8jySAAAAGtBn/VFNEwn/wAS1peNTfoAECgh3hXV0kCRut7HxHx3fb0h\n",
              "HE1SvbQ/hH+QzspjsrwP+iHgC/eaRYjyQazkUZnd0in6g6G7lIG+0fwq/sAjdSrK8gbr1SWTOq6i\n",
              "rOAgeanxQoIkvXsZyFAUowAAAFkBnhR0Qj8AFrwSsDltZNACrGeaZKC7NyRQFIm564bU8uN8x4FV\n",
              "JBYIxoWa60kb32hv5rSlQ3+1fYDXJXjIoBnYfwKm5ht0KD4ssPJ5uVtmGUQmHDRAJTUvMAAAAEMB\n",
              "nhZqQj8AFrU3P1lIpqxVXl0/MOXkrW3y8bYXAkNiHmRTajeBGqihOsxmq5hZVYR84/VLxvb9Ptdr\n",
              "qMSI7pUAkcnvAAAAMUGaGUmoQWiZTBTwz/6eEABDUPgFSC2h2S/GKLOj0qn/f+G2geP/uQ04WeG/\n",
              "FBGeXn0AAAA/AZ44akI/ABYin0aYsEJFt1u0xagkIYWvgmpWTSfA3Dn01ibggF/NWP70KWv9Vq8N\n",
              "XyIw4KiEKGnnQWLNBlJwAAAAa0GaPUnhClJlMCF//oywAER+hCtjuNAJon1gNyHGi+fSv9jkblcL\n",
              "QoEF3X4Ak2Wgz8kRlfQGnpZAuvNb8mfpykhWrOvBKU2LmFauhkxb+Ic2SZNiQdiQotSC6SlE6fAd\n",
              "qmUf8RHJTl89iE+BAAAAcUGeW0U0TCf/ABJWl41N+gAQKCHeFdXW6K8D/32AaGS5OYCaYs9H6Iq8\n",
              "kLcs9MB8h5OmNvtH7zsXWVJUjGA8ULGVPqHO5dGd2toJItu+S2d0TpoXUOFuPSb4HR8oLPSjNPK8\n",
              "+ri7pm58JUHmzp39wCLgAAAAXwGeenRCPwAWIG9jFJOyaAFWM80yUF2bkiizQl6AcW7KSS5jwKqS\n",
              "CwRjn5pKA38JELHtP/XcW7vhYYiDijf2xO42WPoS45QommmfTXT5M9CvzzSl/DKH4O6BMQ0wfduB\n",
              "AAAAQwGefGpCPwAWJTc/WUimrFVeXT8w5eStbfLxthcCQ2IeZFNqN4EaqKE6zGarmFlVhHzj9UvG\n",
              "9v0+12uoxIk03q5fujEAAAAxQZp/SahBaJlMFPC//oywAEIQqlxlJ9GgRioYs5veeRrmZRdKl6zI\n",
              "qSINi+54LGr1IAAAADsBnp5qQj8AFZKfRpiwQkW3W7TFqCQhha+CalZNJ8DcOfTWJuCAX81Y/vQp\n",
              "a/1WrC2gz8X5rrklhEGgjAAAAGZBmoFJ4QpSZTBSwr/+OEAA/WNIM5QsAVpKunR1821crqzHj2Lf\n",
              "mk80V++Xel5iXmnCFifLg0Ni9fZZca2vIqRZYoQG/tBR2kDkiD7eFnVb/J0takCyVspjHOl3HBoa\n",
              "3sBr4pqDN0cAAABbAZ6gakI/ABWR/b/kNTeQA0Eh05XLlkHcEavRryfngN0kOq7hDqSAJW9jWa1d\n",
              "LEjbQBo0++n1AU0FHqPb0kmhsGFCd02pjmDYr+9WdOkrDOcyiD3A85eJhKTQIAAAAEJBmqJJ4Q6J\n",
              "lMCFf/44QAD++452wF36dcyKC/TxBBt1YzqrJ2ndyqvw6IkMXSeQ+K+526aQ+mv2Wv2pMDSuVi7D\n",
              "xysAAABKQZrDSeEPJlMCFf/+OEAA+FjfFxDK2gBCKwGSkt1l4a5a1X+s0AlCY5eEdOWfMoEjly0/\n",
              "qIZ6iLWKSMSN28gLlwja3b441ZL+KBgAAABrQZrkSeEPJlMCF//+jLAAQBCdhgwAXPpCwWM7v5SY\n",
              "o41cyp3Un7aoHy1HqeVaoTr5gB4//DaeWBYsB6V11AZ5HbXZcAKTbprHT7AeD8EvxDWJXRnxBee3\n",
              "jnzDWYDGLUNFJj6q52Fa6OF3m4EAAABnQZsFSeEPJlMCF//+jLAAQAD4l8AHFzlQ0Ga3grW5Aqx9\n",
              "5GiiRYix/mn1UgEU3gl65j6S5e4OhrO0oKTi+VxU/sFq0o3nULU3yVIirAHcb7evHhEzJUyrOo6I\n",
              "z8ZaKwRuxmfcmG0GfQAAAFpBmyZJ4Q8mUwIX//6MsABAAgiRgBz9JVJA4+frXkAPhpeSTjr34r1y\n",
              "YDuwpqEcUG4yGl1NDCmxX23+6tNyI7MLMF3VvNpqlJp55M3mWH5Nhm8UrDju31KXmUEAAABiQZtH\n",
              "SeEPJlMCF//+jLAAQAD4YMAo24CjXyN9MHwcJWv7jM8TJDbn9/RCrNNSyi5GYESEnbYxGK5EV5kN\n",
              "K2/Qeq8wZfdT540v40RSd928/su6PVZKyWDbzABHquVb72pb5lEAAABUQZtpSeEPJlMFETwv//6M\n",
              "sABAK+d/HPc6gVsl5DooXZw3MzRekhcL/Wzkv9t0r5HSWD2i8gL1rs+DVPXSgRAmBJD3peyfxwAF\n",
              "O5lFAx4D0+5H8jzKAAAAQAGfiGpCPwAVBSX9PA91xjWso22HfwMZY96olJiTbZ3/Lt+ZRp5SmN8Y\n",
              "n4e4q09ec5q30la+JAXd+tTWjklXjpgAAABGQZuLSeEPJlMFPC///oywAD5ck8mHfoL+w1IXMmBM\n",
              "JtB3CmnM8V534sfsC+sKeD0BS/6BJW4niHusA0+LSv6DmHKJKrIOIQAAADYBn6pqQj8AFHH+ekAP\n",
              "s8mQfc7VHKScs78c4YxzNC8o05NTT+ELHPMu5DajPTJ/NoieK/9oIeAAAABaQZutSeEPJlMFPC//\n",
              "/oywAD5cgyvhUAFYZSpP9xmdknfsE+3npe6RZL8491pEFbCFRtAa2sQznNxTbnukup5Y7W77H2FT\n",
              "WKYZaA14ghX2qNu6gu6lL5SNL0dfAAAASgGfzGpCPwAUe19wyZuCoABZZWvXKl6HecMn5NAP4p/o\n",
              "802VYhMVIL7+Kj/mOEpwbB7r5X9fIR/4htt8PIXwb4O9G2hA3EtmNxNxAAAAh0Gbz0nhDyZTBTwv\n",
              "//6MsAA+vCc/bMu3upJ4CqqbFny9qr3ftcA560PWg5wrMhJaME/kzzeVgE0LkU0c78dX502VpwhW\n",
              "nK1M8OU/1A5hx7u+PbldFRVGNGJutleE72EJxjWDoU84Fa/efe2rIn5BEzy8E4KX7MtUf/v3wN4c\n",
              "zGMgwyxN3/ebQQAAAFABn+5qQj8AFHUl/TwPdcY1rKNth38DGWPeqKhirH2KYMOKmaWPsK6QXjmD\n",
              "QUGjlVsonuiuJGKxpxveJtHGMLoGvvLTW2DGg5Et48pHOkanHQAAAEVBm/FJ4Q8mUwU8L//+jLAA\n",
              "PPyTyax7LHejl0TAKYneFslibYt4CNHaFiyrsBn4Emz4tdEDN5tnB49jYsr1bcM2FfzWZUwAAABQ\n",
              "AZ4QakI/ABPh/npAD7PJkH3EVYfILXkj71grrRUJXSdtaQYb3oGgoiBpFh8H4QF+EZxhHT1MCLDI\n",
              "db6cRx0UiiLb9gGayXkhFpqz4zQa5UwAAAA+QZoTSeEPJlMFPC///oywADz8gyfUO7n+/ol/9dUK\n",
              "Q56TW+jgpP47NOsKZcxR+E7jfRfO0LDUIw8aGHAII2cAAABEAZ4yakI/ABPrX3DJm3Y1txXPDvue\n",
              "UCouglpIa86GVXBMloO5A7vZEbmum+olnraZ9uqfVV75KBy80OxZd71Gu5mMRQwAAABNQZo1SeEP\n",
              "JlMFPC///oywAD1cJz9sy7e6+s0SCZ5Z8slIescO+s9ZgbQUuBnf263w0np+Eo9qe8qnrsr6AQBL\n",
              "4p0fZDm4ACncyzTMU/wAAAA/AZ5UakI/ABPlJf08D3XGNayjbYd/Axlj3qiUmJNtnf8u35lGnlKY\n",
              "3xifh7irT15zmrfSmc8G8NyXejkAMA2ZAAAAPkGaV0nhDyZTBTwv//6MsAA7nJPJrHssd6OXRMAp\n",
              "id4WyWHyuL7MexlKmTO3liw9RmxmeMEDzGMsNBqLeXk0AAAARAGedmpCPwATVb7awAz566g+4irD\n",
              "5Ba8kfesFdaKhK6TrlywB3zSd+KfRiQpd4jyFXlrSU2NdWd0ngwSM7dBm4KRyCdhAAAAzUGaeUnh\n",
              "DyZTBTwv//6MsAA7nIMn1Du5/v6Jf/XVCkOek1vo4KUO77jXxH4JEWpUDFoSkJ/LN1zI/Zl2+08L\n",
              "P5arBM/J5xBU5BDdwTW9iEUhE6nPsJXnZ5iJOeSl6+NdJOXrhkJd/qS5az5KtjtA6sBuWhLw5fB3\n",
              "WtNjAQ5KYLIojhtB5sKxT06aSuQRpEFu2a8yYaDxmhowsBhqDJw54Fp1OKFDmEEFDrw2ksRm+BD0\n",
              "ZSFwrfYuDPFcwkv/wL+TlLqp4UNDKSuUsgADIk8AAABOAZ6YakI/ABNdX3DJm3Y1txXPDvueUCou\n",
              "glpIa88lJo7zgdlAMG2VZC9m9iYVPgrvcOgUprzSOyIxnIw0WGg57U4Ftpcupabm3pgaECtgAAAA\n",
              "aUGam0nhDyZTBTwv//6MsAA7/Cc/bMu3uvrNEgmeWfLJSHrHDvrPWYG0FONblGP4DFn9QUXvTeeK\n",
              "tNZJoTOP5ugqTb8CjHnsXeqIVENtqC7duLi6NICjxh9c9vSSlaU6JW5mxm+JJUYVQQAAAE8Bnrpq\n",
              "Qj8AE1fxrrLthuMa1lG2w7+BjLHvVFR5Vj7IsGhMWcbxndK2IsJlcXjXf4W+Y0h9sL6q0s+fnSSr\n",
              "EpyxLjsxTx3nwju5GQc0KlTAAAAAREGavUnhDyZTBTwv//6MsAA6PJPJrHssd6OXRMApid4WyWJy\n",
              "C3SI0dvmLKuwGfgSbPi10QM3m2cHj2Niyq5QWaYqWmUHAAAAUAGe3GpCPwAS1b7awAz566g+4irD\n",
              "5Ba8kfesFdaKhK6TtvyB1Zgo5ZCIGkWHwfhAX4RnGEdPUwIsMh1vpxHHRSKItuK8Bag0Vc9OCIYe\n",
              "RuOnAAAAPkGa30nhDyZTBTwv//6MsAA6PIMn1Du5/v6Jf/XVCkOek1vo4KT+OzTrCmXMUfhO430X\n",
              "ztCw1CMPGhhwCCOOAAAARAGe/mpCPwAS3V9wyZt2NbcVzw77nlAqLoJaSGvOhlVwTJaDuQO72RG5\n",
              "rpvqJZ62mfbqn1Ve+SgcvNvsKt6iUdMZjEUMAAAAS0Ga4EnhDyZTAhf//oywADqcJz9sbt7r6yPP\n",
              "g/LPlkpD1jh31nrMDaClwM7+3W+Gk9PwlHtT3lU9dlfQCAJfFOj7IOV6PrhK+37MgQAAAEdBmwJJ\n",
              "4Q8mUwURPC///oywADjn2TphlnbmRsaF0L786zfcbe5ckZA2jTii6J9e9GPI11oPQ/8Hy9c69czv\n",
              "z+H2AAhR1bLe2gAAAEMBnyFqQj8AElYvA+KSISLbrdpi1BIQwuEzH2/vHB7GiiXGLfw/61LAZcqh\n",
              "3HvwCqHzstJt4BFNAG972dGAGqSNePmBAAAAPUGbJEnhDyZTBTwv//6MsAA43JPJrHssd6OXRMAp\n",
              "id4WyWHyuL7MexlKmTO3liw9RmxmeMEDy9kxbOZUHpgAAAAtAZ9DakI/ABJiPllZjb5IGGHFIYt4\n",
              "z/tdvDFW6dNyLP/PEhfCxixdL5gfAYNHAAAAYEGbRknhDyZTBTwv//6MsAA5PCc9zm8YATwQE3Ny\n",
              "6psX1e1sxhbmgrvBEqOO27y0u1Ra208nVuRzARH/4akWuLWD+zsDFe8/ICa1cHZg5bZn8POmBH4z\n",
              "mtmrWLl0lgitVQAAAGcBn2VqQj8AElW+O/FKAH4+t/9qT79lD2rCtFy8nsnqAAIAbXtojL8BBZeY\n",
              "SThEFCowcXwGzkO4Li7Mx38ChcI0k3hDptfs7VPspoJM+HCxXmox6t2masemVG4Ummvpbq8mkqbQ\n",
              "6QFBAAAATEGbaEnhDyZTBTwv//6MsAA3lH+km7vWzS4UApM2RbNWZ06p1cn/cvCA+fYhVB571IzX\n",
              "hoMpf0v8+529bCIO4gRWGcX38B8T75pj0qEAAABBAZ+HakI/ABHWLwrfPNPf4C9Q1vW50q5mLJY5\n",
              "bpQJ9hh6rKlYXhmVGbym+8WQF/hkLJaXPeXPmGkrctTh5Cd3jpgAAAA7QZuKSeEPJlMFPC///oyw\n",
              "ADeLGqxQEjx3o5dEwCmJ3hbJYfK4vsx7GUqZM7eWLD1GbGZ4wQPL2TFv6mYAAAAsAZ+pakI/ABHi\n",
              "PllZjb5IGGHFIYt4z/tdvDFW6dNyLP/PEhfEBUBDkIOGBbUAAAB3QZusSeEPJlMFPC///oywADfc\n",
              "Jz3ObxgBPBATc3LqmxfV7WzGFuaCu8ESo47bvLS7VFrbTydW5ucM0Xal8O8XNDpSCSibCIOL2k20\n",
              "A8vdPDIv1tZ2sc5/iyZ6fPVSpvTUr6u1xbxmr4pXv6aOkE58wuGM0hV3/EMAAABqAZ/LakI/ABHV\n",
              "vjvxSgB+Prf/ak+/ZQ9qwrRcvJ7J6gACAG17aIy/AQWXmEk4RBQqMHF8Bs5DuC4u3KXz1FIXkbIs\n",
              "Yqx3RG0OyvJv2tjPFkYl36M56QAmAHkNq/V9SNf8TC4axIrrVjgGBAAAAE1Bm85J4Q8mUwU8L//+\n",
              "jLAANlR/pJu71s0uFAKTNkWzVmdOqdXJ/3LwgR1g5hagZ1clri9jpGfb3tz6K6m9TEASOTCkGlDQ\n",
              "wv1hqSSo+QAAAEIBn+1qQj8AEVYvCt8809/gL1DW9bnSrmYsljnsQ+mA95j+iLPcv7b5RFFXM3dB\n",
              "0ugzjj6ocfEKOxsxfHPJLSVeRcEAAAA7QZvwSeEPJlMFPCv//jhAANKeQF4e9FxHa/Ylv4xO8LZL\n",
              "KZelRmjmIIzKpeyoWee0E1va5+5Aww1qCtEAAAAsAZ4PakI/ABFiPllZjb5IGGHFIYt4z/tdvDFW\n",
              "6dNyLP/PEhfFRUBbsIOGBbQAAAA9QZoRSeEPJlMCF//+jLAANktwgp5q57Ip1bl2th7ATcQe5a7I\n",
              "fHCdLHiU0oD9OFW91eUK0aEwGS8pJAj84AAAAF1BmjJJ4Q8mUwIX//6MsAA2nCdBe7wEAIFNybm5\n",
              "dU2d6wyEQNpzQV3giVHHbd5aXaotbaeTq3I5gIj/8NSLXFrB/Z2BivefkBNauDswctsz9M//dY5D\n",
              "PPKi/Blbj6UAAABMQZpTSeEPJlMCF//+jLAANTDcTa7b7l6GGJTmaKLhJjzuIS4mUEEzpLJIDHQA\n",
              "uGUxcIcO/UZ8Tdiq2oV7Q3Afiv1HBwCUDrkDNAUpOAAAAEZBmnRJ4Q8mUwIX//6MsAA1C3JZABHt\n",
              "yVD1/jDfFc9/YWAT1O2vGHqTQOdKTkmID3uVOsJ3T5pajhe3GQs3axlS+I0eZIOBAAAAX0GalUnh\n",
              "DyZTAhn//p4QADS2r1HoADpCf4MbllzytX4+hWzx797PndIY9EhS9V2Mj5wPBwJTM90E55fPt6Pa\n",
              "H+1UMlGf4clMi8JvgZyoejn6u/jOOyTOrO5YMPO+8V6zAAAAiUGat0nhDyZTBRE8M//+nhAANKu7\n",
              "NxARN2IrcVTGaW112PNptEhS50BCCAQSG3sRnIERvqmuJ6v1kpErTpaR6VgrQVWyZCRg1mianzPK\n",
              "4CRyrQgrFAHq71oQ0Cd4QaE6etZrsboz97CuGft7aQusAm72Q9i3O6XUOsyMCWAZYJjrO2cuXhow\n",
              "R4UoAAAAXgGe1mpCPwAQ3SWVYAaA5QLv7YXJ9y8ZUgC62gtiCxDpbYjHmHM7Qk0C2gKiOA0ZQPvh\n",
              "ztpIbnsuMTjFZ1Hcyqax2BnojSIHlxR280Tbm+pL8pyvl6LpTNrls+UABwUAAACOQZrbSeEPJlMC\n",
              "Gf/+nhAANLaw6XoCX3K/eBVI9ey8Pao2L2MbKTZ6ymEo8184hsSdbqDxqZ2invSXyrdRS6p3ch1t\n",
              "o4gnIjEghaJ5dBN1+dl+a3npWxysTH0BYN98CC/WRvMOlmoX7TvacIEcsMsYlm3ItRuJ58pUW9ZC\n",
              "/eB2hMXKqe6ci+Wp04dCt/B+YQAAAGBBnvlFETwn/wAOJ/8U+P4AqdlL2SCpmYs+uy3iSl1IktFR\n",
              "U0YOwWcTkaczYTkxY9ck+DiNwDRBI5r9QunjLPat8btq8xfY8/aoYuFHQxZ8CQH4Atom+dk3wA1Y\n",
              "7hbsUR8AAABWAZ8YdEI/ABDV53z8AAaPi8WZUBECvXpoAYjl9OBZWKjygLMD/jFqUWTAyqySsEGW\n",
              "Rv1LWRsTp2D1u9e2+V/spanFWn1Df5d+LVr/tXciX9p0/QaoQcEAAABAAZ8aakI/ABBdX4JRNPQA\n",
              "tpgTQD4t9w0QezqXfcCeE9uazHr1mytTm3BEwxTjHqbvPpEnbCCPrh7/Onm8dp1IwAAAAIRBmx9J\n",
              "qEFomUwIZ//+nhAAM78GpKUsAJamAbrWcK4NhQW97TK0cGI9/LboacjY+Mza5cZq1bK7ii0O3kYY\n",
              "DqDTKhkHCcTFkTbGqxFf6W8HyXhIcYtPbmWYhDH5MHri4MOlfoKswuoFDaA5uBrAH9H3ytL/pMYn\n",
              "Wr99GOcAmsKmg+a1W8kAAABiQZ89RREsJ/8ADdCXhh/hSNggCJrpAHNIGvB92RRQmUuVIwpUO8Kk\n",
              "RMKXkeumN0H/pdrIp86TWoLvrkTlqci2gOeDPaXrLt3fzVKnh6ts8toKwAHYTG+dNYX2DNI0pP7g\n",
              "I+EAAABaAZ9cdEI/ABBUnNJgBU1IXvaXBSdpMjXQsZ1W1vzs189IZtTAifVRJEMIytmbLkkk/2qD\n",
              "VPRKl/0fhGv+TLAK1DP0/ltN/jcWUGxZr+UljuWi03ejYptzK1kwAAAAPQGfXmpCPwAP45sh/aIm\n",
              "1ZwfbQ6ljpyNsaabpevwOkwbjKwriq5Ol5BRgUF+pfVXQ590O5lOJn9h0/9tqYAAAACDQZtBSahB\n",
              "bJlMFEwz//6eEAAyK72fEAJHq1zIN/RH3osqq3I4xXoEiXAP1O9Ta8YVJ1MPAHhN/Ih7W+SRJ30e\n",
              "YhHj5dV9qzsz0KjSH/Pp5NRWp9KQDXrI/rtDjv5DJwlOa75VAvSqSgAq626TFu35B5fTHXHCzV5y\n",
              "59MYPe40Sj2uzn0AAABQAZ9gakI/AA/eev6Kz4AWvx8WTubfC+MEVupzqzmxcqhbs+h5AXCa4Z12\n",
              "bHXPVfGzKQFY1/kj4+rjmctUZZMX3OVJPhLHPbOqYhyxI4sYBswAAABPQZtlSeEKUmUwIZ/+nhAA\n",
              "Mn7ziny3wlqCFY4C6lDLxK9HhLuGeizEuduULJloAp1lDDQT3VthJSZoxG5biifHv33S7A4CYMNb\n",
              "8mOHGxUekQAAAERBn4NFNEwn/wANgJwgVerckn/UIlglp8gj7FKt6E8j7PWQW+fBdt7lCajMhk2C\n",
              "ieEy/hnBEE/pFvn3stMdTQQlYpxBLwAAAFsBn6J0Qj8AD91VsYncIZQAs9HWzjFDGqPDRY3XvnjD\n",
              "pIfyO7gJILBGPumtJtBgqDIMNGx+HDue+q4tF6vKDW1gfvi6x6L5jpsOt7XIGXUQm4r6xzQOlCcy\n",
              "yx6RAAAAOQGfpGpCPwAPi5sh/aIm1ZwfbQ6ljpyNsaa3BZPo9MSkIOj3pR1ilMlT4x4LDS+/X/si\n",
              "bIZaPuY0zQAAADNBm6dJqEFomUwU8M/+nhAAMPPodnL2r+yX4xRZ0elVKtx/aCmTq+EqFkBS4bmb\n",
              "8nEJV8EAAAA+AZ/GakI/AA+GewPikiEi263aYtQSEMLhzI55irVY3GJ7NjgrNqukxtR8m3vThC/I\n",
              "ms6qMZlIhxPC7cUAI2EAAACxQZvLSeEKUmUwIZ/+nhAAMT8GobZ6mB432lgHyKG2AXo2jnfeolo7\n",
              "3OdEvQeEj9L6Ao0xaQje3yE2GwUsrrd+IGX4tSF8PAldAdb0YvRQXIj8PqI1ntkJbHNmtuiIoRyA\n",
              "+lkwrb9cZ0OCfHKo/tnJrsBC8ylwSWvezujcO2b69e0WC3InQkdI4onNmAcxylSaTIl3x3yboywT\n",
              "E2IP/8JzirVhSV2VI8bApgMb5M/ol+i8AAAAVkGf6UU0TCf/AA0wnCBV6pCom9utqGEoGG71nnvu\n",
              "aJabvv62dl3E9aNctGFG9/i7+UED7oJQ4l7ghLZ5jUhRko3hQCzjeVExi6OSGTOoPLlUbELSjAso\n",
              "AAAAWgGeCHRCPwAPjCcxnLayaAFno62cYoY1R+bugzuyNqeXG+Y8CqkgsEY5+eGESTLYCsBC7wJf\n",
              "2ZEWLF+uNKOskZU4pctwEXNitPw1i0V7/bAmtIGgdOwATXlw8QAAAD4BngpqQj8ADzObIf2iJtWc\n",
              "H20OpY6cjbGmNG1gqWbR1VRBWoOjyV88e8UoJdpyY5mBHd3IIqqGHfh002xYeAAAAGVBmg1JqEFo\n",
              "mUwU8M/+nhAAL6u9nxACR6tcyDf0R96LKqtyOMV6BIlwD9TBLzpCUtHfAJ33W3HJXfTr+sFwQY33\n",
              "kBQgeFYH/5mwB46laFKsNBH+pdMG+jU6HLnHSFMUHlSENjyzqQAAAEUBnixqQj8ADy56/orPgBa/\n",
              "HxZO5t8L4wRW6nOrB4tyyKxLyiD6lduDsuogbzJQnFTF9m/fFWRDcZYh8on7RgUxrYwAYMEAAABW\n",
              "QZoxSeEKUmUwIZ/+nhAAL/8GobZ6mB432lgHyKG2AXo2jnfeolo73OdDzrmEi31Ar3ozfhmdk+px\n",
              "G0zKk9jEOcXBSHnSX/K6nQHr/7piKzDdt++H26EAAAA7QZ5PRTRMJ/8ADOCcIFXq3JJ/1CJYJafI\n",
              "I+xSrehAIhxVb4JzxYW0mRuCKcLk76Kmekdc0LPe531AGBEAAABaAZ5udEI/AA8tVbGJ3CGUALPR\n",
              "1s4xQxqjw0WN1754w6SH8ju4CSCwRj7B9wRKV6IXLWzcDT9nZFgg/xzSmLJTVOBrW6NLTZHT6RO4\n",
              "ujJhkJrSBoHTiIPMycqAAAAAOAGecGpCPwAO25sh/aIm1ZwfbQ6ljpyNsaa1xeP1AANkmD4tp1gc\n",
              "TRjtrqYnyYLQ3l07PA99b2AgAAAAQkGac0moQWiZTBTwz/6eEAAufeh2cvav7JfjFFnR6VUonoQg\n",
              "JzH+UV70ZvwzN8SsHBxr1FLS85jAaoyhNQZp/iYDtQAAAD0BnpJqQj8ADtZ7A+KSISLbrdpi1BIQ\n",
              "wuHXSBshpewZihFNExNmYIdeHladrOXOn905pxQq1911i8KlgA2YAAAAakGal0nhClJlMCF//oyw\n",
              "AC8fHRuEdkAR2u1wQXd/Hai5mCIOSVE0D8YVeAClsv6fT3dSR14HuKHFljMA9OD3LnhHwOBj3Usd\n",
              "RhyIujxAJbVN5CHxkpir5SkZi1tsHZfuC492BWkZ4kR7a8AAAABXQZ61RTRMJ/8ADJCcIFXqkKib\n",
              "262oYSgYbvWee+5olpu/jslrOogbGen4xSnigvWZw2MQdvLSydZqmsngjVajt1SGzJ33LRL9cSE3\n",
              "GE+MGcJh0FZBagEfAAAAWAGe1HRCPwAO3CcxnLayaAFno62cYoY1R+bugzuyNqeXG+Y8CqkgsEY6\n",
              "SjnYwdJqwe2eaO3YBEMSvvK8hyHAIRYs/DcOg6KJRqJGtYIT3VDDYfVM7TVUIeAAAAA5AZ7WakI/\n",
              "AA6DmyH9oibVnB9tDqWOnI2xpzcE7zgoFtixN20c4pbI88MaCP0sv4/9H2xeT+SrJkEPAAAATEGa\n",
              "2UmoQWiZTBTwv/6MsAAttRqsNgS/+UTkC5kwJhNoO4U05nsd9Josh8fg+8yCLVlwffS6fa5Ve+HB\n",
              "iWuJ3ZTNHLZ2x9swrhtoQ4EAAABOAZ74akI/AA53/bvIJeEALZX09okDH1PwwynGp76QVnUHeUrk\n",
              "Ny23HEUnYcVVPL1Ud9LdSQLoAEAmsLXJJYJ668g2cA96UHWbSpk5uAN6AAAAXEGa+0nhClJlMFLC\n",
              "//6MsAAt/xy2YfQgCBvnFv5pRsqPO31Oejq+wXmS5QG4Z19XddOcy6uR3mcsw8yZzdmKSmuk7D8x\n",
              "DmiVY9HjtJBaluDSI/q60T8woM6AjXVhAAAATAGfGmpCPwAOg5sTHiCH7g6ei7Kuzowum0J1gUJD\n",
              "iOeIJr+3VDVaUGpMBiQUiXJ6iTQFxCFI9TkN+0Mh2WaHkK9HWVXPVluaYwe/IeEAAAAzQZsdSeEO\n",
              "iZTBRML//oywACyef6SYa9GgRioYs5veeRrmZRdKl6zIqSINi+54LBreCu21AAAASgGfPGpCPwAO\n",
              "JnsEncLEAKunvfP1/dJmg/VnVjwnvXmJYqGibhEqYIwG7BoUr+/1DVOqyHH5Qxn4bOkkqrZwn0pG\n",
              "YA+OGZSXxIbNAAAASkGbP0nhDyZTBTwv//6MsAAslRqfDie5/6EtyXrscZ4Kp581Nrk/eYlCl3v4\n",
              "y8P0yVYSdXx/LTMGUPw2/bRBMp+WBzbK9C9iKa/gAAAANgGfXmpCPwAOH/275RPXbENs43OY1ha/\n",
              "kCQwjLFaS/H2ZAD9RO6o8EEsyWAVJp7gddEWu2jC2gAAAGBBm0FJ4Q8mUwU8L//+jLAALN8ctmH0\n",
              "IAgb5xb+aUbKjzt9Tno6vsF5kuUBuGdfV3XTnMurkd5nLMPMmc3ZikprpOw/MQ5olWPR47SQWpbg\n",
              "0iP6u/XJ/Sr2osMLvgoofWcAAABTAZ9gakI/AA4rmxMeIIfuDp6Lsq7OjC6bQnWBQkOI54gmv7dU\n",
              "NVpQakwGJBSJcnqJNAXEIUj1OQ37QyHZZoeQr0dZV88QA2tJNJKwkwh/6EL14YsAAAAxQZtjSeEP\n",
              "JlMFPC///oywACt+f6SYa9GgRioYs5veeRrmZRdKl6zIqSINi+54LGsSQQAAAE4Bn4JqQj8ADc/v\n",
              "o/Y35ACrp73z9f3SZoP1Z1Y8J715iWKhom4RKmCMBuwaFK/v9Q1Tqshx+UMZ+GzpJKq2cJ9NmTB0\n",
              "PehLXAssabXwYbMAAABGQZuFSeEPJlMFPC///oywACt1Gqw2BL/5ROQLmTAmE2g7hTTmeK878WP2\n",
              "BfWFPB6Apf9AkrcTxD3WAafFpX9BzDlElVkRYQAAADQBn6RqQj8ADcohu+UT12xDbONzmNYWp48R\n",
              "uVtRsvxIiSd6LHnJLz3Ray4kls6LRKnGPCZhAAAAbEGbp0nhDyZTBTwr//44QACo/DWjQo9dADj4\n",
              "f3WS2v96iCP1olG/kEYccCLcbRk2mekDPbgDkWometiIMFnqKXaylUtm8qgkQ4YCmMR7bRQTa0aC\n",
              "n/DJEsfvv8ixCABSfqCyhNuuyFbG/8VdwQAAAFQBn8ZqQj8ADdRPuGOQQ/cHT0XZV2dGF02hOsCh\n",
              "IcRzxBNf26oarSg1JgMSCkS5PUSaAuIQpHqchv2hkOyzQ8hXo6yr54gBtOZ2Bys66Y1voQvXhi0A\n",
              "AABuQZvISeEPJlMCF//+jLAAKmmvBW2AG63vgzyNeXQ7fMVChHgKaki6EwDaTrI59YnqktI81md/\n",
              "jMGxM/LF7KRrQhy5AF53nH06u2tgeB2pjFYMs5bvrMxipXd+5xasIdfu9pHhAmbLxX2hD7K3N5AA\n",
              "AABMQZvpSeEPJlMCF//+jLAAKmogSM4AONvej58xUKfQJPeIfsJgG0nWRz6xPVJV2nB8VR5KBzSl\n",
              "QrWbXhtMpk6T/bSV6FZODCKAxmKD3QAAAFdBmgpJ4Q8mUwIX//6MsAAqYV/jyQAXUn/aj+aj9Xf9\n",
              "q/M1Trf3E4YRP1pMVvAenJVQVxE74BEITzj1KEIS8sEWd11xnW6T4hfAEwc/n0k0amJ9toRgSYEA\n",
              "AABQQZorSeEPJlMCGf/+nhAAKhFBNpwACdazQ2ghg/jN+fdk9VTYkg8AQRiIGsio61UHBJwsCSce\n",
              "okkirl+Ofnc0VV+DDhq83mrA8wriHSjjnHgAAABJQZpMSeEPJlMCGf/+nhAAKgyPMLNCKAAaN16G\n",
              "7J/qm2pCSAjDEsNlHR9CsNoTIZaijp8Z6Km+VTmrd6bnXAn7HWeNBahTIKscIAAAAH9BmnBJ4Q8m\n",
              "UwIZ//6eEAAqGuGWvOm3akAJpWHb6p4Kjn/qbLWGK+kbVT+pvH0Fzzuw2olavTZDuxL1oAgWrjf3\n",
              "1H6bZ4jOXQ+my5yr0cYhhIavS4AXB0D5HaJbRx4+z/1EK39XAOaQUv+PHzN7opJtCYs43Ar7IIyi\n",
              "1Pg17z49AAAAYEGejkURPCf/AAtbJIY2wAH+CFrtnzqRBdlVvQx4pR9IplvN88NCWi2vVbfBCbt7\n",
              "UlEe2L8tG4AI2Gz70Wzdp3Z3PW+8+bvgET0O4Kt1kJpTod17Yu9gorh6GOSrqtxBwQAAAFIBnq10\n",
              "Qj8ADX/F+XkvdkcAAuHys5CxizyAxycoxySMo4Yn8EdnR8grjEJtsk0HQ8O20jqNDzCNRF3Xak3u\n",
              "8LIaqQRP1rN4gvTV/nj5pdATbUyhAAAAPAGer2pCPwANL57sr7CWgBJcdwEOOr2PW0LkBWLK4ZZP\n",
              "Og+5V87JKdUbQB5UyvX3a2Cn9zIijXB/lCB58AAAANRBmrRJqEFomUwIZ//+nhAAKRzK2lrhsYuA\n",
              "FrcA94iYxt9sv6UiPk0CJxihL88OXbaLwFXdp0YHnK2lptJmQJb/WmZudIeU60BUksB032O34nwq\n",
              "POcNVLI156Ev1zgXrtX+krwZWVEs++aZidIcXAZINhNqI4dnGzQAGjFy0dtyQg7m4JiPEfe3h/77\n",
              "PgybLFcIUS5XGetIpa7Soboi9G1BNZaZ7N28khAimEYJmL4eNx+ZmmLuqgHqSFpTx/adlJlv+qI2\n",
              "uFL39eB7anpJ10trqsCDgAAAAFlBntJFESwn/wALFU0NZOs3FwvVtOSvR0VRHcq/bG2CS3iDHo3C\n",
              "nofu8voVA2URRzKtKQi38Tuub9Zio2ck/6BI/bCDyAvmVXvuXAmsA9j6l7Chy8WeFZZhCwAAADoB\n",
              "nvF0Qj8ADS8FgdEQGeiuRNril8lrjBJxw9IT6l6V65csAbNqJPi9lN9TkfIJnej/Wnf/eyOrKjcI\n",
              "AAAATQGe82pCPwANMTJxU4OifQAtmUzcXOAth2yeO+1ar3LHDBP7FNu2GIzLnDEB6B58EphusDVv\n",
              "6NfhkeERU+NSkNMsdZZtxlgU5AUrp3/8AAAATkGa9kmoQWyZTBRMM//+nhAAJ8oxBSx/NkQQAc2y\n",
              "w/hmosz1J5qmCGIKkyhjGGb1K4OHNgxQ9JOB6e5Qr32+wd1+fSIUyPS+/ahwTGjXFwAAAFEBnxVq\n",
              "Qj8ADN+fPSAIlcAN5tW/NHKAsaGMVDNvNlhH1eAVWiwSuWbmtXxNFTPfrMlMk4Kh3zQpy4U4WFS/\n",
              "OCzJjQhZJ0AM7roDJDg8l9sAFtAAAABvQZsaSeEKUmUwIZ/+nhAAJ/zLo3OBhSsAHFWHdi/oPT7Z\n",
              "f0pEfJoETjFCX54cu20XgKu7TooRZivkeruWAdn1Hb01lu6uckELmHBX3hxb9vGj96xm91qrCTgu\n",
              "uBok5hlzwtz/ATGUF1CtDvms0VZVAAAAM0GfOEU0TCf/AArNTswTxE+6DX3YkHXdvjxlkkgsX4Ol\n",
              "iYe9i1tzZzUHM0vZEjdFtwUi4QAAAFgBn1d0Qj8ADOSplWAGfPbU3YhwVi5PuRCWm+7NoMZBYkmQ\n",
              "4kfmHVoebrBtQQAKtYKWeuAHGwGSAOxijQJQedFAU9EdA2yORwRhim0/+A2UyjEs4ZtWhfCAAAAA\n",
              "PgGfWWpCPwAM4TJxU6IppX4ZZ79BB8szdUTtUF0mehds+onD/8//TVPHdg2pPRtIELH8A1h8lDzG\n",
              "KwMgKvhBAAAAmUGbXEmoQWiZTBTwz/6eEAAmqHwCpBbQ7JfjFFnR6VUonHj2TJCfgBt9WMWR13Ck\n",
              "FI8JNKloI/5Vci2m9dzHYm8ZaAw8mRd82CmdjDCAMFGJln5ngSMZaonZXcQ3KFwxJvVbIAXLe9v7\n",
              "mgjjFvMP4ARRMjypsXyWop0hd1sLEb8H1F6V7zKqs3oZJRtSEVecBNAyogbOKMm9wAAAAD4Bn3tq\n",
              "Qj8ADI/vo0xYISLbrdpi1BIQwuEzH2tBol4eqpT+L1f70x5uzIt+cfAQJdPPi0W2BXqI/u+gm6Wh\n",
              "ywAAAH1Bm2BJ4QpSZTAhn/6eEAAm3TeeJ1nk5ABpb1ZSMtsQJe1b0Q5tBxQkqlAD8s5NTs347Wvn\n",
              "O2NoNupnZcEF9C39oNLOaRRWwP+OMColWotSTBe6JUQxpHmen2b527CPbDb24WZdJGavua2fnoSd\n",
              "Jsn7nay4ao993SROQk9vaQAAADZBn55FNEwn/wAKhU7ME8RPug192JB13b48ZZdSGBIqxP2+5wKN\n",
              "6B9qOZdxp0A2HGmYmkVJAoIAAABaAZ+9dEI/AAyUqZVgBnz21N2IcFYuT7kQlpvuzaDGQWJJkOJH\n",
              "5h1aHm6wbZijboU5J8zZxTjzIV+OEPUw0vrW1nLk7ZdPRfjOHGpfhz5BRXt9NNBLOGbVgqBAAAAA\n",
              "PgGfv2pCPwAMkTufrKRTViqvLp+YcvJWtvl42wuP6ZFajg4lPevL3EjCCA7qfcRHpI4k3sDMjp8H\n",
              "Wb5dR0sDAAAAP0GbokmoQWiZTBTwz/6eEAAlqHwCpBbQ7JfjFFnR6VUonHn1g1j9QSGDS1Xbn3Z1\n",
              "c5pIQJuZIUuecL40NjsWYAAAADwBn8FqQj8ADD/vo0xYISLbrdpi1BIQwuCgiIomJJYh70DReRdL\n",
              "y13X5hxdWMU2XZNKXXyXlMm/NSMeBgUAAACMQZvGSeEKUmUwIZ/+nhAAJd03nidZ5OQAaW9WUjLb\n",
              "ECXtW9EObdv5Au5EoAflnJqdm/Ha1852xtBt1M7LdaOalFY3I0ePeb813VglO/R6EIhehPY69ttu\n",
              "9VS5xnRnh3Eyu2BV8NUmFLMEBM6Y/Vfs3wFej/ccYfSAPj8xENT3qywSPR6zbrhXpRgJt3AAAAA2\n",
              "QZ/kRTRMJ/8ACj1OzBPET7oNfdiQdd2+PGWXUfBnQ42rMaGegvZn/3ZQ/2WUI0RtAEiGUGBBAAAA\n",
              "WQGeA3RCPwAMRKmVYAZ89tTdiHBWLk+5EJab7s2gxkFiSZDiR+YdWh5usG2Yp9IS+wU1qeru46FV\n",
              "8Bu7m8QRl0w3dc8Zs8xIzRklg0WyUZf/pnOJZwzak6xZAAAAQAGeBWpCPwAMQTufrKRTViqvLp+Y\n",
              "cvJWtvl42wuQnfQk0JGbq2PWgJDV433aLum0M/vBkw0+0RqabB56fBxYixcAAAA0QZoISahBaJlM\n",
              "FPDP/p4QACSofAKkFtDsl+MUWdHpVP+/8NtA8f/chpws8N+KCNKfPxyTcQAAADgBnidqQj8AC+/v\n",
              "o0xYISLbrdpi1BIQwtfBNSsmk+BuHPprE3BAL+asf3oUtf6rVhbXMdHyWcfI+AAAAGdBmixJ4QpS\n",
              "ZTAhn/6eEAAk3TeeJ1nk5ABpb1ZSMtsQJe1b0Q5t2/kC7kSgB+Wcmp2b8drXznbG0G3Uzlyrc1Nj\n",
              "QPlj1PP+5+CkmmFugi7GrttFY0p0lq9CVG6UzO0kTkJdm58yaSfeAAAAMkGeSkU0TCf/AAn1TswT\n",
              "xE+6DX3YkHXdvjxlkkgsX4OliYe9i1tzZzUOs0jF8jdFcA35AAAAVwGeaXRCPwAL9KmVYAZ89tTd\n",
              "iHBWLk+5EJab7s2gxkFiSZDiR+YdWh5usG1BAAq1gpZ64AcbAZIA7GKNAlB50UBT0R0DbI5HBGGK\n",
              "bT/4DZTKMSzhm1aGAwAAAD0BnmtqQj8AC/E7n6ykU1Yqry6fmHLyVrb5eNsLgSGxDzIptRvAjVRQ\n",
              "nWYzVcwsqsI+cfql43t+niFe+77cAAAAMUGabkmoQWiZTBTwz/6eEAAjqHwCpBbQ7JfjFFnR6VT/\n",
              "v/DbQPH/3IacLPDfigjPMi0AAAA4AZ6NakI/AAuhT6NMWCEi263aYtQSEMLXwTUrJpPgbhz6axNw\n",
              "QC/mrH96FLX+q1YW14nR8lnHyPkAAACDQZqSSeEKUmUwIX/+jLAAJD03n+6rLFAA0U0A4Y1iSAAZ\n",
              "b1e2pizL3iyloWBBKHqAR1/x37c0GV16vLubuZ1USQtMyhP25xdyIdz4q+qqIgdVH485EXCBU8+K\n",
              "HVfTZjKnkW5NMKnTRmbYiwyz08StRNWOILz/xKMG0kRAJXWJhyQeCCEAAAA5QZ6wRTRMJ/8ACa5u\n",
              "zBPET7oNfdiQdd2+PGWXK2VoXMwH30Wp9xdvpXfX0p3s9AapLa+Kql+j4g7oAAAAXAGez3RCPwAL\n",
              "pgmVYAZ89tTdiHBWLk+5EJab7s2gxkFiSZDiR+YdWh5usG2beoOVxdwztLaNY5/2qa8dzE+snHGi\n",
              "EXtbN8mUDtwsEj+bKH8q9UqDfG7lTy4OKwJwAAAAPQGe0WpCPwALopufrKRTViqvLp+YcvJWtvl4\n",
              "2wuBIbEPMim1G8CNVFCdZjNVzCyqwj5x+qXje36eIV77vwUAAABKQZrUSahBaJlMFPC//oywACMA\n",
              "uwwYAOKq+r3xhviue/sLAJ6nbXjD1chs0yMQRH5FC989yp1hO6fNLUcL24yGB7p6QuPgmUmZKHwA\n",
              "AAAsAZ7zakI/AAtgHyysxt8kDDDikMW8Z/2u3hirdOm5Fn/niQvxU9emeMtALuAAAABfQZr4SeEK\n",
              "UmUwIT/98QABUeT7UYhJWmAK0ow6S3+MNhUET2JpZutrLwrjg7b8EGbUCsoFkTjW6DMs8Dq9HkUe\n",
              "CGzgtccgq/wIJTgFBKDMDaFmzDgVSMZJGVvZ5k5BrjkAAAA0QZ8WRTRMJ/8ACW/ISBsfngyIbJaY\n",
              "LUgQkZjhQxdkPRpcMWiET8b6JkDCYs1xqSnqWMBswAAAAFIBnzV0Qj8AC1g35AAEBPNk3YeY3gZn\n",
              "0EJab7h5AxPFiSZDhJIdFdh5virRXsMAoshB7BgcjAZAw+yKNklCp0TBT6R0TbJpHEmGIbUv4G8s\n",
              "9bCZAAAAUgGfN2pCPwALWptluSAGib5ZO+IfR993P4XEaoixY4jgTWdzlHW4H9hX2dMlS0ma8rjE\n",
              "COwymJYBDixp8CpIRRvyxSRoWvw1Gfmg7R3xPKSCUCEAAAAwQZs5SahBaJlMCEf//eEAAfskIQ6M\n",
              "RHPQmtxOnB3l3l8fn78nhXLpVA6DgoK3S5yzAAAOV21vb3YAAABsbXZoZAAAAAAAAAAAAAAAAAAA\n",
              "A+gAABhqAAEAAAEAAAAAAAAAAAAAAAABAAAAAAAAAAAAAAAAAAAAAQAAAAAAAAAAAAAAAAAAQAAA\n",
              "AAAAAAAAAAAAAAAAAAAAAAAAAAAAAAAAAAAAAAIAAA2BdHJhawAAAFx0a2hkAAAAAwAAAAAAAAAA\n",
              "AAAAAQAAAAAAABhqAAAAAAAAAAAAAAAAAAAAAAABAAAAAAAAAAAAAAAAAAAAAQAAAAAAAAAAAAAA\n",
              "AAAAQAAAAANgAAAB+AAAAAAAJGVkdHMAAAAcZWxzdAAAAAAAAAABAAAYagAAAgAAAQAAAAAM+W1k\n",
              "aWEAAAAgbWRoZAAAAAAAAAAAAAAAAAAAKAAAAPoAVcQAAAAAAC1oZGxyAAAAAAAAAAB2aWRlAAAA\n",
              "AAAAAAAAAAAAVmlkZW9IYW5kbGVyAAAADKRtaW5mAAAAFHZtaGQAAAABAAAAAAAAAAAAAAAkZGlu\n",
              "ZgAAABxkcmVmAAAAAAAAAAEAAAAMdXJsIAAAAAEAAAxkc3RibAAAALRzdHNkAAAAAAAAAAEAAACk\n",
              "YXZjMQAAAAAAAAABAAAAAAAAAAAAAAAAAAAAAANgAfgASAAAAEgAAAAAAAAAAQAAAAAAAAAAAAAA\n",
              "AAAAAAAAAAAAAAAAAAAAAAAAAAAAABj//wAAADJhdmNDAWQAH//hABlnZAAfrNlA2BB+WEAAAAMA\n",
              "QAAAFAPGDGWAAQAGaOvjyyLAAAAAHHV1aWRraEDyXyRPxbo5pRvPAyPzAAAAAAAAABhzdHRzAAAA\n",
              "AAAAAAEAAAD6AAABAAAAABRzdHNzAAAAAAAAAAEAAAABAAAHUGN0dHMAAAAAAAAA6AAAAAEAAAIA\n",
              "AAAAAQAAAwAAAAABAAABAAAAAAEAAAUAAAAAAQAAAgAAAAABAAAAAAAAAAEAAAEAAAAAAQAAAwAA\n",
              "AAABAAABAAAAAAEAAAIAAAAAAQAAAwAAAAABAAABAAAAAAEAAAUAAAAAAQAAAgAAAAABAAAAAAAA\n",
              "AAEAAAEAAAAAAQAAAwAAAAABAAABAAAAAAEAAAUAAAAAAQAAAgAAAAABAAAAAAAAAAEAAAEAAAAA\n",
              "AQAAAwAAAAABAAABAAAAAAEAAAUAAAAAAQAAAgAAAAABAAAAAAAAAAEAAAEAAAAAAQAAAwAAAAAB\n",
              "AAABAAAAAAEAAAUAAAAAAQAAAgAAAAABAAAAAAAAAAEAAAEAAAAAAQAAAwAAAAABAAABAAAAAAEA\n",
              "AAUAAAAAAQAAAgAAAAABAAAAAAAAAAEAAAEAAAAAAQAAAwAAAAABAAABAAAAAAEAAAQAAAAAAgAA\n",
              "AQAAAAABAAADAAAAAAEAAAEAAAAAAQAAAwAAAAABAAABAAAAAAEAAAMAAAAAAQAAAQAAAAAFAAAC\n",
              "AAAAAAEAAAUAAAAAAQAAAgAAAAABAAAAAAAAAAEAAAEAAAAAAQAABQAAAAABAAACAAAAAAEAAAAA\n",
              "AAAAAQAAAQAAAAABAAADAAAAAAEAAAEAAAAAAQAABQAAAAABAAACAAAAAAEAAAAAAAAAAQAAAQAA\n",
              "AAABAAADAAAAAAEAAAEAAAAAAQAABQAAAAABAAACAAAAAAEAAAAAAAAAAQAAAQAAAAABAAADAAAA\n",
              "AAEAAAEAAAAAAQAABQAAAAABAAACAAAAAAEAAAAAAAAAAQAAAQAAAAABAAADAAAAAAEAAAEAAAAA\n",
              "AQAABQAAAAABAAACAAAAAAEAAAAAAAAAAQAAAQAAAAABAAADAAAAAAEAAAEAAAAAAQAABQAAAAAB\n",
              "AAACAAAAAAEAAAAAAAAAAQAAAQAAAAABAAADAAAAAAEAAAEAAAAAAQAAAwAAAAABAAABAAAAAAYA\n",
              "AAIAAAAAAQAAAwAAAAABAAABAAAAAAEAAAMAAAAAAQAAAQAAAAABAAADAAAAAAEAAAEAAAAAAQAA\n",
              "AwAAAAABAAABAAAAAAEAAAMAAAAAAQAAAQAAAAABAAADAAAAAAEAAAEAAAAAAQAAAwAAAAABAAAB\n",
              "AAAAAAEAAAMAAAAAAQAAAQAAAAABAAADAAAAAAEAAAEAAAAAAQAAAwAAAAABAAABAAAAAAEAAAMA\n",
              "AAAAAQAAAQAAAAABAAADAAAAAAEAAAEAAAAAAQAAAgAAAAABAAADAAAAAAEAAAEAAAAAAQAAAwAA\n",
              "AAABAAABAAAAAAEAAAMAAAAAAQAAAQAAAAABAAADAAAAAAEAAAEAAAAAAQAAAwAAAAABAAABAAAA\n",
              "AAEAAAMAAAAAAQAAAQAAAAABAAADAAAAAAEAAAEAAAAAAQAAAwAAAAABAAABAAAAAAUAAAIAAAAA\n",
              "AQAAAwAAAAABAAABAAAAAAEAAAUAAAAAAQAAAgAAAAABAAAAAAAAAAEAAAEAAAAAAQAABQAAAAAB\n",
              "AAACAAAAAAEAAAAAAAAAAQAAAQAAAAABAAADAAAAAAEAAAEAAAAAAQAABQAAAAABAAACAAAAAAEA\n",
              "AAAAAAAAAQAAAQAAAAABAAADAAAAAAEAAAEAAAAAAQAABQAAAAABAAACAAAAAAEAAAAAAAAAAQAA\n",
              "AQAAAAABAAADAAAAAAEAAAEAAAAAAQAABQAAAAABAAACAAAAAAEAAAAAAAAAAQAAAQAAAAABAAAD\n",
              "AAAAAAEAAAEAAAAAAQAABQAAAAABAAACAAAAAAEAAAAAAAAAAQAAAQAAAAABAAADAAAAAAEAAAEA\n",
              "AAAAAQAAAwAAAAABAAABAAAAAAEAAAMAAAAAAQAAAQAAAAABAAADAAAAAAEAAAEAAAAAAQAAAwAA\n",
              "AAABAAABAAAAAAEAAAMAAAAAAQAAAQAAAAABAAADAAAAAAEAAAEAAAAAAQAAAwAAAAABAAABAAAA\n",
              "AAUAAAIAAAAAAQAABQAAAAABAAACAAAAAAEAAAAAAAAAAQAAAQAAAAABAAAFAAAAAAEAAAIAAAAA\n",
              "AQAAAAAAAAABAAABAAAAAAEAAAMAAAAAAQAAAQAAAAABAAAFAAAAAAEAAAIAAAAAAQAAAAAAAAAB\n",
              "AAABAAAAAAEAAAMAAAAAAQAAAQAAAAABAAAFAAAAAAEAAAIAAAAAAQAAAAAAAAABAAABAAAAAAEA\n",
              "AAMAAAAAAQAAAQAAAAABAAAFAAAAAAEAAAIAAAAAAQAAAAAAAAABAAABAAAAAAEAAAMAAAAAAQAA\n",
              "AQAAAAABAAAFAAAAAAEAAAIAAAAAAQAAAAAAAAABAAABAAAAAAEAAAMAAAAAAQAAAQAAAAABAAAF\n",
              "AAAAAAEAAAIAAAAAAQAAAAAAAAABAAABAAAAAAEAAAMAAAAAAQAAAQAAAAABAAAFAAAAAAEAAAIA\n",
              "AAAAAQAAAAAAAAABAAABAAAAAAEAAAIAAAAAHHN0c2MAAAAAAAAAAQAAAAEAAAD6AAAAAQAAA/xz\n",
              "dHN6AAAAAAAAAAAAAAD6AAAO0gAAAt4AAAHAAAAA2QAAANkAAADYAAAAfgAAAYYAAACHAAAAaQAA\n",
              "AEEAAABIAAAAWAAAAGAAAABeAAAARQAAAE8AAABMAAAAcAAAAHoAAABVAAAAWQAAADwAAAA3AAAA\n",
              "bgAAAIMAAABHAAAAWwAAADwAAAA3AAAAbQAAAIMAAABGAAAAWgAAADwAAAA2AAAAbQAAAH8AAABG\n",
              "AAAAWgAAADwAAAA3AAAAWAAAAFkAAABfAAAATQAAAEMAAAA/AAAAUQAAAI4AAABkAAAAWgAAAEsA\n",
              "AABbAAAAWwAAADwAAACWAAAAZAAAAFkAAABCAAAAjgAAAF4AAABEAAAANAAAAFEAAABCAAAATwAA\n",
              "ADwAAABDAAAAWAAAALEAAAA1AAAAewAAAHkAAABeAAAARgAAAFQAAABEAAAAWAAAAHoAAABeAAAA\n",
              "SgAAADUAAABAAAAASgAAAG8AAABdAAAARwAAADUAAABDAAAAbwAAAHUAAABjAAAARwAAADUAAAA/\n",
              "AAAAagAAAF8AAABGAAAATgAAAG8AAABrAAAAXgAAAGYAAABYAAAARAAAAEoAAAA6AAAAXgAAAE4A\n",
              "AACLAAAAVAAAAEkAAABUAAAAQgAAAEgAAABRAAAAQwAAAEIAAABIAAAA0QAAAFIAAABtAAAAUwAA\n",
              "AEgAAABUAAAAQgAAAEgAAABPAAAASwAAAEcAAABBAAAAMQAAAGQAAABrAAAAUAAAAEUAAAA/AAAA\n",
              "MAAAAHsAAABuAAAAUQAAAEYAAAA/AAAAMAAAAEEAAABhAAAAUAAAAEoAAABjAAAAjQAAAGIAAACS\n",
              "AAAAZAAAAFoAAABEAAAAiAAAAGYAAABeAAAAQQAAAIcAAABUAAAAUwAAAEgAAABfAAAAPQAAADcA\n",
              "AABCAAAAtQAAAFoAAABeAAAAQgAAAGkAAABJAAAAWgAAAD8AAABeAAAAPAAAAEYAAABBAAAAbgAA\n",
              "AFsAAABcAAAAPQAAAFAAAABSAAAAYAAAAFAAAAA3AAAATgAAAE4AAAA6AAAAZAAAAFcAAAA1AAAA\n",
              "UgAAAEoAAAA4AAAAcAAAAFgAAAByAAAAUAAAAFsAAABUAAAATQAAAIMAAABkAAAAVgAAAEAAAADY\n",
              "AAAAXQAAAD4AAABRAAAAUgAAAFUAAABzAAAANwAAAFwAAABCAAAAnQAAAEIAAACBAAAAOgAAAF4A\n",
              "AABCAAAAQwAAAEAAAACQAAAAOgAAAF0AAABEAAAAOAAAADwAAABrAAAANgAAAFsAAABBAAAANQAA\n",
              "ADwAAACHAAAAPQAAAGAAAABBAAAATgAAADAAAABjAAAAOAAAAFYAAABWAAAANAAAABRzdGNvAAAA\n",
              "AAAAAAEAAAAsAAAAYnVkdGEAAABabWV0YQAAAAAAAAAhaGRscgAAAAAAAAAAbWRpcmFwcGwAAAAA\n",
              "AAAAAAAAAAAtaWxzdAAAACWpdG9vAAAAHWRhdGEAAAABAAAAAExhdmY1Ny44My4xMDA=\n",
              "\">\n",
              "  Your browser does not support the video tag.\n",
              "</video>"
            ],
            "text/plain": [
              "<IPython.core.display.HTML object>"
            ]
          },
          "metadata": {
            "tags": []
          },
          "execution_count": 85
        },
        {
          "output_type": "display_data",
          "data": {
            "image/png": "[encoded data removed]",
            "text/plain": [
              "<Figure size 864x504 with 1 Axes>"
            ]
          },
          "metadata": {
            "tags": []
          }
        }
      ]
    },
    {
      "cell_type": "markdown",
      "metadata": {
        "id": "Taf6WZLojHTz"
      },
      "source": [
        "If this was your first time training an SNN, then congratulations!"
      ]
    },
    {
      "cell_type": "markdown",
      "metadata": {
        "collapsed": false,
        "pycharm": {
          "name": "#%% md\n"
        },
        "id": "HxU7P7xFpko3"
      },
      "source": [
        "# 6. Results\n",
        "## 6.1 Plot Training/Test Loss"
      ]
    },
    {
      "cell_type": "code",
      "metadata": {
        "pycharm": {
          "name": "#%%\n"
        },
        "id": "_Pk_EScnpkpj",
        "colab": {
          "base_uri": "https://localhost:8080/",
          "height": 334
        },
        "outputId": "2354b8af-fbbf-4f9f-8e67-a2db4ca1559b"
      },
      "source": [
        "# Plot Loss\n",
        "fig = plt.figure(facecolor=\"w\", figsize=(10, 5))\n",
        "plt.plot(loss_hist)\n",
        "plt.plot(test_loss_hist)\n",
        "plt.legend([\"Train Loss\", \"Test Loss\"])\n",
        "plt.xlabel(\"Minibatch\")\n",
        "plt.ylabel(\"Loss\")\n",
        "plt.show()"
      ],
      "execution_count": 86,
      "outputs": [
        {
          "output_type": "display_data",
          "data": {
            "image/png": "[encoded data removed]",
            "text/plain": [
              "<Figure size 720x360 with 1 Axes>"
            ]
          },
          "metadata": {
            "tags": []
          }
        }
      ]
    },
    {
      "cell_type": "markdown",
      "metadata": {
        "id": "g-Gd84OAl1rB"
      },
      "source": [
        "Taking a look at the training / test loss, the process is somewhat noisy. This could be a result of a variety of things: minibatch gradient descent is the obvious one, but the use of improper targets likely also contributes. By encouraging the correct class to fire at every time step, the loss function conflicts with the reset mechanism that tries to prevent this."
      ]
    },
    {
      "cell_type": "markdown",
      "metadata": {
        "collapsed": false,
        "pycharm": {
          "name": "#%% md\n"
        },
        "id": "Z3f0vBnBpkpk"
      },
      "source": [
        "## 6.2 Test Set Accuracy\n",
        "This function iterates over all minibatches to obtain a measure of accuracy over the full 10,000 samples in the test set."
      ]
    },
    {
      "cell_type": "markdown",
      "metadata": {
        "collapsed": false,
        "id": "nIboChZtpkps"
      },
      "source": [
        "## 8. Spiking MNIST Results\n",
        "### 8.1 Plot Training/Test Loss"
      ]
    },
    {
      "cell_type": "code",
      "metadata": {
        "pycharm": {
          "name": "#%%\n"
        },
        "id": "PdT9mBeqpkps"
      },
      "source": [
        "# Plot Loss\n",
        "fig = plt.figure(facecolor=\"w\", figsize=(10, 5))\n",
        "plt.plot(loss_hist)\n",
        "plt.plot(test_loss_hist)\n",
        "plt.legend([\"Test Loss\", \"Train Loss\"])\n",
        "plt.xlabel(\"Epoch\")\n",
        "plt.ylabel(\"Loss\")\n",
        "plt.show()"
      ],
      "execution_count": null,
      "outputs": []
    },
    {
      "cell_type": "markdown",
      "metadata": {
        "collapsed": false,
        "id": "QrPfMAm5pkpt"
      },
      "source": [
        "### 8.2 Test Set Accuracy"
      ]
    },
    {
      "cell_type": "code",
      "metadata": {
        "pycharm": {
          "name": "#%%\n"
        },
        "id": "ed0Hbx9Epkpt"
      },
      "source": [
        "total = 0\n",
        "correct = 0\n",
        "test_loader = DataLoader(mnist_test, batch_size=batch_size, shuffle=True, drop_last=False)\n",
        "\n",
        "with torch.no_grad():\n",
        "  net.eval()\n",
        "  for data in test_loader:\n",
        "    images, labels = data\n",
        "    images = images.to(device)\n",
        "    labels = labels.to(device)\n",
        "\n",
        "    # If current batch matches batch_size, just do the usual thing\n",
        "    if images.size()[0] == batch_size:\n",
        "      spike_test, spike_targets = spikegen.rate(images, labels, num_outputs=num_outputs, num_steps=num_steps)\n",
        "\n",
        "      outputs, _ = net(spike_test)\n",
        "\n",
        "    # If current batch does not match batch_size (e.g., is the final minibatch),\n",
        "    # modify batch_size in a temp variable and restore it at the end of the else block\n",
        "    else:\n",
        "      temp_bs = batch_size\n",
        "      batch_size = images.size()[0]\n",
        "      spike_test, spike_targets = spikegen.rate(images, labels, num_outputs=num_outputs, num_steps=num_steps)\n",
        "\n",
        "      outputs, _ = net(spike_test)\n",
        "      batch_size = temp_bs\n",
        "\n",
        "    _, predicted = outputs.sum(dim=0).max(1)\n",
        "    total += spike_targets.size(0)\n",
        "    correct += (predicted == spike_targets).sum().item()\n",
        "\n",
        "print(f\"Total correctly classified test set images: {correct}/{total}\")\n",
        "print(f\"Test Set Accuracy: {100 * correct / total}%\")"
      ],
      "execution_count": null,
      "outputs": []
    },
    {
      "cell_type": "markdown",
      "metadata": {
        "collapsed": false,
        "id": "Kg42_fGzpkpt"
      },
      "source": [
        "That's all for now!\n",
        "Next time, we'll introduce how to use spiking convolutional layers to improve accuracy."
      ]
    }
  ]
}