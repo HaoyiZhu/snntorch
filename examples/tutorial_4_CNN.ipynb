{
  "nbformat": 4,
  "nbformat_minor": 0,
  "metadata": {
    "kernelspec": {
      "name": "python3",
      "language": "python",
      "display_name": "Python 3"
    },
    "language_info": {
      "codemirror_mode": {
        "name": "ipython",
        "version": 2
      },
      "file_extension": ".py",
      "mimetype": "text/x-python",
      "name": "python",
      "nbconvert_exporter": "python",
      "pygments_lexer": "ipython2",
      "version": "2.7.6"
    },
    "colab": {
      "name": "tutorial_2_FCN_truncatedfromscratch.ipynb",
      "provenance": []
    },
    "accelerator": "GPU"
  },
  "cells": [
    {
      "cell_type": "markdown",
      "metadata": {
        "collapsed": false,
        "pycharm": {
          "name": "#%% md\n"
        },
        "id": "uSGZ6cdmpknm"
      },
      "source": [
        "<img src='https://github.com/jeshraghian/snntorch/blob/master/docs/_static/img/snntorch_alpha_w.png?raw=true' width=\"400\">\n",
        "\n",
        "# UNDER CONSTRUCTION\n",
        "\n",
        "# snnTorch - Deep Learning with ``snntorch``\n",
        "## Tutorial 3\n",
        "### By Jason K. Eshraghian (www.jasoneshraghian.com)\n",
        "\n",
        "<a href=\"https://colab.research.google.com/github/jeshraghian/snntorch/blob/tutorials/examples/tutorial_3_FCN.ipynb\">\n",
        "  <img src=\"https://colab.research.google.com/assets/colab-badge.svg\" alt=\"Open In Colab\"/>\n",
        "</a>"
      ]
    },
    {
      "cell_type": "markdown",
      "metadata": {
        "id": "Ymi3sqJg28OQ"
      },
      "source": [
        "# Introduction\n",
        "In this tutorial, you will:\n",
        "* Learn how spiking neurons are implemented in a recurrent network\n",
        "* Understand backpropagation through time, and the associated challenges in SNNs such as target labeling, and the non-differentiability of spikes\n",
        "* Train a fully-connected network on the static MNIST dataset\n",
        "\n",
        "<!-- * Implement various backprop strategies:\n",
        "  * Backpropagation Through Time\n",
        "  * Truncated-Backpropagation Through Time\n",
        "  * Real-Time Recurrent Learning -->\n",
        "\n",
        ">Part of this tutorial was inspired by Friedemann Zenke's extensive work on SNNs. Check out his repo on surrogate gradients [here](https://github.com/fzenke/spytorch), and a favourite paper of mine: E. O. Neftci, H. Mostafa, F. Zenke, [Surrogate Gradient Learning in Spiking Neural Networks: Bringing the Power of Gradient-based optimization to spiking neural networks.](https://ieeexplore.ieee.org/document/8891809) IEEE Signal Processing Magazine 36, 51–63.\n",
        "\n",
        "As a quick recap, [Tutorial 1](https://colab.research.google.com/github/jeshraghian/snntorch/blob/tutorials/examples/tutorial_1_spikegen.ipynb) explained how to convert datasets into spikes using three encoding mechanisms:\n",
        "* Rate coding\n",
        "* Latency coding\n",
        "* Delta modulation\n",
        "\n",
        "[Tutorial 2](https://colab.research.google.com/github/jeshraghian/snntorch/blob/tutorials/examples/tutorial_2_neuronal_dynamics.ipynb) showed how to build neural networks using three different leaky integrate-and-fire (LIF) neuron models:\n",
        "* Lapicque's RC model\n",
        "* Stein's model\n",
        "* Spike Response model\n",
        "\n",
        "In this tutorial, a basic supervised learning algorithm will be implemented. We will use the original static MNIST dataset and train a multi-layer fully-connected spiking neural network using gradient descent to perform image classification. \n",
        "\n",
        "If running in Google Colab:\n",
        "* You may connect to GPU by checking `Runtime` > `Change runtime type` > `Hardware accelerator: GPU`\n",
        "* Next, install the latest PyPi distribution of snnTorch by clicking into the following cell and pressing `Shift+Enter`."
      ]
    },
    {
      "cell_type": "code",
      "metadata": {
        "pycharm": {
          "name": "#%%\n"
        },
        "id": "5tn_wUlopkon",
        "colab": {
          "base_uri": "https://localhost:8080/"
        },
        "outputId": "a2063466-7fae-4702-d748-243bb74c682d"
      },
      "source": [
        "!pip install snntorch"
      ],
      "execution_count": 1,
      "outputs": [
        {
          "output_type": "stream",
          "text": [
            "Collecting snntorch\n",
            "  Downloading https://files.pythonhosted.org/packages/ac/a2/036bbb269f2228d6244cf37d60997f6203ac7c113ec93c5da5b5bb9313df/snntorch-0.2.8-py2.py3-none-any.whl\n",
            "Requirement already satisfied: numpy>=1.17 in /usr/local/lib/python3.7/dist-packages (from snntorch) (1.19.5)\n",
            "Collecting celluloid\n",
            "  Downloading https://files.pythonhosted.org/packages/60/a7/7fbe80721c6f1b7370c4e50c77abe31b4d5cfeb58873d4d32f48ae5a0bae/celluloid-0.2.0-py3-none-any.whl\n",
            "Requirement already satisfied: torch>=1.2.0 in /usr/local/lib/python3.7/dist-packages (from snntorch) (1.8.0+cu101)\n",
            "Requirement already satisfied: pandas in /usr/local/lib/python3.7/dist-packages (from snntorch) (1.1.5)\n",
            "Requirement already satisfied: matplotlib in /usr/local/lib/python3.7/dist-packages (from snntorch) (3.2.2)\n",
            "Requirement already satisfied: typing-extensions in /usr/local/lib/python3.7/dist-packages (from torch>=1.2.0->snntorch) (3.7.4.3)\n",
            "Requirement already satisfied: pytz>=2017.2 in /usr/local/lib/python3.7/dist-packages (from pandas->snntorch) (2018.9)\n",
            "Requirement already satisfied: python-dateutil>=2.7.3 in /usr/local/lib/python3.7/dist-packages (from pandas->snntorch) (2.8.1)\n",
            "Requirement already satisfied: pyparsing!=2.0.4,!=2.1.2,!=2.1.6,>=2.0.1 in /usr/local/lib/python3.7/dist-packages (from matplotlib->snntorch) (2.4.7)\n",
            "Requirement already satisfied: kiwisolver>=1.0.1 in /usr/local/lib/python3.7/dist-packages (from matplotlib->snntorch) (1.3.1)\n",
            "Requirement already satisfied: cycler>=0.10 in /usr/local/lib/python3.7/dist-packages (from matplotlib->snntorch) (0.10.0)\n",
            "Requirement already satisfied: six>=1.5 in /usr/local/lib/python3.7/dist-packages (from python-dateutil>=2.7.3->pandas->snntorch) (1.15.0)\n",
            "Installing collected packages: celluloid, snntorch\n",
            "Successfully installed celluloid-0.2.0 snntorch-0.2.8\n"
          ],
          "name": "stdout"
        }
      ]
    },
    {
      "cell_type": "markdown",
      "metadata": {
        "id": "gt2xMbLY9dVE"
      },
      "source": [
        "# 1. A Recurrent Representation of SNNs"
      ]
    },
    {
      "cell_type": "markdown",
      "metadata": {
        "id": "v7haBG7nA_TC"
      },
      "source": [
        "The following is a summary of the continuous time-domain representation LIF neurons, and applies the result to develop a recurrent representation that is more suitable for use in recurrent neural networks (RNNs). \n",
        "\n",
        "We derived the dynamics of the passive membrane using an RC circuit in the time-domain: \n",
        "\n",
        "$$ \\tau_{\\rm mem} \\frac{dU_{\\rm mem}(t)}{dt} = -U_{\\rm mem}(t) + RI_{\\rm syn}(t),$$\n",
        "\n",
        "where the general solution of this equation is:\n",
        "\n",
        "$$U_{\\rm mem}=I_{\\rm syn}(t)R + [U_0 - I_{\\rm syn}(t)R]e^{-t/\\tau_{\\rm mem}}$$\n",
        "\n",
        "In Lapicque's model, $I_{\\rm syn}(t)$ is also the input current, $I_{\\rm in}(t)$. \n",
        "\n",
        "In Stein's model, a more biologically plausible approach is taken that ensures $I_{\\rm syn}(t)$ follows an exponential decay as a function of the input:\n",
        "\n",
        "\n",
        "$$I_{\\rm syn}(t) = \\sum_k W_{i,j} S_{in; i,j}(t) e^{-(t-t_k)/\\tau_{syn}}\\Theta(t-t_k)$$\n",
        "\n",
        "<center>\n",
        "<img src='https://github.com/jeshraghian/snntorch/blob/master/docs/_static/img/examples/tutorial3/3_1_stein_decomp.png?raw=true' width=\"600\">\n",
        "</center>\n",
        "\n",
        "Stein's model has two exponentially decaying terms: $I_{\\rm syn}(t)$ and $U_{\\rm mem}(t)$. The ratio between subsequent terms (i.e., decay rate) of $I_{\\rm syn}(t)$ is set to $\\alpha$, and that of $U_{\\rm mem}(t)$ is set to $\\beta$:\n",
        "\n",
        "$$ \\alpha = e^{-1/\\tau_{\\rm syn}}$$\n",
        "\n",
        "$$ \\beta = e^{-1/\\tau_{\\rm mem}}$$\n",
        "\n",
        "\n",
        "RNNs will process data sequentially, and so time must be discretised, and the neuron models must be converted into a recursive form. $\\alpha$ and $\\beta$ can be used to give a recursive representation of Stein's neuron model:\n",
        "\n",
        "$$I_{\\rm syn}[t+1]=\\underbrace{\\alpha I_{\\rm syn}[t]}_\\text{decay} + \\underbrace{WS_{\\rm in}[t+1]}_\\text{input}$$\n",
        "\n",
        "$$U[t+1] = \\underbrace{\\beta U[t]}_\\text{decay} + \\underbrace{I_{\\rm syn}[t+1]}_\\text{input} - \\underbrace{R[t+1]}_\\text{reset}$$\n",
        "\n",
        "**Spiking**\n",
        "\n",
        "If $U[t] > U_{\\rm thr}$, then an output spike is triggered: $S_{\\rm out}[t] = 1$. Otherwise, $S_{\\rm out}[t] = 0$. \n",
        "\n",
        "> Note: A variation of this is to set the output spike at the *next* time step to be triggered; i.e., $U[t] > U_{\\rm thr} \\implies S_{\\rm out}[t+1] = 1$. This is the approach taken in snnTorch, and will be explained in following sections.\n",
        "\n",
        "An alternative way to represent the relationship between $S_{\\rm out}$ and $U_{\\rm mem}$, which is also used to calculate the gradient in the backward pass, is:\n",
        "\n",
        "$$S_{\\rm out}[t] = \\Theta(U_{\\rm mem}[t] - U_{\\rm thr})$$ \n",
        "\n",
        "<center>\n",
        "<img src='https://github.com/jeshraghian/snntorch/blob/master/docs/_static/img/examples/tutorial3/3_1_stein_decomp.png?raw=true' width=\"600\">\n",
        "</center>\n",
        "\n",
        "**Reset**\n",
        "\n",
        "The reset term is activated only when the neuron triggers a spike. That is to say, if $S_{\\rm out}[t]=1$:\n",
        "\n",
        "  * For `reset_mechanism=\"subtract\"`: $R[t+1]=U_{\\rm thr}$ \n",
        "  * For `reset_mechanism=\"zero\"`: $R[t+1]=U[t+1]$\n",
        "\n",
        "> Note: In snnTorch, the reset will also take a one time step delay such that $R[t+1]$ is activated only when $S_{\\rm out}[t+1]=1$\n",
        "\n",
        "The other neurons follow a similar form, which is [detailed in the documentation](https://snntorch.readthedocs.io/en/latest/snntorch.html). The recursive neuron equations can be mapped into computation graphs, where the recurrent connections take place with a delay of a single time step, from the state at time $t$ to the state at time $t+1$. \n",
        "\n",
        "<center>\n",
        "<img src='https://github.com/jeshraghian/snntorch/blob/master/docs/_static/img/examples/tutorial3/3_2_spike_descrip.png?raw=true' width=\"600\">\n",
        "</center>"
      ]
    },
    {
      "cell_type": "markdown",
      "metadata": {
        "id": "t256yMrzTU6M"
      },
      "source": [
        "An alternative way to represent recurrent models is to unfold the computational graph, in which each component is represented by a sequence of different variables, with one variable per time step. The unfolded form of Stein's model is shown below:\n",
        "\n",
        "<center>\n",
        "<img src='https://github.com/jeshraghian/snntorch/blob/master/docs/_static/img/examples/tutorial3/3_2_unrolled.png?raw=true' width=\"800\">\n",
        "</center>\n",
        "\n",
        "\n",
        "Up until now, the notation used for all variables have had an association with their electrical meanings. As we move from neuronal dynamics to deep learning, we will slightly modify the notation throughout the rest of the tutorial:\n",
        "\n",
        "* **Input spike:** $S_{\\rm in} \\rightarrow X$\n",
        "* **Input current (weighted spike):** $I_{\\rm in} \\rightarrow Y$\n",
        "* **Synaptic current:** $I_{\\rm syn} \\rightarrow I$\n",
        "* **Membrane potential:** $U_{\\rm mem} \\rightarrow U$\n",
        "* **Output spike:** $S_{\\rm out} \\rightarrow S$\n",
        "\n",
        "The benefit of an unrolled graph is that we now have an explicit description of how computations are performed. The process of unfolding illustrates the flow of information forward in time (from left to right) to compute outputs and losses, and backward in time to compute gradients. The more time steps that are simulated, the deeper the graph becomes. \n",
        "\n",
        "Conventional RNNs treat $\\alpha$ and $\\beta$ as learnable parameters. This is also possible for SNNs, but in snnTorch, they are treated as hyperparameters by default. This replaces the vanishing and exploding gradient problems with a parameter search."
      ]
    },
    {
      "cell_type": "markdown",
      "metadata": {
        "id": "zqJdfllYbc16"
      },
      "source": [
        "# 2. Setting up the Static MNIST Dataset"
      ]
    },
    {
      "cell_type": "markdown",
      "metadata": {
        "id": "SuOWJNEMe8l_"
      },
      "source": [
        "Much of the following code has already been explained in the first two tutorials. So we'll dive straight in. "
      ]
    },
    {
      "cell_type": "markdown",
      "metadata": {
        "id": "nbunSP5TbikZ"
      },
      "source": [
        "## 2.1 Import packages and setup the environment"
      ]
    },
    {
      "cell_type": "code",
      "metadata": {
        "pycharm": {
          "name": "#%%\n"
        },
        "id": "bEFWu3nNpkoq"
      },
      "source": [
        "import snntorch as snn\n",
        "import torch\n",
        "import torch.nn as nn\n",
        "from torch.utils.data import DataLoader\n",
        "from torchvision import datasets, transforms\n",
        "import numpy as np\n",
        "import itertools\n",
        "import matplotlib.pyplot as plt"
      ],
      "execution_count": 2,
      "outputs": []
    },
    {
      "cell_type": "code",
      "metadata": {
        "pycharm": {
          "name": "#%%\n"
        },
        "id": "lI0GbgLgpkos"
      },
      "source": [
        "# Network Architecture\n",
        "num_inputs = 28*28\n",
        "num_hidden = 1000\n",
        "num_outputs = 10\n",
        "\n",
        "# Training Parameters\n",
        "batch_size=128\n",
        "data_path='/data/mnist'\n",
        "\n",
        "# Temporal Dynamics\n",
        "num_steps = 25\n",
        "alpha = 0.7\n",
        "beta = 0.8\n",
        "\n",
        "dtype = torch.float\n",
        "device = torch.device(\"cuda\") if torch.cuda.is_available() else torch.device(\"cpu\")"
      ],
      "execution_count": 3,
      "outputs": []
    },
    {
      "cell_type": "markdown",
      "metadata": {
        "collapsed": false,
        "pycharm": {
          "name": "#%% md\n"
        },
        "id": "nUS6YFXbpkos"
      },
      "source": [
        "## 2.2 Download MNIST Dataset"
      ]
    },
    {
      "cell_type": "code",
      "metadata": {
        "pycharm": {
          "name": "#%%\n"
        },
        "id": "2fhRixcspkot",
        "colab": {
          "base_uri": "https://localhost:8080/",
          "height": 387
        },
        "outputId": "e40ffb34-1fc8-4ee3-e4ba-79b3e3a27ab0"
      },
      "source": [
        "# Define a transform\n",
        "transform = transforms.Compose([\n",
        "            transforms.Resize((28, 28)),\n",
        "            transforms.Grayscale(),\n",
        "            transforms.ToTensor(),\n",
        "            transforms.Normalize((0,), (1,))])\n",
        "\n",
        "mnist_train = datasets.MNIST(data_path, train=True, download=True, transform=transform)\n",
        "mnist_test = datasets.MNIST(data_path, train=False, download=True, transform=transform)"
      ],
      "execution_count": 4,
      "outputs": [
        {
          "output_type": "stream",
          "text": [
            "Downloading http://yann.lecun.com/exdb/mnist/train-images-idx3-ubyte.gz to /data/mnist/MNIST/raw/train-images-idx3-ubyte.gz\n"
          ],
          "name": "stdout"
        },
        {
          "output_type": "error",
          "ename": "HTTPError",
          "evalue": "ignored",
          "traceback": [
            "\u001b[0;31m---------------------------------------------------------------------------\u001b[0m",
            "\u001b[0;31mHTTPError\u001b[0m                                 Traceback (most recent call last)",
            "\u001b[0;32m<ipython-input-4-9d12301a29bb>\u001b[0m in \u001b[0;36m<module>\u001b[0;34m()\u001b[0m\n\u001b[1;32m      6\u001b[0m             transforms.Normalize((0,), (1,))])\n\u001b[1;32m      7\u001b[0m \u001b[0;34m\u001b[0m\u001b[0m\n\u001b[0;32m----> 8\u001b[0;31m \u001b[0mmnist_train\u001b[0m \u001b[0;34m=\u001b[0m \u001b[0mdatasets\u001b[0m\u001b[0;34m.\u001b[0m\u001b[0mMNIST\u001b[0m\u001b[0;34m(\u001b[0m\u001b[0mdata_path\u001b[0m\u001b[0;34m,\u001b[0m \u001b[0mtrain\u001b[0m\u001b[0;34m=\u001b[0m\u001b[0;32mTrue\u001b[0m\u001b[0;34m,\u001b[0m \u001b[0mdownload\u001b[0m\u001b[0;34m=\u001b[0m\u001b[0;32mTrue\u001b[0m\u001b[0;34m,\u001b[0m \u001b[0mtransform\u001b[0m\u001b[0;34m=\u001b[0m\u001b[0mtransform\u001b[0m\u001b[0;34m)\u001b[0m\u001b[0;34m\u001b[0m\u001b[0;34m\u001b[0m\u001b[0m\n\u001b[0m\u001b[1;32m      9\u001b[0m \u001b[0mmnist_test\u001b[0m \u001b[0;34m=\u001b[0m \u001b[0mdatasets\u001b[0m\u001b[0;34m.\u001b[0m\u001b[0mMNIST\u001b[0m\u001b[0;34m(\u001b[0m\u001b[0mdata_path\u001b[0m\u001b[0;34m,\u001b[0m \u001b[0mtrain\u001b[0m\u001b[0;34m=\u001b[0m\u001b[0;32mFalse\u001b[0m\u001b[0;34m,\u001b[0m \u001b[0mdownload\u001b[0m\u001b[0;34m=\u001b[0m\u001b[0;32mTrue\u001b[0m\u001b[0;34m,\u001b[0m \u001b[0mtransform\u001b[0m\u001b[0;34m=\u001b[0m\u001b[0mtransform\u001b[0m\u001b[0;34m)\u001b[0m\u001b[0;34m\u001b[0m\u001b[0;34m\u001b[0m\u001b[0m\n",
            "\u001b[0;32m/usr/local/lib/python3.7/dist-packages/torchvision/datasets/mnist.py\u001b[0m in \u001b[0;36m__init__\u001b[0;34m(self, root, train, transform, target_transform, download)\u001b[0m\n\u001b[1;32m     77\u001b[0m \u001b[0;34m\u001b[0m\u001b[0m\n\u001b[1;32m     78\u001b[0m         \u001b[0;32mif\u001b[0m \u001b[0mdownload\u001b[0m\u001b[0;34m:\u001b[0m\u001b[0;34m\u001b[0m\u001b[0;34m\u001b[0m\u001b[0m\n\u001b[0;32m---> 79\u001b[0;31m             \u001b[0mself\u001b[0m\u001b[0;34m.\u001b[0m\u001b[0mdownload\u001b[0m\u001b[0;34m(\u001b[0m\u001b[0;34m)\u001b[0m\u001b[0;34m\u001b[0m\u001b[0;34m\u001b[0m\u001b[0m\n\u001b[0m\u001b[1;32m     80\u001b[0m \u001b[0;34m\u001b[0m\u001b[0m\n\u001b[1;32m     81\u001b[0m         \u001b[0;32mif\u001b[0m \u001b[0;32mnot\u001b[0m \u001b[0mself\u001b[0m\u001b[0;34m.\u001b[0m\u001b[0m_check_exists\u001b[0m\u001b[0;34m(\u001b[0m\u001b[0;34m)\u001b[0m\u001b[0;34m:\u001b[0m\u001b[0;34m\u001b[0m\u001b[0;34m\u001b[0m\u001b[0m\n",
            "\u001b[0;32m/usr/local/lib/python3.7/dist-packages/torchvision/datasets/mnist.py\u001b[0m in \u001b[0;36mdownload\u001b[0;34m(self)\u001b[0m\n\u001b[1;32m    144\u001b[0m         \u001b[0;32mfor\u001b[0m \u001b[0murl\u001b[0m\u001b[0;34m,\u001b[0m \u001b[0mmd5\u001b[0m \u001b[0;32min\u001b[0m \u001b[0mself\u001b[0m\u001b[0;34m.\u001b[0m\u001b[0mresources\u001b[0m\u001b[0;34m:\u001b[0m\u001b[0;34m\u001b[0m\u001b[0;34m\u001b[0m\u001b[0m\n\u001b[1;32m    145\u001b[0m             \u001b[0mfilename\u001b[0m \u001b[0;34m=\u001b[0m \u001b[0murl\u001b[0m\u001b[0;34m.\u001b[0m\u001b[0mrpartition\u001b[0m\u001b[0;34m(\u001b[0m\u001b[0;34m'/'\u001b[0m\u001b[0;34m)\u001b[0m\u001b[0;34m[\u001b[0m\u001b[0;36m2\u001b[0m\u001b[0;34m]\u001b[0m\u001b[0;34m\u001b[0m\u001b[0;34m\u001b[0m\u001b[0m\n\u001b[0;32m--> 146\u001b[0;31m             \u001b[0mdownload_and_extract_archive\u001b[0m\u001b[0;34m(\u001b[0m\u001b[0murl\u001b[0m\u001b[0;34m,\u001b[0m \u001b[0mdownload_root\u001b[0m\u001b[0;34m=\u001b[0m\u001b[0mself\u001b[0m\u001b[0;34m.\u001b[0m\u001b[0mraw_folder\u001b[0m\u001b[0;34m,\u001b[0m \u001b[0mfilename\u001b[0m\u001b[0;34m=\u001b[0m\u001b[0mfilename\u001b[0m\u001b[0;34m,\u001b[0m \u001b[0mmd5\u001b[0m\u001b[0;34m=\u001b[0m\u001b[0mmd5\u001b[0m\u001b[0;34m)\u001b[0m\u001b[0;34m\u001b[0m\u001b[0;34m\u001b[0m\u001b[0m\n\u001b[0m\u001b[1;32m    147\u001b[0m \u001b[0;34m\u001b[0m\u001b[0m\n\u001b[1;32m    148\u001b[0m         \u001b[0;31m# process and save as torch files\u001b[0m\u001b[0;34m\u001b[0m\u001b[0;34m\u001b[0m\u001b[0;34m\u001b[0m\u001b[0m\n",
            "\u001b[0;32m/usr/local/lib/python3.7/dist-packages/torchvision/datasets/utils.py\u001b[0m in \u001b[0;36mdownload_and_extract_archive\u001b[0;34m(url, download_root, extract_root, filename, md5, remove_finished)\u001b[0m\n\u001b[1;32m    312\u001b[0m         \u001b[0mfilename\u001b[0m \u001b[0;34m=\u001b[0m \u001b[0mos\u001b[0m\u001b[0;34m.\u001b[0m\u001b[0mpath\u001b[0m\u001b[0;34m.\u001b[0m\u001b[0mbasename\u001b[0m\u001b[0;34m(\u001b[0m\u001b[0murl\u001b[0m\u001b[0;34m)\u001b[0m\u001b[0;34m\u001b[0m\u001b[0;34m\u001b[0m\u001b[0m\n\u001b[1;32m    313\u001b[0m \u001b[0;34m\u001b[0m\u001b[0m\n\u001b[0;32m--> 314\u001b[0;31m     \u001b[0mdownload_url\u001b[0m\u001b[0;34m(\u001b[0m\u001b[0murl\u001b[0m\u001b[0;34m,\u001b[0m \u001b[0mdownload_root\u001b[0m\u001b[0;34m,\u001b[0m \u001b[0mfilename\u001b[0m\u001b[0;34m,\u001b[0m \u001b[0mmd5\u001b[0m\u001b[0;34m)\u001b[0m\u001b[0;34m\u001b[0m\u001b[0;34m\u001b[0m\u001b[0m\n\u001b[0m\u001b[1;32m    315\u001b[0m \u001b[0;34m\u001b[0m\u001b[0m\n\u001b[1;32m    316\u001b[0m     \u001b[0marchive\u001b[0m \u001b[0;34m=\u001b[0m \u001b[0mos\u001b[0m\u001b[0;34m.\u001b[0m\u001b[0mpath\u001b[0m\u001b[0;34m.\u001b[0m\u001b[0mjoin\u001b[0m\u001b[0;34m(\u001b[0m\u001b[0mdownload_root\u001b[0m\u001b[0;34m,\u001b[0m \u001b[0mfilename\u001b[0m\u001b[0;34m)\u001b[0m\u001b[0;34m\u001b[0m\u001b[0;34m\u001b[0m\u001b[0m\n",
            "\u001b[0;32m/usr/local/lib/python3.7/dist-packages/torchvision/datasets/utils.py\u001b[0m in \u001b[0;36mdownload_url\u001b[0;34m(url, root, filename, md5, max_redirect_hops)\u001b[0m\n\u001b[1;32m    138\u001b[0m             \u001b[0m_urlretrieve\u001b[0m\u001b[0;34m(\u001b[0m\u001b[0murl\u001b[0m\u001b[0;34m,\u001b[0m \u001b[0mfpath\u001b[0m\u001b[0;34m)\u001b[0m\u001b[0;34m\u001b[0m\u001b[0;34m\u001b[0m\u001b[0m\n\u001b[1;32m    139\u001b[0m         \u001b[0;32melse\u001b[0m\u001b[0;34m:\u001b[0m\u001b[0;34m\u001b[0m\u001b[0;34m\u001b[0m\u001b[0m\n\u001b[0;32m--> 140\u001b[0;31m             \u001b[0;32mraise\u001b[0m \u001b[0me\u001b[0m\u001b[0;34m\u001b[0m\u001b[0;34m\u001b[0m\u001b[0m\n\u001b[0m\u001b[1;32m    141\u001b[0m     \u001b[0;31m# check integrity of downloaded file\u001b[0m\u001b[0;34m\u001b[0m\u001b[0;34m\u001b[0m\u001b[0;34m\u001b[0m\u001b[0m\n\u001b[1;32m    142\u001b[0m     \u001b[0;32mif\u001b[0m \u001b[0;32mnot\u001b[0m \u001b[0mcheck_integrity\u001b[0m\u001b[0;34m(\u001b[0m\u001b[0mfpath\u001b[0m\u001b[0;34m,\u001b[0m \u001b[0mmd5\u001b[0m\u001b[0;34m)\u001b[0m\u001b[0;34m:\u001b[0m\u001b[0;34m\u001b[0m\u001b[0;34m\u001b[0m\u001b[0m\n",
            "\u001b[0;32m/usr/local/lib/python3.7/dist-packages/torchvision/datasets/utils.py\u001b[0m in \u001b[0;36mdownload_url\u001b[0;34m(url, root, filename, md5, max_redirect_hops)\u001b[0m\n\u001b[1;32m    130\u001b[0m     \u001b[0;32mtry\u001b[0m\u001b[0;34m:\u001b[0m\u001b[0;34m\u001b[0m\u001b[0;34m\u001b[0m\u001b[0m\n\u001b[1;32m    131\u001b[0m         \u001b[0mprint\u001b[0m\u001b[0;34m(\u001b[0m\u001b[0;34m'Downloading '\u001b[0m \u001b[0;34m+\u001b[0m \u001b[0murl\u001b[0m \u001b[0;34m+\u001b[0m \u001b[0;34m' to '\u001b[0m \u001b[0;34m+\u001b[0m \u001b[0mfpath\u001b[0m\u001b[0;34m)\u001b[0m\u001b[0;34m\u001b[0m\u001b[0;34m\u001b[0m\u001b[0m\n\u001b[0;32m--> 132\u001b[0;31m         \u001b[0m_urlretrieve\u001b[0m\u001b[0;34m(\u001b[0m\u001b[0murl\u001b[0m\u001b[0;34m,\u001b[0m \u001b[0mfpath\u001b[0m\u001b[0;34m)\u001b[0m\u001b[0;34m\u001b[0m\u001b[0;34m\u001b[0m\u001b[0m\n\u001b[0m\u001b[1;32m    133\u001b[0m     \u001b[0;32mexcept\u001b[0m \u001b[0;34m(\u001b[0m\u001b[0murllib\u001b[0m\u001b[0;34m.\u001b[0m\u001b[0merror\u001b[0m\u001b[0;34m.\u001b[0m\u001b[0mURLError\u001b[0m\u001b[0;34m,\u001b[0m \u001b[0mIOError\u001b[0m\u001b[0;34m)\u001b[0m \u001b[0;32mas\u001b[0m \u001b[0me\u001b[0m\u001b[0;34m:\u001b[0m  \u001b[0;31m# type: ignore[attr-defined]\u001b[0m\u001b[0;34m\u001b[0m\u001b[0;34m\u001b[0m\u001b[0m\n\u001b[1;32m    134\u001b[0m         \u001b[0;32mif\u001b[0m \u001b[0murl\u001b[0m\u001b[0;34m[\u001b[0m\u001b[0;34m:\u001b[0m\u001b[0;36m5\u001b[0m\u001b[0;34m]\u001b[0m \u001b[0;34m==\u001b[0m \u001b[0;34m'https'\u001b[0m\u001b[0;34m:\u001b[0m\u001b[0;34m\u001b[0m\u001b[0;34m\u001b[0m\u001b[0m\n",
            "\u001b[0;32m/usr/local/lib/python3.7/dist-packages/torchvision/datasets/utils.py\u001b[0m in \u001b[0;36m_urlretrieve\u001b[0;34m(url, filename, chunk_size)\u001b[0m\n\u001b[1;32m     27\u001b[0m \u001b[0;32mdef\u001b[0m \u001b[0m_urlretrieve\u001b[0m\u001b[0;34m(\u001b[0m\u001b[0murl\u001b[0m\u001b[0;34m:\u001b[0m \u001b[0mstr\u001b[0m\u001b[0;34m,\u001b[0m \u001b[0mfilename\u001b[0m\u001b[0;34m:\u001b[0m \u001b[0mstr\u001b[0m\u001b[0;34m,\u001b[0m \u001b[0mchunk_size\u001b[0m\u001b[0;34m:\u001b[0m \u001b[0mint\u001b[0m \u001b[0;34m=\u001b[0m \u001b[0;36m1024\u001b[0m\u001b[0;34m)\u001b[0m \u001b[0;34m->\u001b[0m \u001b[0;32mNone\u001b[0m\u001b[0;34m:\u001b[0m\u001b[0;34m\u001b[0m\u001b[0;34m\u001b[0m\u001b[0m\n\u001b[1;32m     28\u001b[0m     \u001b[0;32mwith\u001b[0m \u001b[0mopen\u001b[0m\u001b[0;34m(\u001b[0m\u001b[0mfilename\u001b[0m\u001b[0;34m,\u001b[0m \u001b[0;34m\"wb\"\u001b[0m\u001b[0;34m)\u001b[0m \u001b[0;32mas\u001b[0m \u001b[0mfh\u001b[0m\u001b[0;34m:\u001b[0m\u001b[0;34m\u001b[0m\u001b[0;34m\u001b[0m\u001b[0m\n\u001b[0;32m---> 29\u001b[0;31m         \u001b[0;32mwith\u001b[0m \u001b[0murllib\u001b[0m\u001b[0;34m.\u001b[0m\u001b[0mrequest\u001b[0m\u001b[0;34m.\u001b[0m\u001b[0murlopen\u001b[0m\u001b[0;34m(\u001b[0m\u001b[0murllib\u001b[0m\u001b[0;34m.\u001b[0m\u001b[0mrequest\u001b[0m\u001b[0;34m.\u001b[0m\u001b[0mRequest\u001b[0m\u001b[0;34m(\u001b[0m\u001b[0murl\u001b[0m\u001b[0;34m,\u001b[0m \u001b[0mheaders\u001b[0m\u001b[0;34m=\u001b[0m\u001b[0;34m{\u001b[0m\u001b[0;34m\"User-Agent\"\u001b[0m\u001b[0;34m:\u001b[0m \u001b[0mUSER_AGENT\u001b[0m\u001b[0;34m}\u001b[0m\u001b[0;34m)\u001b[0m\u001b[0;34m)\u001b[0m \u001b[0;32mas\u001b[0m \u001b[0mresponse\u001b[0m\u001b[0;34m:\u001b[0m\u001b[0;34m\u001b[0m\u001b[0;34m\u001b[0m\u001b[0m\n\u001b[0m\u001b[1;32m     30\u001b[0m             \u001b[0;32mwith\u001b[0m \u001b[0mtqdm\u001b[0m\u001b[0;34m(\u001b[0m\u001b[0mtotal\u001b[0m\u001b[0;34m=\u001b[0m\u001b[0mresponse\u001b[0m\u001b[0;34m.\u001b[0m\u001b[0mlength\u001b[0m\u001b[0;34m)\u001b[0m \u001b[0;32mas\u001b[0m \u001b[0mpbar\u001b[0m\u001b[0;34m:\u001b[0m\u001b[0;34m\u001b[0m\u001b[0;34m\u001b[0m\u001b[0m\n\u001b[1;32m     31\u001b[0m                 \u001b[0;32mfor\u001b[0m \u001b[0mchunk\u001b[0m \u001b[0;32min\u001b[0m \u001b[0miter\u001b[0m\u001b[0;34m(\u001b[0m\u001b[0;32mlambda\u001b[0m\u001b[0;34m:\u001b[0m \u001b[0mresponse\u001b[0m\u001b[0;34m.\u001b[0m\u001b[0mread\u001b[0m\u001b[0;34m(\u001b[0m\u001b[0mchunk_size\u001b[0m\u001b[0;34m)\u001b[0m\u001b[0;34m,\u001b[0m \u001b[0;34m\"\"\u001b[0m\u001b[0;34m)\u001b[0m\u001b[0;34m:\u001b[0m\u001b[0;34m\u001b[0m\u001b[0;34m\u001b[0m\u001b[0m\n",
            "\u001b[0;32m/usr/lib/python3.7/urllib/request.py\u001b[0m in \u001b[0;36murlopen\u001b[0;34m(url, data, timeout, cafile, capath, cadefault, context)\u001b[0m\n\u001b[1;32m    220\u001b[0m     \u001b[0;32melse\u001b[0m\u001b[0;34m:\u001b[0m\u001b[0;34m\u001b[0m\u001b[0;34m\u001b[0m\u001b[0m\n\u001b[1;32m    221\u001b[0m         \u001b[0mopener\u001b[0m \u001b[0;34m=\u001b[0m \u001b[0m_opener\u001b[0m\u001b[0;34m\u001b[0m\u001b[0;34m\u001b[0m\u001b[0m\n\u001b[0;32m--> 222\u001b[0;31m     \u001b[0;32mreturn\u001b[0m \u001b[0mopener\u001b[0m\u001b[0;34m.\u001b[0m\u001b[0mopen\u001b[0m\u001b[0;34m(\u001b[0m\u001b[0murl\u001b[0m\u001b[0;34m,\u001b[0m \u001b[0mdata\u001b[0m\u001b[0;34m,\u001b[0m \u001b[0mtimeout\u001b[0m\u001b[0;34m)\u001b[0m\u001b[0;34m\u001b[0m\u001b[0;34m\u001b[0m\u001b[0m\n\u001b[0m\u001b[1;32m    223\u001b[0m \u001b[0;34m\u001b[0m\u001b[0m\n\u001b[1;32m    224\u001b[0m \u001b[0;32mdef\u001b[0m \u001b[0minstall_opener\u001b[0m\u001b[0;34m(\u001b[0m\u001b[0mopener\u001b[0m\u001b[0;34m)\u001b[0m\u001b[0;34m:\u001b[0m\u001b[0;34m\u001b[0m\u001b[0;34m\u001b[0m\u001b[0m\n",
            "\u001b[0;32m/usr/lib/python3.7/urllib/request.py\u001b[0m in \u001b[0;36mopen\u001b[0;34m(self, fullurl, data, timeout)\u001b[0m\n\u001b[1;32m    529\u001b[0m         \u001b[0;32mfor\u001b[0m \u001b[0mprocessor\u001b[0m \u001b[0;32min\u001b[0m \u001b[0mself\u001b[0m\u001b[0;34m.\u001b[0m\u001b[0mprocess_response\u001b[0m\u001b[0;34m.\u001b[0m\u001b[0mget\u001b[0m\u001b[0;34m(\u001b[0m\u001b[0mprotocol\u001b[0m\u001b[0;34m,\u001b[0m \u001b[0;34m[\u001b[0m\u001b[0;34m]\u001b[0m\u001b[0;34m)\u001b[0m\u001b[0;34m:\u001b[0m\u001b[0;34m\u001b[0m\u001b[0;34m\u001b[0m\u001b[0m\n\u001b[1;32m    530\u001b[0m             \u001b[0mmeth\u001b[0m \u001b[0;34m=\u001b[0m \u001b[0mgetattr\u001b[0m\u001b[0;34m(\u001b[0m\u001b[0mprocessor\u001b[0m\u001b[0;34m,\u001b[0m \u001b[0mmeth_name\u001b[0m\u001b[0;34m)\u001b[0m\u001b[0;34m\u001b[0m\u001b[0;34m\u001b[0m\u001b[0m\n\u001b[0;32m--> 531\u001b[0;31m             \u001b[0mresponse\u001b[0m \u001b[0;34m=\u001b[0m \u001b[0mmeth\u001b[0m\u001b[0;34m(\u001b[0m\u001b[0mreq\u001b[0m\u001b[0;34m,\u001b[0m \u001b[0mresponse\u001b[0m\u001b[0;34m)\u001b[0m\u001b[0;34m\u001b[0m\u001b[0;34m\u001b[0m\u001b[0m\n\u001b[0m\u001b[1;32m    532\u001b[0m \u001b[0;34m\u001b[0m\u001b[0m\n\u001b[1;32m    533\u001b[0m         \u001b[0;32mreturn\u001b[0m \u001b[0mresponse\u001b[0m\u001b[0;34m\u001b[0m\u001b[0;34m\u001b[0m\u001b[0m\n",
            "\u001b[0;32m/usr/lib/python3.7/urllib/request.py\u001b[0m in \u001b[0;36mhttp_response\u001b[0;34m(self, request, response)\u001b[0m\n\u001b[1;32m    639\u001b[0m         \u001b[0;32mif\u001b[0m \u001b[0;32mnot\u001b[0m \u001b[0;34m(\u001b[0m\u001b[0;36m200\u001b[0m \u001b[0;34m<=\u001b[0m \u001b[0mcode\u001b[0m \u001b[0;34m<\u001b[0m \u001b[0;36m300\u001b[0m\u001b[0;34m)\u001b[0m\u001b[0;34m:\u001b[0m\u001b[0;34m\u001b[0m\u001b[0;34m\u001b[0m\u001b[0m\n\u001b[1;32m    640\u001b[0m             response = self.parent.error(\n\u001b[0;32m--> 641\u001b[0;31m                 'http', request, response, code, msg, hdrs)\n\u001b[0m\u001b[1;32m    642\u001b[0m \u001b[0;34m\u001b[0m\u001b[0m\n\u001b[1;32m    643\u001b[0m         \u001b[0;32mreturn\u001b[0m \u001b[0mresponse\u001b[0m\u001b[0;34m\u001b[0m\u001b[0;34m\u001b[0m\u001b[0m\n",
            "\u001b[0;32m/usr/lib/python3.7/urllib/request.py\u001b[0m in \u001b[0;36merror\u001b[0;34m(self, proto, *args)\u001b[0m\n\u001b[1;32m    567\u001b[0m         \u001b[0;32mif\u001b[0m \u001b[0mhttp_err\u001b[0m\u001b[0;34m:\u001b[0m\u001b[0;34m\u001b[0m\u001b[0;34m\u001b[0m\u001b[0m\n\u001b[1;32m    568\u001b[0m             \u001b[0margs\u001b[0m \u001b[0;34m=\u001b[0m \u001b[0;34m(\u001b[0m\u001b[0mdict\u001b[0m\u001b[0;34m,\u001b[0m \u001b[0;34m'default'\u001b[0m\u001b[0;34m,\u001b[0m \u001b[0;34m'http_error_default'\u001b[0m\u001b[0;34m)\u001b[0m \u001b[0;34m+\u001b[0m \u001b[0morig_args\u001b[0m\u001b[0;34m\u001b[0m\u001b[0;34m\u001b[0m\u001b[0m\n\u001b[0;32m--> 569\u001b[0;31m             \u001b[0;32mreturn\u001b[0m \u001b[0mself\u001b[0m\u001b[0;34m.\u001b[0m\u001b[0m_call_chain\u001b[0m\u001b[0;34m(\u001b[0m\u001b[0;34m*\u001b[0m\u001b[0margs\u001b[0m\u001b[0;34m)\u001b[0m\u001b[0;34m\u001b[0m\u001b[0;34m\u001b[0m\u001b[0m\n\u001b[0m\u001b[1;32m    570\u001b[0m \u001b[0;34m\u001b[0m\u001b[0m\n\u001b[1;32m    571\u001b[0m \u001b[0;31m# XXX probably also want an abstract factory that knows when it makes\u001b[0m\u001b[0;34m\u001b[0m\u001b[0;34m\u001b[0m\u001b[0;34m\u001b[0m\u001b[0m\n",
            "\u001b[0;32m/usr/lib/python3.7/urllib/request.py\u001b[0m in \u001b[0;36m_call_chain\u001b[0;34m(self, chain, kind, meth_name, *args)\u001b[0m\n\u001b[1;32m    501\u001b[0m         \u001b[0;32mfor\u001b[0m \u001b[0mhandler\u001b[0m \u001b[0;32min\u001b[0m \u001b[0mhandlers\u001b[0m\u001b[0;34m:\u001b[0m\u001b[0;34m\u001b[0m\u001b[0;34m\u001b[0m\u001b[0m\n\u001b[1;32m    502\u001b[0m             \u001b[0mfunc\u001b[0m \u001b[0;34m=\u001b[0m \u001b[0mgetattr\u001b[0m\u001b[0;34m(\u001b[0m\u001b[0mhandler\u001b[0m\u001b[0;34m,\u001b[0m \u001b[0mmeth_name\u001b[0m\u001b[0;34m)\u001b[0m\u001b[0;34m\u001b[0m\u001b[0;34m\u001b[0m\u001b[0m\n\u001b[0;32m--> 503\u001b[0;31m             \u001b[0mresult\u001b[0m \u001b[0;34m=\u001b[0m \u001b[0mfunc\u001b[0m\u001b[0;34m(\u001b[0m\u001b[0;34m*\u001b[0m\u001b[0margs\u001b[0m\u001b[0;34m)\u001b[0m\u001b[0;34m\u001b[0m\u001b[0;34m\u001b[0m\u001b[0m\n\u001b[0m\u001b[1;32m    504\u001b[0m             \u001b[0;32mif\u001b[0m \u001b[0mresult\u001b[0m \u001b[0;32mis\u001b[0m \u001b[0;32mnot\u001b[0m \u001b[0;32mNone\u001b[0m\u001b[0;34m:\u001b[0m\u001b[0;34m\u001b[0m\u001b[0;34m\u001b[0m\u001b[0m\n\u001b[1;32m    505\u001b[0m                 \u001b[0;32mreturn\u001b[0m \u001b[0mresult\u001b[0m\u001b[0;34m\u001b[0m\u001b[0;34m\u001b[0m\u001b[0m\n",
            "\u001b[0;32m/usr/lib/python3.7/urllib/request.py\u001b[0m in \u001b[0;36mhttp_error_default\u001b[0;34m(self, req, fp, code, msg, hdrs)\u001b[0m\n\u001b[1;32m    647\u001b[0m \u001b[0;32mclass\u001b[0m \u001b[0mHTTPDefaultErrorHandler\u001b[0m\u001b[0;34m(\u001b[0m\u001b[0mBaseHandler\u001b[0m\u001b[0;34m)\u001b[0m\u001b[0;34m:\u001b[0m\u001b[0;34m\u001b[0m\u001b[0;34m\u001b[0m\u001b[0m\n\u001b[1;32m    648\u001b[0m     \u001b[0;32mdef\u001b[0m \u001b[0mhttp_error_default\u001b[0m\u001b[0;34m(\u001b[0m\u001b[0mself\u001b[0m\u001b[0;34m,\u001b[0m \u001b[0mreq\u001b[0m\u001b[0;34m,\u001b[0m \u001b[0mfp\u001b[0m\u001b[0;34m,\u001b[0m \u001b[0mcode\u001b[0m\u001b[0;34m,\u001b[0m \u001b[0mmsg\u001b[0m\u001b[0;34m,\u001b[0m \u001b[0mhdrs\u001b[0m\u001b[0;34m)\u001b[0m\u001b[0;34m:\u001b[0m\u001b[0;34m\u001b[0m\u001b[0;34m\u001b[0m\u001b[0m\n\u001b[0;32m--> 649\u001b[0;31m         \u001b[0;32mraise\u001b[0m \u001b[0mHTTPError\u001b[0m\u001b[0;34m(\u001b[0m\u001b[0mreq\u001b[0m\u001b[0;34m.\u001b[0m\u001b[0mfull_url\u001b[0m\u001b[0;34m,\u001b[0m \u001b[0mcode\u001b[0m\u001b[0;34m,\u001b[0m \u001b[0mmsg\u001b[0m\u001b[0;34m,\u001b[0m \u001b[0mhdrs\u001b[0m\u001b[0;34m,\u001b[0m \u001b[0mfp\u001b[0m\u001b[0;34m)\u001b[0m\u001b[0;34m\u001b[0m\u001b[0;34m\u001b[0m\u001b[0m\n\u001b[0m\u001b[1;32m    650\u001b[0m \u001b[0;34m\u001b[0m\u001b[0m\n\u001b[1;32m    651\u001b[0m \u001b[0;32mclass\u001b[0m \u001b[0mHTTPRedirectHandler\u001b[0m\u001b[0;34m(\u001b[0m\u001b[0mBaseHandler\u001b[0m\u001b[0;34m)\u001b[0m\u001b[0;34m:\u001b[0m\u001b[0;34m\u001b[0m\u001b[0;34m\u001b[0m\u001b[0m\n",
            "\u001b[0;31mHTTPError\u001b[0m: HTTP Error 503: Service Unavailable"
          ]
        }
      ]
    },
    {
      "cell_type": "markdown",
      "metadata": {
        "id": "RAM_dP887uTq"
      },
      "source": [
        "If the above code blocks throws an error, e.g. the MNIST servers are down, then uncomment the following code instead."
      ]
    },
    {
      "cell_type": "code",
      "metadata": {
        "id": "4jyJVqUNdXDo"
      },
      "source": [
        "# # temporary dataloader if MNIST service is unavailable\n",
        "# !wget www.di.ens.fr/~lelarge/MNIST.tar.gz\n",
        "# !tar -zxvf MNIST.tar.gz\n",
        "\n",
        "# mnist_train = datasets.MNIST(root = './', train=True, download=True, transform=transform)\n",
        "# mnist_test = datasets.MNIST(root = './', train=False, download=True, transform=transform)"
      ],
      "execution_count": 6,
      "outputs": []
    },
    {
      "cell_type": "code",
      "metadata": {
        "pycharm": {
          "name": "#%%\n"
        },
        "id": "aEtCbO6upkou"
      },
      "source": [
        "# Create DataLoaders\n",
        "train_loader = DataLoader(mnist_train, batch_size=batch_size, shuffle=True, drop_last=True)\n",
        "test_loader = DataLoader(mnist_test, batch_size=batch_size, shuffle=True, drop_last=True)"
      ],
      "execution_count": 7,
      "outputs": []
    },
    {
      "cell_type": "markdown",
      "metadata": {
        "id": "GhFyzySNeT_e"
      },
      "source": [
        "# 3. Define the Network"
      ]
    },
    {
      "cell_type": "markdown",
      "metadata": {
        "collapsed": false,
        "pycharm": {
          "name": "#%% md\n"
        },
        "id": "RJkoAg-3pkow"
      },
      "source": [
        "The spiking neurons available in snnTorch are designed to be treated as activation units. The only difference is that these spiking neuron activations depend not only on their inputs, but also on their previous state (e.g., $I[t-1]$ and $U[t-1]$ for Stein's neuron). This can be implemented in a for-loop with ease.\n",
        "\n",
        "If you have a basic understanding of PyTorch, the following code block should look familiar. `nn.Linear` initializes the linear transformation layer, and instead of applying a sigmoid, ReLU or some other nonlinear activation, a spiking neuron is applied instead by calling `snn.Stein`:"
      ]
    },
    {
      "cell_type": "code",
      "metadata": {
        "pycharm": {
          "name": "#%%\n"
        },
        "id": "-uquHLLmpkox"
      },
      "source": [
        "# Define Network\n",
        "class Net(nn.Module):\n",
        "    def __init__(self):\n",
        "        super().__init__()\n",
        "\n",
        "        # Initialize layers\n",
        "        self.fc1 = nn.Linear(num_inputs, num_hidden)\n",
        "        self.lif1 = snn.Stein(alpha=alpha, beta=beta)\n",
        "        self.fc2 = nn.Linear(num_hidden, num_outputs)\n",
        "        self.lif2 = snn.Stein(alpha=alpha, beta=beta)\n",
        "\n",
        "    def forward(self, x):\n",
        "\n",
        "        # Initialize hidden states and outputs at t=0\n",
        "        spk1, syn1, mem1 = self.lif1.init_stein(batch_size, num_hidden)\n",
        "        spk2, syn2, mem2 = self.lif2.init_stein(batch_size, num_outputs)\n",
        "        \n",
        "        # Record the final layer\n",
        "        spk2_rec = []\n",
        "        mem2_rec = []\n",
        "\n",
        "        for step in range(num_steps):\n",
        "            cur1 = self.fc1(x)\n",
        "            spk1, syn1, mem1 = self.lif1(cur1, syn1, mem1)\n",
        "            cur2 = self.fc2(spk1)\n",
        "            spk2, syn2, mem2 = self.lif2(cur2, syn2, mem2)\n",
        "\n",
        "            spk2_rec.append(spk2)\n",
        "            mem2_rec.append(mem2)\n",
        "\n",
        "        return torch.stack(spk2_rec, dim=0), torch.stack(mem2_rec, dim=0)"
      ],
      "execution_count": 8,
      "outputs": []
    },
    {
      "cell_type": "markdown",
      "metadata": {
        "id": "Y0fHcAKfrav6"
      },
      "source": [
        "The code in the `forward()` function will only be called once the input argument `x` is explicitly passed in:\n",
        "\n",
        "* `fc1` applies a linear transformation to the input: $W_{i, j}^{[1]}X_{i}^{[1]}[t] \\rightarrow Y_{j}^{[1]}[t]$, i.e., `cur1`\n",
        "* `lif1` integrates $Y^{[1]}_{j}[t]$ over time (with a decay), to generate $I_{j}^{[1]}[t]$ and $U_{j}^{[1]}[t]$. An output spike is triggered if $U_{j}^{[1]}[t] > U_{\\rm thr}$. Equivalently, `spk1=1` if `mem1` > `threshold=1.0`\n",
        "* `fc2` applies a linear transformation to `spk1`: $W_{j, k}^{[2]}S_{j}^{[1]}[t] \\rightarrow Y_{k}^{[2]}[t]$, i.e., `cur2`\n",
        "* `lif2` is another spiking neuron layer, and generates output spikes $S_{k}^{[2]}[t]$ which are returned in the variable `spk2`\n",
        "\n",
        "Here, $i$ denotes one of 784 input neurons, $j$ indexes one of the 1,000 neurons in the hidden layer, and $k$ points to one of 10 output neurons.\n"
      ]
    },
    {
      "cell_type": "markdown",
      "metadata": {
        "id": "3-yJXOSQqANb"
      },
      "source": [
        "The layers in `def __init__(self)` are automatically created upon instantiating `Net()`, as is done below:\n"
      ]
    },
    {
      "cell_type": "code",
      "metadata": {
        "id": "EkTWSXj5fj2V"
      },
      "source": [
        "# Load the network onto CUDA if available\n",
        "net = Net().to(device)"
      ],
      "execution_count": 9,
      "outputs": []
    },
    {
      "cell_type": "markdown",
      "metadata": {
        "id": "6a7MdORCtIx4"
      },
      "source": [
        "# 4. Backpropagation for SNNs"
      ]
    },
    {
      "cell_type": "markdown",
      "metadata": {
        "collapsed": false,
        "pycharm": {
          "name": "#%% md\n"
        },
        "id": "ZlrNIMNnpkoy"
      },
      "source": [
        "A few questions arise when setting up a backprop-driven learning algorithm:\n",
        "\n",
        "1.   **Targets**: What should the target of the output layer be?\n",
        "2.   **Backprop through time**: How might the gradient flow back in time?\n",
        "2.   **Spike non-differentiability**: If spikes are discrete, instantaneous bursts of information, doesn't that make them non-differentiable? If the output spike has no gradient with respect to the network parameters, wouldn't backprop be impossible?\n",
        "\n",
        "Let's tackle these one by one. "
      ]
    },
    {
      "cell_type": "markdown",
      "metadata": {
        "id": "NpJhgA6n8LPt"
      },
      "source": [
        "## 4.1 Target Labels"
      ]
    },
    {
      "cell_type": "markdown",
      "metadata": {
        "id": "k0At_jfe8OLY"
      },
      "source": [
        "In [tutorial 1](https://colab.research.google.com/github/jeshraghian/snntorch/blob/tutorials/examples/tutorial_1_spikegen.ipynb), we learnt about rate and latency coding. Rate coding stores information in the frequency of spikes, and latency coding stores information in the timing of each spike. Previously, we used these encoding strategies to convert datasets into time-varying spikes. Here, they are used as encoding strategies for the output layer of our SNN. I.e., these codes will be used to teach the final layer of the network how to respond to certain inputs. \n",
        "\n",
        "The goal of the SNN is to predict a discrete variable with $n$ possible values, as is the case with MNIST where $n=10$. "
      ]
    },
    {
      "cell_type": "markdown",
      "metadata": {
        "id": "OnSx21wvAoee"
      },
      "source": [
        "### 4.1.1 Rate coding"
      ]
    },
    {
      "cell_type": "markdown",
      "metadata": {
        "id": "4kR56xe3Ari3"
      },
      "source": [
        "For rate coding, the most naive implementation is to encourage the correct class to fire at every time step, and the incorrect classes to not fire at all. There are two ways to implement this, one of which is a lot more effective than the other:\n",
        "\n",
        "* Set the target of the output spike of the correct class $y_{\\rm spk} = 1$ for all $t$, or\n",
        "* Set the target of the membrane potential of the correct class $y_{\\rm mem} = U_{\\rm thr}$ for all $t$ \n",
        "\n",
        "Which is the better approach? \n",
        "\n",
        "**Spiking Targets**\n",
        "\n",
        "Consider the first option. The output spikes are discrete events, and rely on large perturbations of the membrane potential around the threshold to have any infleunce. If the output spiking behavior goes unchanged, the gradient of the output of the network with respect to its parameters would be $0$. This is problematic, because the training process would no longer have a guide for how to improve the weights. It would be an ineffective approach for gradient descent. \n",
        "\n",
        "**Membrane Potential Targets**\n",
        "\n",
        "Instead, it is better to promote spiking by applying the target to the membrane potential. As the membrane potential is a much stronger function of the parameters, (i.e., a small perturbation of the weights would directly perturb the membrane potential), this would ensure there is a strong gradient whenever the network obtains a wrong result. So we set $y_{\\rm mem} = U_{\\rm thr}$. By default, `threshold=1`. The outputs can then be applied to a softmax unit, which are then used to find the cross-entropy loss:\n",
        "\n",
        "$$CE = - \\sum^n_{i=1}y_{i,\\rm mem} {\\rm log}(p_i),$$\n",
        "\n",
        "where $y_{i, \\rm mem}$ is the target label at a given time step, $n$ is the number of classes, and $p_i$ is the softmax probability for the $i^{th}$ class. \n",
        "\n",
        "The accuracy of the network would then be measured by counting up how many times each neuron fired across all time steps. We could then use `torch.max()` to choose the neuron with the most spikes, or somewhat equivalently, the highest average firing rate. \n",
        "\n",
        "It is possible to increase the target of membrane potential beyond the threshold to excite the neuron further. While this may be desirable in some instances, it will likely trigger high-conductance pathways for the wrong class when training other samples."
      ]
    },
    {
      "cell_type": "markdown",
      "metadata": {
        "id": "b-xv_G0_304H"
      },
      "source": [
        "*Our classifier will implement the simplest form of rate coding. It will encourage the correct class to fire 100% of time steps, and the incorrect class to fire 0% of the time. Although this is clearly not the most efficient method, it is the simplest.*"
      ]
    },
    {
      "cell_type": "markdown",
      "metadata": {
        "id": "iknCYQEeCaHG"
      },
      "source": [
        "### 4.1.2 Latency coding\n"
      ]
    },
    {
      "cell_type": "markdown",
      "metadata": {
        "id": "92hSKSBogC0I"
      },
      "source": [
        "In latency coding, the neuron that fires first is the predicted class. The target may be set to 1 for one of the first few time steps. Depending on the neuron model being used, it will take several time steps before the input can propagate to the output of the network. Therefore, it is inadvisable to set the target to `1` only for the first time step. \n",
        "\n",
        "Consider the case of a neuron receiving an input spike. Depending on the neuron model in use, the post-synaptic potential may experience a time delay $t_{\\rm psp}$ to reach the peak of its membrane potential, and subsequently emit an output spike. If this neuron is connected in a deep neural network, the minimum time before the final layer could generate output spikes *as a result of the input (and not biases)* would thus be $t_{\\rm min} = Lt_{\\rm psp}$, where $L$ is the number of layers in the network. \n",
        "\n",
        "For Stein's and Lapicque's models, the membrane potential will immediately jump as a result of the input. But there is a time delay of one step before the output spike can be triggered as a result. Therefore, we set $t_{\\rm psp}=1$ time step. For SRM0, it will take a longer time to reach the peak, and is a function of the decay rates, $\\alpha$ and $\\beta$. \n",
        "\n",
        "<center>\n",
        "<img src='https://github.com/jeshraghian/snntorch/blob/master/docs/_static/img/examples/tutorial3/3_3_delay.png?raw=true' width=\"450\">\n",
        "</center>\n",
        "\n",
        "In absence of this post-synaptic potential delay, it becomes challenging to control the output layer in terms of spike timing. An input spike of a multi-layer SNN could effectively be transmitted straight to the output instantaneously, without considering the input data at any later time steps. A slight modification is made to the unrolled computational graph, which adds a delay of one time step between $U$ and $S$.\n",
        "\n",
        "<center>\n",
        "<img src='https://github.com/jeshraghian/snntorch/blob/master/docs/_static/img/examples/tutorial3/3_4_graphdelay.png?raw=true' width=\"700\">\n",
        "</center>"
      ]
    },
    {
      "cell_type": "markdown",
      "metadata": {
        "id": "UYDvqr1oMHQp"
      },
      "source": [
        "\n",
        "As for the incorrect classes, it is acceptable to set their targets to 0. However, this could result in low conductance pathways that completely inhibit firing. It may be preferable to set their membrane potential target to something slightly higher, e.g., $U_{\\rm thr}/5$. The optimal point is a topic of further investigation. Note that all of the above can have a cross-entropy loss applied, just as with rate coding.\n",
        "\n",
        "A simple example across 4 time steps is provided in the image below, though the values and spiking periodicity should not be taken literally.\n",
        "\n",
        "<center>\n",
        "<img src='https://github.com/jeshraghian/snntorch/blob/master/docs/_static/img/examples/tutorial3/3_5_targets.png?raw=true' width=\"700\">\n",
        "</center>\n",
        "\n",
        "An alternative approach is to treat the number of time steps as a continuous variable and use a mean square error loss to dictate when firing should occur:\n",
        "\n",
        "$$MSE = \\sum^n_{t=1}(t_{\\rm spk} - \\hat{t_{\\rm spk}}^2),$$\n",
        "\n",
        "where $t$ is the time step, and $n$ is the total number of steps. In such a case, a larger number of time steps are expected to improve performance as it will allow the flow of time to look more 'continuous'.\n",
        "\n",
        "Is there a preference between latency and rate codes? We briefly touched on this question in the context of data encoding, and the same arguments apply here. Latency codes are desirable because they only rely on a single spike to convey all necessary information. Rate coding spreads out information across many time steps, and there is much less information transfer within each spike. Therefore, latency codes are much more power efficient when running on neuromorphic hardware. On the other hand, the redundant spikes in rate codes makes them much more noise tolerant. "
      ]
    },
    {
      "cell_type": "markdown",
      "metadata": {
        "id": "9SBjiLAX-ZhX"
      },
      "source": [
        "## 4.2 Backpropragation Through Time"
      ]
    },
    {
      "cell_type": "markdown",
      "metadata": {
        "id": "8UYEmLk4-e4G"
      },
      "source": [
        "Computing the gradient through an SNN is mostly the same as that of an RNN. The generalized backpropagation algorithm is applied to the unrolled computational graph. Working backward from the end of the sequence, the gradient flows from the loss to all descendents. Shown below are the various pathways of the gradient $\\nabla_W \\mathcal{L}$ from the parent ($\\mathcal{L}$: cross-entropy loss) to its leaf nodes ($W$). \n",
        "\n",
        "\n",
        "<center>\n",
        "<img src='https://github.com/jeshraghian/snntorch/blob/master/docs/_static/img/examples/tutorial3/3_6_bptt.png?raw=true' width=\"800\">\n",
        "</center>\n",
        "\n",
        "The learnable parameter $W$ is shared across each time step. This means that multiple backprop paths exist between the loss and the same network parameter. To resolve this, all gradients $\\nabla_W \\mathcal{L}$ are simply summed together before applying a weight update.\n",
        "\n",
        "To find $\\nabla_W \\mathcal{L}$, the chain rule is applied to each pathway. \n",
        "\n",
        "**Shortest Pathway** \n",
        "\n",
        "Considering only the shortest pathway at $t=3$, where the superscript $^{<1>}$ indicates this is just one of many paths to be summed:\n",
        "\n",
        "$$\\nabla_W \\mathcal{L}^{<1>} = \\frac{\\partial{\\mathcal{L}}}{\\partial{p_i}} \\frac{\\partial{p_i}}{\\partial{U[3]}} \\frac{\\partial{U[3]}}{\\partial{Y[3]}} \\frac{\\partial{Y[3]}}{\\partial{W}}$$\n",
        "\n",
        "The first two terms can be analytically solved by taking the derivative of the cross-entropy loss and the softmax function. The third term must be decomposed into the following terms:\n",
        "\n",
        "$$ \\frac{\\partial{U[3]}}{\\partial{Y[3]}} = \\frac{\\partial{U[3]}}{\\partial{I[3]}} \\frac{\\partial{I[3]}}{\\partial{Y[3]}}$$\n",
        "\n",
        "Recall the recursive form of Stein's neuron model:\n",
        "\n",
        "\n",
        "$$I[t+1]=\\alpha I[t] + WX[t+1]$$\n",
        "\n",
        "$$U[t+1] = \\beta U[t] + I[t+1] - R[t+1]$$\n",
        "\n",
        "$WX=Y$ is directly added to $I$, which is directly added to $U$. Therefore, both partial derivative terms evaluate to 1:\n",
        "\n",
        "$$\\frac{\\partial{U[3]}}{\\partial{Y[3]}} = 1$$\n",
        "\n",
        "The final term $ \\frac{\\partial{Y[3]}}{\\partial{W}}$ evaluates to the input at that time step $X[3]$. \n",
        "\n",
        "**2nd Shortest Pathways**\n",
        "\n",
        "Consider the pathway that flows backwards one time step from $t=3$ to $t=2$ through $\\beta$:\n",
        "\n",
        "$$\\nabla_W \\mathcal{L}^{<2>} = \\frac{\\partial{\\mathcal{L}}}{\\partial{p_i}} \\frac{\\partial{p_i}}{\\partial{U[3]}} \\frac{\\partial{U[3]}}{\\partial{U[2]}} \n",
        "\\frac{\\partial{U[2]}}{\\partial{Y[2]}} \\frac{\\partial{Y[2]}}{\\partial{W}}$$\n",
        "\n",
        "Almost all terms are the same as the shortest pathway calculation, or at least evaluate to the same values. The only major difference is the third term, which signals the backwards flow through time: $U[3] \\rightarrow U[2]$. The derivative is simply $\\beta$. \n",
        "\n",
        "The parallel pathway flowing through $I[3] \\rightarrow I[2]$ follows the same method, but instead, $\\frac{\\partial{I[3]}}{\\partial{I[2]}} = \\alpha$. \n",
        "\n",
        "An interesting result arises: for each additional time step the graph flows through, the smaller that component of the gradient becomes. This is because each backwards path is recursively multiplied by either $\\alpha$ or $\\beta$, which gradually diminish the contribution of earlier states of the network to gradient.\n",
        "\n",
        "Luckily for you, all of this is automatically taken care of by PyTorch's autodifferentiation framework. Variations of backprop through time are also available within snnTorch, which will be demonstrated in future tutorials.\n"
      ]
    },
    {
      "cell_type": "markdown",
      "metadata": {
        "id": "c7nYrxNFLybB"
      },
      "source": [
        "## 4.3 Non-differentiability of Spikes"
      ]
    },
    {
      "cell_type": "markdown",
      "metadata": {
        "id": "yXWeOeqZ5S_r"
      },
      "source": [
        "The above analysis only solved for parameter updates for the final layer. This was not an issue as we used membrane potential $U$ to calculate the loss, which is a continuous function. If we backpropagate to earlier layers, we need to take the derivative of spikes, i.e., a non-differentiable, non-continuous function.\n",
        "\n",
        "Let's open up the computational graph of Stein's neuron model to identify exactly where this problem occurs.\n",
        "\n",
        "<center>\n",
        "<img src='https://github.com/jeshraghian/snntorch/blob/master/docs/_static/img/examples/tutorial3/3_7_stein_bptt.png?raw=true' width=\"800\">\n",
        "</center>\n",
        "\n",
        "Backpropagating through the shortest path gives:\n",
        "$$\\frac{\\partial{S[3]}}{\\partial{Y[2]}} = \\frac{\\partial{S[3]}}{\\partial{U[2]}} \\frac{\\partial{U[2]}}{\\partial{I[2]}}\\frac{\\partial{I[2]}}{\\partial{Y[2]}}$$\n",
        "\n",
        "The final two terms evaluate to 1 for the same reasons described above. But the first term is non-differentiable. Recall how $S=1$ only for $U>U_{\\rm thr}$, i.e., a shifted form of the Heaviside step function. The analytical derivative evaluates to 0 everywhere, except at $U_{\\rm thr}: \\frac{\\partial{S[t]}}{\\partial{U[t-1]}} \\rightarrow \\infty$. This is the result generated by PyTorch's default autodifferentiation framework, and will zero out the gradient thus immobilizing the network's ability to learn:\n",
        "\n",
        "$$W := W - \\eta \\nabla_W \\mathcal{L} $$\n",
        "\n",
        "where $\\nabla_W \\mathcal{L} \\rightarrow 0$. "
      ]
    },
    {
      "cell_type": "markdown",
      "metadata": {
        "id": "ktpVgJisQU03"
      },
      "source": [
        "How do we overcome this issue? Several approaches have been taken and yielded great results. Smooth approximations of the Heaviside function have been used, taking gradients of the continuous function instead. Friedemann Zenke's extensive work on surrogate gradients is among the most rigorous on this topic, and is [very well documented here](https://github.com/fzenke/spytorch). The option to use surrogate gradients is available in snnTorch as well, and can be called from the `snntorch.surrogate` library. More details are available [here](https://snntorch.readthedocs.io/en/latest/snntorch.surrogate.html).\n",
        "\n",
        "snnTorch takes a wholly different approach that is simple, yet effective. "
      ]
    },
    {
      "cell_type": "markdown",
      "metadata": {
        "id": "iBHz22CdgE0k"
      },
      "source": [
        "## 4.3.1 A Time-Evolution Approach to the Spiking Derivative"
      ]
    },
    {
      "cell_type": "markdown",
      "metadata": {
        "id": "r8W_hVKkf4HM"
      },
      "source": [
        "What follows is a simple, intuitive description behind the approach taken. A rigorous mathematical treatment will be made available separately. \n",
        "\n",
        "The analytical derivative of $S$ with respect to $U$ neglects two features of spiking neurons:\n",
        "\n",
        "* the discrete time representation of SNNs \n",
        "* spike-induced reset and refractory periods of neurons\n",
        "\n",
        "**Discrete Time Representation**\n",
        "\n",
        "Given that SNNs (and more generally, RNNs) operate in discrete time, we can approximate the derivative to be the relative change across 1 time step:\n",
        "\n",
        "$$\\frac{\\partial S}{\\partial U} \\rightarrow \\frac{\\Delta S}{\\Delta U}$$\n",
        "\n",
        "Intuitively, the time derivative cannot be calculated by letting $\\Delta t \\rightarrow 0$, but rather, it must approach the smallest possible value $\\Delta t \\rightarrow 1$. It therefore follows that the derivative of a time-varying pair of functions must be treated similarly.\n",
        "\n",
        "**Spike-induced Reset**\n",
        "\n",
        "Next, the occurrence of a spike necessarily incurs a membrane potential reset. So when the spike mechanism switches off: $S: 1 \\rightarrow 0$, the membrane potential resets by subtraction of the threshold, which is set to one by default: $\\Delta U = U_{\\rm thr} \\rightarrow -1$:\n",
        "\n",
        "$$\\frac{\\Delta S}{\\Delta U} = \\frac{-1}{-1} = 1$$\n",
        "\n",
        "This situation is illustrated below:\n",
        "\n",
        "<center>\n",
        "<img src='https://github.com/jeshraghian/snntorch/blob/master/docs/_static/img/examples/tutorial3/3_8_timevarying.png?raw=true' width=\"550\">\n",
        "</center>\n",
        "\n",
        "If instead there is no spike, then $\\Delta S = 0$ for a finite change in $U$. Formally:\n",
        "\n",
        "\\begin{equation}\n",
        "    \\frac{\\partial S}{\\partial U} \\approx \\Theta(U - U_{\\rm thr}) =     \n",
        "    \\begin{cases}\n",
        "      1  & \\text{if $S$ = $1$}\\\\\n",
        "      0 & \\text{if $S$ = $0$}\n",
        "    \\end{cases}  \n",
        "\\end{equation}\n",
        "\n",
        "This is simply the Heaviside step function shifted about the membrane threshold, $U_{\\rm thr} = \\theta$.\n",
        "\n",
        "<center>\n",
        "<img src='https://github.com/jeshraghian/snntorch/blob/master/docs/_static/img/examples/tutorial3/3_9_spike_grad.png?raw=true' width=\"550\">\n",
        "</center>\n",
        "\n",
        "What this suggests is that learning only takes place when neurons fire. This is generally not a concern, as a large enough network will have sufficient spiking to enable a gradient to flow through the computational graph. Armed with the knowledge that weight updates only take place when neurons fire, this approach echoes a rudimentary form of Hebbian learning.\n",
        "\n",
        "Importantly, the situation is more nuanced than what has been described above. But this should be sufficient to give you the big picture intuition. As a matter of interest, the Heaviside gradient takes a similar approach to how the gradient flows through a max-pooling unit, and also evaluates to the same derivative as a shifted ReLU activation. "
      ]
    },
    {
      "cell_type": "markdown",
      "metadata": {
        "id": "uDFwKmN9en4i"
      },
      "source": [
        "# 5. Training on Static MNIST"
      ]
    },
    {
      "cell_type": "markdown",
      "metadata": {
        "id": "6D-fhT3Q7nXM"
      },
      "source": [
        "\n",
        "Time for training! Let's first define a couple of functions to print out test/train accuracy."
      ]
    },
    {
      "cell_type": "code",
      "metadata": {
        "pycharm": {
          "name": "#%%\n"
        },
        "id": "-IxcnBAxpkoy"
      },
      "source": [
        "def print_batch_accuracy(data, targets, train=False):\n",
        "    output, _ = net(data.view(batch_size, -1))\n",
        "    _, idx = output.sum(dim=0).max(1)\n",
        "    acc = np.mean((targets == idx).detach().cpu().numpy())\n",
        "\n",
        "    if train:\n",
        "        print(f\"Train Set Accuracy: {acc}\")\n",
        "    else:\n",
        "        print(f\"Test Set Accuracy: {acc}\")\n",
        "\n",
        "def train_printer():\n",
        "    print(f\"Epoch {epoch}, Minibatch {minibatch_counter}\")\n",
        "    print(f\"Train Set Loss: {loss_hist[counter]}\")\n",
        "    print(f\"Test Set Loss: {test_loss_hist[counter]}\")\n",
        "    print_batch_accuracy(data_it, targets_it, train=True)\n",
        "    print_batch_accuracy(testdata_it, testtargets_it, train=False)\n",
        "    print(\"\\n\")"
      ],
      "execution_count": 10,
      "outputs": []
    },
    {
      "cell_type": "markdown",
      "metadata": {
        "collapsed": false,
        "pycharm": {
          "name": "#%% md\n"
        },
        "id": "OxfhunW6pkoz"
      },
      "source": [
        "## 5.1 Optimizer"
      ]
    },
    {
      "cell_type": "markdown",
      "metadata": {
        "id": "T7ULsfh9bHr1"
      },
      "source": [
        "We will apply a softmax to the output of our network, and calculate the loss using the negative log-likelihood."
      ]
    },
    {
      "cell_type": "code",
      "metadata": {
        "id": "iqdVyjCNtdlp"
      },
      "source": [
        "optimizer = torch.optim.Adam(net.parameters(), lr=2e-4, betas=(0.9, 0.999))\n",
        "log_softmax_fn = nn.LogSoftmax(dim=-1)\n",
        "loss_fn = nn.NLLLoss()"
      ],
      "execution_count": 11,
      "outputs": []
    },
    {
      "cell_type": "markdown",
      "metadata": {
        "id": "GiqAVKzVbfPn"
      },
      "source": [
        "## 5.2 Training Loop"
      ]
    },
    {
      "cell_type": "markdown",
      "metadata": {
        "id": "yGDs_dF2e1Sx"
      },
      "source": [
        "We assume some working knowledge of PyTorch. The training loop is fairly standard, with the only exceptions being the following.\n",
        "\n",
        "**Inputs**\n",
        "\n",
        "The for-loop that iterates through each time step during the forward pass has already been nested within `net`. This means that the following line of code:\n",
        "\n",
        "`spk_rec, mem_rec = net(data_it.view(batch_size, -1))`\n",
        "\n",
        "passes the same sample at each step. That is why we refer to it as static MNIST.\n",
        "\n",
        "\n",
        "**Targets**\n",
        "\n",
        "The losses generated at each time steps are summed together in the for-loop that contains:\n",
        "\n",
        "`loss_val += loss_fn(log_p_y[step], targets_it)`\n",
        "\n",
        "Also note how `targets_it` is not indexed, because the same value is used as the target for each step. '1' is applied as the target for the correct class for all of time, and '0' is applied as the target for all other classes.\n",
        "\n",
        "Let's train this across 3 epochs to keep things quick."
      ]
    },
    {
      "cell_type": "code",
      "metadata": {
        "colab": {
          "base_uri": "https://localhost:8080/"
        },
        "id": "LMZMxEV8dcTC",
        "outputId": "c7e1d913-5166-40b7-946d-a061890a154c"
      },
      "source": [
        "loss_hist = []\n",
        "test_loss_hist = []\n",
        "counter = 0\n",
        "\n",
        "# Outer training loop\n",
        "for epoch in range(3):\n",
        "    minibatch_counter = 0\n",
        "    train_batch = iter(train_loader)\n",
        "\n",
        "    # Minibatch training loop\n",
        "    for data_it, targets_it in train_batch:\n",
        "        data_it = data_it.to(device)\n",
        "        targets_it = targets_it.to(device)\n",
        "\n",
        "        spk_rec, mem_rec = net(data_it.view(batch_size, -1))\n",
        "        log_p_y = log_softmax_fn(mem_rec)\n",
        "        loss_val = torch.zeros((1), dtype=dtype, device=device)\n",
        "\n",
        "        # Sum loss over time steps: BPTT\n",
        "        for step in range(num_steps):\n",
        "          loss_val += loss_fn(log_p_y[step], targets_it)\n",
        "\n",
        "        # Gradient calculation\n",
        "        optimizer.zero_grad()\n",
        "        loss_val.backward()\n",
        "\n",
        "        # Weight Update\n",
        "        optimizer.step()\n",
        "\n",
        "        # Store loss history for future plotting\n",
        "        loss_hist.append(loss_val.item())\n",
        "\n",
        "        # Test set\n",
        "        test_data = itertools.cycle(test_loader)\n",
        "        testdata_it, testtargets_it = next(test_data)\n",
        "        testdata_it = testdata_it.to(device)\n",
        "        testtargets_it = testtargets_it.to(device)\n",
        "\n",
        "        # Test set forward pass\n",
        "        test_spk, test_mem = net(testdata_it.view(batch_size, -1))\n",
        "\n",
        "        # Test set loss\n",
        "        log_p_ytest = log_softmax_fn(test_mem)\n",
        "        log_p_ytest = log_p_ytest.sum(dim=0)\n",
        "        loss_val_test = loss_fn(log_p_ytest, testtargets_it)\n",
        "        test_loss_hist.append(loss_val_test.item())\n",
        "\n",
        "        # Print test/train loss/accuracy\n",
        "        if counter % 50 == 0:\n",
        "            train_printer()\n",
        "        minibatch_counter += 1\n",
        "        counter += 1\n",
        "\n",
        "loss_hist_true_grad = loss_hist\n",
        "test_loss_hist_true_grad = test_loss_hist"
      ],
      "execution_count": 12,
      "outputs": [
        {
          "output_type": "stream",
          "text": [
            "Epoch 0, Minibatch 0\n",
            "Train Set Loss: 91.04364013671875\n",
            "Test Set Loss: 72.22314453125\n",
            "Train Set Accuracy: 0.1171875\n",
            "Test Set Accuracy: 0.0859375\n",
            "\n",
            "\n",
            "Epoch 0, Minibatch 50\n",
            "Train Set Loss: 15.208337783813477\n",
            "Test Set Loss: 15.097748756408691\n",
            "Train Set Accuracy: 0.921875\n",
            "Test Set Accuracy: 0.9140625\n",
            "\n",
            "\n",
            "Epoch 0, Minibatch 100\n",
            "Train Set Loss: 17.199602127075195\n",
            "Test Set Loss: 13.367517471313477\n",
            "Train Set Accuracy: 0.9140625\n",
            "Test Set Accuracy: 0.90625\n",
            "\n",
            "\n",
            "Epoch 0, Minibatch 150\n",
            "Train Set Loss: 12.466127395629883\n",
            "Test Set Loss: 14.272090911865234\n",
            "Train Set Accuracy: 0.9296875\n",
            "Test Set Accuracy: 0.921875\n",
            "\n",
            "\n",
            "Epoch 0, Minibatch 200\n",
            "Train Set Loss: 15.294615745544434\n",
            "Test Set Loss: 9.927404403686523\n",
            "Train Set Accuracy: 0.90625\n",
            "Test Set Accuracy: 0.9375\n",
            "\n",
            "\n",
            "Epoch 0, Minibatch 250\n",
            "Train Set Loss: 9.700716972351074\n",
            "Test Set Loss: 11.361162185668945\n",
            "Train Set Accuracy: 0.9609375\n",
            "Test Set Accuracy: 0.9296875\n",
            "\n",
            "\n",
            "Epoch 0, Minibatch 300\n",
            "Train Set Loss: 11.464883804321289\n",
            "Test Set Loss: 10.777521133422852\n",
            "Train Set Accuracy: 0.953125\n",
            "Test Set Accuracy: 0.953125\n",
            "\n",
            "\n",
            "Epoch 0, Minibatch 350\n",
            "Train Set Loss: 10.300975799560547\n",
            "Test Set Loss: 9.948326110839844\n",
            "Train Set Accuracy: 0.9375\n",
            "Test Set Accuracy: 0.9453125\n",
            "\n",
            "\n",
            "Epoch 0, Minibatch 400\n",
            "Train Set Loss: 9.71350383758545\n",
            "Test Set Loss: 11.419652938842773\n",
            "Train Set Accuracy: 0.9375\n",
            "Test Set Accuracy: 0.90625\n",
            "\n",
            "\n",
            "Epoch 0, Minibatch 450\n",
            "Train Set Loss: 10.660801887512207\n",
            "Test Set Loss: 9.27198314666748\n",
            "Train Set Accuracy: 0.953125\n",
            "Test Set Accuracy: 0.953125\n",
            "\n",
            "\n",
            "Epoch 1, Minibatch 32\n",
            "Train Set Loss: 13.296701431274414\n",
            "Test Set Loss: 10.316583633422852\n",
            "Train Set Accuracy: 0.921875\n",
            "Test Set Accuracy: 0.9453125\n",
            "\n",
            "\n",
            "Epoch 1, Minibatch 82\n",
            "Train Set Loss: 9.9452486038208\n",
            "Test Set Loss: 10.205911636352539\n",
            "Train Set Accuracy: 0.96875\n",
            "Test Set Accuracy: 0.9453125\n",
            "\n",
            "\n",
            "Epoch 1, Minibatch 132\n",
            "Train Set Loss: 10.119343757629395\n",
            "Test Set Loss: 8.405532836914062\n",
            "Train Set Accuracy: 0.9453125\n",
            "Test Set Accuracy: 0.9765625\n",
            "\n",
            "\n",
            "Epoch 1, Minibatch 182\n",
            "Train Set Loss: 11.504053115844727\n",
            "Test Set Loss: 8.470478057861328\n",
            "Train Set Accuracy: 0.9296875\n",
            "Test Set Accuracy: 0.953125\n",
            "\n",
            "\n",
            "Epoch 1, Minibatch 232\n",
            "Train Set Loss: 8.585421562194824\n",
            "Test Set Loss: 9.351545333862305\n",
            "Train Set Accuracy: 0.9765625\n",
            "Test Set Accuracy: 0.9296875\n",
            "\n",
            "\n",
            "Epoch 1, Minibatch 282\n",
            "Train Set Loss: 9.407755851745605\n",
            "Test Set Loss: 12.72318172454834\n",
            "Train Set Accuracy: 0.9765625\n",
            "Test Set Accuracy: 0.90625\n",
            "\n",
            "\n",
            "Epoch 1, Minibatch 332\n",
            "Train Set Loss: 9.558431625366211\n",
            "Test Set Loss: 8.222070693969727\n",
            "Train Set Accuracy: 0.953125\n",
            "Test Set Accuracy: 0.9375\n",
            "\n",
            "\n",
            "Epoch 1, Minibatch 382\n",
            "Train Set Loss: 7.538782596588135\n",
            "Test Set Loss: 9.7677001953125\n",
            "Train Set Accuracy: 0.984375\n",
            "Test Set Accuracy: 0.953125\n",
            "\n",
            "\n",
            "Epoch 1, Minibatch 432\n",
            "Train Set Loss: 10.186610221862793\n",
            "Test Set Loss: 9.274903297424316\n",
            "Train Set Accuracy: 0.9765625\n",
            "Test Set Accuracy: 0.953125\n",
            "\n",
            "\n",
            "Epoch 2, Minibatch 14\n",
            "Train Set Loss: 9.357715606689453\n",
            "Test Set Loss: 7.230169296264648\n",
            "Train Set Accuracy: 0.9453125\n",
            "Test Set Accuracy: 0.984375\n",
            "\n",
            "\n",
            "Epoch 2, Minibatch 64\n",
            "Train Set Loss: 8.09607982635498\n",
            "Test Set Loss: 10.963495254516602\n",
            "Train Set Accuracy: 0.984375\n",
            "Test Set Accuracy: 0.9453125\n",
            "\n",
            "\n",
            "Epoch 2, Minibatch 114\n",
            "Train Set Loss: 8.341133117675781\n",
            "Test Set Loss: 8.74609375\n",
            "Train Set Accuracy: 0.96875\n",
            "Test Set Accuracy: 0.953125\n",
            "\n",
            "\n",
            "Epoch 2, Minibatch 164\n",
            "Train Set Loss: 7.464437007904053\n",
            "Test Set Loss: 9.930970191955566\n",
            "Train Set Accuracy: 0.96875\n",
            "Test Set Accuracy: 0.9609375\n",
            "\n",
            "\n",
            "Epoch 2, Minibatch 214\n",
            "Train Set Loss: 8.371086120605469\n",
            "Test Set Loss: 10.785337448120117\n",
            "Train Set Accuracy: 0.9921875\n",
            "Test Set Accuracy: 0.9453125\n",
            "\n",
            "\n",
            "Epoch 2, Minibatch 264\n",
            "Train Set Loss: 7.28355073928833\n",
            "Test Set Loss: 10.783693313598633\n",
            "Train Set Accuracy: 0.96875\n",
            "Test Set Accuracy: 0.9609375\n",
            "\n",
            "\n",
            "Epoch 2, Minibatch 314\n",
            "Train Set Loss: 7.992678165435791\n",
            "Test Set Loss: 8.117823600769043\n",
            "Train Set Accuracy: 0.984375\n",
            "Test Set Accuracy: 0.9765625\n",
            "\n",
            "\n",
            "Epoch 2, Minibatch 364\n",
            "Train Set Loss: 8.0332670211792\n",
            "Test Set Loss: 8.060698509216309\n",
            "Train Set Accuracy: 0.96875\n",
            "Test Set Accuracy: 0.96875\n",
            "\n",
            "\n",
            "Epoch 2, Minibatch 414\n",
            "Train Set Loss: 7.893736839294434\n",
            "Test Set Loss: 7.379809379577637\n",
            "Train Set Accuracy: 0.9765625\n",
            "Test Set Accuracy: 0.9609375\n",
            "\n",
            "\n",
            "Epoch 2, Minibatch 464\n",
            "Train Set Loss: 6.04101037979126\n",
            "Test Set Loss: 9.735074996948242\n",
            "Train Set Accuracy: 0.984375\n",
            "Test Set Accuracy: 0.953125\n",
            "\n",
            "\n"
          ],
          "name": "stdout"
        }
      ]
    },
    {
      "cell_type": "markdown",
      "metadata": {
        "id": "Taf6WZLojHTz"
      },
      "source": [
        "If this was your first time training an SNN, then congratulations!"
      ]
    },
    {
      "cell_type": "markdown",
      "metadata": {
        "collapsed": false,
        "pycharm": {
          "name": "#%% md\n"
        },
        "id": "HxU7P7xFpko3"
      },
      "source": [
        "# 6. Results\n",
        "## 6.1 Plot Training/Test Loss"
      ]
    },
    {
      "cell_type": "code",
      "metadata": {
        "pycharm": {
          "name": "#%%\n"
        },
        "id": "_Pk_EScnpkpj",
        "colab": {
          "base_uri": "https://localhost:8080/",
          "height": 334
        },
        "outputId": "a4c5ee44-b144-426b-d697-6329ddec49b3"
      },
      "source": [
        "# Plot Loss\n",
        "fig = plt.figure(facecolor=\"w\", figsize=(10, 5))\n",
        "plt.plot(loss_hist)\n",
        "plt.plot(test_loss_hist)\n",
        "plt.legend([\"Train Loss\", \"Test Loss\"])\n",
        "plt.xlabel(\"Minibatch\")\n",
        "plt.ylabel(\"Loss\")\n",
        "plt.show()"
      ],
      "execution_count": 13,
      "outputs": [
        {
          "output_type": "display_data",
          "data": {
            "image/png": "[encoded data removed]",
            "text/plain": [
              "<Figure size 720x360 with 1 Axes>"
            ]
          },
          "metadata": {
            "tags": []
          }
        }
      ]
    },
    {
      "cell_type": "markdown",
      "metadata": {
        "id": "g-Gd84OAl1rB"
      },
      "source": [
        "Taking a look at the training / test loss, the process is somewhat noisy. This could be a result of a variety of things: minibatch gradient descent is the obvious one, but the use of improper targets likely also contributes. By encouraging the correct class to fire at every time step, the loss function conflicts with the reset mechanism that tries to prevent this."
      ]
    },
    {
      "cell_type": "markdown",
      "metadata": {
        "collapsed": false,
        "pycharm": {
          "name": "#%% md\n"
        },
        "id": "Z3f0vBnBpkpk"
      },
      "source": [
        "## 6.2 Test Set Accuracy\n",
        "This function iterates over all minibatches to obtain a measure of accuracy over the full 10,000 samples in the test set."
      ]
    },
    {
      "cell_type": "code",
      "metadata": {
        "colab": {
          "base_uri": "https://localhost:8080/"
        },
        "id": "F5Rb4xHGndQh",
        "outputId": "f432a74d-e777-40c3-b350-209440509618"
      },
      "source": [
        "total = 0\n",
        "correct = 0\n",
        "\n",
        "# drop_last switched to False to keep all samples\n",
        "test_loader = DataLoader(mnist_test, batch_size=batch_size, shuffle=True, drop_last=False)\n",
        "\n",
        "with torch.no_grad():\n",
        "  net.eval()\n",
        "  for data in test_loader:\n",
        "    images, labels = data\n",
        "    images = images.to(device)\n",
        "    labels = labels.to(device)\n",
        "\n",
        "    # If current batch matches batch_size, just do the usual thing\n",
        "    if images.size()[0] == batch_size:\n",
        "      outputs, _ = net(images.view(batch_size, -1))\n",
        "\n",
        "    # If current batch does not match batch_size (i.e., is the final batch),\n",
        "    # modify batch_size in a temp variable and restore it at the end\n",
        "    else:\n",
        "      temp_bs = batch_size\n",
        "      batch_size = images.size()[0]\n",
        "      outputs, _ = net(images.view(images.size()[0], -1))\n",
        "      batch_size = temp_bs\n",
        "\n",
        "    _, predicted = outputs.sum(dim=0).max(1)\n",
        "    total += labels.size(0)\n",
        "    correct += (predicted == labels).sum().item()\n",
        "\n",
        "print(f\"Total correctly classified test set images: {correct}/{total}\")\n",
        "print(f\"Test Set Accuracy: {100 * correct / total}%\")"
      ],
      "execution_count": 14,
      "outputs": [
        {
          "output_type": "stream",
          "text": [
            "Total correctly classified test set images: 9628/10000\n",
            "Test Set Accuracy: 96.28%\n"
          ],
          "name": "stdout"
        }
      ]
    },
    {
      "cell_type": "markdown",
      "metadata": {
        "collapsed": false,
        "pycharm": {
          "name": "#%% md\n"
        },
        "id": "TBIXau4Zpkpl"
      },
      "source": [
        "Voila! That's it for static MNIST. Feel free to tweak the network parameters, hyperparameters, decay rate, using a learning rate scheduler etc. to see if you can improve the network performance. "
      ]
    },
    {
      "cell_type": "markdown",
      "metadata": {
        "collapsed": false,
        "pycharm": {
          "name": "#%% md\n"
        },
        "id": "zJXQEKtmpkpl"
      },
      "source": [
        "# 7. Spiking MNIST Using a Convolutional SNN"
      ]
    },
    {
      "cell_type": "markdown",
      "metadata": {
        "id": "nLmd1LsJdwqa"
      },
      "source": [
        "Part of the appeal of SNNs is their ability to handle time-varying spiking data. So let's use rate-coding to convert MNIST into spiking MNIST using the `spikegen` module in the previous tutorial. We will then define a convolutional neural network (CNN) and train that instead. "
      ]
    },
    {
      "cell_type": "code",
      "metadata": {
        "pycharm": {
          "name": "#%%\n"
        },
        "id": "022BdA3ipkpl"
      },
      "source": [
        "from snntorch import spikegen\n",
        "\n",
        "# MNIST to spiking-MNIST\n",
        "spike_data, spike_targets = spikegen.rate(data_it, targets_it, num_outputs=num_outputs, num_steps=num_steps)"
      ],
      "execution_count": 15,
      "outputs": []
    },
    {
      "cell_type": "markdown",
      "metadata": {
        "collapsed": false,
        "pycharm": {
          "name": "#%% md\n"
        },
        "id": "V8BeObI_pkpm"
      },
      "source": [
        "## 7.1 Visualiser\n",
        "As a quick refresher from Tutorial 1, let's see what our input data looks like using `spikeplot.animate`. "
      ]
    },
    {
      "cell_type": "code",
      "metadata": {
        "id": "xqXyS9_CrYSQ"
      },
      "source": [
        "from snntorch import spikeplot as splt\n",
        "from IPython.display import HTML"
      ],
      "execution_count": 16,
      "outputs": []
    },
    {
      "cell_type": "code",
      "metadata": {
        "colab": {
          "base_uri": "https://localhost:8080/",
          "height": 540
        },
        "id": "tf46dC95rh7n",
        "outputId": "9a2ec447-e475-4853-8815-7f890cfb876b"
      },
      "source": [
        "spike_data_sample = spike_data[:, 0, 0]\n",
        "\n",
        "fig, ax = plt.subplots()\n",
        "anim = splt.animator(spike_data_sample, fig, ax)\n",
        "\n",
        "HTML(anim.to_html5_video())"
      ],
      "execution_count": 17,
      "outputs": [
        {
          "output_type": "execute_result",
          "data": {
            "text/html": [
              "<video width=\"432\" height=\"288\" controls autoplay loop>\n",
              "  <source type=\"video/mp4\" src=\"data:video/mp4;base64,AAAAHGZ0eXBNNFYgAAACAGlzb21pc28yYXZjMQAAAAhmcmVlAAAu9m1kYXQAAAKuBgX//6rcRem9\n",
              "5tlIt5Ys2CDZI+7veDI2NCAtIGNvcmUgMTUyIHIyODU0IGU5YTU5MDMgLSBILjI2NC9NUEVHLTQg\n",
              "QVZDIGNvZGVjIC0gQ29weWxlZnQgMjAwMy0yMDE3IC0gaHR0cDovL3d3dy52aWRlb2xhbi5vcmcv\n",
              "eDI2NC5odG1sIC0gb3B0aW9uczogY2FiYWM9MSByZWY9MyBkZWJsb2NrPTE6MDowIGFuYWx5c2U9\n",
              "MHgzOjB4MTEzIG1lPWhleCBzdWJtZT03IHBzeT0xIHBzeV9yZD0xLjAwOjAuMDAgbWl4ZWRfcmVm\n",
              "PTEgbWVfcmFuZ2U9MTYgY2hyb21hX21lPTEgdHJlbGxpcz0xIDh4OGRjdD0xIGNxbT0wIGRlYWR6\n",
              "b25lPTIxLDExIGZhc3RfcHNraXA9MSBjaHJvbWFfcXBfb2Zmc2V0PS0yIHRocmVhZHM9MyBsb29r\n",
              "YWhlYWRfdGhyZWFkcz0xIHNsaWNlZF90aHJlYWRzPTAgbnI9MCBkZWNpbWF0ZT0xIGludGVybGFj\n",
              "ZWQ9MCBibHVyYXlfY29tcGF0PTAgY29uc3RyYWluZWRfaW50cmE9MCBiZnJhbWVzPTMgYl9weXJh\n",
              "bWlkPTIgYl9hZGFwdD0xIGJfYmlhcz0wIGRpcmVjdD0xIHdlaWdodGI9MSBvcGVuX2dvcD0wIHdl\n",
              "aWdodHA9MiBrZXlpbnQ9MjUwIGtleWludF9taW49MjUgc2NlbmVjdXQ9NDAgaW50cmFfcmVmcmVz\n",
              "aD0wIHJjX2xvb2thaGVhZD00MCByYz1jcmYgbWJ0cmVlPTEgY3JmPTIzLjAgcWNvbXA9MC42MCBx\n",
              "cG1pbj0wIHFwbWF4PTY5IHFwc3RlcD00IGlwX3JhdGlvPTEuNDAgYXE9MToxLjAwAIAAAAlrZYiE\n",
              "ADv//vdOvwKbRZdqA5JXCvbKpCZZuVJrAfKmAAADAAARsG58lw15q9IkAACtobhz+EtXgAGbPfnA\n",
              "6vBq2y4KD1VFSYr8QiGU1RZ6il6SV2xj+fxPL8Qg2QVIULO34V+ebakP5XzlvzKFuFPko/2sMpj8\n",
              "1HMKuFMDNP6BQzOTFADkOh9E7gFlDtmhQ7ao73XacqLJDKi4uDe/Ega2pcdt+Uoz5RneJBvvsXXW\n",
              "rjWLiq6VN6WLW0AuG3Rq9iEWxQXArMFtkNGiqBdF5f68KWF6yk+Xb6ZocvMyNWG1azkdPWk6yQ3X\n",
              "n35j2GMh76afXCpEm9RWQdGLinb0E4TpxooD5ffZzXF9uwKPSu1wh6COVZMTLpAijJ51RzS/+e2B\n",
              "gwqBS496Dh3jyH6rGP/ZYC9W4jR3RTbge4XYbJnPD3TY5/dORm+YGgC5XZz1nXzjr7p+VwK5gRyy\n",
              "kMux8MJHfOCjTtrlrE53WljrsfDawK0BnMIeXAW0/t+PPtgijEIgHHrNBoTTJn9bt/e44m8rErI1\n",
              "IuwX/0YuizpKkXrT3uM7cTJwYxYhYW6rNG/UBW/WuL1LrF9yOx7TQqunD6IE91GTDSkOJuKbr0Zr\n",
              "Ijf7y/dXrewq3kRStzzFiT2BwnmFHg+AX6rD2iWa//HVyAK5KdWP2+rJ+KP/pHeDx8F/Ok1I9dbu\n",
              "B8MCU++YJBHg42lIfLXjtuAG2KzMcxUqZPpe3r4uaKGxH/CP1rygeL7+hvgls1JEcw3WdtGm1oVB\n",
              "6YioPheEtcvRnroSBgsBOKo6fggRWZ/p4tOQgKAL4KzWDnyCQYuU2QZlu0JwFqDYA4IdzZcAR/1O\n",
              "twmDKmPFKlgk+HOl9nq54LiCNJ3AFgD6LgzIAEU5iCw9F3UChOjW8TZaTObuS98ceCNgAQ65dgwB\n",
              "IlpBUJyi0/0dvIltxupRxa9n6QRGAlYa21eiRMu1PutTz1U+GCbOJ5cwt6K7nu1rktYUv8X3NoDb\n",
              "44LFPpBgAYOPgZ5CXyxvJvlsj8F0Jq2Koraw7QsEU/Oz9tgqTO0D70z+V/MuWNe3U+vVaIsHEKC3\n",
              "+PRouPPdb3rDjMAVhVQHbhpPCVbRwZk6M/st3Ey6dKHBlgyYHAOdftvUY9BeI7LhrTSxkANn5oI9\n",
              "ZHT8OgEWlnw7Bp+rAvee94PCVc5j1Fjn/nrSM4Ujr0x2+rKA3E3HSpYV4xKYxU/tlUAiqZ/9WTOO\n",
              "96+FUOrSk/T91PlL5J0jtL/ciFEYRnLdoCM0VCC+HbWiPqo30dpLt9MIO8pdU/+24BYaxOU66kLh\n",
              "HiejY2Ecvyl5eP9/XFB6IK+eBAYoYHCko/ncScjMcvR7P36tO8qfNjQDkDMFrxvTQYVX29NFS8G3\n",
              "dw88RtQ6O8HmmcRSO8vM8TuhOlEPtzo9C8d6rv3k9Zap5pPFd9fFNOPRCRN+yFwoH7H66dwEfs6w\n",
              "FfO1hNk5hQc5uq22YtB3wqwDmLkhNGcBuhzUiHo/SYErtp0pvghu/MkByys/4Ju/SO+hsYfrryYS\n",
              "DZdTBD/SfkWYfriqJOMEv5/KyuyXODy3AQcUiw3jpzoUI1t+E8cnRDlmH9bnWpmDe9eBWlZwrBhs\n",
              "rEa3YX4Ryq6qiqvI/qjwDT4RvfoFmqYckQ+O+rx91pdStcy2+kV9I+p5tcMecwv93rm2EJIEJei5\n",
              "sFIqXaC7FGV4BB2PkoFq/lWS7ABPjfcTIQEhqOXEXXyK14E0RdH4SfmFtQfE1ImLsOtiVO1SybYk\n",
              "c0GM2PhMtI//yleSGjy2S1p6h+py0Cvvqmd++o5Pn3MNiaUDwpO/UPeG9iQx3GjrP4wY8QrRHOlT\n",
              "BwYK8EqsWbeJW5WS/egTdLcZ4l2xO4uNgduCvXLKwfumYbOpZNKCzcBjZsJ8xNU0cWhHqrhvMWni\n",
              "gaj3OhZHl2vM3vmSRjmXcUwQoPZSc3r9twKCFNcS1+Km05at9m/+grb1PgUOKEVDnxkeKhsU3ZvF\n",
              "C9jSNrCaJ/w4SeAp/tQQwghb5tul3Fz6z/dTdTB83Ch6/QJamIN1lrYxDQ0rTbKHb0VyvFVD4+bx\n",
              "Z2tig+BTY/kdMVAftuwpXWr3f+O+FFvicr+9FwSaZxGNQwfqYwlUrYAvRvCLmKfe43XW9k4LwIUa\n",
              "oTduJvQkaFdxLQAq3romuAXrt4NOdbh+8L80xIHC5BNklUhSeqg5Qocvf4lRtpYjrF6Rv8mfVHX8\n",
              "UR+RXf9hJV3gQM7lErW4HRTRyKeW5iPDk+l3KQCJXGhZlODEjnTc5vFqDfulApVawtsxhhdO2FBl\n",
              "J4R4YLLGYmBP8od4c+RwDrgpcj0aWI+zBEZmA2ix+EyecgLJL75q2HzB92DLCJO/HuoPLYDDZ5QD\n",
              "8EOPJzDh3cyiV4OHsm8w3f7MRfxJLCRaxEJJGusGZD9bVbQ7IzK/YGk4UwUWXXTCterM6q1z70cf\n",
              "jl5E74tt13Aq7EAWshjAAJ5K+boYrP29TlSPAVvX/9SFy/g/q3QtHq29VL2X/xb3Cwe6CErH2G8p\n",
              "TNxtadvYNt/ZJoEpNujojMSBkBBYfElItbraC0q4lJN2GrMF60J+La+wEc+vfNdrSTOc85VR9LXL\n",
              "s2jrz/252xKU0tgQ+PB70BcpwlKDyisAi9ZsB8kW16+p3y8J4EFcYuVN+dHeB96CAoB80IZtXRVv\n",
              "J9uP+GxVvmyplmbnFn93rcs/xM+YczQoQm1oeCF/BYCa1HHAkTZLidsS/+fMSu/YhcdJNKYiadhM\n",
              "/6dd3YkWc5hnKDqz3xTe1Kgc9RI7vkTpVoQdUbwnywvOHf2hZdKM31ymq8sy26KdErsVU+L/g79P\n",
              "4LtMk6cQ08bZW8dwCxc8UVq97KvWXumiTrd6hdU2xeKvhSHX7WBoZ2+kqycdGV2IDjNNsyU3tHYN\n",
              "zAgGOQMJEH4PfCHz0qy0c1/Pc6ptejLqRh9svLDxYXtqdtbT5CgAE4VzxgLjLm6IEt69Ky7iMJre\n",
              "AB+wcFV0bq/YB/9/qzZZmf/t6FvhsEOBvIDlVrKd9iZJ+0iEiGzv/zbQ17mPDzrLUr1d1vgV8NTT\n",
              "k2LUfKduKYYZLdtdrHiEvYBnyQAQ/uNwAX7Q+GI2QMXEp3enMVAhGSspA1ka/087Xgze1NI7OBqQ\n",
              "+mnOyPamTGBm1PYuUfSn8q/eSxd14mTArW+ZcQmQTjUf9hfYoHsm4cJhYHZAjs2ONAlAPc7SyKRy\n",
              "Sqy7SjapqAAAG9rsSbcAAAMlQZokbEO//qmWACyXVzTZmDf0ABx73mTHRY1ostn1s2IzONZslpXI\n",
              "EHfh+DffLhAU3w6r1JpNUpgjHrpMIBNOLj5hQbS1FM19mV11P8z+zbatbMl5qlDBubf+maGa5aR6\n",
              "UBTfIJhJ88kLu/D3//JsK9OwrfO10piFF8/V/xFngVRkNKlizqpbrJlnZPRnSzVSMtopldKNf/+P\n",
              "7/R8QEmHJGnTshYQdry1fRE6oxsSkvzeeG/Lvk8GtRFRZ4jf79JUEtJiA39AR/8XMnTjik461jDw\n",
              "TrdKpbhZl4DMUchHnI+DxwyKOCLV29Bjjvb5buDg+V3evwuqDVWto9wqyrgfHiyXs5qAZAlk/Ikf\n",
              "4AOcWIxZC+3HLgBWuxHNvDI4SuduGDXPMunTHuzY0ylg0p3GaDk4DxpyaGtnQXM6R7MtiR2VFQpL\n",
              "7mbZPZVftOg3vQHbcr9e7YaYLBsS6D6F3kRXty516v8YaaQTOpw8svZuS05Q/zuuP9/+3SaTbcT0\n",
              "OgQ/q3ueCmq+4LiDH/U84yYAlCcD9UxtU5LNXcLf0X6RoiLgqPMUdNu0nyZn5EswA1TCYfGsi00U\n",
              "9zvw7bWAjOR8Y4O1GuPE2GpLT3Y60wARRHG+oag921fSh5E1vSNL8zOm+t4VnDL7YXBKf8oWtl/u\n",
              "yQoXKStJODryNlpYuqUYABus1tXs2OwQgAVD4QGhsvBEOGdbevW9c5qx/v0YMFMDki5LKaYJa4oo\n",
              "17//mhk5XOqm3OpN5F0E2YPT7t2iREIgXVxXbNCu+ezXULdOngbJdFYTmlz/l8fpIYkQ0N5QKvSn\n",
              "ZTuFqLwtxEjiNk1ITeZx7ulGm353qF+6EgvQun2okmWj0JLHUvN5bFV8qPz9aZ23HfenS6J5c3iY\n",
              "AGnM9HtsaFU+Yf1lIaC32QecDopP5FDDyGNCFtnXgzqKhDwJGKg3+GBIBYbyhE5kzJ2VS3ihmwkf\n",
              "0g2QnZbrbUDrA06UHAfLxoW0sF6JRYIK2LVWYRGjfjhRhaS4j6qSvNv4BkWemzpsyABqMWYjtf2R\n",
              "uWlC5+rFbhT7J3nkMCflHm8Z3abCymPlCAAAAZdBnkJ4hf8AaH3YUmXiWXpZv1GuWXkc4wRhfpWP\n",
              "iY0/6Tj6+0JKFmSjPenn75o5fp8AZ0uOzJz4MrjWNKOqMTFmxdCohX1ekpBNsfLBM9gLOlra8CYu\n",
              "f1iilhLkOqw8zM3oihJNPDj5l31nHgk1ZOoJUJhiLu0izj5nQz8ZKN8LanNlANx9imLMnk8+m1wg\n",
              "b8dT/DQkmfj19T48nR45xjyQeyVzCLQNFZfZwGudsavKcdj3fPoBVMAn3jOA1dkiYKT1DEbF9wcX\n",
              "TXdrH7KeMVdj4ST+2UiCsOjZRpJtIY8PsT6QUvXnWFaIaCx0lNrPAKFCjbFLIlRfh+VoM+AWWDqu\n",
              "bYeX0EYPOs1hKO9rkHdbs8mO0NpF/ZMvLXjbvD23H1pEhdPNW+yCoSxOwdM5g0GwkgzD7FVvJv1a\n",
              "mXN0bxDGfcUz8g2byalOiT7CcW6GqdhrGA391uepxbZUhffL5ENuHMM3VRoToLUBQCyuTNACVDKY\n",
              "S2AfL5nAIz0cwjCipjVdqfDJhrsFRTwwuaDYEeBQ1XvAOpfQgwAAARYBnmF0Qr8AjvgxIXwF7wAO\n",
              "s+X1z/2Ahagw88AVd8VHkyVtS7DNH9hE5BGFaxfyAPiKamQ9eyOUr59L+djpxfzGT/n55kAJ3Utq\n",
              "gTJkK+IY6dVspKQfkiTKSrNR+Jj1HiD79n7HxSjHoT4hIdA9OXxEhShbBSiN68gy+D5EJ0//DTg+\n",
              "3XZwc50gY65KzyojBLaCQoWFB01RlHRCU00/+MKSQ6GiA+ThDV41lUQmsH94VKYBm6kBgqPVVpm+\n",
              "+QST3c5AlAQUh8a9xWcwg9Z+Zs9qCd3exfAoED1p1Pjxw+wnoJlyTOKm+crSjM6s45LQZDWS0s2C\n",
              "DGCNoxorDWfa2V4X8Wc7FxOmuqf2ORQVmw0mySzJ2deYUAAAAWYBnmNqQr8Ajuu5JqXxGkAHKfL6\n",
              "5/7AQtQYeeAKu+KjyZK2pe0TY/6wltArd8kdILV6em3zkGu+1HEVryK4BG/6WciH7Lx+NjTqk4kU\n",
              "Nc7H8wTvm33ZDgaOmFcr5UOeEMKTiL0Iu4KVIvwSMmBgscAI9CmSEijtcqWndhGgMbhH3QB2uMTR\n",
              "RfCSTB4F4h1MVrxV/YB6Sjfu/pPlj3TnxJglv1iOr4S9aCJ7LKj0wYN8OjjJ99rzLNHiseDB34/Z\n",
              "5XwUl75EsMnhOx9VQ6a2br8vsZBU667aV5QM4ZQsuC4nxUbHfiWcUbMGu0BOT9BzlQi9VKBg9xs5\n",
              "TrOwmejUcs4+U4WNn4hPYctvUaXt1aDrA3O35vOUxiwzoHe4BHxVa9Tw2Jt9Sa5qqj1s5RxVTLwA\n",
              "X3uXkEZp5Pq4sJFh4aBQfvKXHZHafNb4YCvSLqUj82UPnLTli75LYro8jqplzz31xszd4XARAAAC\n",
              "PkGaaEmoQWiZTAh3//6plgBZQk8IBnMHN6e7U3Yg6Luj+PulY2bhsGbxIiMSjvyiqxuVDwRutMn2\n",
              "EyrwzKhknweAWOXcRusNwDYQqFgXgmmyyjg/U9ILZ3SY9FSfLBBj1ydQDlHEG+y4aRmQTOnBdlCL\n",
              "pq/NjLS6pXNh40Y6VsUUyQHtnRnhmx4Ellq1jrq9UzTt6WR2fRxvVZw/4WSC7i7YScv5Szx4Nayl\n",
              "S3xNUDCDMB9SXmmYXXwHD5CbE1VNOaK488cCtmAF30SXyE78jE6JNnd8R/O0R/taV9SQeIE9EQPa\n",
              "Nnd82rWmGQh7GfWIKIpw8ZbLQ+Syq/HCJQysYpiFvBpvzLXZpBfIPKrfs2dM+uTznxLjk8OmvMFD\n",
              "IVFLTzcx+mkRSyZcP0fnduogpZnW2QPpTEAaFJ5UiN4v9/6PdZHX4v/wDnbczFm+XJFTSocacA0D\n",
              "C9jPwBtL6s3orY0k5mU0w2KTU0Ca1y8s72IMquow9bTNnRrD1KkohKhlhsRg2z8qnRrCpuS9rU5k\n",
              "bRvmEqRmF9mxKIR6Wubd8IaZxg79a3JuqK/BLINYydPCydTKFhmKkAw/crmfT7URFBgxy9DZ5UUH\n",
              "1EA8WK+3+mqUE4UclIAS53VbK3OAmLoWyFFjmRMBtTFDn74CSdAEUkWcpUQEacc1N0RaAz19AJjt\n",
              "dbN6R1tFwII7LwnhHeoDX5M+ExjXRDGRNOUg/VFg06iKEL6YjJAk16wsNHW7PhQ1OF1Pmya/PlIc\n",
              "X69deIEAAAEgQZ6GRREsL/8AaaIkhGyQAcr4fKwzum+YrCRFUMi1Y/EpVt4j+gtmaQ1cKWgQqF8+\n",
              "n0qb4kzsv3DLbT4DdAcV8/CxkE9btF4ZQy0Fp2nFt5lNw4JjsTsS8fk2WEVKi5BnYIuX25KA1qlm\n",
              "MR8mgIZuAQCzPFJC/BwNvif0V+Z5JL5DD2pWdjVrWYrkU9LdqBodYaxIAAQU5VZrjwRSSCcKxq9p\n",
              "zPf7tKn7l9W0xxKGPPUd9HJA5mo2TMZYc7EHcMxVn9aFjDF7fwh1DRmSYKGeCR/Pxpz1L7Y1Tvfg\n",
              "M8IvPw/NYt9ecQuvWtofZwTjrzyfVMv/Q4OOIwgwPRNCN4SzFSEv+0vc0AqI+zQfTE2AT3xjJUJh\n",
              "6nALP82oyZ1BLsxvAAAA+gGepXRCvwCOudP05RTQAHFXgMBulyTdmfnYQqxWW/FvAj+zE3gWdY7A\n",
              "lOfasOLjAKzv0++mMaB4anZRPftD2f/4aeT03/c/OdH3+Gdh2KPHtD5XSK50qOVfhiEJhmQYA78H\n",
              "GQaXsEX9sO12NaW15zYTYN9En82TEDYCJRTHjKm5AWabbIYKjEAZMRgSZi26vSeULq62KsQxTPa4\n",
              "sd9Hsf7xVoyuWTAx9btLLxpTRgSLV0ac0j/uvM0WpAbdATldT5fpm1tctbLFJcry3BdFGQq0Ssvx\n",
              "/ocnbl73L7P5h16t7a6Rb+FVau265r2G5LGe6QOSUDnaL5yLPM0AAAE/AZ6nakK/AIMGaiwTgiAA\n",
              "C9PP+KKOYZneCbBYutZd5IuIj/33Qba+NYpjYEQRSUoBEbKbZO3fWkXD0pTVzIA8yDjlAALB9/Kj\n",
              "vZS0f9uwk+WDc4vh+OwiAQuwJL3gzH3WIeQR65ef/4O6ew9qT/cjeS6o0iwKBrXZeOteAUkHl5cA\n",
              "qn3u6g6/Chv/cXZ4+CdDlAfYAmCXUT1MGrYI8o87IIfCyZteGj78VNkQBp7NCTEUEa6mUxO5xf51\n",
              "vWKZ3VOUzwFUoXIotqAmeQx4pklRCpgvAKYfdyonLAZHPqpmFTs8UxJfrmuRf9HR+X7IZqhApHlR\n",
              "Uu1QyRigKh5Gipx0arWYyP8woEPt1xKskRTn+zl7MPDsD3JzDfdCDRYgWC5vcDTZ/Xv0SjyRfUah\n",
              "3LY0rHrwYWSWdsJzZFMB4VIejQAAAhlBmqxJqEFsmUwId//+qZYAWb/OGozVrHmqHpkQG1PkQXLG\n",
              "004mIgGt1CrOf+/IcbExZedr/Zmnat1EWcghfP2DYMVCpbw3+PAYvw3d7b3WOaKopW9uBpGqqFmG\n",
              "o90FFI+KzI9BgIlAMoKjK+a9IdNTroBfc6SHMo41mDFcoOzPe1NwkjhnybwEEnpMIvMnK87hsLBe\n",
              "C/iVkTu5KkSwjP+oB9T0E4sxE2O81Kg2Z1sxD+kUIAPGQGAWyjFVUY0+wasmHEn+XYCb/lMuqYo2\n",
              "W8v9nJAGM8ZWEBbYvxkQyGcU8lz0BTyt38F55rlorFZGPHpSYEMzjjgP9Zf0U+6XZQ+HKbb5hj7x\n",
              "EPI0AWw2XboNZNI/rQxLqY3RoXD71701FPXfgEzW1zXNN7/a5ODgJXhw8qt7rAHLeZd4EXJzfvxq\n",
              "enofkf5NvvlYtI/jKSwjI5Bjqb19NwgJJj352joEmOB/g40oH8muR7RF89DQ6KBYHva7Obn1K+io\n",
              "DZvLGHoNc8ToKkVSeH1JVO9QxIT1zIdg+Udk5F7UxrmIP7OD4epxgsyXwao/ado0IQfNdcswjxC5\n",
              "I63gb3dvPAzaZ6MOK3U62QCld2rRD0NMuKLPw/7wr9woomhMuDhEcdBDGq4Lop/YmyyxJVNzjtze\n",
              "QaG757dYZ8Na7RQF2xlyJePqwK3M53jgR7wKMoGrK93rxCrcb9xV6gi5uXKVW0AAAAGcQZ7KRRUs\n",
              "L/8AaZxXKwo6bAt7QPSwBBdiVVN4ZCsG4dyRQFeB47OJSdexAJ0WzXgXtt/xN4/l3R3pN5en4neI\n",
              "mO5KAERaNL90Q/U64AR2vhr0SA35jrCt9XID1XkfnkRxcXSMTvT7wqxNBXo6AijprutP8QsJ//Dk\n",
              "KlKLCz0iqyCgpxXjy6h+qio6C+ACLkOJErW8DNRSEA8VoUqPrxCFZC8jhD3Umm+j9GJFYBT/XWC8\n",
              "X93CZal2tdAOOSbbHSlukNowk45NZugS//6sJMCdkHiqKnB8a8b9koNTofJVnUfjicPtgV7XfycR\n",
              "WJSEAZYPTf5fZdTDvlVwhKsqOaMlcLX3dss+OzM+OzpLcljmzq7WZqutsowtAAAGBUGsEFRA8CiW\n",
              "paHJiD5sSPNE8G2wNy4QBSpCSybOA+RRxR5LNohOoaGH1CxrMBi8lPUSeUvZr1IZTcMr0TqZkRLV\n",
              "nMFRUQPXoSBz1sft3fsGx/qMmwFcpMnZnjhTFrVXLyd9drxpwYH29kPrq4TpgwQr0DhEaF0y9dRV\n",
              "HM7dG/wLgwAAARkBnul0Qr8AjrmxXOjqIouOAmJroqloxEkhs7TqaQzFVfXP/YCFlJqdFP9J+bbI\n",
              "IJxFrCh6OKPSg/n7Wh5kHDfaBPllD0ufuBqEGzs4h/rcYp0BeMtV8u5krwjFocA4xAYTFbOQO4RL\n",
              "QXJ6vdn7VC+hUiT0LAINVc29/rY/O5vbeH0/8CYwwFj/21Urv7T4B4OJ+tlUvikplwqZQh15yAFf\n",
              "PshgotFeTx6vv58e3FmTqvKEXCzaJp6W4iNxHrzO+KfsF8slooRbp+hjtMgxXbko2nkMId3y3gfk\n",
              "RBV0Fhcb4sQqxmifuz5Bu502KIzUoMLAR7e/7kDt4spfw17YpyZ7MLQzmLAfWWrCl3ZCI6NAZpQQ\n",
              "g9XnlB+aXAAAAPIBnutqQr8AjshOSVm/MJalH3dK6OUAAEq54nMvZDhBhOfUNqwY+6JgULxHifuv\n",
              "iKieXgCmBWRZIPdcpLujeL03iJjhZgsgTmcR+xn7rfRpHl6CoO7rp416c1JAGLCSSvQ7/QB7qr17\n",
              "yu4XeTtHsIn9YpKyvDsYD2dp9J0iUDN8uOpGJPkxAfvDL9TltuY7HrFKb/vpl0jep/HMY/lq0Gtt\n",
              "ZWAMC1gLgTzQEJ5xUNgwaaptExss+UrmLHeVTMceFOgnqUY3lPCiTHj2xNupwVxly/WYsWzPaZkz\n",
              "paE7joWh36hP7x1zoqOxO1tWQkudNlmZMAAAAcxBmvBJqEFsmUwIb//+p4QAsHoS3qnm5Xiborsj\n",
              "rbWACckEZd+RGYZ/2d3sL8j5uQW2kBU5WvkX4H1+Q1DJNKihXh1aHmLvLayUhGEIBNJSTTSZrAZj\n",
              "oKDkgNJ0BpMwE//xVY+gNTREVYoA1K6XY9DpWSbVMQWcJsJjKLng89ojVKZe4TWt/axobCCCOSwN\n",
              "XJ1srX/Xvd6FQt5E+9+cRkq2s7hkSKXmEMf6iwd6W9etkclyRbj0YlPCsv8KYhIwYrgbfMp7n2Sz\n",
              "hCpPAtz5SvxwWq5tIy3PPDvwuI4OnTM8uOXI0/vT57QgkXNfF+LvUMtaJWPdyWDAWVmVHI2IE3MG\n",
              "D/KBbs+ZeuoR6Fp5JHktBk1Ki7qM4QrMCVImg0Ku+N8yWcPgkNNXc8gbYo5Ib69YY3Ju25OGQXfr\n",
              "TNtCYtVpcpUC848/+4dOjGzGcwv4mHwlzVNWNxyCEmLywYBtavvJFJ+gJGuwivH6z+BEQIUu8w2z\n",
              "d2DXUpX5NIm1Z/BQsqZ3xvYMsvV2DWNrCrbO9laFhFLQ0lYykoqaBV0zAtdbSwtbTdhUpf7VZl6J\n",
              "ZkmM0uyubyaVHgTd8QsiswNJR9utuPWQN1qhYNaIq9cdAAABFUGfDkUVLC//AGmC/4PG+kOa8W9v\n",
              "Y8zAh7+hMriF05C4xlABaw2H826duT9t6239mfm7O9XzzTc0F6OSzXFMHhD8iAlFDlqcWLIbtu+1\n",
              "aXOhcgiAvLU4jPGWN7PdtzmuBY6b+XzIn6x2HzJGr0G2ju8uatMFhn8qKtWG7e2t5nnY3xq9ZXt3\n",
              "/oULKTon/7rM3ckaNqTQ7kW+7tp4MPA6Dlqy7ipZt3OREub3NvYIh5v/UO/GcdSKqtEvryVDXJLp\n",
              "2UAwCneTf6TDEwX28Y1RVaVe8JK6CDgdP449M+GnoxC4LcHGEE5KJaw2nD/9C3DkQhwFX78HR1ui\n",
              "WD9z6ZA5w02SWYD7Bp1PSChOPQMZfRLMAFh1B0MAAAFUAZ8tdEK/AI74MZ1EitcCy6kKeYvlNO1W\n",
              "Ap6zgos5vJKBNrkzQ9M4KCVM3LOKZA7BY8ZEuS+9BafvYCpZyYCr4kTTl1MLPtPMwq+5E43clnWm\n",
              "ZYD8vvq4//I3FxgCuSkIaIb65gIhyTbTEsEECJyuFZu106kfeHfoRnon/EpJdBjF86R+4ezBRFAz\n",
              "NsOfwLrqvI5ZjqU7C9IrB1Xp+5E7ARu+z8BV9/5ksSPMLyysK2Pc5EPYKuWtvHvnGrUJhlAaoEH6\n",
              "sXEznEPSHljx9YK9MPhsCMzHlY8/EGGN+fm84xaEu+o0r+3i2YtD00RBDTafmwFnzc7E/Ba+uPcr\n",
              "h1nHCpcedU1Tvo0CrjtYBPS1dEBiGRlqFU2ddg5gWHZe/4oh5wujiRXvNMB98INrvVTDnBXa5FAT\n",
              "445CoBLEQsZzwSGvWmUaiBexKS2EyFYocVIg7ZKFIQAAAYIBny9qQr8AhskPM5qEgJejR5CtIGrk\n",
              "bFOtRUiDmh1R2IX+g6L84y4nko2kRew93Io6KfCBu3coKGWXoICVSS3rt2mvh5JT+NCB6FzwMnW+\n",
              "UEgGKMvzdEGzsUf5JCKjUeaYt1dYG25zBrI2hzluwvq5XuZ5pfgoxmzrqcu+RcegAZO60YLI5htQ\n",
              "aKrZsFI9un1wn6BFm6DMCGlFSmyE73YnkyV619/Sf4qawKyD6+dBgFnVz2FQvT/F2gDdeEpygBQE\n",
              "J2lI3/4DQDbMbfeC4LXNiUWUhfDuU8zvwZTZfm4Yrdh8nBp6+li2jVjSvzN+Tqiz3YjBiI4Uu2Nk\n",
              "Qczaj11R8TRqHRk6swwTE6Vq1WHwGsBE1bGJAi7p5lytFR2Z0p+jkEKljiQXiwA/2kV700x04RZl\n",
              "m/PUqsG5S8SeFZd+9ZuE0IoeUrcXwrcgFvPJJZEv0j2T2GXYf/1lPfUbBeS9sJFkKAnifFIfvFza\n",
              "uav58cK780Xp32vm7zc90USt0rpAYAAAAa9BmzRJqEFsmUwIZ//+nhAFS/OggSt55aSMgQNDv/jG\n",
              "MHoTgVuP1zWMYukOAOv6nX7aTllH4ruFo/MrEQvjDewuDkpWRkTT5qmWuXjDn5a2OW8N23ZqDkx0\n",
              "c/79rEOkIN/JI6+3jOUzVmZyAueuEm5HgoJIuRYU9Nt/szLO0Q+GFzUdnutsfbD3whtXf87ufQtv\n",
              "wYDSGFYeuK3Jm9+QSR94DCuhROWMWK9c48X/rXm0+oH2ATcu5146ZOzm4CPN/rovZL1eH+ovmHBh\n",
              "Ts0JXp+VdckpsH0AEopKTVD++oYSknfw8SGABfA5wflYchSzGmDpoy4cZC3mVlf8aF6w1y0yw+cm\n",
              "FGUPIsjPosFmq50b1fPgUpp4N/6vRjKM2iTeMqdpGD6ICS40Hg9ZrgGDz8Uw7RmfYK1OgWmQdBOe\n",
              "h4YBkt9nXEaBr8SPaT8/slE8rs3fl7nIhK1JRLJPeRVGOmAgWXY0f+D6MN+/r1ot89tcbM4wVJ1c\n",
              "MeXNZNXAu20cICkLk/vSjB88zcd6MR76XvYrRDFJ0cgYvNdIV4n0YtnA3MIzfkRuWa1A0o+WS3tF\n",
              "JwAAASxBn1JFFSwv/wBpnFcpPzCx3wwV6LgWLL2FPp2OwTVnN6HZVYFeeM9tsxWBmNbdeqqgTObN\n",
              "edzKqT4MNCWPUAd/tQbmSCOac4/i1/sQPcYDmXctdP/tz2aH+cF97rajHWzvSOhwbFFSIZEN8Qp7\n",
              "i9X4PIrHGtd06yCWZ9DOVzgNPGMG9BOO6fHRFT/KwdWZHJLDBU0VrCbQn4opp6LyvLuPlZBSqd81\n",
              "5RrmFonn6GvoNV33R27+qBWe5IKqZNpL1DT9Hf0Z2BpgIAd8uaiY7eHSnvGAMEDQ9MD8T5OGEr7B\n",
              "hpL7q5AVStRL5pMidjk4mfzlamHXnBzrkWwg/8Y/G8sNu7iyo8r6T90tVTfn1UariLc85O7Dyx+m\n",
              "anTD/+Bhcg1P5h4zRBU6V7k645cAAAE7AZ9xdEK/AI74MT5hUpAARBVvDJ77IvWzP3Vil2FwP2K0\n",
              "XmODDzbsisa/otqA50JQvYAoUGYxwjaO5s6leMgFDU/o9lWovTRnuHiKsAqeL+FrLt9Sn6n3UICN\n",
              "VtKBnVtkSFc4QU1AkXHbpY3nyDpIoO38411rfa757Ca7bXEUkf+tR6bzQDrEA26o3gqM466ftV0f\n",
              "TyXoWb7nwF3rJXh0hx9oaqBs/fV8POONuXzo6VI0yAqWAJAwBmO8w0UgGwewGla8INuV3couQwk7\n",
              "Tr3M+koW+koxqtZ+uTfEgLPAPklCbFxAYfmcADQGs9Dwu+S/NtimMe6Cl2ZKivd8H29eFGNXehjR\n",
              "uvfNvcPFny2kaz4RT4HbpsyXgPwXHT1I52G9YWBFhXWkR4ywbTsvWwCVdGMDDfGuza6+EYaMAAAB\n",
              "ewGfc2pCvwCO67lRywrB8aAB1npXg7V234FJ+E/ICBygfUiJCdd8knu9ycuV3+eTZIhQSeRwfpRO\n",
              "ZeyJ/BE6HAKmMov5aEjbxKIme94k44ON2i07KSX76lgt14ahNJocS9GHIc9ItvnurPLkIPHaXARt\n",
              "KrqPjoNbbleMfDP2sbUwLvLOAgiaPxVZ1NbH30N5DoZMClHI3RrxhWPtATd+csVs3+GT4ZSDKzUU\n",
              "FlQ+LdM4u5SycXx1oadigUD4ItbSQXzxXEm7AUBDmsaj6cXcpyuv8jwlER5aZPkIhqdNlceOjHWX\n",
              "94W2y8ehJOZaEl8ovPVeXZCkxzhY1UkBgw47UENcsULnaW5BJ4DMu9hWC3kk3OWp2LG1UcRoITu+\n",
              "31ctsQs76T+lcmeiSM/rLLSc4c8W8qW5RvFMKDn02ZRcHtLIRugL7d/Fed6FkdM3LRSVq3bwNvVa\n",
              "COxn8RhtbXGSwnVwGBArazdZhijW3jKKUVH04K+igeKJWJ/e5MAAAAFaQZt4SahBbJlMCFf//jhA\n",
              "CndyjOtnetD1pfCrF4ITOKGgAdZ/d2ffvsNtrCOWpPu/icy9kT+CJ0OASsGRdUz0G63aKBeyXD+E\n",
              "FeFv2J/1wm+DXqOC91sPcavJm8SO2mnzYfPYeZiCTcMjPyoDqyVf5K2I6xgNEY61wM9fWZQQIOFD\n",
              "upPBSx+h354hnHB1uWckS228OykeaID69ySLeeF4F+IQZWzLcUXExWUL2PYWJlqcWxwpkD8pRX3e\n",
              "1TjC6RNO0gSnboXA2qlNB0294zYJnWiPhBGsPmqJn/5pBZHPbYOpi+Zvg+iYn/PcPvBUUPdF7Y+t\n",
              "kiB9rBoFRUk39DjXGan//aSg6/5Pt346gQJm5nZOLRv4+adtcQ31xWQ5QEgWu4+A7n+Vjdn3n6SD\n",
              "Ph+A6ZRgiB+wp8/LwCxw4F6YJ5s4vbfDf4f4rRERS+6+Jf4RFKFquL5mf25BNQAAATRBn5ZFFSwv\n",
              "/wBpgxw+WZeZLQNMpednBeT5HeCc9vlP6TY6/OyqdwHWsAP4cc+NznwqFMLZeipMXQCz364FFewJ\n",
              "TibLQogvD+cLStz3DnkKNCR74nOhOc42FBNnYy3eDHSiwnp8wfNCkURolVxhhRq54ZTVHBvIos4B\n",
              "9a+Vrpl0oUMHndJTRzM98SEUZpjpiXoLkSUl9pw0rGx1J83nsKPVF4vQCTb/HWyLwCVqcp21NK35\n",
              "kDujqM522PumzoYdXTUIz8UUosqooRGO+sJeWW1plCSTSBnXTmAgbt+G9Gh4CtXkBEWY+PkGejpm\n",
              "PJTR+bnAU7i6WqUuRTLJZnP6MOlKY1ioGP7opmuX4GHUuDFrDb/bOoh5tHF+D6UKcqqF6Kfateev\n",
              "EGqkxOExGNk5Qk75pBUM3AAAARMBn7V0Qr8AjrnHXNtp8KEzebqr3JRWxEYuXVrz5mWNReHTKq7p\n",
              "819zIFS4AOb8lPDynHCLe6VuUE3lwCsa0YsyWTwMNLTuvfAar6/iwogxLVMjTmckDuITjzgnIG/Q\n",
              "huI346MLfNp2MXJ4PzfLfKQ926ZD/jK4rjV70H14M5iYZa75vNSRg/fkAQ1rit7XQDSX2UowFNUv\n",
              "wcOXRAdmetO5uCragGD6Wr6q0vDv2a1NDwVuCJtgRpD/e8jHH3jvMz23jfi/th3QnBSa3a7sTTNT\n",
              "X1chagH3j1Um6n8F8ybXlyvvR4E0tyt+UZcmwj8FgIQ2w0q5sOUZgre/cWsP6BeMOfF3t9wLqnve\n",
              "aC42v2IJd/v9AwAAAPUBn7dqQr8AjwZFes8E7K8e1cyWlABzCpOjhVLD6ydtIN8Xm1vS090ksc5R\n",
              "+16q9t5J9SnP2YdsW9l02TUgvkIndwtBfdAhI+9dMNc7ru1ZThWtQpxqpjm6q2evrbPoXk5oBem8\n",
              "RMfRBpwu4yGCzQkWfubCPfydq8Y9hdy0PxZ06WU0cSoccKPdsPEOTXw3DRMJtbrICLBWLv59MtNV\n",
              "taWKDNrYF15+gR7jz2TUsa4fZijZNeWhuHfSPDOvPZjOYTc8suC+QupA5t2ORcR8hSFRCa4rgMuL\n",
              "GVv6ZlAWDq1AQ8+Hy1YeSLVrPoSS+9kB8M4nfbnFMQAABFptb292AAAAbG12aGQAAAAAAAAAAAAA\n",
              "AAAAAAPoAAAD6AABAAABAAAAAAAAAAAAAAAAAQAAAAAAAAAAAAAAAAAAAAEAAAAAAAAAAAAAAAAA\n",
              "AEAAAAAAAAAAAAAAAAAAAAAAAAAAAAAAAAAAAAAAAAACAAADhHRyYWsAAABcdGtoZAAAAAMAAAAA\n",
              "AAAAAAAAAAEAAAAAAAAD6AAAAAAAAAAAAAAAAAAAAAAAAQAAAAAAAAAAAAAAAAAAAAEAAAAAAAAA\n",
              "AAAAAAAAAEAAAAABsAAAASAAAAAAACRlZHRzAAAAHGVsc3QAAAAAAAAAAQAAA+gAAAQAAAEAAAAA\n",
              "AvxtZGlhAAAAIG1kaGQAAAAAAAAAAAAAAAAAADIAAAAyAFXEAAAAAAAtaGRscgAAAAAAAAAAdmlk\n",
              "ZQAAAAAAAAAAAAAAAFZpZGVvSGFuZGxlcgAAAAKnbWluZgAAABR2bWhkAAAAAQAAAAAAAAAAAAAA\n",
              "JGRpbmYAAAAcZHJlZgAAAAAAAAABAAAADHVybCAAAAABAAACZ3N0YmwAAACzc3RzZAAAAAAAAAAB\n",
              "AAAAo2F2YzEAAAAAAAAAAQAAAAAAAAAAAAAAAAAAAAABsAEgAEgAAABIAAAAAAAAAAEAAAAAAAAA\n",
              "AAAAAAAAAAAAAAAAAAAAAAAAAAAAAAAAAAAY//8AAAAxYXZjQwFkABX/4QAYZ2QAFazZQbCWhAAA\n",
              "AwAEAAADAMg8WLZYAQAGaOvjyyLAAAAAHHV1aWRraEDyXyRPxbo5pRvPAyPzAAAAAAAAABhzdHRz\n",
              "AAAAAAAAAAEAAAAZAAACAAAAABRzdHNzAAAAAAAAAAEAAAABAAAA2GN0dHMAAAAAAAAAGQAAAAEA\n",
              "AAQAAAAAAQAACgAAAAABAAAEAAAAAAEAAAAAAAAAAQAAAgAAAAABAAAKAAAAAAEAAAQAAAAAAQAA\n",
              "AAAAAAABAAACAAAAAAEAAAoAAAAAAQAABAAAAAABAAAAAAAAAAEAAAIAAAAAAQAACgAAAAABAAAE\n",
              "AAAAAAEAAAAAAAAAAQAAAgAAAAABAAAKAAAAAAEAAAQAAAAAAQAAAAAAAAABAAACAAAAAAEAAAoA\n",
              "AAAAAQAABAAAAAABAAAAAAAAAAEAAAIAAAAAHHN0c2MAAAAAAAAAAQAAAAEAAAAZAAAAAQAAAHhz\n",
              "dHN6AAAAAAAAAAAAAAAZAAAMIQAAAykAAAGbAAABGgAAAWoAAAJCAAABJAAAAP4AAAFDAAACHQAA\n",
              "AaAAAAEdAAAA9gAAAdAAAAEZAAABWAAAAYYAAAGzAAABMAAAAT8AAAF/AAABXgAAATgAAAEXAAAA\n",
              "+QAAABRzdGNvAAAAAAAAAAEAAAAsAAAAYnVkdGEAAABabWV0YQAAAAAAAAAhaGRscgAAAAAAAAAA\n",
              "bWRpcmFwcGwAAAAAAAAAAAAAAAAtaWxzdAAAACWpdG9vAAAAHWRhdGEAAAABAAAAAExhdmY1Ny44\n",
              "My4xMDA=\n",
              "\">\n",
              "  Your browser does not support the video tag.\n",
              "</video>"
            ],
            "text/plain": [
              "<IPython.core.display.HTML object>"
            ]
          },
          "metadata": {
            "tags": []
          },
          "execution_count": 17
        },
        {
          "output_type": "display_data",
          "data": {
            "image/png": "[encoded data removed]",
            "text/plain": [
              "<Figure size 432x288 with 1 Axes>"
            ]
          },
          "metadata": {
            "tags": [],
            "needs_background": "light"
          }
        }
      ]
    },
    {
      "cell_type": "code",
      "metadata": {
        "pycharm": {
          "name": "#%%\n"
        },
        "id": "RlyeBKgUpkpo",
        "colab": {
          "base_uri": "https://localhost:8080/"
        },
        "outputId": "2fedcfa4-e788-4448-8bee-3139e3fcd742"
      },
      "source": [
        "print(spike_targets[0])"
      ],
      "execution_count": 18,
      "outputs": [
        {
          "output_type": "stream",
          "text": [
            "tensor(6, device='cuda:0')\n"
          ],
          "name": "stdout"
        }
      ]
    },
    {
      "cell_type": "markdown",
      "metadata": {
        "collapsed": false,
        "pycharm": {
          "name": "#%% md\n"
        },
        "id": "_9rQYh28pkpo"
      },
      "source": [
        "## 7.2 Define Convolutional Neural Network\n",
        "The network is almost entirely the same as for static MNIST. The only difference now is we must iterate through the time dimension of the input, which is achieved using the following line within the for-loop: \n",
        "\n",
        "`cur1 = self.fc1(x[step])`"
      ]
    },
    {
      "cell_type": "code",
      "metadata": {
        "id": "f8m0Rye0sDZX"
      },
      "source": [
        "# Define Network\n",
        "class Net(nn.Module):\n",
        "    def __init__(self):\n",
        "        super().__init__()\n",
        "\n",
        "        # Initialize layers\n",
        "        self.fc1 = nn.Linear(num_inputs, num_hidden)\n",
        "        self.lif1 = snn.Stein(alpha=alpha, beta=beta)\n",
        "        self.fc2 = nn.Linear(num_hidden, num_outputs)\n",
        "        self.lif2 = snn.Stein(alpha=alpha, beta=beta)\n",
        "\n",
        "    def forward(self, x):\n",
        "\n",
        "        # Initialize hidden states and outputs at t=0\n",
        "        spk1, syn1, mem1 = self.lif1.init_stein(batch_size, num_hidden)\n",
        "        spk2, syn2, mem2 = self.lif2.init_stein(batch_size, num_outputs)\n",
        "        \n",
        "        # Record the final layer\n",
        "        spk2_rec = []\n",
        "        mem2_rec = []\n",
        "\n",
        "        for step in range(num_steps):\n",
        "            cur1 = self.fc1(x[step])  # Iterate through each time step of input\n",
        "            spk1, syn1, mem1 = self.lif1(cur1, syn1, mem1)\n",
        "            cur2 = self.fc2(spk1)\n",
        "            spk2, syn2, mem2 = self.lif2(cur2, syn2, mem2)\n",
        "\n",
        "            spk2_rec.append(spk2)\n",
        "            mem2_rec.append(mem2)\n",
        "\n",
        "        return torch.stack(spk2_rec, dim=0), torch.stack(mem2_rec, dim=0)\n",
        "\n",
        "net = Net().to(device)"
      ],
      "execution_count": 39,
      "outputs": []
    },
    {
      "cell_type": "markdown",
      "metadata": {
        "collapsed": false,
        "pycharm": {
          "name": "#%% md\n"
        },
        "id": "Amecv96lpkpq"
      },
      "source": [
        "## 7.3 Training\n",
        "We make a slight modification to our print-out functions to handle the new first dimension of the input:"
      ]
    },
    {
      "cell_type": "code",
      "metadata": {
        "pycharm": {
          "name": "#%%\n"
        },
        "id": "99FoyoB6pkpq"
      },
      "source": [
        "def print_batch_accuracy(data, targets, train=False):\n",
        "    output, _ = net(data.view(num_steps, batch_size, -1))\n",
        "    _, idx = output.sum(dim=0).max(1)\n",
        "    acc = np.mean((targets == idx).detach().cpu().numpy())\n",
        "\n",
        "    if train:\n",
        "        print(f\"Train Set Accuracy: {acc}\")\n",
        "    else:\n",
        "        print(f\"Test Set Accuracy: {acc}\")\n",
        "\n",
        "def train_printer():\n",
        "    print(f\"Epoch {epoch}, Minibatch {minibatch_counter}\")\n",
        "    print(f\"Train Set Loss: {loss_hist[counter]}\")\n",
        "    print(f\"Test Set Loss: {test_loss_hist[counter]}\")\n",
        "    print_batch_accuracy(spike_data, spike_targets, train=True)\n",
        "    print_batch_accuracy(test_spike_data, test_spike_targets, train=False)\n",
        "    print(\"\\n\")\n"
      ],
      "execution_count": null,
      "outputs": []
    },
    {
      "cell_type": "markdown",
      "metadata": {
        "collapsed": false,
        "pycharm": {
          "name": "#%% md\n"
        },
        "id": "dZBToyUvpkpq"
      },
      "source": [
        "### 7.1 Optimizer & Loss\n",
        "We'll keep our optimizer and loss the exact same as the static MNIST case."
      ]
    },
    {
      "cell_type": "code",
      "metadata": {
        "pycharm": {
          "name": "#%%\n"
        },
        "id": "9FfeZSKCpkpr"
      },
      "source": [
        "optimizer = torch.optim.Adam(net.parameters(), lr=2e-4, betas=(0.9, 0.999))\n",
        "log_softmax_fn = nn.LogSoftmax(dim=-1)\n",
        "loss_fn = nn.NLLLoss()"
      ],
      "execution_count": null,
      "outputs": []
    },
    {
      "cell_type": "markdown",
      "metadata": {
        "collapsed": false,
        "pycharm": {
          "name": "#%% md\n"
        },
        "id": "Py3T_wZBpkpr"
      },
      "source": [
        "### 7.2 Training Loop\n",
        "The training loop is identical to the static MNIST case, but we pass each minibatch through `spikegen.rate` before running it through the feedforward network."
      ]
    },
    {
      "cell_type": "code",
      "metadata": {
        "pycharm": {
          "name": "#%%\n"
        },
        "id": "S8TSoPK5pkpr"
      },
      "source": [
        "loss_hist = []\n",
        "test_loss_hist = []\n",
        "counter = 0\n",
        "\n",
        "# Outer training loop\n",
        "for epoch in range(3):\n",
        "    minibatch_counter = 0\n",
        "    data = iter(train_loader)\n",
        "\n",
        "    # Minibatch training loop\n",
        "    for data_it, targets_it in data:\n",
        "        data_it = data_it.to(device)\n",
        "        targets_it = targets_it.to(device)\n",
        "\n",
        "        # Spike generator\n",
        "        spike_data, spike_targets = spikegen.rate(data_it, targets_it, num_outputs=num_outputs, num_steps=num_steps,\n",
        "                                                  gain=1, offset=0, convert_targets=False, temporal_targets=False)\n",
        "\n",
        "        # Forward pass\n",
        "        output, mem_rec = net(spike_data.view(num_steps, batch_size, -1))\n",
        "        log_p_y = log_softmax_fn(mem_rec)\n",
        "        loss_val = torch.zeros((1), dtype=dtype, device=device)\n",
        "\n",
        "        # Sum loss over time steps to perform BPTT\n",
        "        for step in range(num_steps):\n",
        "          loss_val += loss_fn(log_p_y[step], targets_it)\n",
        "\n",
        "        # Gradient Calculation\n",
        "        optimizer.zero_grad()\n",
        "        loss_val.backward(retain_graph=True)\n",
        "        nn.utils.clip_grad_norm_(net.parameters(), 1)\n",
        "\n",
        "        # Weight Update\n",
        "        optimizer.step()\n",
        "\n",
        "        # Store Loss history\n",
        "        loss_hist.append(loss_val.item())\n",
        "\n",
        "        # Test set\n",
        "        test_data = itertools.cycle(test_loader)\n",
        "        testdata_it, testtargets_it = next(test_data)\n",
        "        testdata_it = testdata_it.to(device)\n",
        "        testtargets_it = testtargets_it.to(device)\n",
        "\n",
        "        # Test set spike conversion\n",
        "        test_spike_data, test_spike_targets = spikegen.rate(testdata_it, testtargets_it, num_outputs=num_outputs,\n",
        "                                                            num_steps=num_steps, gain=1, offset=0, convert_targets=False, temporal_targets=False)\n",
        "\n",
        "        # Test set forward pass\n",
        "        test_output, test_mem_rec = net(test_spike_data.view(num_steps, batch_size, -1))\n",
        "\n",
        "        # Test set loss\n",
        "        log_p_ytest = log_softmax_fn(test_mem_rec)\n",
        "        log_p_ytest = log_p_ytest.sum(dim=0)\n",
        "        loss_val_test = loss_fn(log_p_ytest, test_spike_targets)\n",
        "        test_loss_hist.append(loss_val_test.item())\n",
        "\n",
        "        # Print test/train loss/accuracy\n",
        "        if counter % 50 == 0:\n",
        "            train_printer()\n",
        "        minibatch_counter += 1\n",
        "        counter += 1\n",
        "\n",
        "loss_hist_true_grad = loss_hist\n",
        "test_loss_hist_true_grad = test_loss_hist"
      ],
      "execution_count": null,
      "outputs": []
    },
    {
      "cell_type": "markdown",
      "metadata": {
        "collapsed": false,
        "id": "nIboChZtpkps"
      },
      "source": [
        "## 8. Spiking MNIST Results\n",
        "### 8.1 Plot Training/Test Loss"
      ]
    },
    {
      "cell_type": "code",
      "metadata": {
        "pycharm": {
          "name": "#%%\n"
        },
        "id": "PdT9mBeqpkps"
      },
      "source": [
        "# Plot Loss\n",
        "fig = plt.figure(facecolor=\"w\", figsize=(10, 5))\n",
        "plt.plot(loss_hist)\n",
        "plt.plot(test_loss_hist)\n",
        "plt.legend([\"Test Loss\", \"Train Loss\"])\n",
        "plt.xlabel(\"Epoch\")\n",
        "plt.ylabel(\"Loss\")\n",
        "plt.show()"
      ],
      "execution_count": null,
      "outputs": []
    },
    {
      "cell_type": "markdown",
      "metadata": {
        "collapsed": false,
        "id": "QrPfMAm5pkpt"
      },
      "source": [
        "### 8.2 Test Set Accuracy"
      ]
    },
    {
      "cell_type": "code",
      "metadata": {
        "pycharm": {
          "name": "#%%\n"
        },
        "id": "ed0Hbx9Epkpt"
      },
      "source": [
        "total = 0\n",
        "correct = 0\n",
        "test_loader = DataLoader(mnist_test, batch_size=batch_size, shuffle=True, drop_last=False)\n",
        "\n",
        "with torch.no_grad():\n",
        "  net.eval()\n",
        "  for data in test_loader:\n",
        "    images, labels = data\n",
        "    images = images.to(device)\n",
        "    labels = labels.to(device)\n",
        "\n",
        "    # If current batch matches batch_size, just do the usual thing\n",
        "    if images.size()[0] == batch_size:\n",
        "      spike_test, spike_targets = spikegen.rate(images, labels, num_outputs=num_outputs, num_steps=num_steps,\n",
        "                                                            gain=1, offset=0, convert_targets=False, temporal_targets=False)\n",
        "\n",
        "      outputs, _ = net(spike_test.view(num_steps, batch_size, -1))\n",
        "\n",
        "    # If current batch does not match batch_size (e.g., is the final minibatch),\n",
        "    # modify batch_size in a temp variable and restore it at the end of the else block\n",
        "    else:\n",
        "      temp_bs = batch_size\n",
        "      batch_size = images.size()[0]\n",
        "      spike_test, spike_targets = spikegen.rate(images, labels, num_outputs=num_outputs, num_steps=num_steps,\n",
        "                                                gain=1, offset=0, convert_targets=False, temporal_targets=False)\n",
        "\n",
        "      outputs, _ = net(spike_test.view(num_steps, images.size()[0], -1))\n",
        "      batch_size = temp_bs\n",
        "\n",
        "    _, predicted = outputs.sum(dim=0).max(1)\n",
        "    total += spike_targets.size(0)\n",
        "    correct += (predicted == spike_targets).sum().item()\n",
        "\n",
        "print(f\"Total correctly classified test set images: {correct}/{total}\")\n",
        "print(f\"Test Set Accuracy: {100 * correct / total}%\")"
      ],
      "execution_count": null,
      "outputs": []
    },
    {
      "cell_type": "markdown",
      "metadata": {
        "collapsed": false,
        "id": "Kg42_fGzpkpt"
      },
      "source": [
        "That's all for now!\n",
        "Next time, we'll introduce how to use spiking convolutional layers to improve accuracy."
      ]
    }
  ]
}