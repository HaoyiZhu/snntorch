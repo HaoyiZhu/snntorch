{
  "nbformat": 4,
  "nbformat_minor": 0,
  "metadata": {
    "kernelspec": {
      "name": "python3",
      "language": "python",
      "display_name": "Python 3"
    },
    "language_info": {
      "codemirror_mode": {
        "name": "ipython",
        "version": 2
      },
      "file_extension": ".py",
      "mimetype": "text/x-python",
      "name": "python",
      "nbconvert_exporter": "python",
      "pygments_lexer": "ipython2",
      "version": "2.7.6"
    },
    "colab": {
      "name": "tutorial_2_FCN_truncatedfromscratch.ipynb",
      "provenance": []
    },
    "accelerator": "GPU"
  },
  "cells": [
    {
      "cell_type": "markdown",
      "metadata": {
        "collapsed": false,
        "pycharm": {
          "name": "#%% md\n"
        },
        "id": "uSGZ6cdmpknm"
      },
      "source": [
        "<img src='https://github.com/jeshraghian/snntorch/blob/master/docs/_static/img/snntorch_alpha_w.png?raw=true' width=\"400\">\n",
        "\n",
        "# UNDER CONSTRUCTION\n",
        "\n",
        "# snnTorch - Deep Learning with ``snntorch``\n",
        "## Tutorial 3\n",
        "### By Jason K. Eshraghian (www.jasoneshraghian.com)\n",
        "\n",
        "<a href=\"https://colab.research.google.com/github/jeshraghian/snntorch/blob/tutorials/examples/tutorial_3_FCN.ipynb\">\n",
        "  <img src=\"https://colab.research.google.com/assets/colab-badge.svg\" alt=\"Open In Colab\"/>\n",
        "</a>"
      ]
    },
    {
      "cell_type": "markdown",
      "metadata": {
        "id": "Ymi3sqJg28OQ"
      },
      "source": [
        "# Introduction\n",
        "In this tutorial, you will:\n",
        "* Train a fully-connected network on static and spiking MNIST datasets\n",
        "* Implement various backprop strategies:\n",
        "  * Backpropagation Through Time\n",
        "  * Truncated-Backpropagation Through Time\n",
        "  * Real-Time Recurrent Learning\n",
        "\n",
        ">Part of this tutorial was inspired by Friedemann Zenke's extensive work on SNNs. Check out his repo on surrogate gradients [here](https://github.com/fzenke/spytorch), and a favourite paper of mine: E. O. Neftci, H. Mostafa, F. Zenke, [Surrogate Gradient Learning in Spiking Neural Networks: Bringing the Power of Gradient-based optimization to spiking neural networks.](https://ieeexplore.ieee.org/document/8891809) IEEE Signal Processing Magazine 36, 51–63.\n",
        "\n",
        "As a quick recap, [Tutorial 1](https://colab.research.google.com/github/jeshraghian/snntorch/blob/tutorials/examples/tutorial_1_spikegen.ipynb) explained how to convert datasets into spikes using three encoding mechanisms:\n",
        "* Rate coding\n",
        "* Latency coding\n",
        "* Delta modulation\n",
        "\n",
        "[Tutorial 2](https://colab.research.google.com/github/jeshraghian/snntorch/blob/tutorials/examples/tutorial_2_neuronal_dynamics.ipynb) showed how to build neural networks using three different leaky integrate-and-fire (LIF) neuron models:\n",
        "* Lapicque's RC model\n",
        "* Stein's model\n",
        "* Spike Response model\n",
        "\n",
        "In this tutorial, a basic supervised learning algorithm will be implemented. We will use the original static MNIST dataset, convert it into a spiking dataset, and train a multi-layer fully-connected spiking neural network using gradient descent to perform image classification. \n",
        "\n",
        "If running in Google Colab:\n",
        "* You may connect to GPU by checking `Runtime` > `Change runtime type` > `Hardware accelerator: GPU`\n",
        "* Next, install the latest PyPi distribution of snnTorch by clicking into the following cell and pressing `Shift+Enter`."
      ]
    },
    {
      "cell_type": "code",
      "metadata": {
        "pycharm": {
          "name": "#%%\n"
        },
        "id": "5tn_wUlopkon",
        "colab": {
          "base_uri": "https://localhost:8080/"
        },
        "outputId": "43e2c535-3186-4808-ae6a-92a5e034d037"
      },
      "source": [
        "!pip install snntorch"
      ],
      "execution_count": 1,
      "outputs": [
        {
          "output_type": "stream",
          "text": [
            "Collecting snntorch\n",
            "  Downloading https://files.pythonhosted.org/packages/ac/a2/036bbb269f2228d6244cf37d60997f6203ac7c113ec93c5da5b5bb9313df/snntorch-0.2.8-py2.py3-none-any.whl\n",
            "Collecting celluloid\n",
            "  Downloading https://files.pythonhosted.org/packages/60/a7/7fbe80721c6f1b7370c4e50c77abe31b4d5cfeb58873d4d32f48ae5a0bae/celluloid-0.2.0-py3-none-any.whl\n",
            "Requirement already satisfied: numpy>=1.17 in /usr/local/lib/python3.7/dist-packages (from snntorch) (1.19.5)\n",
            "Requirement already satisfied: pandas in /usr/local/lib/python3.7/dist-packages (from snntorch) (1.1.5)\n",
            "Requirement already satisfied: matplotlib in /usr/local/lib/python3.7/dist-packages (from snntorch) (3.2.2)\n",
            "Requirement already satisfied: torch>=1.2.0 in /usr/local/lib/python3.7/dist-packages (from snntorch) (1.8.0+cu101)\n",
            "Requirement already satisfied: pytz>=2017.2 in /usr/local/lib/python3.7/dist-packages (from pandas->snntorch) (2018.9)\n",
            "Requirement already satisfied: python-dateutil>=2.7.3 in /usr/local/lib/python3.7/dist-packages (from pandas->snntorch) (2.8.1)\n",
            "Requirement already satisfied: cycler>=0.10 in /usr/local/lib/python3.7/dist-packages (from matplotlib->snntorch) (0.10.0)\n",
            "Requirement already satisfied: pyparsing!=2.0.4,!=2.1.2,!=2.1.6,>=2.0.1 in /usr/local/lib/python3.7/dist-packages (from matplotlib->snntorch) (2.4.7)\n",
            "Requirement already satisfied: kiwisolver>=1.0.1 in /usr/local/lib/python3.7/dist-packages (from matplotlib->snntorch) (1.3.1)\n",
            "Requirement already satisfied: typing-extensions in /usr/local/lib/python3.7/dist-packages (from torch>=1.2.0->snntorch) (3.7.4.3)\n",
            "Requirement already satisfied: six>=1.5 in /usr/local/lib/python3.7/dist-packages (from python-dateutil>=2.7.3->pandas->snntorch) (1.15.0)\n",
            "Installing collected packages: celluloid, snntorch\n",
            "Successfully installed celluloid-0.2.0 snntorch-0.2.8\n"
          ],
          "name": "stdout"
        }
      ]
    },
    {
      "cell_type": "markdown",
      "metadata": {
        "id": "gt2xMbLY9dVE"
      },
      "source": [
        "# 1. A Recurrent Representation of SNNs"
      ]
    },
    {
      "cell_type": "markdown",
      "metadata": {
        "id": "v7haBG7nA_TC"
      },
      "source": [
        "The following is a summary of the continuous time-domain representation LIF neurons, and applies the result to develop a recurrent representation that is more suitable for use in recurrent neural networks (RNNs). \n",
        "\n",
        "We derived the dynamics of the passive membrane using an RC circuit in the time-domain: \n",
        "\n",
        "$$ \\tau_{\\rm mem} \\frac{dU_{\\rm mem}(t)}{dt} = -U_{\\rm mem}(t) + RI_{\\rm syn}(t),$$\n",
        "\n",
        "where the general solution of this equation is:\n",
        "\n",
        "$$U_{\\rm mem}=I_{\\rm syn}(t)R + [U_0 - I_{\\rm syn}(t)R]e^{-t/\\tau_{\\rm mem}}$$\n",
        "\n",
        "In Lapicque's model, $I_{\\rm syn}(t)$ is also the input current, $I_{\\rm in}(t)$. \n",
        "\n",
        "In Stein's model, a more biologically plausible approach is taken that ensures $I_{\\rm syn}(t)$ follows an exponential decay as a function of the input:\n",
        "\n",
        "\n",
        "$$I_{\\rm syn}(t) = \\sum_k W_{i,j} S_{in; i,j}(t) e^{-(t-t_k)/\\tau_{syn}}\\Theta(t-t_k)$$\n",
        "\n",
        "Stein's model has two exponentially decaying terms: $I_{\\rm syn}(t)$ and $U_{\\rm mem}(t)$. The ratio between subsequent terms (i.e., decay rate) of $I_{\\rm syn}(t)$ is set to $\\alpha$, and that of $U_{\\rm mem}(t)$ is set to $\\beta$:\n",
        "\n",
        "$$ \\alpha = e^{-1/\\tau_{\\rm syn}}$$\n",
        "\n",
        "$$ \\beta = e^{-1/\\tau_{\\rm mem}}$$\n",
        "\n",
        "\n",
        "RNNs will process data sequentially, and so time must be discretised, and the neuron models must be converted into a recursive form. $\\alpha$ and $\\beta$ can be used to give a recursive representation of Stein's neuron model:\n",
        "\n",
        "$$I_{\\rm syn}[t+1]=\\underbrace{\\alpha I_{\\rm syn}[t]}_\\text{decay} + \\underbrace{WS_{\\rm in}[t+1]}_\\text{input}$$\n",
        "\n",
        "$$U[t+1] = \\underbrace{\\beta U[t]}_\\text{decay} + \\underbrace{I_{\\rm syn}[t+1]}_\\text{input} - \\underbrace{R[t+1]}_\\text{reset}$$\n",
        "\n",
        "**Spiking**\n",
        "\n",
        "If $U[t] > U_{\\rm thr}$, then an output spike is triggered: $S_{\\rm out}[t] = 1$. Otherwise, $S_{\\rm out}[t] = 0$. \n",
        "\n",
        "> Note: A variation of this is to set the output spike at the *next* time step to be triggered; i.e., $U[t] > U_{\\rm thr} \\implies S_{\\rm out}[t+1] = 1$. This is the approach take in snnTorch, and will be explained in following sections.\n",
        "\n",
        "An alternative way to represent the relationship between $S_{\\rm out}$ and $U_{\\rm mem}$, which is also used to calculate the gradient in the backward pass, is:\n",
        "\n",
        "$$S_{\\rm out}[t] = \\Theta(U_{\\rm mem}[t] - U_{\\rm thr})$$ \n",
        "\n",
        "**Reset**\n",
        "\n",
        "The reset term is activated only when the neuron triggers a spike. That is to say, if $S_{\\rm out}[t]=1$:\n",
        "\n",
        "  * For `reset_mechanism=\"subtract\"`: $R[t+1]=U_{\\rm thr}$ \n",
        "  * For `reset_mechanism=\"zero\"`: $R[t+1]=U[t+1]$\n",
        "\n",
        "> Note: In snnTorch, the reset will also take a one time step delay such that $R[t+1]$ is activated only when $S_{\\rm out}[t+1]=1$\n",
        "\n",
        "The other neurons follow a similar form, which is [detailed in the documentation](https://snntorch.readthedocs.io/en/latest/snntorch.html). The recursive neuron equations can be mapped into computation graphs, where the recurrent connections take place with a delay of a single time step, from the state at time $t$ to the state at time $t+1$. \n",
        "\n",
        "<center>\n",
        "<img src='https://github.com/jeshraghian/snntorch/blob/master/docs/_static/img/examples/tutorial3/3_1_recurrent.png?raw=true' width=\"950\">\n",
        "</center>"
      ]
    },
    {
      "cell_type": "markdown",
      "metadata": {
        "id": "t256yMrzTU6M"
      },
      "source": [
        "An alternative way to represent recurrent models is to unfold the computational graph, in which each component is represented by a sequence of different variables, with one variable per time step. The unfolded form of Stein's model is shown below:\n",
        "\n",
        "<center>\n",
        "<img src='https://github.com/jeshraghian/snntorch/blob/master/docs/_static/img/examples/tutorial3/3_2_unrolled.png?raw=true' width=\"800\">\n",
        "</center>\n",
        "\n",
        "The benefit of an unrolled graph is that we now have an explicit description of how computations are performed. The process of unfolding illustrates the idea of information flowing forward in time (from left to right) to compute outputs and losses, and backward in time to compute gradients. The more time steps that are simulated, the deeper the graph becomes. \n",
        "\n",
        "Conventional RNNs treat $\\alpha$ and $\\beta$ as learnable parameters. This is also possible for SNNs, but in snnTorch, they are treated as hyperparameters by default. This replaces the vanishing and exploding gradient problems with a parameter search.\n",
        "\n",
        "Up until now, the notation used for all variables have had an association with their electrical meanings. As we move from neuronal dynamics to deep learning, we will slightly modify the notation throughout the rest of the tutorial:\n",
        "\n",
        "* **Input spike:** $S_{\\rm in} \\rightarrow X$\n",
        "* **Input current (weighted spike):** $I_{\\rm in} \\rightarrow Y$\n",
        "* **Synaptic current:** $I_{\\rm syn} \\rightarrow I$\n",
        "* **Membrane potential:** $U_{\\rm mem} \\rightarrow U$\n",
        "* **Output spike:** $S_{\\rm out} \\rightarrow S$"
      ]
    },
    {
      "cell_type": "markdown",
      "metadata": {
        "id": "zqJdfllYbc16"
      },
      "source": [
        "# 2. Setting up the Static MNIST Dataset"
      ]
    },
    {
      "cell_type": "markdown",
      "metadata": {
        "id": "SuOWJNEMe8l_"
      },
      "source": [
        "Much of the following code has already been explained in the first two tutorials. So we'll dive straight in. "
      ]
    },
    {
      "cell_type": "markdown",
      "metadata": {
        "id": "nbunSP5TbikZ"
      },
      "source": [
        "## 2.1 Import packages and setup the environment"
      ]
    },
    {
      "cell_type": "code",
      "metadata": {
        "pycharm": {
          "name": "#%%\n"
        },
        "id": "bEFWu3nNpkoq"
      },
      "source": [
        "import snntorch as snn\n",
        "import torch\n",
        "import torch.nn as nn\n",
        "from torch.utils.data import DataLoader\n",
        "from torchvision import datasets, transforms\n",
        "import numpy as np\n",
        "import itertools\n",
        "import matplotlib.pyplot as plt"
      ],
      "execution_count": 2,
      "outputs": []
    },
    {
      "cell_type": "code",
      "metadata": {
        "pycharm": {
          "name": "#%%\n"
        },
        "id": "lI0GbgLgpkos"
      },
      "source": [
        "# Network Architecture\n",
        "num_inputs = 28*28\n",
        "num_hidden = 1000\n",
        "num_outputs = 10\n",
        "\n",
        "# Training Parameters\n",
        "batch_size=128\n",
        "data_path='/data/mnist'\n",
        "\n",
        "# Temporal Dynamics\n",
        "num_steps = 25\n",
        "alpha = 0.7\n",
        "beta = 0.8\n",
        "\n",
        "dtype = torch.float\n",
        "device = torch.device(\"cuda\") if torch.cuda.is_available() else torch.device(\"cpu\")"
      ],
      "execution_count": 3,
      "outputs": []
    },
    {
      "cell_type": "markdown",
      "metadata": {
        "collapsed": false,
        "pycharm": {
          "name": "#%% md\n"
        },
        "id": "nUS6YFXbpkos"
      },
      "source": [
        "## 2.2 Download MNIST Dataset"
      ]
    },
    {
      "cell_type": "code",
      "metadata": {
        "colab": {
          "base_uri": "https://localhost:8080/"
        },
        "id": "4jyJVqUNdXDo",
        "outputId": "c920dd6f-af7a-41da-cca8-c1106b61f4eb"
      },
      "source": [
        "# temporary dataloader while MNIST service is unavailable\n",
        "!wget www.di.ens.fr/~lelarge/MNIST.tar.gz\n",
        "!tar -zxvf MNIST.tar.gz\n",
        "\n",
        "mnist_train = datasets.MNIST(root = './', train=True, download=True, transform=transform)\n",
        "mnist_test = datasets.MNIST(root = './', train=False, download=True, transform=transform)"
      ],
      "execution_count": 6,
      "outputs": [
        {
          "output_type": "stream",
          "text": [
            "--2021-03-23 04:55:59--  http://www.di.ens.fr/~lelarge/MNIST.tar.gz\n",
            "Resolving www.di.ens.fr (www.di.ens.fr)... 129.199.99.14\n",
            "Connecting to www.di.ens.fr (www.di.ens.fr)|129.199.99.14|:80... connected.\n",
            "HTTP request sent, awaiting response... 302 Found\n",
            "Location: https://www.di.ens.fr/~lelarge/MNIST.tar.gz [following]\n",
            "--2021-03-23 04:55:59--  https://www.di.ens.fr/~lelarge/MNIST.tar.gz\n",
            "Connecting to www.di.ens.fr (www.di.ens.fr)|129.199.99.14|:443... connected.\n",
            "HTTP request sent, awaiting response... 200 OK\n",
            "Length: unspecified [application/x-gzip]\n",
            "Saving to: ‘MNIST.tar.gz.1’\n",
            "\n",
            "MNIST.tar.gz.1          [              <=>   ]  33.20M  10.0MB/s    in 3.9s    \n",
            "\n",
            "2021-03-23 04:56:03 (8.54 MB/s) - ‘MNIST.tar.gz.1’ saved [34813078]\n",
            "\n",
            "MNIST/\n",
            "MNIST/raw/\n",
            "MNIST/raw/train-labels-idx1-ubyte\n",
            "MNIST/raw/t10k-labels-idx1-ubyte.gz\n",
            "MNIST/raw/t10k-labels-idx1-ubyte\n",
            "MNIST/raw/t10k-images-idx3-ubyte.gz\n",
            "MNIST/raw/train-images-idx3-ubyte\n",
            "MNIST/raw/train-labels-idx1-ubyte.gz\n",
            "MNIST/raw/t10k-images-idx3-ubyte\n",
            "MNIST/raw/train-images-idx3-ubyte.gz\n",
            "MNIST/processed/\n",
            "MNIST/processed/training.pt\n",
            "MNIST/processed/test.pt\n"
          ],
          "name": "stdout"
        }
      ]
    },
    {
      "cell_type": "code",
      "metadata": {
        "pycharm": {
          "name": "#%%\n"
        },
        "id": "2fhRixcspkot",
        "colab": {
          "base_uri": "https://localhost:8080/",
          "height": 387
        },
        "outputId": "7ec298bd-ac30-457e-a913-12ff24d90e10"
      },
      "source": [
        "# Define a transform\n",
        "transform = transforms.Compose([\n",
        "            transforms.Resize((28, 28)),\n",
        "            transforms.Grayscale(),\n",
        "            transforms.ToTensor(),\n",
        "            transforms.Normalize((0,), (1,))])\n",
        "\n",
        "mnist_train = datasets.MNIST(data_path, train=True, download=True, transform=transform)\n",
        "mnist_test = datasets.MNIST(data_path, train=False, download=True, transform=transform)"
      ],
      "execution_count": 5,
      "outputs": [
        {
          "output_type": "stream",
          "text": [
            "Downloading http://yann.lecun.com/exdb/mnist/train-images-idx3-ubyte.gz to /data/mnist/MNIST/raw/train-images-idx3-ubyte.gz\n"
          ],
          "name": "stdout"
        },
        {
          "output_type": "error",
          "ename": "HTTPError",
          "evalue": "ignored",
          "traceback": [
            "\u001b[0;31m---------------------------------------------------------------------------\u001b[0m",
            "\u001b[0;31mHTTPError\u001b[0m                                 Traceback (most recent call last)",
            "\u001b[0;32m<ipython-input-5-9d12301a29bb>\u001b[0m in \u001b[0;36m<module>\u001b[0;34m()\u001b[0m\n\u001b[1;32m      6\u001b[0m             transforms.Normalize((0,), (1,))])\n\u001b[1;32m      7\u001b[0m \u001b[0;34m\u001b[0m\u001b[0m\n\u001b[0;32m----> 8\u001b[0;31m \u001b[0mmnist_train\u001b[0m \u001b[0;34m=\u001b[0m \u001b[0mdatasets\u001b[0m\u001b[0;34m.\u001b[0m\u001b[0mMNIST\u001b[0m\u001b[0;34m(\u001b[0m\u001b[0mdata_path\u001b[0m\u001b[0;34m,\u001b[0m \u001b[0mtrain\u001b[0m\u001b[0;34m=\u001b[0m\u001b[0;32mTrue\u001b[0m\u001b[0;34m,\u001b[0m \u001b[0mdownload\u001b[0m\u001b[0;34m=\u001b[0m\u001b[0;32mTrue\u001b[0m\u001b[0;34m,\u001b[0m \u001b[0mtransform\u001b[0m\u001b[0;34m=\u001b[0m\u001b[0mtransform\u001b[0m\u001b[0;34m)\u001b[0m\u001b[0;34m\u001b[0m\u001b[0;34m\u001b[0m\u001b[0m\n\u001b[0m\u001b[1;32m      9\u001b[0m \u001b[0mmnist_test\u001b[0m \u001b[0;34m=\u001b[0m \u001b[0mdatasets\u001b[0m\u001b[0;34m.\u001b[0m\u001b[0mMNIST\u001b[0m\u001b[0;34m(\u001b[0m\u001b[0mdata_path\u001b[0m\u001b[0;34m,\u001b[0m \u001b[0mtrain\u001b[0m\u001b[0;34m=\u001b[0m\u001b[0;32mFalse\u001b[0m\u001b[0;34m,\u001b[0m \u001b[0mdownload\u001b[0m\u001b[0;34m=\u001b[0m\u001b[0;32mTrue\u001b[0m\u001b[0;34m,\u001b[0m \u001b[0mtransform\u001b[0m\u001b[0;34m=\u001b[0m\u001b[0mtransform\u001b[0m\u001b[0;34m)\u001b[0m\u001b[0;34m\u001b[0m\u001b[0;34m\u001b[0m\u001b[0m\n",
            "\u001b[0;32m/usr/local/lib/python3.7/dist-packages/torchvision/datasets/mnist.py\u001b[0m in \u001b[0;36m__init__\u001b[0;34m(self, root, train, transform, target_transform, download)\u001b[0m\n\u001b[1;32m     77\u001b[0m \u001b[0;34m\u001b[0m\u001b[0m\n\u001b[1;32m     78\u001b[0m         \u001b[0;32mif\u001b[0m \u001b[0mdownload\u001b[0m\u001b[0;34m:\u001b[0m\u001b[0;34m\u001b[0m\u001b[0;34m\u001b[0m\u001b[0m\n\u001b[0;32m---> 79\u001b[0;31m             \u001b[0mself\u001b[0m\u001b[0;34m.\u001b[0m\u001b[0mdownload\u001b[0m\u001b[0;34m(\u001b[0m\u001b[0;34m)\u001b[0m\u001b[0;34m\u001b[0m\u001b[0;34m\u001b[0m\u001b[0m\n\u001b[0m\u001b[1;32m     80\u001b[0m \u001b[0;34m\u001b[0m\u001b[0m\n\u001b[1;32m     81\u001b[0m         \u001b[0;32mif\u001b[0m \u001b[0;32mnot\u001b[0m \u001b[0mself\u001b[0m\u001b[0;34m.\u001b[0m\u001b[0m_check_exists\u001b[0m\u001b[0;34m(\u001b[0m\u001b[0;34m)\u001b[0m\u001b[0;34m:\u001b[0m\u001b[0;34m\u001b[0m\u001b[0;34m\u001b[0m\u001b[0m\n",
            "\u001b[0;32m/usr/local/lib/python3.7/dist-packages/torchvision/datasets/mnist.py\u001b[0m in \u001b[0;36mdownload\u001b[0;34m(self)\u001b[0m\n\u001b[1;32m    144\u001b[0m         \u001b[0;32mfor\u001b[0m \u001b[0murl\u001b[0m\u001b[0;34m,\u001b[0m \u001b[0mmd5\u001b[0m \u001b[0;32min\u001b[0m \u001b[0mself\u001b[0m\u001b[0;34m.\u001b[0m\u001b[0mresources\u001b[0m\u001b[0;34m:\u001b[0m\u001b[0;34m\u001b[0m\u001b[0;34m\u001b[0m\u001b[0m\n\u001b[1;32m    145\u001b[0m             \u001b[0mfilename\u001b[0m \u001b[0;34m=\u001b[0m \u001b[0murl\u001b[0m\u001b[0;34m.\u001b[0m\u001b[0mrpartition\u001b[0m\u001b[0;34m(\u001b[0m\u001b[0;34m'/'\u001b[0m\u001b[0;34m)\u001b[0m\u001b[0;34m[\u001b[0m\u001b[0;36m2\u001b[0m\u001b[0;34m]\u001b[0m\u001b[0;34m\u001b[0m\u001b[0;34m\u001b[0m\u001b[0m\n\u001b[0;32m--> 146\u001b[0;31m             \u001b[0mdownload_and_extract_archive\u001b[0m\u001b[0;34m(\u001b[0m\u001b[0murl\u001b[0m\u001b[0;34m,\u001b[0m \u001b[0mdownload_root\u001b[0m\u001b[0;34m=\u001b[0m\u001b[0mself\u001b[0m\u001b[0;34m.\u001b[0m\u001b[0mraw_folder\u001b[0m\u001b[0;34m,\u001b[0m \u001b[0mfilename\u001b[0m\u001b[0;34m=\u001b[0m\u001b[0mfilename\u001b[0m\u001b[0;34m,\u001b[0m \u001b[0mmd5\u001b[0m\u001b[0;34m=\u001b[0m\u001b[0mmd5\u001b[0m\u001b[0;34m)\u001b[0m\u001b[0;34m\u001b[0m\u001b[0;34m\u001b[0m\u001b[0m\n\u001b[0m\u001b[1;32m    147\u001b[0m \u001b[0;34m\u001b[0m\u001b[0m\n\u001b[1;32m    148\u001b[0m         \u001b[0;31m# process and save as torch files\u001b[0m\u001b[0;34m\u001b[0m\u001b[0;34m\u001b[0m\u001b[0;34m\u001b[0m\u001b[0m\n",
            "\u001b[0;32m/usr/local/lib/python3.7/dist-packages/torchvision/datasets/utils.py\u001b[0m in \u001b[0;36mdownload_and_extract_archive\u001b[0;34m(url, download_root, extract_root, filename, md5, remove_finished)\u001b[0m\n\u001b[1;32m    312\u001b[0m         \u001b[0mfilename\u001b[0m \u001b[0;34m=\u001b[0m \u001b[0mos\u001b[0m\u001b[0;34m.\u001b[0m\u001b[0mpath\u001b[0m\u001b[0;34m.\u001b[0m\u001b[0mbasename\u001b[0m\u001b[0;34m(\u001b[0m\u001b[0murl\u001b[0m\u001b[0;34m)\u001b[0m\u001b[0;34m\u001b[0m\u001b[0;34m\u001b[0m\u001b[0m\n\u001b[1;32m    313\u001b[0m \u001b[0;34m\u001b[0m\u001b[0m\n\u001b[0;32m--> 314\u001b[0;31m     \u001b[0mdownload_url\u001b[0m\u001b[0;34m(\u001b[0m\u001b[0murl\u001b[0m\u001b[0;34m,\u001b[0m \u001b[0mdownload_root\u001b[0m\u001b[0;34m,\u001b[0m \u001b[0mfilename\u001b[0m\u001b[0;34m,\u001b[0m \u001b[0mmd5\u001b[0m\u001b[0;34m)\u001b[0m\u001b[0;34m\u001b[0m\u001b[0;34m\u001b[0m\u001b[0m\n\u001b[0m\u001b[1;32m    315\u001b[0m \u001b[0;34m\u001b[0m\u001b[0m\n\u001b[1;32m    316\u001b[0m     \u001b[0marchive\u001b[0m \u001b[0;34m=\u001b[0m \u001b[0mos\u001b[0m\u001b[0;34m.\u001b[0m\u001b[0mpath\u001b[0m\u001b[0;34m.\u001b[0m\u001b[0mjoin\u001b[0m\u001b[0;34m(\u001b[0m\u001b[0mdownload_root\u001b[0m\u001b[0;34m,\u001b[0m \u001b[0mfilename\u001b[0m\u001b[0;34m)\u001b[0m\u001b[0;34m\u001b[0m\u001b[0;34m\u001b[0m\u001b[0m\n",
            "\u001b[0;32m/usr/local/lib/python3.7/dist-packages/torchvision/datasets/utils.py\u001b[0m in \u001b[0;36mdownload_url\u001b[0;34m(url, root, filename, md5, max_redirect_hops)\u001b[0m\n\u001b[1;32m    138\u001b[0m             \u001b[0m_urlretrieve\u001b[0m\u001b[0;34m(\u001b[0m\u001b[0murl\u001b[0m\u001b[0;34m,\u001b[0m \u001b[0mfpath\u001b[0m\u001b[0;34m)\u001b[0m\u001b[0;34m\u001b[0m\u001b[0;34m\u001b[0m\u001b[0m\n\u001b[1;32m    139\u001b[0m         \u001b[0;32melse\u001b[0m\u001b[0;34m:\u001b[0m\u001b[0;34m\u001b[0m\u001b[0;34m\u001b[0m\u001b[0m\n\u001b[0;32m--> 140\u001b[0;31m             \u001b[0;32mraise\u001b[0m \u001b[0me\u001b[0m\u001b[0;34m\u001b[0m\u001b[0;34m\u001b[0m\u001b[0m\n\u001b[0m\u001b[1;32m    141\u001b[0m     \u001b[0;31m# check integrity of downloaded file\u001b[0m\u001b[0;34m\u001b[0m\u001b[0;34m\u001b[0m\u001b[0;34m\u001b[0m\u001b[0m\n\u001b[1;32m    142\u001b[0m     \u001b[0;32mif\u001b[0m \u001b[0;32mnot\u001b[0m \u001b[0mcheck_integrity\u001b[0m\u001b[0;34m(\u001b[0m\u001b[0mfpath\u001b[0m\u001b[0;34m,\u001b[0m \u001b[0mmd5\u001b[0m\u001b[0;34m)\u001b[0m\u001b[0;34m:\u001b[0m\u001b[0;34m\u001b[0m\u001b[0;34m\u001b[0m\u001b[0m\n",
            "\u001b[0;32m/usr/local/lib/python3.7/dist-packages/torchvision/datasets/utils.py\u001b[0m in \u001b[0;36mdownload_url\u001b[0;34m(url, root, filename, md5, max_redirect_hops)\u001b[0m\n\u001b[1;32m    130\u001b[0m     \u001b[0;32mtry\u001b[0m\u001b[0;34m:\u001b[0m\u001b[0;34m\u001b[0m\u001b[0;34m\u001b[0m\u001b[0m\n\u001b[1;32m    131\u001b[0m         \u001b[0mprint\u001b[0m\u001b[0;34m(\u001b[0m\u001b[0;34m'Downloading '\u001b[0m \u001b[0;34m+\u001b[0m \u001b[0murl\u001b[0m \u001b[0;34m+\u001b[0m \u001b[0;34m' to '\u001b[0m \u001b[0;34m+\u001b[0m \u001b[0mfpath\u001b[0m\u001b[0;34m)\u001b[0m\u001b[0;34m\u001b[0m\u001b[0;34m\u001b[0m\u001b[0m\n\u001b[0;32m--> 132\u001b[0;31m         \u001b[0m_urlretrieve\u001b[0m\u001b[0;34m(\u001b[0m\u001b[0murl\u001b[0m\u001b[0;34m,\u001b[0m \u001b[0mfpath\u001b[0m\u001b[0;34m)\u001b[0m\u001b[0;34m\u001b[0m\u001b[0;34m\u001b[0m\u001b[0m\n\u001b[0m\u001b[1;32m    133\u001b[0m     \u001b[0;32mexcept\u001b[0m \u001b[0;34m(\u001b[0m\u001b[0murllib\u001b[0m\u001b[0;34m.\u001b[0m\u001b[0merror\u001b[0m\u001b[0;34m.\u001b[0m\u001b[0mURLError\u001b[0m\u001b[0;34m,\u001b[0m \u001b[0mIOError\u001b[0m\u001b[0;34m)\u001b[0m \u001b[0;32mas\u001b[0m \u001b[0me\u001b[0m\u001b[0;34m:\u001b[0m  \u001b[0;31m# type: ignore[attr-defined]\u001b[0m\u001b[0;34m\u001b[0m\u001b[0;34m\u001b[0m\u001b[0m\n\u001b[1;32m    134\u001b[0m         \u001b[0;32mif\u001b[0m \u001b[0murl\u001b[0m\u001b[0;34m[\u001b[0m\u001b[0;34m:\u001b[0m\u001b[0;36m5\u001b[0m\u001b[0;34m]\u001b[0m \u001b[0;34m==\u001b[0m \u001b[0;34m'https'\u001b[0m\u001b[0;34m:\u001b[0m\u001b[0;34m\u001b[0m\u001b[0;34m\u001b[0m\u001b[0m\n",
            "\u001b[0;32m/usr/local/lib/python3.7/dist-packages/torchvision/datasets/utils.py\u001b[0m in \u001b[0;36m_urlretrieve\u001b[0;34m(url, filename, chunk_size)\u001b[0m\n\u001b[1;32m     27\u001b[0m \u001b[0;32mdef\u001b[0m \u001b[0m_urlretrieve\u001b[0m\u001b[0;34m(\u001b[0m\u001b[0murl\u001b[0m\u001b[0;34m:\u001b[0m \u001b[0mstr\u001b[0m\u001b[0;34m,\u001b[0m \u001b[0mfilename\u001b[0m\u001b[0;34m:\u001b[0m \u001b[0mstr\u001b[0m\u001b[0;34m,\u001b[0m \u001b[0mchunk_size\u001b[0m\u001b[0;34m:\u001b[0m \u001b[0mint\u001b[0m \u001b[0;34m=\u001b[0m \u001b[0;36m1024\u001b[0m\u001b[0;34m)\u001b[0m \u001b[0;34m->\u001b[0m \u001b[0;32mNone\u001b[0m\u001b[0;34m:\u001b[0m\u001b[0;34m\u001b[0m\u001b[0;34m\u001b[0m\u001b[0m\n\u001b[1;32m     28\u001b[0m     \u001b[0;32mwith\u001b[0m \u001b[0mopen\u001b[0m\u001b[0;34m(\u001b[0m\u001b[0mfilename\u001b[0m\u001b[0;34m,\u001b[0m \u001b[0;34m\"wb\"\u001b[0m\u001b[0;34m)\u001b[0m \u001b[0;32mas\u001b[0m \u001b[0mfh\u001b[0m\u001b[0;34m:\u001b[0m\u001b[0;34m\u001b[0m\u001b[0;34m\u001b[0m\u001b[0m\n\u001b[0;32m---> 29\u001b[0;31m         \u001b[0;32mwith\u001b[0m \u001b[0murllib\u001b[0m\u001b[0;34m.\u001b[0m\u001b[0mrequest\u001b[0m\u001b[0;34m.\u001b[0m\u001b[0murlopen\u001b[0m\u001b[0;34m(\u001b[0m\u001b[0murllib\u001b[0m\u001b[0;34m.\u001b[0m\u001b[0mrequest\u001b[0m\u001b[0;34m.\u001b[0m\u001b[0mRequest\u001b[0m\u001b[0;34m(\u001b[0m\u001b[0murl\u001b[0m\u001b[0;34m,\u001b[0m \u001b[0mheaders\u001b[0m\u001b[0;34m=\u001b[0m\u001b[0;34m{\u001b[0m\u001b[0;34m\"User-Agent\"\u001b[0m\u001b[0;34m:\u001b[0m \u001b[0mUSER_AGENT\u001b[0m\u001b[0;34m}\u001b[0m\u001b[0;34m)\u001b[0m\u001b[0;34m)\u001b[0m \u001b[0;32mas\u001b[0m \u001b[0mresponse\u001b[0m\u001b[0;34m:\u001b[0m\u001b[0;34m\u001b[0m\u001b[0;34m\u001b[0m\u001b[0m\n\u001b[0m\u001b[1;32m     30\u001b[0m             \u001b[0;32mwith\u001b[0m \u001b[0mtqdm\u001b[0m\u001b[0;34m(\u001b[0m\u001b[0mtotal\u001b[0m\u001b[0;34m=\u001b[0m\u001b[0mresponse\u001b[0m\u001b[0;34m.\u001b[0m\u001b[0mlength\u001b[0m\u001b[0;34m)\u001b[0m \u001b[0;32mas\u001b[0m \u001b[0mpbar\u001b[0m\u001b[0;34m:\u001b[0m\u001b[0;34m\u001b[0m\u001b[0;34m\u001b[0m\u001b[0m\n\u001b[1;32m     31\u001b[0m                 \u001b[0;32mfor\u001b[0m \u001b[0mchunk\u001b[0m \u001b[0;32min\u001b[0m \u001b[0miter\u001b[0m\u001b[0;34m(\u001b[0m\u001b[0;32mlambda\u001b[0m\u001b[0;34m:\u001b[0m \u001b[0mresponse\u001b[0m\u001b[0;34m.\u001b[0m\u001b[0mread\u001b[0m\u001b[0;34m(\u001b[0m\u001b[0mchunk_size\u001b[0m\u001b[0;34m)\u001b[0m\u001b[0;34m,\u001b[0m \u001b[0;34m\"\"\u001b[0m\u001b[0;34m)\u001b[0m\u001b[0;34m:\u001b[0m\u001b[0;34m\u001b[0m\u001b[0;34m\u001b[0m\u001b[0m\n",
            "\u001b[0;32m/usr/lib/python3.7/urllib/request.py\u001b[0m in \u001b[0;36murlopen\u001b[0;34m(url, data, timeout, cafile, capath, cadefault, context)\u001b[0m\n\u001b[1;32m    220\u001b[0m     \u001b[0;32melse\u001b[0m\u001b[0;34m:\u001b[0m\u001b[0;34m\u001b[0m\u001b[0;34m\u001b[0m\u001b[0m\n\u001b[1;32m    221\u001b[0m         \u001b[0mopener\u001b[0m \u001b[0;34m=\u001b[0m \u001b[0m_opener\u001b[0m\u001b[0;34m\u001b[0m\u001b[0;34m\u001b[0m\u001b[0m\n\u001b[0;32m--> 222\u001b[0;31m     \u001b[0;32mreturn\u001b[0m \u001b[0mopener\u001b[0m\u001b[0;34m.\u001b[0m\u001b[0mopen\u001b[0m\u001b[0;34m(\u001b[0m\u001b[0murl\u001b[0m\u001b[0;34m,\u001b[0m \u001b[0mdata\u001b[0m\u001b[0;34m,\u001b[0m \u001b[0mtimeout\u001b[0m\u001b[0;34m)\u001b[0m\u001b[0;34m\u001b[0m\u001b[0;34m\u001b[0m\u001b[0m\n\u001b[0m\u001b[1;32m    223\u001b[0m \u001b[0;34m\u001b[0m\u001b[0m\n\u001b[1;32m    224\u001b[0m \u001b[0;32mdef\u001b[0m \u001b[0minstall_opener\u001b[0m\u001b[0;34m(\u001b[0m\u001b[0mopener\u001b[0m\u001b[0;34m)\u001b[0m\u001b[0;34m:\u001b[0m\u001b[0;34m\u001b[0m\u001b[0;34m\u001b[0m\u001b[0m\n",
            "\u001b[0;32m/usr/lib/python3.7/urllib/request.py\u001b[0m in \u001b[0;36mopen\u001b[0;34m(self, fullurl, data, timeout)\u001b[0m\n\u001b[1;32m    529\u001b[0m         \u001b[0;32mfor\u001b[0m \u001b[0mprocessor\u001b[0m \u001b[0;32min\u001b[0m \u001b[0mself\u001b[0m\u001b[0;34m.\u001b[0m\u001b[0mprocess_response\u001b[0m\u001b[0;34m.\u001b[0m\u001b[0mget\u001b[0m\u001b[0;34m(\u001b[0m\u001b[0mprotocol\u001b[0m\u001b[0;34m,\u001b[0m \u001b[0;34m[\u001b[0m\u001b[0;34m]\u001b[0m\u001b[0;34m)\u001b[0m\u001b[0;34m:\u001b[0m\u001b[0;34m\u001b[0m\u001b[0;34m\u001b[0m\u001b[0m\n\u001b[1;32m    530\u001b[0m             \u001b[0mmeth\u001b[0m \u001b[0;34m=\u001b[0m \u001b[0mgetattr\u001b[0m\u001b[0;34m(\u001b[0m\u001b[0mprocessor\u001b[0m\u001b[0;34m,\u001b[0m \u001b[0mmeth_name\u001b[0m\u001b[0;34m)\u001b[0m\u001b[0;34m\u001b[0m\u001b[0;34m\u001b[0m\u001b[0m\n\u001b[0;32m--> 531\u001b[0;31m             \u001b[0mresponse\u001b[0m \u001b[0;34m=\u001b[0m \u001b[0mmeth\u001b[0m\u001b[0;34m(\u001b[0m\u001b[0mreq\u001b[0m\u001b[0;34m,\u001b[0m \u001b[0mresponse\u001b[0m\u001b[0;34m)\u001b[0m\u001b[0;34m\u001b[0m\u001b[0;34m\u001b[0m\u001b[0m\n\u001b[0m\u001b[1;32m    532\u001b[0m \u001b[0;34m\u001b[0m\u001b[0m\n\u001b[1;32m    533\u001b[0m         \u001b[0;32mreturn\u001b[0m \u001b[0mresponse\u001b[0m\u001b[0;34m\u001b[0m\u001b[0;34m\u001b[0m\u001b[0m\n",
            "\u001b[0;32m/usr/lib/python3.7/urllib/request.py\u001b[0m in \u001b[0;36mhttp_response\u001b[0;34m(self, request, response)\u001b[0m\n\u001b[1;32m    639\u001b[0m         \u001b[0;32mif\u001b[0m \u001b[0;32mnot\u001b[0m \u001b[0;34m(\u001b[0m\u001b[0;36m200\u001b[0m \u001b[0;34m<=\u001b[0m \u001b[0mcode\u001b[0m \u001b[0;34m<\u001b[0m \u001b[0;36m300\u001b[0m\u001b[0;34m)\u001b[0m\u001b[0;34m:\u001b[0m\u001b[0;34m\u001b[0m\u001b[0;34m\u001b[0m\u001b[0m\n\u001b[1;32m    640\u001b[0m             response = self.parent.error(\n\u001b[0;32m--> 641\u001b[0;31m                 'http', request, response, code, msg, hdrs)\n\u001b[0m\u001b[1;32m    642\u001b[0m \u001b[0;34m\u001b[0m\u001b[0m\n\u001b[1;32m    643\u001b[0m         \u001b[0;32mreturn\u001b[0m \u001b[0mresponse\u001b[0m\u001b[0;34m\u001b[0m\u001b[0;34m\u001b[0m\u001b[0m\n",
            "\u001b[0;32m/usr/lib/python3.7/urllib/request.py\u001b[0m in \u001b[0;36merror\u001b[0;34m(self, proto, *args)\u001b[0m\n\u001b[1;32m    567\u001b[0m         \u001b[0;32mif\u001b[0m \u001b[0mhttp_err\u001b[0m\u001b[0;34m:\u001b[0m\u001b[0;34m\u001b[0m\u001b[0;34m\u001b[0m\u001b[0m\n\u001b[1;32m    568\u001b[0m             \u001b[0margs\u001b[0m \u001b[0;34m=\u001b[0m \u001b[0;34m(\u001b[0m\u001b[0mdict\u001b[0m\u001b[0;34m,\u001b[0m \u001b[0;34m'default'\u001b[0m\u001b[0;34m,\u001b[0m \u001b[0;34m'http_error_default'\u001b[0m\u001b[0;34m)\u001b[0m \u001b[0;34m+\u001b[0m \u001b[0morig_args\u001b[0m\u001b[0;34m\u001b[0m\u001b[0;34m\u001b[0m\u001b[0m\n\u001b[0;32m--> 569\u001b[0;31m             \u001b[0;32mreturn\u001b[0m \u001b[0mself\u001b[0m\u001b[0;34m.\u001b[0m\u001b[0m_call_chain\u001b[0m\u001b[0;34m(\u001b[0m\u001b[0;34m*\u001b[0m\u001b[0margs\u001b[0m\u001b[0;34m)\u001b[0m\u001b[0;34m\u001b[0m\u001b[0;34m\u001b[0m\u001b[0m\n\u001b[0m\u001b[1;32m    570\u001b[0m \u001b[0;34m\u001b[0m\u001b[0m\n\u001b[1;32m    571\u001b[0m \u001b[0;31m# XXX probably also want an abstract factory that knows when it makes\u001b[0m\u001b[0;34m\u001b[0m\u001b[0;34m\u001b[0m\u001b[0;34m\u001b[0m\u001b[0m\n",
            "\u001b[0;32m/usr/lib/python3.7/urllib/request.py\u001b[0m in \u001b[0;36m_call_chain\u001b[0;34m(self, chain, kind, meth_name, *args)\u001b[0m\n\u001b[1;32m    501\u001b[0m         \u001b[0;32mfor\u001b[0m \u001b[0mhandler\u001b[0m \u001b[0;32min\u001b[0m \u001b[0mhandlers\u001b[0m\u001b[0;34m:\u001b[0m\u001b[0;34m\u001b[0m\u001b[0;34m\u001b[0m\u001b[0m\n\u001b[1;32m    502\u001b[0m             \u001b[0mfunc\u001b[0m \u001b[0;34m=\u001b[0m \u001b[0mgetattr\u001b[0m\u001b[0;34m(\u001b[0m\u001b[0mhandler\u001b[0m\u001b[0;34m,\u001b[0m \u001b[0mmeth_name\u001b[0m\u001b[0;34m)\u001b[0m\u001b[0;34m\u001b[0m\u001b[0;34m\u001b[0m\u001b[0m\n\u001b[0;32m--> 503\u001b[0;31m             \u001b[0mresult\u001b[0m \u001b[0;34m=\u001b[0m \u001b[0mfunc\u001b[0m\u001b[0;34m(\u001b[0m\u001b[0;34m*\u001b[0m\u001b[0margs\u001b[0m\u001b[0;34m)\u001b[0m\u001b[0;34m\u001b[0m\u001b[0;34m\u001b[0m\u001b[0m\n\u001b[0m\u001b[1;32m    504\u001b[0m             \u001b[0;32mif\u001b[0m \u001b[0mresult\u001b[0m \u001b[0;32mis\u001b[0m \u001b[0;32mnot\u001b[0m \u001b[0;32mNone\u001b[0m\u001b[0;34m:\u001b[0m\u001b[0;34m\u001b[0m\u001b[0;34m\u001b[0m\u001b[0m\n\u001b[1;32m    505\u001b[0m                 \u001b[0;32mreturn\u001b[0m \u001b[0mresult\u001b[0m\u001b[0;34m\u001b[0m\u001b[0;34m\u001b[0m\u001b[0m\n",
            "\u001b[0;32m/usr/lib/python3.7/urllib/request.py\u001b[0m in \u001b[0;36mhttp_error_default\u001b[0;34m(self, req, fp, code, msg, hdrs)\u001b[0m\n\u001b[1;32m    647\u001b[0m \u001b[0;32mclass\u001b[0m \u001b[0mHTTPDefaultErrorHandler\u001b[0m\u001b[0;34m(\u001b[0m\u001b[0mBaseHandler\u001b[0m\u001b[0;34m)\u001b[0m\u001b[0;34m:\u001b[0m\u001b[0;34m\u001b[0m\u001b[0;34m\u001b[0m\u001b[0m\n\u001b[1;32m    648\u001b[0m     \u001b[0;32mdef\u001b[0m \u001b[0mhttp_error_default\u001b[0m\u001b[0;34m(\u001b[0m\u001b[0mself\u001b[0m\u001b[0;34m,\u001b[0m \u001b[0mreq\u001b[0m\u001b[0;34m,\u001b[0m \u001b[0mfp\u001b[0m\u001b[0;34m,\u001b[0m \u001b[0mcode\u001b[0m\u001b[0;34m,\u001b[0m \u001b[0mmsg\u001b[0m\u001b[0;34m,\u001b[0m \u001b[0mhdrs\u001b[0m\u001b[0;34m)\u001b[0m\u001b[0;34m:\u001b[0m\u001b[0;34m\u001b[0m\u001b[0;34m\u001b[0m\u001b[0m\n\u001b[0;32m--> 649\u001b[0;31m         \u001b[0;32mraise\u001b[0m \u001b[0mHTTPError\u001b[0m\u001b[0;34m(\u001b[0m\u001b[0mreq\u001b[0m\u001b[0;34m.\u001b[0m\u001b[0mfull_url\u001b[0m\u001b[0;34m,\u001b[0m \u001b[0mcode\u001b[0m\u001b[0;34m,\u001b[0m \u001b[0mmsg\u001b[0m\u001b[0;34m,\u001b[0m \u001b[0mhdrs\u001b[0m\u001b[0;34m,\u001b[0m \u001b[0mfp\u001b[0m\u001b[0;34m)\u001b[0m\u001b[0;34m\u001b[0m\u001b[0;34m\u001b[0m\u001b[0m\n\u001b[0m\u001b[1;32m    650\u001b[0m \u001b[0;34m\u001b[0m\u001b[0m\n\u001b[1;32m    651\u001b[0m \u001b[0;32mclass\u001b[0m \u001b[0mHTTPRedirectHandler\u001b[0m\u001b[0;34m(\u001b[0m\u001b[0mBaseHandler\u001b[0m\u001b[0;34m)\u001b[0m\u001b[0;34m:\u001b[0m\u001b[0;34m\u001b[0m\u001b[0;34m\u001b[0m\u001b[0m\n",
            "\u001b[0;31mHTTPError\u001b[0m: HTTP Error 503: Service Unavailable"
          ]
        }
      ]
    },
    {
      "cell_type": "code",
      "metadata": {
        "pycharm": {
          "name": "#%%\n"
        },
        "id": "aEtCbO6upkou"
      },
      "source": [
        "# Create DataLoaders\n",
        "train_loader = DataLoader(mnist_train, batch_size=batch_size, shuffle=True, drop_last=True)\n",
        "test_loader = DataLoader(mnist_test, batch_size=batch_size, shuffle=True, drop_last=True)"
      ],
      "execution_count": 25,
      "outputs": []
    },
    {
      "cell_type": "markdown",
      "metadata": {
        "id": "GhFyzySNeT_e"
      },
      "source": [
        "# 3. Define the Network"
      ]
    },
    {
      "cell_type": "markdown",
      "metadata": {
        "collapsed": false,
        "pycharm": {
          "name": "#%% md\n"
        },
        "id": "RJkoAg-3pkow"
      },
      "source": [
        "The spiking neurons available in snnTorch are designed to be treated as activation units. The only difference is that these spiking neuron activations depend not only on their inputs, but also on their previous state (e.g., $I[t-1]$ and $U[t-1]$ for Stein's neuron). This can be implemented in a for-loop with ease.\n",
        "\n",
        "If you have a basic understanding of PyTorch, the following code block should look familiar. `nn.Linear` initializes the linear transformation layer, and instead of applying a sigmoid, ReLU or some other nonlinear activation, a spiking neuron is applied instead by calling `snn.Stein`:"
      ]
    },
    {
      "cell_type": "code",
      "metadata": {
        "pycharm": {
          "name": "#%%\n"
        },
        "id": "-uquHLLmpkox"
      },
      "source": [
        "# Define Network\n",
        "class Net(nn.Module):\n",
        "    def __init__(self):\n",
        "        super().__init__()\n",
        "\n",
        "        # Initialize layers\n",
        "        self.fc1 = nn.Linear(num_inputs, num_hidden)\n",
        "        self.lif1 = snn.Stein(alpha=alpha, beta=beta)\n",
        "        self.fc2 = nn.Linear(num_hidden, num_outputs)\n",
        "        self.lif2 = snn.Stein(alpha=alpha, beta=beta)\n",
        "\n",
        "    def forward(self, x):\n",
        "\n",
        "        # Initialize hidden states and outputs at t=0\n",
        "        spk1, syn1, mem1 = self.lif1.init_stein(batch_size, num_hidden)\n",
        "        spk2, syn2, mem2 = self.lif2.init_stein(batch_size, num_outputs)\n",
        "        \n",
        "        # Record the final layer\n",
        "        spk2_rec = []\n",
        "        mem2_rec = []\n",
        "\n",
        "        for step in range(num_steps):\n",
        "            cur1 = self.fc1(x)\n",
        "            spk1, syn1, mem1 = self.lif1(cur1, syn1, mem1)\n",
        "            cur2 = self.fc2(spk1)\n",
        "            spk2, syn2, mem2 = self.lif2(cur2, syn2, mem2)\n",
        "\n",
        "            spk2_rec.append(spk2)\n",
        "            mem2_rec.append(mem2)\n",
        "\n",
        "        return torch.stack(spk2_rec, dim=0), torch.stack(mem2_rec, dim=0)"
      ],
      "execution_count": 26,
      "outputs": []
    },
    {
      "cell_type": "markdown",
      "metadata": {
        "id": "Y0fHcAKfrav6"
      },
      "source": [
        "The code in the `forward()` function will only be called once the input argument `x` is explicitly passed in:\n",
        "\n",
        "* `fc1` applies a linear transformation to the input: $W_{i, j}^{[1]}X_{i}^{[1]}[t] \\rightarrow Y_{j}^{[1]}[t]$, i.e., `cur1`\n",
        "* `lif1` integrates $Y^{[1]}_{j}[t]$ over time (with a decay), to generate $I_{j}^{[1]}[t]$ and $U_{j}^{[1]}[t]$. An output spike is triggered if $U_{j}^{[1]}[t] > U_{\\rm thr}$. Equivalently, `spk1=1` if `mem1` > `threshold=1.0`\n",
        "* `fc2` applies a linear transformation to `spk1`: $W_{j, k}^{[2]}S_{j}^{[1]}[t] \\rightarrow Y_{k}^{[2]}[t]$, i.e., `cur2`\n",
        "* `lif2` is another spiking neuron layer, and generates output spikes $S_{k}^{[2]}[t]$ which are returned in the variable `spk2`\n",
        "\n",
        "Here, $i$ denotes one of 784 input neurons, $j$ indexes one of the 1,000 neurons in the hidden layer, and $k$ points to one of 10 output neurons.\n"
      ]
    },
    {
      "cell_type": "markdown",
      "metadata": {
        "id": "3-yJXOSQqANb"
      },
      "source": [
        "The layers in `def __init__(self)` are automatically created upon instantiating `Net()`, as is done below:\n"
      ]
    },
    {
      "cell_type": "code",
      "metadata": {
        "id": "EkTWSXj5fj2V"
      },
      "source": [
        "# Load the network onto CUDA if available\n",
        "net = Net().to(device)"
      ],
      "execution_count": 27,
      "outputs": []
    },
    {
      "cell_type": "markdown",
      "metadata": {
        "id": "6a7MdORCtIx4"
      },
      "source": [
        "# 4. Backpropagation for SNNs"
      ]
    },
    {
      "cell_type": "markdown",
      "metadata": {
        "collapsed": false,
        "pycharm": {
          "name": "#%% md\n"
        },
        "id": "ZlrNIMNnpkoy"
      },
      "source": [
        "A few questions arise when setting up a backprop-driven learning algorithm:\n",
        "\n",
        "1.   **Targets**: What should the target of the output layer be?\n",
        "2.   **Backprop through time**: How might the gradient flow back in time?\n",
        "2.   **Spike non-differentiability**: If spikes are discrete, instantaneous bursts of information, doesn't that make them non-differentiable? If the output spike has no gradient with respect to the network parameters, wouldn't backprop be impossible?\n",
        "\n",
        "Let's tackle these one by one. "
      ]
    },
    {
      "cell_type": "markdown",
      "metadata": {
        "id": "NpJhgA6n8LPt"
      },
      "source": [
        "## 4.1 Target Labels"
      ]
    },
    {
      "cell_type": "markdown",
      "metadata": {
        "id": "k0At_jfe8OLY"
      },
      "source": [
        "In [tutorial 1](https://colab.research.google.com/github/jeshraghian/snntorch/blob/tutorials/examples/tutorial_1_spikegen.ipynb), we learnt about rate and latency coding. Rate coding stores information in the frequency of spikes, and latency coding stores information in the timing of each spike. Previously, we used these encoding strategies to convert datasets into time-varying spikes. Here, they are used as encoding strategies for the output layer of our SNN. I.e., these codes will be used to teach the final layer of the network how to respond to certain inputs. \n",
        "\n",
        "The goal of the SNN is to predict a discrete variable with $n$ possible values, as is the case with MNIST where $n=10$. "
      ]
    },
    {
      "cell_type": "markdown",
      "metadata": {
        "id": "OnSx21wvAoee"
      },
      "source": [
        "### 4.1.1 Rate coding"
      ]
    },
    {
      "cell_type": "markdown",
      "metadata": {
        "id": "4kR56xe3Ari3"
      },
      "source": [
        "For rate coding, the most naive implementation is to encourage the correct class to fire at every time step, and the incorrect classes to not fire at all. There are two ways to implement this, one of which is a lot more effective than the other:\n",
        "\n",
        "* Set the target of the output spike of the correct class $y_{\\rm spk} = 1$ for all $t$, or\n",
        "* Set the target of the membrane potential of the correct class $y_{\\rm mem} = U_{\\rm thr}$ for all $t$ \n",
        "\n",
        "Which is the better approach? Consider the first option. The output spikes are discrete events, and rely on large perturbations of the membrane potential around the threshold to have any infleunce. If the output spiking behavior goes unchanged, the gradient of the output of the network with respect to its parameters would be $0$. This is problematic, because the training process would no longer have a guide for how to improve the weights. It would be an ineffective approach for gradient descent. \n",
        "\n",
        "Instead, it is better to promote spiking by applying the target to the membrane potential. As the membrane potential is a much stronger function of the parameters, (i.e., a small perturbation of the weights would directly perturb the membrane potential), this would ensure there is a strong gradient whenever the network obtains a wrong result. So we set $y_{\\rm mem} = U_{\\rm thr}$. By default, `threshold=1`. The outputs can then be applied to a softmax unit, which are then used to find the cross-entropy loss:\n",
        "\n",
        "$$CE = - \\sum^n_{i=1}y_{i,\\rm mem} {\\rm log}(p_i),$$\n",
        "\n",
        "where $y_{i, \\rm mem}$ is the target label at a given time step, $n$ is the number of classes, and $p_i$ is the softmax probability for the $i^{th}$ class. \n",
        "\n",
        "The accuracy of the network would then be measured by counting up how many times each neuron fired across all time steps, and using `torch.max()` to choose the neuron with the most spikes, or somewhat equivalently, the highest average firing rate. \n",
        "\n",
        "It is possible to increase the target of membrane potential beyond the threshold to excite the neuron further. While this may be desirable in some instances, it will likely trigger high-conductance pathways for the wrong class when training other samples."
      ]
    },
    {
      "cell_type": "markdown",
      "metadata": {
        "id": "b-xv_G0_304H"
      },
      "source": [
        "*Our classifier will implement the simplest form of rate coding. It will encourage the correct class to fire 100% of time steps, and the incorrect class to fire 0% of the time. Although this is clearly not the most efficient method, it is the simplest.*"
      ]
    },
    {
      "cell_type": "markdown",
      "metadata": {
        "id": "iknCYQEeCaHG"
      },
      "source": [
        "### 4.1.2 Latency coding\n"
      ]
    },
    {
      "cell_type": "markdown",
      "metadata": {
        "id": "92hSKSBogC0I"
      },
      "source": [
        "In latency coding, the neuron that fires first is the predicted class. The target may be set to 1 for one of the first few time steps. Depending on the neuron model being used, it will take several time steps before the input can propagate to the output of the network. Therefore, it is inadvisable to set the target to `1` only for the first time step. \n",
        "\n",
        "Consider the case of a neuron receiving an input spike. Depending on the neuron model in use, the post-synaptic potential may experience a time delay $t_{\\rm psp}$ to reach the peak of its membrane potential, and subsequently emit an output spike. If this neuron is connected in a deep neural network, the minimum time before the final layer could generate output spikes *as a result of the input (and not biases)* would thus be $t_{\\rm min} = Lt_{\\rm psp}$, where $L$ is the number of layers in the network. \n",
        "\n",
        "For Stein's and Lapicque's models, the membrane potential will immediately jump as a result of the input. But there is a time delay of one step before the output spike can be triggered as a result. Therefore, we set $t_{\\rm psp}=1$ time step. For SRM0, it will take a longer time to reach the peak, and is a function of the decay rates, $\\alpha$ and $\\beta$. \n",
        "\n",
        "<center>\n",
        "<img src='https://github.com/jeshraghian/snntorch/blob/master/docs/_static/img/examples/tutorial3/3_3_delay.png?raw=true' width=\"450\">\n",
        "</center>\n",
        "\n",
        "In absence of this post-synaptic potential delay, it becomes challenging to control the output layer in terms of spike timing. An input spike of a multi-layer SNN could effectively be transmitted straight to the output instantaneously, without considering the input data at any later time steps. A slight modification is made to the unrolled computational graph, which accounts for this delay. \n",
        "\n",
        "<center>\n",
        "<img src='https://github.com/jeshraghian/snntorch/blob/master/docs/_static/img/examples/tutorial3/3_4_graphdelay.png?raw=true' width=\"700\">\n",
        "</center>"
      ]
    },
    {
      "cell_type": "markdown",
      "metadata": {
        "id": "UYDvqr1oMHQp"
      },
      "source": [
        "\n",
        "As for the incorrect classes, it is acceptable to set their targets to 0. However, this could result in low conductance pathways that completely inhibit firing. It may be preferable to set their membrane potential target to something slightly higher, e.g., $U_{\\rm thr}/5$. The optimal point is a topic of further investigation. Note that all of the above can have a cross-entropy loss applied, just as with rate coding but using different target labels. \n",
        "\n",
        "A simple example across 4 time steps is provided in the image below, though the values and spiking periodicity should not be taken literally.\n",
        "\n",
        "<center>\n",
        "<img src='https://github.com/jeshraghian/snntorch/blob/master/docs/_static/img/examples/tutorial3/3_5_targets.png?raw=true' width=\"700\">\n",
        "</center>\n",
        "\n",
        "An alternative approach is to treat the number of time steps as a continuous variable and use a mean square error loss to dictate when firing should occur. In such a case, a larger number of time steps are expected to improve performance as it will allow the flow of time to look more 'continuous':\n",
        "\n",
        "$$MSE = \\sum^n_{t=1}(t_{\\rm spk} - \\hat{t_{\\rm spk}}^2),$$\n",
        "\n",
        "where $t$ is the time step, and $n$ is the total number of steps.\n",
        "\n",
        "Is there a preference between latency and rate codes? We briefly touched on this question in the context of data encoding, and the same arguments apply here. Latency codes are desirable because they only rely on a single spike to convey all necessary information. Rate coding spreads out information across many time steps, and there is much less information transfer within each spike. Therefore, latency codes are much more power efficient when running on neuromorphic hardware. On the other hand, the redundant spikes in rate codes makes them much more noise tolerant. "
      ]
    },
    {
      "cell_type": "markdown",
      "metadata": {
        "id": "9SBjiLAX-ZhX"
      },
      "source": [
        "## 4.2 Backpropragation Through Time"
      ]
    },
    {
      "cell_type": "markdown",
      "metadata": {
        "id": "8UYEmLk4-e4G"
      },
      "source": [
        "Computing the gradient through an SNN is mostly the same as that of an RNN. The generalized backpropagation algorithm is applied to the unrolled computational graph. Working backward from the end of the sequence, the gradient flows from the loss to all descendents. Shown below are the various pathways of the gradient $\\nabla_W \\mathcal{L}$ from the parent ($\\mathcal{L}$: cross-entropy loss) to its leaf nodes ($W$). \n",
        "\n",
        "\n",
        "<center>\n",
        "<img src='https://github.com/jeshraghian/snntorch/blob/master/docs/_static/img/examples/tutorial3/3_6_bptt.png?raw=true' width=\"800\">\n",
        "</center>\n",
        "\n",
        "The learnable parameter $W$ is shared across each time step. This means that multiple backprop paths exist between the loss and the same network parameter. To resolve this, all gradients $\\nabla_W \\mathcal{L}$ are simply summed together before applying a weight update.\n",
        "\n",
        "To find $\\nabla_W \\mathcal{L}$, the chain rule is applied to each pathway. \n",
        "\n",
        "**Shortest Pathway** \n",
        "\n",
        "Considering only the shortest pathway at $t=3$, where the superscript $^{<1>}$ denotes that this is just one path of many to be summed:\n",
        "\n",
        "$$\\nabla_W \\mathcal{L}^{<1>} = \\frac{\\partial{\\mathcal{L}}}{\\partial{p_i}} \\frac{\\partial{p_i}}{\\partial{U[3]}} \\frac{\\partial{U[3]}}{\\partial{Y[3]}} \\frac{\\partial{Y[3]}}{\\partial{W}}$$\n",
        "\n",
        "The first two terms can be analytically solved by taking the derivative of the cross-entropy loss and the softmax function. The third term must be decomposed into the following terms:\n",
        "\n",
        "$$ \\frac{\\partial{U[3]}}{\\partial{Y[3]}} = \\frac{\\partial{U[3]}}{\\partial{I[3]}} \\frac{\\partial{I[3]}}{\\partial{Y[3]}}$$\n",
        "\n",
        "Recall from the recursive form of Stein's neuron model that $Y$ is added directly to $I$, which is directly added to $I$. Therefore, both partial derivative terms evaluate to 1:\n",
        "\n",
        "$$\\frac{\\partial{U[3]}}{\\partial{Y[3]}} = 1$$\n",
        "\n",
        "The final term $ \\frac{\\partial{I[3]}}{\\partial{Y[3]}}$ evaluates to the input at that time step $X[3]$. \n",
        "\n",
        "**2nd Shortest Pathways**\n",
        "\n",
        "Consider the pathway that flows backwards one time step from $t=3$ to $t=2$ through $\\beta$:\n",
        "\n",
        "$$\\nabla_W \\mathcal{L}^{<2>} = \\frac{\\partial{\\mathcal{L}}}{\\partial{p_i}} \\frac{\\partial{p_i}}{\\partial{U[3]}} \\frac{\\partial{U[3]}}{\\partial{U[2]}} \n",
        "\\frac{\\partial{U[2]}}{\\partial{Y[2]}} \\frac{\\partial{Y[2]}}{\\partial{W}}$$\n",
        "\n",
        "Almost all terms are the same as the shortest pathway calculation, or at least evaluate to the same values. The only major difference is the third term, which signals the backwards flow through time: $U[3] \\rightarrow U[2]$. The derivative is simply $\\beta$. \n",
        "\n",
        "The parallel pathway flowing through $I[3] \\rightarrow I[2]$ follows the same method, but instead, $\\frac{\\partial{I[3]}}{\\partial{I[2]}} = \\alpha$. \n",
        "\n",
        "An interesting result arises: for each additional time step the graph flows through, the smaller that component of the gradient becomes. This is because each backwards path is recursively multiplied by either $\\alpha$ or $\\beta$, which gradually diminish the contribution of earlier states of the network to gradient.\n",
        "\n",
        "Luckily for you, all of this is automatically taken care of by PyTorch's autodifferentiation framework. Variations of backprop through time are also available within snnTorch. These will be described at the end of this tutorial, and are simple extensions of what has been described above. \n"
      ]
    },
    {
      "cell_type": "markdown",
      "metadata": {
        "id": "c7nYrxNFLybB"
      },
      "source": [
        "## 4.3 Non-differentiability of Spikes"
      ]
    },
    {
      "cell_type": "markdown",
      "metadata": {
        "id": "yXWeOeqZ5S_r"
      },
      "source": [
        "The above analysis only solved for parameter updates for the final linear layer. This was not an issue as we used membrane potential $U$ to inform the loss function. If we continue moving further back into the network to earlier layers, have to take the derivative of spikes, i.e., a non-differentiable, non-continuous function.\n",
        "\n",
        "Let's open up the computational graph of Stein's neuron model to identify exactly where this problem occurs.\n",
        "\n",
        "<center>\n",
        "<img src='https://github.com/jeshraghian/snntorch/blob/master/docs/_static/img/examples/tutorial3/3_7_stein_bptt.png?raw=true' width=\"800\">\n",
        "</center>\n",
        "\n",
        "Backpropagating through the shortest path gives:\n",
        "$$\\frac{\\partial{S[3]}}{\\partial{Y[2]}} = \\frac{\\partial{S[3]}}{\\partial{U[2]}} \\frac{\\partial{U[2]}}{\\partial{I[2]}}\\frac{\\partial{I[2]}}{\\partial{Y[2]}}$$\n",
        "\n",
        "The final two terms evaluate to 1 for the same reasons described above. But the first term is non-differentiable. Recall how $S=1$ only for $U>U_{\\rm thr}$, i.e., a shifted form of the Heaviside step function. The analytical derivative evaluates to 0 everywhere, except at $U_{\\rm thr}: \\frac{\\partial{S[t]}}{\\partial{U[t-1]}} \\rightarrow \\infty$. This is the result generated by PyTorch's default autodifferentiation framework, and will zero out the gradient thus immobilizing the network's ability to learn:\n",
        "\n",
        "$$W := W - \\eta \\nabla_W \\mathcal{L} $$\n",
        "\n",
        "where $\\nabla_W \\mathcal{L} \\rightarrow 0$. "
      ]
    },
    {
      "cell_type": "markdown",
      "metadata": {
        "id": "ktpVgJisQU03"
      },
      "source": [
        "How do we overcome this issue? Several approaches have been taken and yielded great results. Smooth approximations of the Heaviside function have been used, taking gradients of the continuous function instead. Friedemann Zenke's extensive work on surrogate gradients is perhaps the most rigorous on this topic, and is [very well documented here](https://github.com/fzenke/spytorch). The option to use surrogate gradients is available in snnTorch as well, and can be called from the `snntorch.surrogate` library. More detail can be found [here](https://snntorch.readthedocs.io/en/latest/snntorch.surrogate.html).\n",
        "\n",
        "snnTorch takes a wholly different approach that is simple, yet effective. "
      ]
    },
    {
      "cell_type": "markdown",
      "metadata": {
        "id": "iBHz22CdgE0k"
      },
      "source": [
        "## 4.3.1 A Time-Evolution Approach to the Spiking Derivative"
      ]
    },
    {
      "cell_type": "markdown",
      "metadata": {
        "id": "r8W_hVKkf4HM"
      },
      "source": [
        "What follows is a simple, intuitive description behind the approach taken. A rigorous mathematical treatment will be made available separately. \n",
        "\n",
        "The analytical derivative of $S$ with respect to $U$ neglects two features of spiking neurons:\n",
        "\n",
        "* the discrete time representation of SNNs \n",
        "* spike-induced reset and refractory periods of neurons\n",
        "\n",
        "Given that SNNs (and more generally, RNNs) operate in discrete time, we can approximate the derivative to be the relative change across 1 time step in $S$ and $U$:\n",
        "\n",
        "$$\\frac{\\partial S}{\\partial U} \\rightarrow \\frac{\\Delta S}{\\Delta U}$$\n",
        "\n",
        "This approximation may appear crude, but is a valid approach by accounting for the *discrete* evolution of time. Intuitively, the time derivative cannot be calculated by letting $\\Delta t \\rightarrow 0$, but rather, it must approach the smallest possible value $\\Delta t \\rightarrow 1$. It therefore follows that the derivative of a time-varying pair of functions must be treated similarly.\n",
        "\n",
        "Next, the occurrence of a spike necessarily incurs a membrane potential reset. So when the spike mechanism switches off: $S: 1 \\rightarrow 0$, the membrane potential resets by subtraction of the threshold, which is set to one by default: $\\Delta U = U_{\\rm thr} \\rightarrow -1$:\n",
        "\n",
        "$$\\frac{\\Delta S}{\\Delta U} = \\frac{-1}{-1} = 1$$\n",
        "\n",
        "This situation is illustrated below:\n",
        "\n",
        "<center>\n",
        "<img src='https://github.com/jeshraghian/snntorch/blob/master/docs/_static/img/examples/tutorial3/3_8_timevarying.png?raw=true' width=\"550\">\n",
        "</center>\n",
        "\n",
        "The absence of a spike means that $\\Delta S = 0$ for a finite change in $U$. Formally:\n",
        "\n",
        "\\begin{equation}\n",
        "    \\frac{\\partial S}{\\partial U} \\approx \\Theta(U - U_{\\rm thr}) =     \n",
        "    \\begin{cases}\n",
        "      1  & \\text{if $S$ = $1$}\\\\\n",
        "      0 & \\text{if $S$ = $0$}\n",
        "    \\end{cases}  \n",
        "\\end{equation}\n",
        "\n",
        "This is simply the Heaviside step function shifted about the membrane threshold, $U_{\\rm thr} = \\theta$.\n",
        "\n",
        "<center>\n",
        "<img src='https://github.com/jeshraghian/snntorch/blob/master/docs/_static/img/examples/tutorial3/3_9_spike_grad.png?raw=true' width=\"550\">\n",
        "</center>\n",
        "\n",
        "What this also suggests is that learning only takes place only when neurons. This is generally not a concern, as a large enough network will allow each neuron to feel enough spikes. This approach echoes a rudimentary form of Hebbian learning, where synapses are only updated when neurons fire. \n",
        "\n",
        "The situation is more nuanced than this, but this should give you the big picture intuition. As a matter of interest, this Heaviside gradient takes a similar approach to how one would backpropagate through a max-pooling unit, and also evaluates to the same derivative as a shifted ReLU activation. "
      ]
    },
    {
      "cell_type": "markdown",
      "metadata": {
        "id": "uDFwKmN9en4i"
      },
      "source": [
        "# 5. Training on Static MNIST"
      ]
    },
    {
      "cell_type": "markdown",
      "metadata": {
        "id": "6D-fhT3Q7nXM"
      },
      "source": [
        "\n",
        "Time for training! Let's first define a couple of functions to print out test/train accuracy."
      ]
    },
    {
      "cell_type": "code",
      "metadata": {
        "pycharm": {
          "name": "#%%\n"
        },
        "id": "-IxcnBAxpkoy"
      },
      "source": [
        "def print_batch_accuracy(data, targets, train=False):\n",
        "    output, _ = net(data.view(batch_size, -1))\n",
        "    _, idx = output.sum(dim=0).max(1)\n",
        "    acc = np.mean((targets == idx).detach().cpu().numpy())\n",
        "\n",
        "    if train:\n",
        "        print(f\"Train Set Accuracy: {acc}\")\n",
        "    else:\n",
        "        print(f\"Test Set Accuracy: {acc}\")\n",
        "\n",
        "def train_printer():\n",
        "    print(f\"Epoch {epoch}, Minibatch {minibatch_counter}\")\n",
        "    print(f\"Train Set Loss: {loss_hist[counter]}\")\n",
        "    print(f\"Test Set Loss: {test_loss_hist[counter]}\")\n",
        "    print_batch_accuracy(data_it, targets_it, train=True)\n",
        "    print_batch_accuracy(testdata_it, testtargets_it, train=False)\n",
        "    print(\"\\n\")"
      ],
      "execution_count": 28,
      "outputs": []
    },
    {
      "cell_type": "markdown",
      "metadata": {
        "collapsed": false,
        "pycharm": {
          "name": "#%% md\n"
        },
        "id": "OxfhunW6pkoz"
      },
      "source": [
        "## 5.1 Optimizer"
      ]
    },
    {
      "cell_type": "markdown",
      "metadata": {
        "id": "T7ULsfh9bHr1"
      },
      "source": [
        "We will apply a softmax to the output of our network, and calculate the loss using the negative log-likelihood."
      ]
    },
    {
      "cell_type": "code",
      "metadata": {
        "id": "iqdVyjCNtdlp"
      },
      "source": [
        "optimizer = torch.optim.Adam(net.parameters(), lr=2e-4, betas=(0.9, 0.999))\n",
        "log_softmax_fn = nn.LogSoftmax(dim=-1)\n",
        "loss_fn = nn.NLLLoss()"
      ],
      "execution_count": 29,
      "outputs": []
    },
    {
      "cell_type": "markdown",
      "metadata": {
        "id": "GiqAVKzVbfPn"
      },
      "source": [
        "## 5.2 Training Loop"
      ]
    },
    {
      "cell_type": "markdown",
      "metadata": {
        "id": "yGDs_dF2e1Sx"
      },
      "source": [
        "We assume some basic working knowledge of PyTorch from the user. The training loop is fairly standard, with the only exceptions being the following.\n",
        "\n",
        "**Inputs**\n",
        "\n",
        "The for-loop that iterates through each time step during the forward pass has already been nested within `net`. This means that the following line of code:\n",
        "\n",
        "`spk_rec, mem_rec = net(data_it.view(batch_size, -1))`\n",
        "\n",
        "passes the same sample at each step. That is why we refer to it as static MNIST.\n",
        "\n",
        "\n",
        "**Targets**\n",
        "\n",
        "The loss is summed across each time step in the for-loop containing:\n",
        "\n",
        "`loss_val += loss_fn(log_p_y[step], targets_it)`\n",
        "\n",
        "Also note how `targets_it` is not indexed, because the same value is used as the target for each step. '1' is applied as the target for the correct class for all of time, and '0' is applied as the target for all other classes.\n",
        "\n",
        "We'll keep the loop to just 3 epochs to keep it relatively quick."
      ]
    },
    {
      "cell_type": "code",
      "metadata": {
        "colab": {
          "base_uri": "https://localhost:8080/"
        },
        "id": "LMZMxEV8dcTC",
        "outputId": "c51eb263-b231-4620-dbb2-a6728b7a28bc"
      },
      "source": [
        "loss_hist = []\n",
        "test_loss_hist = []\n",
        "counter = 0\n",
        "\n",
        "# Outer training loop\n",
        "for epoch in range(3):\n",
        "    minibatch_counter = 0\n",
        "    train_batch = iter(train_loader)\n",
        "\n",
        "    # Minibatch training loop\n",
        "    for data_it, targets_it in train_batch:\n",
        "        data_it = data_it.to(device)\n",
        "        targets_it = targets_it.to(device)\n",
        "\n",
        "        spk_rec, mem_rec = net(data_it.view(batch_size, -1))\n",
        "        log_p_y = log_softmax_fn(mem_rec)\n",
        "        loss_val = torch.zeros((1), dtype=dtype, device=device)\n",
        "\n",
        "        # Sum loss over time steps: BPTT\n",
        "        for step in range(num_steps):\n",
        "          loss_val += loss_fn(log_p_y[step], targets_it)\n",
        "\n",
        "        # Gradient calculation\n",
        "        optimizer.zero_grad()\n",
        "        loss_val.backward(retain_graph=True)\n",
        "\n",
        "        # Weight Update\n",
        "        # nn.utils.clip_grad_norm_(net.parameters(), 1) # gradient clipping \n",
        "        optimizer.step()\n",
        "\n",
        "        # Store loss history for future plotting\n",
        "        loss_hist.append(loss_val.item())\n",
        "\n",
        "        # Test set\n",
        "        test_data = itertools.cycle(test_loader)\n",
        "        testdata_it, testtargets_it = next(test_data)\n",
        "        testdata_it = testdata_it.to(device)\n",
        "        testtargets_it = testtargets_it.to(device)\n",
        "\n",
        "        # Test set forward pass\n",
        "        test_spk, test_mem = net(testdata_it.view(batch_size, -1))\n",
        "\n",
        "        # Test set loss\n",
        "        log_p_ytest = log_softmax_fn(test_mem)\n",
        "        log_p_ytest = log_p_ytest.sum(dim=0)\n",
        "        loss_val_test = loss_fn(log_p_ytest, testtargets_it)\n",
        "        test_loss_hist.append(loss_val_test.item())\n",
        "\n",
        "        # Print test/train loss/accuracy\n",
        "        if counter % 50 == 0:\n",
        "            train_printer()\n",
        "        minibatch_counter += 1\n",
        "        counter += 1\n",
        "\n",
        "loss_hist_true_grad = loss_hist\n",
        "test_loss_hist_true_grad = test_loss_hist"
      ],
      "execution_count": 30,
      "outputs": [
        {
          "output_type": "stream",
          "text": [
            "Epoch 0, Minibatch 0\n",
            "Train Set Loss: 76.27568054199219\n",
            "Test Set Loss: 61.054447174072266\n",
            "Train Set Accuracy: 0.2578125\n",
            "Test Set Accuracy: 0.1875\n",
            "\n",
            "\n",
            "Epoch 0, Minibatch 50\n",
            "Train Set Loss: 16.76410675048828\n",
            "Test Set Loss: 17.633264541625977\n",
            "Train Set Accuracy: 0.9296875\n",
            "Test Set Accuracy: 0.875\n",
            "\n",
            "\n",
            "Epoch 0, Minibatch 100\n",
            "Train Set Loss: 18.154035568237305\n",
            "Test Set Loss: 19.467912673950195\n",
            "Train Set Accuracy: 0.8203125\n",
            "Test Set Accuracy: 0.84375\n",
            "\n",
            "\n",
            "Epoch 0, Minibatch 150\n",
            "Train Set Loss: 13.157279014587402\n",
            "Test Set Loss: 11.98119831085205\n",
            "Train Set Accuracy: 0.890625\n",
            "Test Set Accuracy: 0.921875\n",
            "\n",
            "\n",
            "Epoch 0, Minibatch 200\n",
            "Train Set Loss: 11.974594116210938\n",
            "Test Set Loss: 11.967540740966797\n",
            "Train Set Accuracy: 0.921875\n",
            "Test Set Accuracy: 0.8984375\n",
            "\n",
            "\n",
            "Epoch 0, Minibatch 250\n",
            "Train Set Loss: 11.804047584533691\n",
            "Test Set Loss: 10.901248931884766\n",
            "Train Set Accuracy: 0.9375\n",
            "Test Set Accuracy: 0.9140625\n",
            "\n",
            "\n",
            "Epoch 0, Minibatch 300\n",
            "Train Set Loss: 13.26952075958252\n",
            "Test Set Loss: 17.158910751342773\n",
            "Train Set Accuracy: 0.921875\n",
            "Test Set Accuracy: 0.890625\n",
            "\n",
            "\n",
            "Epoch 0, Minibatch 350\n",
            "Train Set Loss: 12.740042686462402\n",
            "Test Set Loss: 10.425658226013184\n",
            "Train Set Accuracy: 0.921875\n",
            "Test Set Accuracy: 0.9453125\n",
            "\n",
            "\n",
            "Epoch 0, Minibatch 400\n",
            "Train Set Loss: 9.965178489685059\n",
            "Test Set Loss: 11.72848129272461\n",
            "Train Set Accuracy: 0.9140625\n",
            "Test Set Accuracy: 0.9296875\n",
            "\n",
            "\n",
            "Epoch 0, Minibatch 450\n",
            "Train Set Loss: 10.959836959838867\n",
            "Test Set Loss: 13.487298011779785\n",
            "Train Set Accuracy: 0.9453125\n",
            "Test Set Accuracy: 0.890625\n",
            "\n",
            "\n",
            "Epoch 1, Minibatch 32\n",
            "Train Set Loss: 9.681639671325684\n",
            "Test Set Loss: 8.234598159790039\n",
            "Train Set Accuracy: 0.953125\n",
            "Test Set Accuracy: 0.96875\n",
            "\n",
            "\n",
            "Epoch 1, Minibatch 82\n",
            "Train Set Loss: 9.834555625915527\n",
            "Test Set Loss: 10.084229469299316\n",
            "Train Set Accuracy: 0.9765625\n",
            "Test Set Accuracy: 0.9609375\n",
            "\n",
            "\n",
            "Epoch 1, Minibatch 132\n",
            "Train Set Loss: 11.183095932006836\n",
            "Test Set Loss: 10.401651382446289\n",
            "Train Set Accuracy: 0.9296875\n",
            "Test Set Accuracy: 0.9296875\n",
            "\n",
            "\n",
            "Epoch 1, Minibatch 182\n",
            "Train Set Loss: 11.30613899230957\n",
            "Test Set Loss: 7.9513654708862305\n",
            "Train Set Accuracy: 0.8828125\n",
            "Test Set Accuracy: 0.9375\n",
            "\n",
            "\n",
            "Epoch 1, Minibatch 232\n",
            "Train Set Loss: 10.143279075622559\n",
            "Test Set Loss: 10.753396987915039\n",
            "Train Set Accuracy: 0.9296875\n",
            "Test Set Accuracy: 0.9375\n",
            "\n",
            "\n",
            "Epoch 1, Minibatch 282\n",
            "Train Set Loss: 9.692180633544922\n",
            "Test Set Loss: 7.6805739402771\n",
            "Train Set Accuracy: 0.9375\n",
            "Test Set Accuracy: 0.9765625\n",
            "\n",
            "\n",
            "Epoch 1, Minibatch 332\n",
            "Train Set Loss: 8.940720558166504\n",
            "Test Set Loss: 8.583806037902832\n",
            "Train Set Accuracy: 0.921875\n",
            "Test Set Accuracy: 0.953125\n",
            "\n",
            "\n",
            "Epoch 1, Minibatch 382\n",
            "Train Set Loss: 10.520894050598145\n",
            "Test Set Loss: 12.180195808410645\n",
            "Train Set Accuracy: 0.9375\n",
            "Test Set Accuracy: 0.9140625\n",
            "\n",
            "\n",
            "Epoch 1, Minibatch 432\n",
            "Train Set Loss: 9.580208778381348\n",
            "Test Set Loss: 8.977235794067383\n",
            "Train Set Accuracy: 0.9453125\n",
            "Test Set Accuracy: 0.9296875\n",
            "\n",
            "\n",
            "Epoch 2, Minibatch 14\n",
            "Train Set Loss: 8.884575843811035\n",
            "Test Set Loss: 8.95991325378418\n",
            "Train Set Accuracy: 0.9609375\n",
            "Test Set Accuracy: 0.9453125\n",
            "\n",
            "\n",
            "Epoch 2, Minibatch 64\n",
            "Train Set Loss: 7.328195571899414\n",
            "Test Set Loss: 9.644131660461426\n",
            "Train Set Accuracy: 0.984375\n",
            "Test Set Accuracy: 0.9765625\n",
            "\n",
            "\n",
            "Epoch 2, Minibatch 114\n",
            "Train Set Loss: 8.166991233825684\n",
            "Test Set Loss: 9.606324195861816\n",
            "Train Set Accuracy: 0.9609375\n",
            "Test Set Accuracy: 0.9453125\n",
            "\n",
            "\n",
            "Epoch 2, Minibatch 164\n",
            "Train Set Loss: 9.722082138061523\n",
            "Test Set Loss: 6.644445896148682\n",
            "Train Set Accuracy: 0.9765625\n",
            "Test Set Accuracy: 0.96875\n",
            "\n",
            "\n",
            "Epoch 2, Minibatch 214\n",
            "Train Set Loss: 8.7142972946167\n",
            "Test Set Loss: 8.747732162475586\n",
            "Train Set Accuracy: 0.9453125\n",
            "Test Set Accuracy: 0.9296875\n",
            "\n",
            "\n",
            "Epoch 2, Minibatch 264\n",
            "Train Set Loss: 10.767465591430664\n",
            "Test Set Loss: 10.152970314025879\n",
            "Train Set Accuracy: 0.953125\n",
            "Test Set Accuracy: 0.9375\n",
            "\n",
            "\n",
            "Epoch 2, Minibatch 314\n",
            "Train Set Loss: 8.172550201416016\n",
            "Test Set Loss: 7.6332597732543945\n",
            "Train Set Accuracy: 0.96875\n",
            "Test Set Accuracy: 0.96875\n",
            "\n",
            "\n",
            "Epoch 2, Minibatch 364\n",
            "Train Set Loss: 7.968672275543213\n",
            "Test Set Loss: 9.486015319824219\n",
            "Train Set Accuracy: 0.96875\n",
            "Test Set Accuracy: 0.9140625\n",
            "\n",
            "\n",
            "Epoch 2, Minibatch 414\n",
            "Train Set Loss: 8.04525089263916\n",
            "Test Set Loss: 9.258322715759277\n",
            "Train Set Accuracy: 0.9375\n",
            "Test Set Accuracy: 0.9375\n",
            "\n",
            "\n",
            "Epoch 2, Minibatch 464\n",
            "Train Set Loss: 7.200794219970703\n",
            "Test Set Loss: 9.320149421691895\n",
            "Train Set Accuracy: 0.9765625\n",
            "Test Set Accuracy: 0.921875\n",
            "\n",
            "\n"
          ],
          "name": "stdout"
        }
      ]
    },
    {
      "cell_type": "markdown",
      "metadata": {
        "id": "Taf6WZLojHTz"
      },
      "source": [
        "Congratulations - you just trained your first spiking neural network!"
      ]
    },
    {
      "cell_type": "markdown",
      "metadata": {
        "collapsed": false,
        "pycharm": {
          "name": "#%% md\n"
        },
        "id": "HxU7P7xFpko3"
      },
      "source": [
        "# 6. Results\n",
        "## 6.1 Plot Training/Test Loss"
      ]
    },
    {
      "cell_type": "code",
      "metadata": {
        "pycharm": {
          "name": "#%%\n"
        },
        "id": "_Pk_EScnpkpj",
        "colab": {
          "base_uri": "https://localhost:8080/",
          "height": 334
        },
        "outputId": "f413a0ec-9a62-4cb0-9a70-d126b058aac6"
      },
      "source": [
        "# Plot Loss\n",
        "fig = plt.figure(facecolor=\"w\", figsize=(10, 5))\n",
        "plt.plot(loss_hist)\n",
        "plt.plot(test_loss_hist)\n",
        "plt.legend([\"Train Loss\", \"Test Loss\"])\n",
        "plt.xlabel(\"Minibatch\")\n",
        "plt.ylabel(\"Loss\")\n",
        "plt.show()"
      ],
      "execution_count": 32,
      "outputs": [
        {
          "output_type": "display_data",
          "data": {
            "image/png": "[encoded data removed]",
            "text/plain": [
              "<Figure size 720x360 with 1 Axes>"
            ]
          },
          "metadata": {
            "tags": []
          }
        }
      ]
    },
    {
      "cell_type": "markdown",
      "metadata": {
        "id": "g-Gd84OAl1rB"
      },
      "source": [
        "Taking a look at the training / test loss, the process is somewhat noisy. This could be a result of improper targets. We are trying to encourage the correct class to fire at every time step, which is counteracted by the reset mechanism. "
      ]
    },
    {
      "cell_type": "markdown",
      "metadata": {
        "collapsed": false,
        "pycharm": {
          "name": "#%% md\n"
        },
        "id": "Z3f0vBnBpkpk"
      },
      "source": [
        "## 6.2 Test Set Accuracy\n",
        "This function iterates over all minibatches to obtain a measure of accuracy over the full 10,000 samples in the test set."
      ]
    },
    {
      "cell_type": "code",
      "metadata": {
        "colab": {
          "base_uri": "https://localhost:8080/"
        },
        "id": "F5Rb4xHGndQh",
        "outputId": "3c3a434c-74e8-43ac-91ba-39faac242f46"
      },
      "source": [
        "total = 0\n",
        "correct = 0\n",
        "\n",
        "# drop_last switched to False to keep all samples\n",
        "test_loader = DataLoader(mnist_test, batch_size=batch_size, shuffle=True, drop_last=False)\n",
        "\n",
        "with torch.no_grad():\n",
        "  net.eval()\n",
        "  for data in test_loader:\n",
        "    images, labels = data\n",
        "    images = images.to(device)\n",
        "    labels = labels.to(device)\n",
        "\n",
        "    # If current batch matches batch_size, just do the usual thing\n",
        "    if images.size()[0] == batch_size:\n",
        "      outputs, _ = net(images.view(batch_size, -1))\n",
        "\n",
        "    # If current batch does not match batch_size (i.e., is the final batch),\n",
        "    # modify batch_size in a temp variable and restore it at the end\n",
        "    else:\n",
        "      temp_bs = batch_size\n",
        "      batch_size = images.size()[0]\n",
        "      outputs, _ = net(images.view(images.size()[0], -1))\n",
        "      batch_size = temp_bs\n",
        "\n",
        "    _, predicted = outputs.sum(dim=0).max(1)\n",
        "    total += labels.size(0)\n",
        "    correct += (predicted == labels).sum().item()\n",
        "\n",
        "print(f\"Total correctly classified test set images: {correct}/{total}\")\n",
        "print(f\"Test Set Accuracy: {100 * correct / total}%\")"
      ],
      "execution_count": 33,
      "outputs": [
        {
          "output_type": "stream",
          "text": [
            "Total correctly classified test set images: 9509/10000\n",
            "Test Set Accuracy: 95.09%\n"
          ],
          "name": "stdout"
        }
      ]
    },
    {
      "cell_type": "markdown",
      "metadata": {
        "collapsed": false,
        "pycharm": {
          "name": "#%% md\n"
        },
        "id": "TBIXau4Zpkpl"
      },
      "source": [
        "Voila! That's it for static MNIST."
      ]
    },
    {
      "cell_type": "markdown",
      "metadata": {
        "collapsed": false,
        "pycharm": {
          "name": "#%% md\n"
        },
        "id": "zJXQEKtmpkpl"
      },
      "source": [
        "# 7. Spiking MNIST\n",
        "Part of the appeal of SNNs is their ability to handle time-varying spiking data. So let's use rate-coding to convert MNIST into spiking MNIST using the `spikegen` module in the previous tutorial, and train our network with that instead."
      ]
    },
    {
      "cell_type": "code",
      "metadata": {
        "pycharm": {
          "name": "#%%\n"
        },
        "id": "022BdA3ipkpl"
      },
      "source": [
        "from snntorch import spikegen\n",
        "\n",
        "# MNIST to spiking-MNIST\n",
        "spike_data, spike_targets = spikegen.rate(data_it, targets_it, num_outputs=num_outputs, num_steps=num_steps)"
      ],
      "execution_count": 34,
      "outputs": []
    },
    {
      "cell_type": "markdown",
      "metadata": {
        "collapsed": false,
        "pycharm": {
          "name": "#%% md\n"
        },
        "id": "V8BeObI_pkpm"
      },
      "source": [
        "## 7.1 Visualiser\n",
        "As a quick refresher from Tutorial 1, let's see what our input data looks like using `spikeplot.animate`. "
      ]
    },
    {
      "cell_type": "code",
      "metadata": {
        "id": "xqXyS9_CrYSQ"
      },
      "source": [
        "from snntorch import spikeplot as splt\n",
        "from IPython.display import HTML"
      ],
      "execution_count": 36,
      "outputs": []
    },
    {
      "cell_type": "code",
      "metadata": {
        "colab": {
          "base_uri": "https://localhost:8080/",
          "height": 540
        },
        "id": "tf46dC95rh7n",
        "outputId": "2fc20c2f-9cb9-419b-95b2-9f67943d618d"
      },
      "source": [
        "spike_data_sample = spike_data[:, 0, 0]\n",
        "\n",
        "fig, ax = plt.subplots()\n",
        "anim = splt.animator(spike_data_sample, fig, ax)\n",
        "\n",
        "HTML(anim.to_html5_video())"
      ],
      "execution_count": 37,
      "outputs": [
        {
          "output_type": "execute_result",
          "data": {
            "text/html": [
              "<video width=\"432\" height=\"288\" controls autoplay loop>\n",
              "  <source type=\"video/mp4\" src=\"data:video/mp4;base64,AAAAHGZ0eXBNNFYgAAACAGlzb21pc28yYXZjMQAAAAhmcmVlAAArgm1kYXQAAAKuBgX//6rcRem9\n",
              "5tlIt5Ys2CDZI+7veDI2NCAtIGNvcmUgMTUyIHIyODU0IGU5YTU5MDMgLSBILjI2NC9NUEVHLTQg\n",
              "QVZDIGNvZGVjIC0gQ29weWxlZnQgMjAwMy0yMDE3IC0gaHR0cDovL3d3dy52aWRlb2xhbi5vcmcv\n",
              "eDI2NC5odG1sIC0gb3B0aW9uczogY2FiYWM9MSByZWY9MyBkZWJsb2NrPTE6MDowIGFuYWx5c2U9\n",
              "MHgzOjB4MTEzIG1lPWhleCBzdWJtZT03IHBzeT0xIHBzeV9yZD0xLjAwOjAuMDAgbWl4ZWRfcmVm\n",
              "PTEgbWVfcmFuZ2U9MTYgY2hyb21hX21lPTEgdHJlbGxpcz0xIDh4OGRjdD0xIGNxbT0wIGRlYWR6\n",
              "b25lPTIxLDExIGZhc3RfcHNraXA9MSBjaHJvbWFfcXBfb2Zmc2V0PS0yIHRocmVhZHM9MyBsb29r\n",
              "YWhlYWRfdGhyZWFkcz0xIHNsaWNlZF90aHJlYWRzPTAgbnI9MCBkZWNpbWF0ZT0xIGludGVybGFj\n",
              "ZWQ9MCBibHVyYXlfY29tcGF0PTAgY29uc3RyYWluZWRfaW50cmE9MCBiZnJhbWVzPTMgYl9weXJh\n",
              "bWlkPTIgYl9hZGFwdD0xIGJfYmlhcz0wIGRpcmVjdD0xIHdlaWdodGI9MSBvcGVuX2dvcD0wIHdl\n",
              "aWdodHA9MiBrZXlpbnQ9MjUwIGtleWludF9taW49MjUgc2NlbmVjdXQ9NDAgaW50cmFfcmVmcmVz\n",
              "aD0wIHJjX2xvb2thaGVhZD00MCByYz1jcmYgbWJ0cmVlPTEgY3JmPTIzLjAgcWNvbXA9MC42MCBx\n",
              "cG1pbj0wIHFwbWF4PTY5IHFwc3RlcD00IGlwX3JhdGlvPTEuNDAgYXE9MToxLjAwAIAAAAfuZYiE\n",
              "ADv//vdOvwKbRZdqA5JXCvbKpCZZuVJrAfKmAAADAAARsG58lw15q9IkAACtobhz+EtXgAGbPfnA\n",
              "6vBq2y4KD1VFSYr8QiGU1RZ6il6SV2xj+fxPL8Qg2QVIKd1FSNrbUk/xxGhrNkdYJefn3ynUL9a4\n",
              "OYVcKYGaf0ChmcI28O1Gj0TuAWTj0qHWbh5a3hyHjwqLRDPrXVcGP1kzvYt6dRLxEAUDCJzBRgkR\n",
              "WrTCkM2sOGHoAfvlMthetytKo5Z2ktPExsjKt4gXKyCdTniIIeL4gOJaXxVr+oMt8JQnKka9c0zc\n",
              "n0oCyI74VS5GCMYdoX5NiJNwMFCvQzi+aDYD453h0hW16mckhlCzlNFlmbhPIohSftOVjY6/Z7+L\n",
              "abj7eqVcctXwAlb5taKQlyDxmvqhvq6CGg7ecJHAL1fmKcjZroWwrmq6bQXi8dFum1DeejvyBLid\n",
              "NblLNH/NhmDt4nFLXwgpd6kckZqGOOIqCT+qCtAEnrKagAHZsfqsDDj8gL+mTzLGQ6It5RWg63qB\n",
              "9R+CMOuWKK9Gl3pfhYZlxzikHUC1SwsDar9GDzeOcPOJCq5LTO9iaO8yH54bAK3TJuDaZhWdkVQ9\n",
              "lkaMylOl0Z6p0PempWYCnYlfaCZiwx7KuiiKZ+kZG722J35otcH+4CzMZ2wZpYjYY6WQhDsdk9sv\n",
              "PVjHf3NugJogRvrYo46VwbXtl8JHlRqcHobzPpPiPGYi0Pbj0u+L0H0godNrDW8+mGE/6nDtJOtj\n",
              "/Gyl/m5AFwAfxpmknqlLBrKu9njl8PIM0E5eqK3aQJJf1P3idcwzo06niz5A17dZBCUgUBt+debC\n",
              "S2hhClpPbd1E12+08FsbBlzlf49T7v0HVjD5b9bWQbZfQfb4xNjc8SAFVTslphYWUsQlBknKee+Q\n",
              "AUsXA1ZV325hr3cp3x1aCFeXh9lPrPoZo0cDK4Xk19ArlIfGLJI3P1bW4O6wm3H6qckFFXACZzsz\n",
              "7LFb7IV/N2RbeOBxhYWfYw2V0RNkBEIKxIi8juoaSlPWH3R/WNL95KMHLBOLxK0UFmLwWLS8RE3V\n",
              "fNqAHvoNXeCM0DB6NbkEPpyYtvoviKJ/wGH/p5y7xfgm2N67DrM6SQ3t9uhPIHTdfn2a/WnpOzZy\n",
              "wPvqwSyJf7UO4MyE2NtmZ6O3FSkC8AIZFWXHC1TpioBz0VykL6/XUAWGmzmCrHuVNA3+Ze7dXCAJ\n",
              "ptW7NQsZJeuOElDENbzX74kN8Ag+UOJIkaKoUlJn7jFvPOlSKMmy5UiynhSpOOyD0RSnYf/lqlGP\n",
              "K6ejRzyFHHfxN7K5I9HLvFRmWzsfDx8bvvAJr9qGW2srdf3gOFxgl8XOyuq4DzDMGCmTeQKy1E+X\n",
              "JeyJc+kaHlq4AFn5Q18C0n4bKmTDmVjwe7xae4zEK2Q5yr/Blwn4cpR9Gqm3XS4uO40aQtij7TT+\n",
              "ZtepIhEpF+UtNG8bxHxeZokHpHAb3dL0CW6yXcGEfW4AR2YEhiBkuEIg5sMvKtKd7X5bkhLHRsye\n",
              "We+4ddplbb+mPeDwg6sJ+poei/n+AVwLDMCRrmGtZy+0p5XdwO87nVXApYWtFZYBQ6qNYcYmJHVK\n",
              "2Ve5kCNmC0V6ZIS6PXzhm6j9Pz0NvKV4jAOvcT8bSN21Qvi1Q/DUns+k1bK7ji0yNwlKuCt/x5i0\n",
              "mR42oVmokK+QSoyrCvnZTQ0ngy8kb6yvHkKxrVdiuBfHZrUl1Jmfo3ZGvPJ+INOKA03dTUEFyYQN\n",
              "6wdUgvMXseRH2urgABLF3HhhcOr8CnHLOpujPtAdn7n49GIdlkjfm89GwmF1I2gLH8ZZFbTTIUWo\n",
              "dxfM8gp2eEfLSjEtO4nlawriU7l15inr/CiWurSjPRahi9L+RVj1HAo4hhcoOyw1hj6Z137PJamU\n",
              "VR9deLiDppvZqsZHA7lfFllf981AxWPnCa+p9ZFMdBS6JvmnXHGIReM3HsHlpFE/WGZAUyxMFPWL\n",
              "V9mvwLl7t6hVR++6ggaiR0n8NC6j0GKsLWGkZgEYYMvpD7VBfnxtg+IDHf+gymjbuCUI8a9tDyIM\n",
              "fQVVPuJxqGj02elD7BFxMUEScY/QFSNbF+hGz0DZIDjAX+2FYatX3/O8QAXOfSRutajvTti66j2P\n",
              "ArGgFEEGTGC0Rbm7YAwA9nxX1wLxUGoGujqbxhYkx4rrJDlARj6YCmkq0ynWvJUZ9HWHYyIBTE0X\n",
              "QMB9N+C+vBVtjUcWq4+tjjJGMeP7xUZfrBi2xEcGQdWLLPuVwJ0WmbaGrHxkoUg85TGPptjJzy77\n",
              "WhBwLG3u2BQNrPLtauvYyd8/J2e+COPb9ovS6K7Jd8oZLSVysHDD7asDDc0BjaKkqDzsCzmLKTTC\n",
              "Ycg0gueeecBrEMQLqeaquTVZSrHynznmN/ZBt2p43Yh9lRSUrMd4+SO+Id+ZsQBjLLSFs0ux8Jlp\n",
              "Mkd6/3a9OD04/xh8XYgRGO1O4KH+ELac8keE0O9P8kqrkhCL0PzUiKR/K5w8y2kxGcP+j8WeiiZj\n",
              "mt41oOtqChBzJLJKYd3KqZvVS/cORVVmJKjMPck7G47fq8radtF3XTQa+T683uhRRa9YroBkZW48\n",
              "PMRp5t929QKi5h8J/91Vn9UvPFwoUdxcxL4i//n9GYvTmMI8yHROECEV18yw6SJhfYRz/yqcp7zK\n",
              "wXwagAJxQ2N9fvC0H+8gu7qU04bh+GhIAAAFIgAloyEAAAOaQZokbEO//qmWABVOFvgf3boAbcgP\n",
              "/n8CUdSnRPLcngNk60ww6+53/3Oa/Ry+vv4qXfvW9dkgr8stt5GMC45iaSg97xdvHbb2BEf47bFC\n",
              "1ARCujnV0Q7fmPf7Gj1+WM0+ybYa2AumI6yprDI/gFjSKj+KK7qrt2ikdQxLzzd/gW7xutcqdQc9\n",
              "paohP+cjRXJx53eKEQFQ+33bSruXmc9SC0S2YfKbSffHEtvsoHtzFziInyGlSDvhJ5eM67fcQA1D\n",
              "MT0wqGQItI3Z7D+J4sG+c2C8oZV85WnvTe7XRaxZ0Y8c8Dw5MqlEzTxkzyBmsre787l3fSA2crsf\n",
              "94FA5GkhzkWxZNKHt3uqIENgbbYwYGKjhW1GhY7F72kQ2Le3TW7/+ihfJVfSEzMTTSar2G7NORLP\n",
              "3t6ZamP/Vs3LfSx4lvcFIhn7rQcNPDdpIMc94Ce14PbYmtYtL31urlA+rwEoWgwfFYKh3ONHVWV8\n",
              "96mrMgAeVCPZW+pQAATqMpBzQbDlXiXLmEIdqkXUtHc5sePO2q/OYnB2lNl5q8rxjjv0UCMwtJEV\n",
              "qjTbsVmn/fR2Jz5U7bPekqwbt35nk9JvcoVp11WEx9FofjrIC/PNAHrVZy1YGdW9icEOtQlNxYmP\n",
              "+rurx6+dydd41xXvP6V443XSFdVtai1dfchit4K0jdZX2GFUiviEM/ICCn60FNUzzlT1ECJJtof2\n",
              "YnNb7j7S5sHmB9MmSu+EpRe94knO1IYu9pQr+V3OJRnM54PXxYZHPl+mvtLj5RvW3hHe+2C4zGm9\n",
              "9eV88dcZCMM7tbpx8RC+QJ52BfWGI0yk6Ak9h+nSnPHbcdZ4g4MoOXtoUVDJO1KO9CdIYZjuCxOP\n",
              "+/C+UTp2VNpdatXcApCYDuQgb1TE8vlsi8uJjdmsaKkQ53UNlFpr0cHBoe4rB4eRZiYAz3eTdPMY\n",
              "1Z7GNzl+105TuApY163j7t6HDiOemU7bF3hTZ1+8sDZjzjsmoLpGTyuo+1OyBR2LcEvcoEhlPmgr\n",
              "UKANSlTF6nOrEDEuPdGejIzegYoKo5NS2prWtkiesl2Wh+o2Ow+88renlTz0W0LKxRPW+99n3Q56\n",
              "tJ/AWaf/xSxhi+vkVXQMOVba8Ib3tpzud9YoGkmvSHu7FQEVDmgZbBqUAsoTmj10T6hioTrtJnuY\n",
              "lnsYfU86oGnS5RXdcACLatNEd3RblbirX2wJtLN0eRIobGu2vM5BZgQ1Z9SYdAAAAYhBnkJ4hf8A\n",
              "GSC7C5jLMACGy/uC3pK+vak1eJyLFZ3ad2E88O9n/dOqNIxKQji+HoFAsoWCkCekXVL8162r4P9b\n",
              "woNJoOLXuunhXXVhX5LNA3Qo9NalLNm5uEoHrfy3oJsBG977bdL1jfTQIQjourv1Mn9/5wGRrooO\n",
              "rLXEfMsp0bhqfOK3Luz5+SEKVi0RcRZCSz9FDaz6zsu5QQTwXzjUKZ3Jdo6WBQiMCC2gBQ8mEApu\n",
              "pUQb8bM+hzUgCiWEMFQrZsSzGOkxq327cLm91MKNu7yv2qsOJp9RPPPYmh567MsIU9i/DHLDnbSD\n",
              "IukU8lnF0mblli54AsNsHMHqqvZYxkPqPI0Yy3Ps3QTBLewHYD9Xkcl1JWOpmFHYGbWLJH4tVBdT\n",
              "JH+lzCb5JVdxrA99MB9B2XAn3VGZTUhTGSJBXtZte1SJFBPWWzEL/eEn6BMzoYik8lOKfXXe1yK5\n",
              "l2Dds3gEfEwRMWiULKDLhvFLFoPA46OdVqCIwlWoPrQB5pvWOne3YCJjYQAAARoBnmF0Qr8AI8nJ\n",
              "Pngfk89hoFoo1KfTdgA4ZH9PL/Ry0qzlAeMCz1+rP0JWM8NexgxODvNTXxh5PY5jHj+s4NLy4/OY\n",
              "rWdQMipnvPHGrFPIu4w09Nbvi0P48CTi8+ndQgMnmBYObTFq5Wh/D+DsL+A5PJwgt8XMl29+iSZv\n",
              "eKU3RjHs9aIdo3Avl7tVvlZwl2kSh3xcSnJ9+1lyplK25kd1c6Z7LHdnLRMZeDNvsk6bxoojOQjO\n",
              "T+9KCU2+7VbCkTbr982xaHbiuvj/+/a9F4hrA2fqjZRTJHEv1ZYCjtusK+HrQB95m29zeMtOiOCo\n",
              "97ob0iQbT2AUnIlOSCxB6/xQj0R7j5FavAm9EdwVt+rCkCNTGKB/0L2HSy0AAAEVAZ5jakK/ACLM\n",
              "OAhzOHnNYgOrD6MgzDWVW1zXImuKGYtx/BfxRRzDM7wTXzLbcLC18UwvEXR+rPbxXBYth7iHp1oE\n",
              "uqm4t1llBh/E0A2TRP6OWJjaQgwYZZw7NwTj+JQnsz0m7J1h/3yHBIhKI/TILjY5jGt1D/Ou63P5\n",
              "j1CkNVtlWvmbT5BfLmTKVfNvBMK02+eLuTIZpmHMHFmXDTC0KBohZm3J94wF8lv73fguN5dVjdM0\n",
              "RrpRdGB9XEK90+1tIP0O/fG9oz/bs0kXFwGZTcOWuP3nzo6vnKDu8ogY+3baOX4dP0ZoBPAYgHgh\n",
              "HEVe5FfMnkT2oY3Gm+cKc7sqbJ51gmSm/XD2oByBrRDNpXEwIRUZgQAAAXJBmmhJqEFomUwId//+\n",
              "qZYAFA0kpxetMG+oNucLak4B/uEsarirw+4A3eulnIWOpVc4iCiRPaDDkz4ZWhOJLDdhFw7+C2t2\n",
              "UHjn/PBTLckva/kRZu+pReCRsQADg6YXOSatPFsTgaqf4EAp0jbgHPhIxm25QJhjCfce9I83OvgA\n",
              "Y/nPGUOuCRUTfFywnmqp1OI0nFGNNYnc7xcDQXZRAG7tZOKnPZqeHEyy/Z767C4DgORtyWX9SFNe\n",
              "Z3Od6NLkdJgedD8E111nxZGsV1+Y7E6Kb29UoLJJZGIoW6eaJmzoEOLhgU6SX77EcZ/hjEkhjOu5\n",
              "wKOOqKi0flftrdLT/jT+bLphQVuQsR/07dZqmZSwdHIAJlUyBZ5iXT4H1DvQKO/IzQmwe34FVR+f\n",
              "fcasDhqKQJSbUCE1QinllEzxJndlk/UiLBv7nFv/awoU/IBHSMiNMdUKvbSOh3mSNU/xxKrVuBfP\n",
              "JitRnzfmvs7MZQ/m8oelAAABHUGehkURLC//ABpt+VdHf0WRSdvatE4j7iZpHYIQIuN88iRByVGQ\n",
              "HDNcuACzFss9QjEnyTVgMRdZg+KShXb/o5CbrCsxVpVwziHevJt3ZL8I4DQDaVF4ZN63YHgZt4kh\n",
              "whFYXMY/OZoTKy2bXJQdGVUicX+mcKO80rXduEiyISelNGdZ5xSzgcdX0LVqUseCaEinxMMPxJ+A\n",
              "cMEpH5L5yBvaNRK7VfUlKhaOMuMThU1PsZzjSgf7+VOar4CjKrhcOKHgyFJVcfud8/53uBa6DWSY\n",
              "pjlj8iCIX6RB+Wz8CIAnH2L0YHCjnf7gTRPT3QWpNDP8R+ivucclv/99VlMqvJ7zfxooEtz5WGD2\n",
              "xkB3uPMHkoI88EAvInSUW/HbnwAAATsBnqV0Qr8AIb4JrV7RbQMkdtSM7B5cT/GEMrrX5fu+CcaF\n",
              "EbSctf5JNy2k+O+JzL0+8+blwn9enZEVhq/wZUnwtdrB+HGBi3qxEP/8Ohj09fS/QpOkhf5b64Cp\n",
              "utTEKz2ExW8Ak9bsGIomuWDS7CR66pivwHul8O1xCVf4eKy0mWkpYkxb4Mj9q13iwehd7MJjwVqZ\n",
              "HGzUQSGdx/8sghOGz9Ldkgdm1aCPobCtxSLI69Rz2MZfQ6AOs1CO+OkDxB+zzYWY2XM+Nhs25xLd\n",
              "+SIXudaQ38lGqvCluX/r2gEuUJS5lvbhl+3RVDwv98Jvi7M/D7CIjGS3E2gHFqE4ryPxpz3jAvct\n",
              "jXkgqmRd/Hn7W5mhZf+bKwgTjwg3KRwFDpjM5s7MQExoAjN8BP9pKH8/WArAQJu4mIV3Q2EAAAF9\n",
              "AZ6nakK/ACJSr4Goq4AE4ef9lB42/7YOMtxNr7o49VsMN5LzXX06u6DClqJcau/1XdM4pak/weJP\n",
              "5Nt7ZNCEqLvesYk/1BmKuZiLSfezJasfnXKarXpgyB0/3zj2iaSxrn33QKgbdFrzGamF1FAamgp+\n",
              "Dv/L6iX/smtL6pejM78f8DJ6wJdTXciFXYlxVHECMr9TZBCMaCuXDWR1Y93GZ39O30uHTtPKC8j9\n",
              "+ajwLekufSQwZTZTVDPg4JfgUd/6rlepQ30ZzZ+6+ZsubvpMFYgvn9CbbGmKANOGbHDOnUwStKmx\n",
              "txGmryPSeIg1cNoSjzut/YFtKbaMM6Z1ArSq4h4N/PMdX6lk+nKFFlOxjQ29gmSGEir6bC8mBLwH\n",
              "JvFztAMXPGuhNg5aRqqqGTeRKV+8DEBE6qwbr10q8HWH2OLxTbtgruuvqg7p8jImYZqf6LjKOn/+\n",
              "EhX727x89ExE0ida9wrQ+ysB2wNvWiRDmYs1bTsqSXdZ2jqSC93AAAABeUGarEmoQWyZTAh3//6p\n",
              "lgAWb4Bup3G8fBdemSXB98gLE7X3w6Yy2Np//n9wI+7ZoTdRimQK9PMcUsx/RB09Uv88EL9qks2w\n",
              "o4lYpVBREhEsb2+NWGPaBCMZGa9LENchrv1kxNeuvNRGk27PgdNwZP3z7+W3Af/wec5a4ys/Lzcj\n",
              "pI3tcW5n/JCAd/CS9HgDe+lH/Fkpkyyc+jcliNufdNoqmaoN1lS1beT4TAHues15PCRlCQZEBi83\n",
              "tFwApq37CMmeWyAzuSTc1kenjnsgmGEG+8giaxGTiJgDXCMBF7bv3rYQR3qigiWSmVa57f6gp6FR\n",
              "BOPmPnIEaUA+3i5IHoAUgLPDfEi8asdBxCqqCJJSAaeZnx4jBYEQME8fQqFJ4mKzdcWRUWYTuHEj\n",
              "Nl5AT3lGnsW8//yqaNmWfjKGa75w7kOaJlPqlwIXPbZIbmXKzj18L0wfCzj87lDB+3/w1tNHjTFc\n",
              "c8dt8BXLLrnHx1I4aCNAfFh3211AAAAA80GeykUVLC//ABklMc9s7z5ebjc6mZmnuUHri6dLM9Dh\n",
              "CGoeUv5wbw/OYGmdrAbgY8qlRKiyck/gmYjJifbFFnZDxQ6qje1S/X9tMVCGZD7pw0s2V6gd+Rsf\n",
              "3bAyci9DMcTbJVZmRTOZr/zJiilNzOcoFDyPqcSOZiF9QbwoFA45e7MENpatJHw5CBCU/ql5ySTl\n",
              "oSj09nYDf1YjQOiW4Bfdg9VwIHGqo9uQbMfOpP+dty6aF78qaywRVnXKebPWY6O5epE+2ghi7+SL\n",
              "KddOKFw6iP4J4GIw9Ma2mx4EZrOdcy3BLQ7qTvyz0d2znaLwv+8HDQAAAVUBnul0Qr8AIKzvudBr\n",
              "EnLGtkDRoIF+4kLqSmTpQMw1RantQQz0XoihaiJsZawwkcSSE7p8WB0XMtZQFsJpKQmi4yfPxOAs\n",
              "sHgf88eSGyssF4b6dduZQ2ehxhaHW7T9ZxfNYMVJSYSl3c1VfLXEwDwQ4xomAzhw90qU71B5Ml3y\n",
              "xS95F0BNSe3wTYwcMz+naKaBZKardhpjL8TkbiJ1YyTYxEzsgiO+WuINYt7ntEy0R0fqZM5kt3UX\n",
              "Za940THTyiVXWGOp5fnp0Mbq0NwyYoOOFS45fJOjX0F/4N9W5i1JSTqSFhASVXTm2vShrAYwRmCd\n",
              "eE7JB+mRaMJfk+qsCNQQHByoLq2kXcSqwpCcSVbWOlc4QMziSdTg0xvDP61G6kY26GX0aMV9/ZdQ\n",
              "dXVP2XZb+S5AZewkSrwumC7QA4J5iJ2ut4wEsjf3rfv0dNO+LsQ/8wARgAAAAMEBnutqQr8AIqCo\n",
              "u6c2H5obTEAHKXjmndGy8uaoLYRDcgwSCxWl5A/Sg+5dBG8bnHbxs+yPfqWmXwXlW+uk7BQrbmOF\n",
              "5v6xXoby984re9I9kFKlU8m+QR588dhifdl19oBW7yRo6h+l5XeZDDsF4RRorw13eX8V1U9NisWy\n",
              "RQdcTIU9RLLGdhMWezu2A50EHF64nNWIwj/kVRPs41/wuXUqf33SWIYlbXE3iMml7RAOixdVVozY\n",
              "t++JmCUZWGeAbT+AAAACNkGa8EmoQWyZTAhv//6nhAArIIYCVBBJjuVVf7Ymx1WjPftE8KrHU/X/\n",
              "SzMu1GAJfof+6t0KU+O9UCWbP2LCf5NhOLG1FSSWQ/5wgIfzGN6u0twCLblB7n8SYTp9aOxCOnRS\n",
              "SjtdN14bDukLhRPTBD0PoMtmvXgZeMaLuPrKruM1KxhxQaiz00cmZK6j2wCp3pvXRYP7XAWMQDoL\n",
              "tn2x4zKpc2DYVK8V+hGwVX2eObGX8jmZKglourSTFNP8zzm6l6vDT/TT9wf26bvKfaxdQfjga4ku\n",
              "MLLZgl9RIP9iQThqw716ciDiZrb2vOteCllHVC38A6DQy/G6D+KAYdybdtjQmdsXIzVkvH8AQtpz\n",
              "HK+VI9hYKEtA0Ww9k/S4hUA6HQw9lAEj2D51cPg/VzyEvLicVF28/Fujq0BA7djbWNlFMwCjmite\n",
              "NJpc1L1t/VRVN8UNF7cJJG7vm2eQxj6EJ3qZtbjW6shyHsD6LTMVYiTfVkPSsBdJliPEbLh6i6UV\n",
              "pNbTAPNADO6O11PpE1FDGzbgMFdT/923/UqO8Yhb+ba+Y8NjSePCMoW+rDrL2QygDNtnaXmEm+YX\n",
              "808gVFmytnSo7pK5xRz3G6pdaoulH13kfZD5gy/iVuod1bSadEujTq4/F29Lz0Zkq+PCxGI5sB4q\n",
              "Zzs9h3U2iqGSfzrJboSrl8wB23NSR6MByYLfAVOCsE/6gASz5mFYVhhE1DuekKKHL2r045nYNLZ4\n",
              "cCrG0MQDg8BNAfVhAAABFUGfDkUVLC//ABkoh8AlWraAAgNDMer/3p4IIJrPdDIcUTQgc6Wgtl4b\n",
              "tOa439r4XOQi1NGRQtXPAw3j8IFntnVOLjMwBiDbfSPEZPF0YilrypjiP5tWnHmyaw3PwovpWVj1\n",
              "wmTnPFx9pt5rb2ACWPgEt/WrdqP4Eby9tapMyKUJJ8xJjCDb2DpdJRnyajIOzVo5NFwQSfaccwXz\n",
              "kKwftr/Nrzp902749xt1ArMIAqySwZ0hzHtWRrQWqou8EsHwW7RElP6QKe/qt8M4kO3NkqTHjtCz\n",
              "pdC0JAUJSiNjV+GgIiB9wup5ncnHuPkPPS1EkFPLqIV9bj8MQEWWiYb7vA1sp0qPK/gLMc7d1Nbj\n",
              "soH2lOfe0w0AAAEVAZ8tdEK/ACLMOAXjSTHumkesLS18XdAnDR0uMFzirMlncjmGN8Vyn3EP4bob\n",
              "0w0zrps4stqNjre6eyJNzZ/9E5+eoWQXHJ7PijEc6eDucqXNTR/tP2lrzN5DQ1Qk4w6WrdHcTVzj\n",
              "Qxzq5nIpv5fdjwp4qkC/4xZbh1NiGvdm9WsYvvEcYJ87s7UlqJWDeQNKhXGkRCBkQrlaZ6Id9siK\n",
              "+0rpe/qkNoDKmwh32q0eFzdi4rAqsuOuBN1EYI474DxpRmxytGdx+8KmZ7S9lIoU5LpwxANKCYc6\n",
              "rWJJkm/DkrFiom1tOT6oUkA4o6umtPvCC+BXm4KQpAtbTFGV4clhmsHfHNh5bsJjrsmxt5ooZwsz\n",
              "kHDGgQAAARABny9qQr8AIjaLf78qJojAByl45o8kjaejbD9OCG5Bgj77G2A31qFHxuabAeVkD4ex\n",
              "d7KVUFtLwbcHoWZpw4gufqht0Sp6XMLrFoWYQq2EAL0IjP4eMAL2GuzzOzeSs7JbURQMjGKrKFLm\n",
              "3TelfRKHGlyZCGLg9pFzO1otyDULt9NEH5WM7C3bDPXbLldkf0XDArVNQkzdSQr20r5WnyIhlF5I\n",
              "6pajli5Vgtoh8zLUN2IdbXDEHp2kkWiUkTJhsufhZgb60x+wcMqLwidj4bKlM1IIWt454ovybeft\n",
              "PpQ4KKV7qpvfEpFZUz08n0jm7qmXBETVXTPjMlvYzbVh9T/AEUhSDQjogD/fJVKRe2NSdwAAAW9B\n",
              "mzRJqEFsmUwIZ//+nhAAo2J7zrTlKpw1iBaKeVVEhgAFfQzqtuVKQwiUFcuOS7XjDtVVaa4NRpAU\n",
              "9STuXKaziiB1EFRFFAMQTYtco2kEz5dtUfIPn206so75X0DSMOmLaYyjDmXi6HuBYPMy+xP1/L+2\n",
              "YU0GnYuVh8moaxPsUucbG45AFq3HCgjMHm7O/Nordq0CItZzTTodNZBqfVy+yuGwFtkWxyPt5dvJ\n",
              "+Jb3mGYLnkVT5ZowfwDuC4OrRcTK3MglYkfQAxyV/KaHsfS3zr/grAVGe/ijvCmSIWqYPgABxYSx\n",
              "KsYhgT5dQZ1hN1Sjw/R6KzjoAq+1KBdU8kE7qckS17mQEvA6WRU5JS/Ym8sYvtkAvkQpl3VYi+fc\n",
              "0t/gew+CaprthAs4MHzv16iTtiv3wgvgh7UOBRrUBcggWSfgRHiAVfHVJRv9Aluw5hZu7+d3D2h6\n",
              "p9GhRiADPBo3b4TSAcYXXKG8esKbBqawAAABO0GfUkUVLC//ABkoijHs7dqFwE5FqwFsWm7wQXFW\n",
              "63ZcmVOK+AhvJB31EW7G8HmlWYVlx07QoD3l0n8Iim+noCtXbLmEQOdBkPHxu7Emfhb7dOt7DaPq\n",
              "uAqOic4aQe8u/8KqXHO1L3GaawlyO0rwMuxqCnk/UCKnDlbnKAhwa6j2F8hmpvg6KJ11GjaTjOmB\n",
              "Mnd8n58w0TGclb1Xi6IQjXFJRtsTHQ/a/vwgP2oN9aTozRxQFkZtnfrfNmaDXkpoKdBc5r0C6FFp\n",
              "s3VKOuiGKZHIMnSTLnkMbBZdfRGIZn+U8Ctno7aJHoSLsYCG4V8mAyUhwKUYfSDfARUIWCQ7TYxk\n",
              "XEDNLB71n/exGl+vVLB4N0JhG9s7BYi7Z2mxacUiOpY5dm5OJrdAtBoGTOHDu2OkmGEQaTax3gGd\n",
              "7wAAAQ4Bn3F0Qr8AIa431++YjtweBUgkOB8gNlyV/qRnxwmAC9aWAJv9wvKWrv+iviO/EuLjtFlW\n",
              "b4qjzh6D8ZNMeeeAhbTizLDIShE5kXlh6J5k1KI2KitH3yUANG8a8HfwDs9udO354X1LDN3tNoY5\n",
              "CaR8jgJVGdubBWBeg2wywrT5XSzY3Lk79U+R1SLiRZcxXIYu7EkpAW1GLh21/MpzuRHgOwzLWaQT\n",
              "chjBL0x8k7IVlwJdue3qdGep4FjxmeFKCUe3gPF9C7pJ9g9FXVVvdJ1wptgZcf99eNm7KenwC83P\n",
              "/4as5JFFOAl9f5tJ6xINqbkyq11KwExgw46IYJ2ddJGD2m/BSG/vW1FJWLs4STQAAAGUAZ9zakK/\n",
              "ACHBJ7UjABbUU3QPEK5pnJXC4ksk/jXVVVHRjX5rjM5UXkzzSgNKOQusxjeOnglJNqA0TcA2JZIp\n",
              "ZTej+xZs2vzlnOxI3+gS/gAl//+GwC/mLJTkzZgWDg1XeIRJD/MTQYZ81xiXlw+MFo5UoQsHHM0f\n",
              "9Yj2m5C3xbYzR4y/ZooWJVo+v3/aVVg4S5A8z96Gm0f/bT4KG7dtZyjW+npcIzSYw4Frnefu8PkN\n",
              "QH88YtZGuoIVIMzlnEN+FdfkUM6gf5NFgDQHG3ovLO8E/4sO6lcaGDGNyIYwGU2Cbfgk15hGQF7q\n",
              "o0KxhGF7j96gHACAmXgb59oCfu+UeBZB17NxHLh6xQP1qvVBaHPlCCP0ZDt2cbZ8Fjq8U8gTXUL/\n",
              "Ihj8KnjfzQjqS3jcu//K1vKn+4ICrE1ANkCvwaOuTi67s9NS7djbaPn17uprr26Z0rEE+nsQ3FeI\n",
              "Tl1NGurxOld7lfbG8DOZ7/GswuYyQEF1+aAtTt6wNI4dTchMXjLxR28lP5uR6Zixx4NNiX5BoRAA\n",
              "AAGiQZt4SahBbJlMCFf//jhAAnvOCj3uMYAOTrv1ytd4kb+wXv++71va+KYMFkNGdcoI7YxkDZNE\n",
              "/o81RUCSqrkY9GBxyym6Z6MRRxZAII+bkQPpINj2OGiku4U3SQ/YqTFmLsT0GPAAD1jUweWByOKG\n",
              "s/EkC8iY3+y782yecueWlQUl316ioIDVdM3XLI13r2J4e9v/56tj1snBM+XqXpHnLyG6uJKyTowr\n",
              "c3gvUBQJqwINBEaybYCG9SA/nJsSmHH9heyL9c9Olm++h16/Bhh8veR4IQjV5D33SuQdh3tncg0x\n",
              "S1Rgbs0wyzlr1EVVmt1cCR5gS6X+35DtxNGuyeYEHVuTHegOZjmw8mkvfBLTpk1aswxANzA/T1Pz\n",
              "fghIrwG9hrSknRU8C9ys2t1ktJcsRB6cJ7mCQaueQYgkIgROjTlTu/CbV368ByiFaTcNnqA3K15E\n",
              "JeILvdzN2DdF7pkWmTvdVkMLW4T2xRyghiVPXzplrziDERXuypIT2A2/k6Mbx7PEnrF93j5G1Rg5\n",
              "v/4Za9WM938Fiz0JKvqf7K5I4N9ZmQAAARVBn5ZFFSwv/wAZ0B5VL+5ahlQ433rtRUM+czje9xQR\n",
              "HyEKemRuSDcGRsiKtWl3xd+tvLkNGx/8TOcfl/85U5504o/nYq6BnMEPRaICx896ZBuStaAt8NfJ\n",
              "J9LkrJ7HqYsoOeQElKrtcprQsodcFKe6FYKV6QdJIxU5Ydwnr5EuZQxyCngUwfgzcqhdcqcf9HG7\n",
              "VHXDSUtC229Cczi0rOKlMMWbTuuvFBSv+nbucmpthrm/GYxdaJJ135VuNKoY2kZhQO5KiEV4qD1Y\n",
              "9lAS8R6oppWH6B6OZbwmOx1rjRDYV6AoPlYQykmPQfvOD0XvSXU25uBkDUVYK6hoywYcXHUXeNRo\n",
              "VvONKnimJ2EA0W3wIjog5V7mAAAA5QGftXRCvwAhsRkPfJAs5vEDgVMcRQqtJCGPZPNHVDG2pvc+\n",
              "VOb0C4u0Fez4hh+BpsuDBzE/zOKSj3TWXnIjGrVK/u9Ety7EhoFU+aL6QL7VhXK0GLhomGzhlG2u\n",
              "SP/7g561sOrBD3oaE9GquIz3jsIcAT9lKyvnzSEoeIqQGvqLOZ1V9ixdUuM6B4cljjqcX3xPnDKl\n",
              "xcnUqttzyk9xahRM0VKWDQSLNiFaxEXpjMYu5+sJ0hG5PqPIDZEVmA3Vy9Dwadxng8Luc0SM4KYM\n",
              "07oZd9DQi3XaQU0dJo4jzek+qVrer2EAAAEEAZ+3akK/ACG7XRAvLZX9EjqI1mKPfxxE8RZSzqrE\n",
              "7P4Y3pJFVJWYBKste6b9U/J7V0WH99fEdEWA6vAJeRKZihgjXDclgW+Jlyev4aCuVq3F5BVuZiTr\n",
              "bFXzp6ofQ+S/IwZ1KiZ61aAJIUF0/cNcXVGea4GDKFTRPqw54ijQQyKJIk/y1/3IDN8EA3PB/k4h\n",
              "ROr5YBTVrdRLo6j/TLv72vlWhuQS5KhKDT4Tor3ZJ/iBaWTXhi1IIWLkg/e7q8nEdGdWMLp5K5hp\n",
              "OubcNwPVI9c+F76us6Squ+gKiv6G2Xfm3cVdRIWe7cCLJJbB0mbRPNTfOzMYbbMg/b9AXZo7qn/5\n",
              "zicAAARabW9vdgAAAGxtdmhkAAAAAAAAAAAAAAAAAAAD6AAAA+gAAQAAAQAAAAAAAAAAAAAAAAEA\n",
              "AAAAAAAAAAAAAAAAAAABAAAAAAAAAAAAAAAAAABAAAAAAAAAAAAAAAAAAAAAAAAAAAAAAAAAAAAA\n",
              "AAAAAgAAA4R0cmFrAAAAXHRraGQAAAADAAAAAAAAAAAAAAABAAAAAAAAA+gAAAAAAAAAAAAAAAAA\n",
              "AAAAAAEAAAAAAAAAAAAAAAAAAAABAAAAAAAAAAAAAAAAAABAAAAAAbAAAAEgAAAAAAAkZWR0cwAA\n",
              "ABxlbHN0AAAAAAAAAAEAAAPoAAAEAAABAAAAAAL8bWRpYQAAACBtZGhkAAAAAAAAAAAAAAAAAAAy\n",
              "AAAAMgBVxAAAAAAALWhkbHIAAAAAAAAAAHZpZGUAAAAAAAAAAAAAAABWaWRlb0hhbmRsZXIAAAAC\n",
              "p21pbmYAAAAUdm1oZAAAAAEAAAAAAAAAAAAAACRkaW5mAAAAHGRyZWYAAAAAAAAAAQAAAAx1cmwg\n",
              "AAAAAQAAAmdzdGJsAAAAs3N0c2QAAAAAAAAAAQAAAKNhdmMxAAAAAAAAAAEAAAAAAAAAAAAAAAAA\n",
              "AAAAAbABIABIAAAASAAAAAAAAAABAAAAAAAAAAAAAAAAAAAAAAAAAAAAAAAAAAAAAAAAAAAAGP//\n",
              "AAAAMWF2Y0MBZAAV/+EAGGdkABWs2UGwloQAAAMABAAAAwDIPFi2WAEABmjr48siwAAAABx1dWlk\n",
              "a2hA8l8kT8W6OaUbzwMj8wAAAAAAAAAYc3R0cwAAAAAAAAABAAAAGQAAAgAAAAAUc3RzcwAAAAAA\n",
              "AAABAAAAAQAAANhjdHRzAAAAAAAAABkAAAABAAAEAAAAAAEAAAoAAAAAAQAABAAAAAABAAAAAAAA\n",
              "AAEAAAIAAAAAAQAACgAAAAABAAAEAAAAAAEAAAAAAAAAAQAAAgAAAAABAAAKAAAAAAEAAAQAAAAA\n",
              "AQAAAAAAAAABAAACAAAAAAEAAAoAAAAAAQAABAAAAAABAAAAAAAAAAEAAAIAAAAAAQAACgAAAAAB\n",
              "AAAEAAAAAAEAAAAAAAAAAQAAAgAAAAABAAAKAAAAAAEAAAQAAAAAAQAAAAAAAAABAAACAAAAABxz\n",
              "dHNjAAAAAAAAAAEAAAABAAAAGQAAAAEAAAB4c3RzegAAAAAAAAAAAAAAGQAACqQAAAOeAAABjAAA\n",
              "AR4AAAEZAAABdgAAASEAAAE/AAABgQAAAX0AAAD3AAABWQAAAMUAAAI6AAABGQAAARkAAAEUAAAB\n",
              "cwAAAT8AAAESAAABmAAAAaYAAAEZAAAA6QAAAQgAAAAUc3RjbwAAAAAAAAABAAAALAAAAGJ1ZHRh\n",
              "AAAAWm1ldGEAAAAAAAAAIWhkbHIAAAAAAAAAAG1kaXJhcHBsAAAAAAAAAAAAAAAALWlsc3QAAAAl\n",
              "qXRvbwAAAB1kYXRhAAAAAQAAAABMYXZmNTcuODMuMTAw\n",
              "\">\n",
              "  Your browser does not support the video tag.\n",
              "</video>"
            ],
            "text/plain": [
              "<IPython.core.display.HTML object>"
            ]
          },
          "metadata": {
            "tags": []
          },
          "execution_count": 37
        },
        {
          "output_type": "display_data",
          "data": {
            "image/png": "[encoded data removed]",
            "text/plain": [
              "<Figure size 432x288 with 1 Axes>"
            ]
          },
          "metadata": {
            "tags": [],
            "needs_background": "light"
          }
        }
      ]
    },
    {
      "cell_type": "code",
      "metadata": {
        "pycharm": {
          "name": "#%%\n"
        },
        "id": "RlyeBKgUpkpo",
        "colab": {
          "base_uri": "https://localhost:8080/"
        },
        "outputId": "9b154b3a-8a69-4b8e-99c2-ab32598a3da9"
      },
      "source": [
        "print(spike_targets[0])"
      ],
      "execution_count": 38,
      "outputs": [
        {
          "output_type": "stream",
          "text": [
            "tensor(8, device='cuda:0')\n"
          ],
          "name": "stdout"
        }
      ]
    },
    {
      "cell_type": "markdown",
      "metadata": {
        "collapsed": false,
        "pycharm": {
          "name": "#%% md\n"
        },
        "id": "_9rQYh28pkpo"
      },
      "source": [
        "## 7.2 Define Network\n",
        "The network is almost entirely the same as for static MNIST. The only difference now is we must iterate through the time dimension of the input, which is achieved using the following line within the for-loop: \n",
        "\n",
        "`cur1 = self.fc1(x[step])`"
      ]
    },
    {
      "cell_type": "code",
      "metadata": {
        "id": "f8m0Rye0sDZX"
      },
      "source": [
        "# Define Network\n",
        "class Net(nn.Module):\n",
        "    def __init__(self):\n",
        "        super().__init__()\n",
        "\n",
        "        # Initialize layers\n",
        "        self.fc1 = nn.Linear(num_inputs, num_hidden)\n",
        "        self.lif1 = snn.Stein(alpha=alpha, beta=beta)\n",
        "        self.fc2 = nn.Linear(num_hidden, num_outputs)\n",
        "        self.lif2 = snn.Stein(alpha=alpha, beta=beta)\n",
        "\n",
        "    def forward(self, x):\n",
        "\n",
        "        # Initialize hidden states and outputs at t=0\n",
        "        spk1, syn1, mem1 = self.lif1.init_stein(batch_size, num_hidden)\n",
        "        spk2, syn2, mem2 = self.lif2.init_stein(batch_size, num_outputs)\n",
        "        \n",
        "        # Record the final layer\n",
        "        spk2_rec = []\n",
        "        mem2_rec = []\n",
        "\n",
        "        for step in range(num_steps):\n",
        "            cur1 = self.fc1(x[step])  # Iterate through each time step of input\n",
        "            spk1, syn1, mem1 = self.lif1(cur1, syn1, mem1)\n",
        "            cur2 = self.fc2(spk1)\n",
        "            spk2, syn2, mem2 = self.lif2(cur2, syn2, mem2)\n",
        "\n",
        "            spk2_rec.append(spk2)\n",
        "            mem2_rec.append(mem2)\n",
        "\n",
        "        return torch.stack(spk2_rec, dim=0), torch.stack(mem2_rec, dim=0)\n",
        "\n",
        "net = Net().to(device)"
      ],
      "execution_count": 39,
      "outputs": []
    },
    {
      "cell_type": "markdown",
      "metadata": {
        "collapsed": false,
        "pycharm": {
          "name": "#%% md\n"
        },
        "id": "Amecv96lpkpq"
      },
      "source": [
        "## 7.3 Training\n",
        "We make a slight modification to our print-out functions to handle the new first dimension of the input:"
      ]
    },
    {
      "cell_type": "code",
      "metadata": {
        "pycharm": {
          "name": "#%%\n"
        },
        "id": "99FoyoB6pkpq"
      },
      "source": [
        "def print_batch_accuracy(data, targets, train=False):\n",
        "    output, _ = net(data.view(num_steps, batch_size, -1))\n",
        "    _, idx = output.sum(dim=0).max(1)\n",
        "    acc = np.mean((targets == idx).detach().cpu().numpy())\n",
        "\n",
        "    if train:\n",
        "        print(f\"Train Set Accuracy: {acc}\")\n",
        "    else:\n",
        "        print(f\"Test Set Accuracy: {acc}\")\n",
        "\n",
        "def train_printer():\n",
        "    print(f\"Epoch {epoch}, Minibatch {minibatch_counter}\")\n",
        "    print(f\"Train Set Loss: {loss_hist[counter]}\")\n",
        "    print(f\"Test Set Loss: {test_loss_hist[counter]}\")\n",
        "    print_batch_accuracy(spike_data, spike_targets, train=True)\n",
        "    print_batch_accuracy(test_spike_data, test_spike_targets, train=False)\n",
        "    print(\"\\n\")\n"
      ],
      "execution_count": null,
      "outputs": []
    },
    {
      "cell_type": "markdown",
      "metadata": {
        "collapsed": false,
        "pycharm": {
          "name": "#%% md\n"
        },
        "id": "dZBToyUvpkpq"
      },
      "source": [
        "### 7.1 Optimizer & Loss\n",
        "We'll keep our optimizer and loss the exact same as the static MNIST case."
      ]
    },
    {
      "cell_type": "code",
      "metadata": {
        "pycharm": {
          "name": "#%%\n"
        },
        "id": "9FfeZSKCpkpr"
      },
      "source": [
        "optimizer = torch.optim.Adam(net.parameters(), lr=2e-4, betas=(0.9, 0.999))\n",
        "log_softmax_fn = nn.LogSoftmax(dim=-1)\n",
        "loss_fn = nn.NLLLoss()"
      ],
      "execution_count": null,
      "outputs": []
    },
    {
      "cell_type": "markdown",
      "metadata": {
        "collapsed": false,
        "pycharm": {
          "name": "#%% md\n"
        },
        "id": "Py3T_wZBpkpr"
      },
      "source": [
        "### 7.2 Training Loop\n",
        "The training loop is identical to the static MNIST case, but we pass each minibatch through `spikegen.rate` before running it through the feedforward network."
      ]
    },
    {
      "cell_type": "code",
      "metadata": {
        "pycharm": {
          "name": "#%%\n"
        },
        "id": "S8TSoPK5pkpr"
      },
      "source": [
        "loss_hist = []\n",
        "test_loss_hist = []\n",
        "counter = 0\n",
        "\n",
        "# Outer training loop\n",
        "for epoch in range(3):\n",
        "    minibatch_counter = 0\n",
        "    data = iter(train_loader)\n",
        "\n",
        "    # Minibatch training loop\n",
        "    for data_it, targets_it in data:\n",
        "        data_it = data_it.to(device)\n",
        "        targets_it = targets_it.to(device)\n",
        "\n",
        "        # Spike generator\n",
        "        spike_data, spike_targets = spikegen.rate(data_it, targets_it, num_outputs=num_outputs, num_steps=num_steps,\n",
        "                                                  gain=1, offset=0, convert_targets=False, temporal_targets=False)\n",
        "\n",
        "        # Forward pass\n",
        "        output, mem_rec = net(spike_data.view(num_steps, batch_size, -1))\n",
        "        log_p_y = log_softmax_fn(mem_rec)\n",
        "        loss_val = torch.zeros((1), dtype=dtype, device=device)\n",
        "\n",
        "        # Sum loss over time steps to perform BPTT\n",
        "        for step in range(num_steps):\n",
        "          loss_val += loss_fn(log_p_y[step], targets_it)\n",
        "\n",
        "        # Gradient Calculation\n",
        "        optimizer.zero_grad()\n",
        "        loss_val.backward(retain_graph=True)\n",
        "        nn.utils.clip_grad_norm_(net.parameters(), 1)\n",
        "\n",
        "        # Weight Update\n",
        "        optimizer.step()\n",
        "\n",
        "        # Store Loss history\n",
        "        loss_hist.append(loss_val.item())\n",
        "\n",
        "        # Test set\n",
        "        test_data = itertools.cycle(test_loader)\n",
        "        testdata_it, testtargets_it = next(test_data)\n",
        "        testdata_it = testdata_it.to(device)\n",
        "        testtargets_it = testtargets_it.to(device)\n",
        "\n",
        "        # Test set spike conversion\n",
        "        test_spike_data, test_spike_targets = spikegen.rate(testdata_it, testtargets_it, num_outputs=num_outputs,\n",
        "                                                            num_steps=num_steps, gain=1, offset=0, convert_targets=False, temporal_targets=False)\n",
        "\n",
        "        # Test set forward pass\n",
        "        test_output, test_mem_rec = net(test_spike_data.view(num_steps, batch_size, -1))\n",
        "\n",
        "        # Test set loss\n",
        "        log_p_ytest = log_softmax_fn(test_mem_rec)\n",
        "        log_p_ytest = log_p_ytest.sum(dim=0)\n",
        "        loss_val_test = loss_fn(log_p_ytest, test_spike_targets)\n",
        "        test_loss_hist.append(loss_val_test.item())\n",
        "\n",
        "        # Print test/train loss/accuracy\n",
        "        if counter % 50 == 0:\n",
        "            train_printer()\n",
        "        minibatch_counter += 1\n",
        "        counter += 1\n",
        "\n",
        "loss_hist_true_grad = loss_hist\n",
        "test_loss_hist_true_grad = test_loss_hist"
      ],
      "execution_count": null,
      "outputs": []
    },
    {
      "cell_type": "markdown",
      "metadata": {
        "collapsed": false,
        "id": "nIboChZtpkps"
      },
      "source": [
        "## 8. Spiking MNIST Results\n",
        "### 8.1 Plot Training/Test Loss"
      ]
    },
    {
      "cell_type": "code",
      "metadata": {
        "pycharm": {
          "name": "#%%\n"
        },
        "id": "PdT9mBeqpkps"
      },
      "source": [
        "# Plot Loss\n",
        "fig = plt.figure(facecolor=\"w\", figsize=(10, 5))\n",
        "plt.plot(loss_hist)\n",
        "plt.plot(test_loss_hist)\n",
        "plt.legend([\"Test Loss\", \"Train Loss\"])\n",
        "plt.xlabel(\"Epoch\")\n",
        "plt.ylabel(\"Loss\")\n",
        "plt.show()"
      ],
      "execution_count": null,
      "outputs": []
    },
    {
      "cell_type": "markdown",
      "metadata": {
        "collapsed": false,
        "id": "QrPfMAm5pkpt"
      },
      "source": [
        "### 8.2 Test Set Accuracy"
      ]
    },
    {
      "cell_type": "code",
      "metadata": {
        "pycharm": {
          "name": "#%%\n"
        },
        "id": "ed0Hbx9Epkpt"
      },
      "source": [
        "total = 0\n",
        "correct = 0\n",
        "test_loader = DataLoader(mnist_test, batch_size=batch_size, shuffle=True, drop_last=False)\n",
        "\n",
        "with torch.no_grad():\n",
        "  net.eval()\n",
        "  for data in test_loader:\n",
        "    images, labels = data\n",
        "    images = images.to(device)\n",
        "    labels = labels.to(device)\n",
        "\n",
        "    # If current batch matches batch_size, just do the usual thing\n",
        "    if images.size()[0] == batch_size:\n",
        "      spike_test, spike_targets = spikegen.rate(images, labels, num_outputs=num_outputs, num_steps=num_steps,\n",
        "                                                            gain=1, offset=0, convert_targets=False, temporal_targets=False)\n",
        "\n",
        "      outputs, _ = net(spike_test.view(num_steps, batch_size, -1))\n",
        "\n",
        "    # If current batch does not match batch_size (e.g., is the final minibatch),\n",
        "    # modify batch_size in a temp variable and restore it at the end of the else block\n",
        "    else:\n",
        "      temp_bs = batch_size\n",
        "      batch_size = images.size()[0]\n",
        "      spike_test, spike_targets = spikegen.rate(images, labels, num_outputs=num_outputs, num_steps=num_steps,\n",
        "                                                gain=1, offset=0, convert_targets=False, temporal_targets=False)\n",
        "\n",
        "      outputs, _ = net(spike_test.view(num_steps, images.size()[0], -1))\n",
        "      batch_size = temp_bs\n",
        "\n",
        "    _, predicted = outputs.sum(dim=0).max(1)\n",
        "    total += spike_targets.size(0)\n",
        "    correct += (predicted == spike_targets).sum().item()\n",
        "\n",
        "print(f\"Total correctly classified test set images: {correct}/{total}\")\n",
        "print(f\"Test Set Accuracy: {100 * correct / total}%\")"
      ],
      "execution_count": null,
      "outputs": []
    },
    {
      "cell_type": "markdown",
      "metadata": {
        "collapsed": false,
        "id": "Kg42_fGzpkpt"
      },
      "source": [
        "That's all for now!\n",
        "Next time, we'll introduce how to use spiking convolutional layers to improve accuracy."
      ]
    }
  ]
}